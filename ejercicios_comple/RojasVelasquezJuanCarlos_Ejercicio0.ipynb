{
  "cells": [
    {
      "cell_type": "markdown",
      "metadata": {
        "id": "3AhamHrfjhe5"
      },
      "source": [
        "## Libraries"
      ]
    },
    {
      "cell_type": "code",
      "execution_count": null,
      "metadata": {
        "id": "c5eR4xgdjfmS"
      },
      "outputs": [],
      "source": [
        "from datetime import date, timedelta"
      ]
    },
    {
      "cell_type": "markdown",
      "metadata": {
        "id": "ZsOww6v6DmA1"
      },
      "source": [
        "## Problema 1\n",
        "\n",
        "Dado un string, su tarea es encontrar el numero de vocales que hay en la frase\n",
        "\n",
        "  Entrada: String con solo letras y espacios. No hay espacios al principio ni al final de la frase. \n",
        "  Salida: Int Numero de vocales.\n",
        "\n",
        "\n",
        " \n"
      ]
    },
    {
      "cell_type": "code",
      "execution_count": 4,
      "metadata": {
        "id": "LliwmXJTdKxj"
      },
      "outputs": [],
      "source": [
        "def number_of_vowels(str_param):\n",
        "  num_vowels = 0\n",
        "  str_param = str_param.lower()\n",
        "  \n",
        "  for i in [\"a\",\"e\",\"i\",\"o\",\"u\"]:\n",
        "    num_vowels += str_param.count(i)\n",
        "  \n",
        "  return num_vowels"
      ]
    },
    {
      "cell_type": "code",
      "execution_count": 47,
      "metadata": {
        "id": "EGVATSNxdadZ"
      },
      "outputs": [
        {
          "data": {
            "text/plain": [
              "99"
            ]
          },
          "execution_count": 47,
          "metadata": {},
          "output_type": "execute_result"
        }
      ],
      "source": [
        "## ejemplo de prueba no modificar\n",
        "raven = \"Once upon a midnight dreary, while I pondered, weak and weary, Over many a quaint and curious volume of forgotten lore While I nodded, nearly napping, suddenly there came a tapping, As of some one gently rapping, rapping at my chamber door. Tis some visitor, I muttered, tapping at my chamber door— Only this and nothing more.\"\n",
        "number_of_vowels(raven)"
      ]
    },
    {
      "cell_type": "markdown",
      "metadata": {
        "id": "tabRE5FHrZV7"
      },
      "source": [
        "## Problema 2\n",
        "\n",
        "¿Cuántos dias de vida tiene usted?\n",
        "\n",
        "Dadas dos fechas escritas como tuplas de tres números, (año, mes, día). Por ejemplo el 7 de Agosto de 2020 es (2020, 8, 7). Usted debe encontrar el número de días que hay entre las dos fechas. No olvidar el valor absoluto entre las fechas. Para este problema la libreria [datetime](https://docs.python.org/3/library/datetime.html) puede ser de utilidad.\n",
        "\n",
        "**Entrada:** Dos fechas como tuplas de enteros.\n",
        "\n",
        "**Salida:** La diferencia en días entre las dos fechas como un entero.\n",
        "\n",
        "**Restricciones:** Fechas entre el 1 de Enero del año 1 y el 31 de Diciembre de 9999."
      ]
    },
    {
      "cell_type": "code",
      "execution_count": 29,
      "metadata": {
        "id": "Qsuwi8lhv9iX"
      },
      "outputs": [],
      "source": [
        "from datetime import date, timedelta\n",
        "def dif_dias(date1, date2):\n",
        "  '''\n",
        "  Input\n",
        "    date1, date2: dos tuplas de enteros (año, mes, día)\n",
        "  Returns\n",
        "    int, entero del número de días entre las dos fechas\n",
        "  '''\n",
        "  date_i = date(year=date1[0],month=date1[1],day=date1[2])\n",
        "  date_f = date(year=date2[0],month=date2[1],day=date2[2])\n",
        "  days = date_f - date_i\n",
        "  \n",
        "  return abs(days.days)"
      ]
    },
    {
      "cell_type": "code",
      "execution_count": 32,
      "metadata": {
        "id": "DQy-kbePwcQP"
      },
      "outputs": [
        {
          "name": "stdout",
          "output_type": "stream",
          "text": [
            "Pasó las pruebas\n"
          ]
        }
      ],
      "source": [
        "def test3():\n",
        "  assert dif_dias((1982,4,19), (1982,4,22)) == 3\n",
        "  assert dif_dias((4632,11,18), (8077,10,26)) == 1258238\n",
        "  assert dif_dias((1,1,1), (9999,12,31)) == 3652058\n",
        "  assert dif_dias((6051,1,23), (4129,8,9)) == 701798\n",
        "  assert dif_dias((2014,8,27), (2014,1,1)) == 238\n",
        "  assert dif_dias((2014,2,28), (2014,2,28)) == 0\n",
        "  print('Pasó las pruebas')\n",
        "\n",
        "test3()"
      ]
    },
    {
      "cell_type": "markdown",
      "metadata": {
        "id": "bWiSZgy7gloK"
      },
      "source": [
        "b) Calcule el numero dias que usted ha cumpliado hasta hoy"
      ]
    },
    {
      "cell_type": "code",
      "execution_count": 48,
      "metadata": {
        "id": "WZJzgk3qenXa"
      },
      "outputs": [
        {
          "name": "stdout",
          "output_type": "stream",
          "text": [
            "Usted tiene 6808 días de vida.\n"
          ]
        }
      ],
      "source": [
        "def days_alive(cumpleagnos):\n",
        "    today = date.today()\n",
        "    days_alive = dif_dias(cumpleagnos,(today.year,today.month,today.day))\n",
        "    return days_alive\n",
        "print(\"Usted tiene %s días de vida.\"%days_alive((2004,6,6)))\n"
      ]
    },
    {
      "cell_type": "markdown",
      "metadata": {
        "id": "bqfmlwlvgsXV"
      },
      "source": [
        "c) Calcule en qué fecha usted cumple 10000 días de vida."
      ]
    },
    {
      "cell_type": "code",
      "execution_count": 46,
      "metadata": {
        "id": "o4XCWdQdgrfX"
      },
      "outputs": [
        {
          "name": "stdout",
          "output_type": "stream",
          "text": [
            "Tendrás 10k días de vida el 2031-10-23\n"
          ]
        }
      ],
      "source": [
        "days_until = 10000 - days_alive((2004,6,6))\n",
        "date_when_im_old_asf = date.today() + timedelta(days = days_until)\n",
        "\n",
        "print(\"Tendrás 10k días de vida el %s\"%date_when_im_old_asf)"
      ]
    }
  ],
  "metadata": {
    "colab": {
      "provenance": []
    },
    "kernelspec": {
      "display_name": "Python 3",
      "language": "python",
      "name": "python3"
    },
    "language_info": {
      "codemirror_mode": {
        "name": "ipython",
        "version": 3
      },
      "file_extension": ".py",
      "mimetype": "text/x-python",
      "name": "python",
      "nbconvert_exporter": "python",
      "pygments_lexer": "ipython3",
      "version": "3.11.1"
    },
    "vscode": {
      "interpreter": {
        "hash": "c9f69d3aee71be54776a55aa2ba674df24312f89c0df54b2489c83ea19829380"
      }
    }
  },
  "nbformat": 4,
  "nbformat_minor": 0
}
