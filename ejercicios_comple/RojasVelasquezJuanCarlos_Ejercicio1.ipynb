{
  "cells": [
    {
      "cell_type": "markdown",
      "metadata": {
        "id": "ySCvWQe5vxeT"
      },
      "source": [
        "## Librerias"
      ]
    },
    {
      "cell_type": "code",
      "execution_count": 19,
      "metadata": {
        "id": "VBo2Hv2tv0UR"
      },
      "outputs": [],
      "source": [
        "import numpy as np\n",
        "import matplotlib.pyplot as plt"
      ]
    },
    {
      "cell_type": "markdown",
      "metadata": {
        "id": "dEcQng6BpVFN"
      },
      "source": [
        "## Problema 1"
      ]
    },
    {
      "cell_type": "markdown",
      "metadata": {
        "id": "XuwEcc_9pmWP"
      },
      "source": [
        "Considere un lanzamiento de tiro parabolico, cuya ecuación de trayectoria esta dada por:\n",
        "\n",
        "$$\n",
        "  y(x) = y_0 + (x-x_0) \\tan{\\theta} - \\frac{1}{2}g\\left(\\frac{x-x_0}{v_0\\cos{\\theta}}\\right)^2\n",
        "$$\n",
        "\n",
        "Usando $x_0 = 0$, $v_0 = 14 \\text{ m/s}$, $\\theta = \\pi / 4$, $y_0 = 2 \\text{ m}$, $g = 9.8 \\text{m/s}$\n",
        "\n",
        "La idea es gráficar la trayectoria hasta $x= 30 \\text{ m}$. Para ello siga los siguientes pasos."
      ]
    },
    {
      "cell_type": "markdown",
      "metadata": {
        "id": "dLd7MV_4sZKj"
      },
      "source": [
        "a) Cree una variable del tipo numpy array `x`, que corresponde a 100 puntos entre (0, **30**), use el siguiente [notebook](https://github.com/diegour1/CompMetodosComputacionales/blob/main/Notebooks/01%20-%20numpy.ipynb) como guia. \n",
        "\n"
      ]
    },
    {
      "cell_type": "code",
      "execution_count": 20,
      "metadata": {
        "id": "6nviPNHUsVDI",
        "colab": {
          "base_uri": "https://localhost:8080/"
        },
        "outputId": "aaaa35cd-6152-4fa2-f52f-fec92aa11cac"
      },
      "outputs": [
        {
          "output_type": "stream",
          "name": "stdout",
          "text": [
            "[ 0.          0.3030303   0.60606061  0.90909091  1.21212121  1.51515152\n",
            "  1.81818182  2.12121212  2.42424242  2.72727273  3.03030303  3.33333333\n",
            "  3.63636364  3.93939394  4.24242424  4.54545455  4.84848485  5.15151515\n",
            "  5.45454545  5.75757576  6.06060606  6.36363636  6.66666667  6.96969697\n",
            "  7.27272727  7.57575758  7.87878788  8.18181818  8.48484848  8.78787879\n",
            "  9.09090909  9.39393939  9.6969697  10.         10.3030303  10.60606061\n",
            " 10.90909091 11.21212121 11.51515152 11.81818182 12.12121212 12.42424242\n",
            " 12.72727273 13.03030303 13.33333333 13.63636364 13.93939394 14.24242424\n",
            " 14.54545455 14.84848485 15.15151515 15.45454545 15.75757576 16.06060606\n",
            " 16.36363636 16.66666667 16.96969697 17.27272727 17.57575758 17.87878788\n",
            " 18.18181818 18.48484848 18.78787879 19.09090909 19.39393939 19.6969697\n",
            " 20.         20.3030303  20.60606061 20.90909091 21.21212121 21.51515152\n",
            " 21.81818182 22.12121212 22.42424242 22.72727273 23.03030303 23.33333333\n",
            " 23.63636364 23.93939394 24.24242424 24.54545455 24.84848485 25.15151515\n",
            " 25.45454545 25.75757576 26.06060606 26.36363636 26.66666667 26.96969697\n",
            " 27.27272727 27.57575758 27.87878788 28.18181818 28.48484848 28.78787879\n",
            " 29.09090909 29.39393939 29.6969697  30.        ]\n"
          ]
        }
      ],
      "source": [
        "## tu codigo aqui\n",
        "x = np.linspace(0,30,100)\n",
        "x0 = 0\n",
        "v0 = 14\n",
        "theta = np.pi/4\n",
        "y0 = 2\n",
        "g = 9.8\n",
        "print(x)"
      ]
    },
    {
      "cell_type": "markdown",
      "metadata": {
        "id": "GaSi1d1htKV6"
      },
      "source": [
        "b) Calcule $y(x)$ que corresponde a $y$ para los 100 puntos anteriores. Guarde el valor en la variable del tipo numpy array `y`. No es posible usar ciclos como while o for, use las funciones de numpy como `np.tan`"
      ]
    },
    {
      "cell_type": "code",
      "execution_count": 21,
      "metadata": {
        "id": "savF-u4tuLth"
      },
      "outputs": [],
      "source": [
        "## tu codigo aqui\n",
        "y = y0 + (x - x0)*np.tan(theta) - 0.5*g*((x)/(14*np.cos(theta)))**2\n",
        "\n",
        "# print(y)"
      ]
    },
    {
      "cell_type": "markdown",
      "metadata": {
        "id": "svKxv5efuLL3"
      },
      "source": [
        "c) Use `matplotlib`, para gráficar $y(x)$. Ponerle etiquetas a los ejes con unidades."
      ]
    },
    {
      "cell_type": "code",
      "execution_count": 22,
      "metadata": {
        "id": "nHzCn9TSueeT",
        "colab": {
          "base_uri": "https://localhost:8080/",
          "height": 304
        },
        "outputId": "27dadd43-e5d6-41ff-baac-861bef99129e"
      },
      "outputs": [
        {
          "output_type": "execute_result",
          "data": {
            "text/plain": [
              "Text(0.5, 0, '$x$ [m]')"
            ]
          },
          "metadata": {},
          "execution_count": 22
        },
        {
          "output_type": "display_data",
          "data": {
            "text/plain": [
              "<Figure size 432x288 with 1 Axes>"
            ],
            "image/png": "[encoded data removed]"
          },
          "metadata": {
            "needs_background": "light"
          }
        }
      ],
      "source": [
        "## tu codigo aqui\n",
        "\n",
        "plt.plot(x,y)\n",
        "plt.ylabel(r'$y(x)$ [m]',fontsize=15)\n",
        "plt.xlabel(r'$x$ [m]',fontsize=15)"
      ]
    },
    {
      "cell_type": "markdown",
      "metadata": {
        "id": "ZsOww6v6DmA1"
      },
      "source": [
        "## Problema 2\n",
        "\n",
        "A partir del conjunto de entrenamiento de los datos MNIST (imágenes de números escritos a mano) en este problema vamos a operar imagenes de pixeles. Use este [notebook](https://github.com/diegour1/CompMetodosComputacionales/blob/main/Notebooks/01%20-%20numpy.ipynb) como referencia.\n",
        "\n",
        " \n"
      ]
    },
    {
      "cell_type": "code",
      "execution_count": 23,
      "metadata": {
        "colab": {
          "base_uri": "https://localhost:8080/"
        },
        "id": "ZZe8o13_xTwc",
        "outputId": "2cb84e60-126d-4c37-aa0b-860605395ce7"
      },
      "outputs": [
        {
          "output_type": "execute_result",
          "data": {
            "text/plain": [
              "((60000, 28, 28), (10000, 28, 28), (60000,), (10000,))"
            ]
          },
          "metadata": {},
          "execution_count": 23
        }
      ],
      "source": [
        "# Download the dataset\n",
        "# no modificar este codigo\n",
        "from keras.datasets import mnist\n",
        "\n",
        "(X_train, y_train), (X_test, y_test) = mnist.load_data()\n",
        "\n",
        "X_train.shape, X_test.shape, y_train.shape, y_test.shape"
      ]
    },
    {
      "cell_type": "markdown",
      "metadata": {
        "id": "204qIaFe8p4I"
      },
      "source": [
        "Primero mostramos dos ejemplos de las imagenes con indices 17 y 9"
      ]
    },
    {
      "cell_type": "code",
      "execution_count": 24,
      "metadata": {
        "id": "r3HsvSBSyLGs",
        "colab": {
          "base_uri": "https://localhost:8080/",
          "height": 282
        },
        "outputId": "944f1b97-325e-458d-923a-58dc406a038f"
      },
      "outputs": [
        {
          "output_type": "execute_result",
          "data": {
            "text/plain": [
              "<matplotlib.image.AxesImage at 0x7fddd76d1850>"
            ]
          },
          "metadata": {},
          "execution_count": 24
        },
        {
          "output_type": "display_data",
          "data": {
            "text/plain": [
              "<Figure size 432x288 with 1 Axes>"
            ],
            "image/png": "[encoded data removed]"
          },
          "metadata": {
            "needs_background": "light"
          }
        }
      ],
      "source": [
        "# no modificar este codigo \n",
        "\n",
        "eight_image = X_train[17]\n",
        "plt.imshow(eight_image)"
      ]
    },
    {
      "cell_type": "code",
      "execution_count": 25,
      "metadata": {
        "id": "C2nfYTnS8i_D",
        "colab": {
          "base_uri": "https://localhost:8080/",
          "height": 282
        },
        "outputId": "59fb0e2e-69cb-4270-bddb-14572426731c"
      },
      "outputs": [
        {
          "output_type": "execute_result",
          "data": {
            "text/plain": [
              "<matplotlib.image.AxesImage at 0x7fddd73a2970>"
            ]
          },
          "metadata": {},
          "execution_count": 25
        },
        {
          "output_type": "display_data",
          "data": {
            "text/plain": [
              "<Figure size 432x288 with 1 Axes>"
            ],
            "image/png": "[encoded data removed]"
          },
          "metadata": {
            "needs_background": "light"
          }
        }
      ],
      "source": [
        "# no modificar este codigo \n",
        "\n",
        "nine_image =  X_train[4]\n",
        "plt.imshow(nine_image)"
      ]
    },
    {
      "cell_type": "markdown",
      "metadata": {
        "id": "6fCKAQ1eBxvd"
      },
      "source": [
        "z) Imprima la forma de las matrices que corresponden a las dos imagenes, use el atributo shape."
      ]
    },
    {
      "cell_type": "code",
      "execution_count": 26,
      "metadata": {
        "id": "9c4Lm4i6B-TX",
        "colab": {
          "base_uri": "https://localhost:8080/"
        },
        "outputId": "442006c6-8a75-48a1-a4f0-4b27a4672f72"
      },
      "outputs": [
        {
          "output_type": "stream",
          "name": "stdout",
          "text": [
            "(28, 28) (28, 28)\n"
          ]
        }
      ],
      "source": [
        "## tu codigo aqui\n",
        "\n",
        "eight_matrix_shape = eight_image.shape\n",
        "nine_matrix_shape = nine_image.shape\n",
        "\n",
        "print(eight_matrix_shape, nine_matrix_shape)\n"
      ]
    },
    {
      "cell_type": "markdown",
      "metadata": {
        "id": "wjkYHEba9FvF"
      },
      "source": [
        "a) Grafique la imagen que resulta de sumar las dos imagenes"
      ]
    },
    {
      "cell_type": "code",
      "execution_count": 27,
      "metadata": {
        "id": "hqeHZJQlyjD0",
        "colab": {
          "base_uri": "https://localhost:8080/",
          "height": 282
        },
        "outputId": "a6653933-17a7-49e8-d1d1-3451f658e430"
      },
      "outputs": [
        {
          "output_type": "execute_result",
          "data": {
            "text/plain": [
              "<matplotlib.image.AxesImage at 0x7fddd737b790>"
            ]
          },
          "metadata": {},
          "execution_count": 27
        },
        {
          "output_type": "display_data",
          "data": {
            "text/plain": [
              "<Figure size 432x288 with 1 Axes>"
            ],
            "image/png": "[encoded data removed]"
          },
          "metadata": {
            "needs_background": "light"
          }
        }
      ],
      "source": [
        "# tu codigo aqui\n",
        "sum = eight_image + nine_image\n",
        "plt.imshow(sum)\n"
      ]
    },
    {
      "cell_type": "markdown",
      "metadata": {
        "id": "bj7g6tBg9iZo"
      },
      "source": [
        "b) Grafique la imagen que resulta de restar la imagen del ocho con la imagen del nueve."
      ]
    },
    {
      "cell_type": "code",
      "execution_count": 28,
      "metadata": {
        "id": "KBBLih2g9UCL",
        "colab": {
          "base_uri": "https://localhost:8080/",
          "height": 282
        },
        "outputId": "54078de6-c130-4111-f41e-4f466657b143"
      },
      "outputs": [
        {
          "output_type": "execute_result",
          "data": {
            "text/plain": [
              "<matplotlib.image.AxesImage at 0x7fddd72ce6a0>"
            ]
          },
          "metadata": {},
          "execution_count": 28
        },
        {
          "output_type": "display_data",
          "data": {
            "text/plain": [
              "<Figure size 432x288 with 1 Axes>"
            ],
            "image/png": "[encoded data removed]"
          },
          "metadata": {
            "needs_background": "light"
          }
        }
      ],
      "source": [
        "# tu codigo aqui\n",
        "less = eight_image - nine_image\n",
        "\n",
        "plt.imshow(less)"
      ]
    },
    {
      "cell_type": "markdown",
      "metadata": {
        "id": "t5bFJGc99tkL"
      },
      "source": [
        "c) Grafique la imagen que resulta de multiplicar pixel por pixel las dos imagenes."
      ]
    },
    {
      "cell_type": "code",
      "execution_count": 29,
      "metadata": {
        "id": "Lv9v1wnT9dFi",
        "colab": {
          "base_uri": "https://localhost:8080/",
          "height": 282
        },
        "outputId": "d9db3108-11c5-41b9-ba30-d1fa00073dc5"
      },
      "outputs": [
        {
          "output_type": "execute_result",
          "data": {
            "text/plain": [
              "<matplotlib.image.AxesImage at 0x7fddd72a35e0>"
            ]
          },
          "metadata": {},
          "execution_count": 29
        },
        {
          "output_type": "display_data",
          "data": {
            "text/plain": [
              "<Figure size 432x288 with 1 Axes>"
            ],
            "image/png": "[encoded data removed]"
          },
          "metadata": {
            "needs_background": "light"
          }
        }
      ],
      "source": [
        "# tu codigo aqui\n",
        "mult = eight_image * nine_image\n",
        "\n",
        "plt.imshow(mult)"
      ]
    },
    {
      "cell_type": "markdown",
      "metadata": {
        "id": "DD3lvP54-Kgu"
      },
      "source": [
        "d) Grafique la imagen que resulta de hacer un producto matricial entre la imagen del 8 a la izquierda y la imagen del 9 a la derecha."
      ]
    },
    {
      "cell_type": "code",
      "execution_count": 30,
      "metadata": {
        "id": "RHPzkZI8-B_L",
        "colab": {
          "base_uri": "https://localhost:8080/",
          "height": 282
        },
        "outputId": "d1aaa9cf-4814-4ff4-f095-c177a1395a98"
      },
      "outputs": [
        {
          "output_type": "execute_result",
          "data": {
            "text/plain": [
              "<matplotlib.image.AxesImage at 0x7fddd7279520>"
            ]
          },
          "metadata": {},
          "execution_count": 30
        },
        {
          "output_type": "display_data",
          "data": {
            "text/plain": [
              "<Figure size 432x288 with 1 Axes>"
            ],
            "image/png": "[encoded data removed]"
          },
          "metadata": {
            "needs_background": "light"
          }
        }
      ],
      "source": [
        "# tu codigo aqui\n",
        "matmult = np.matmul(eight_image,nine_image)\n",
        "plt.imshow(matmult)"
      ]
    },
    {
      "cell_type": "markdown",
      "metadata": {
        "id": "6IEcWDxK-jXw"
      },
      "source": [
        "**e) ¿Cómo interpreta las imagenes de producto elemento por elemento y producto matricial?**\n",
        "\n",
        "Para la primera multiplicación entre matrices (componente a componente) se tiene que al hacer el producto resulta en una imagen donde los \"pixeles\" que están en la misma posición se refuerzan y en caso de que haya un pixel nulo en una de las dos, se anulará al de la otra imagen. \n",
        "\n",
        "Por otro lado, al hacer la multiplicación usual de matrices, se tiene que se crea una imagen donde algunos de los pixeles que antes eran nulos se cambian de color, lo cual significa que tienen un valor mayor. Y, si se interpreta de forma matemática, es como si cada columna de la segunda matriz siguiera la transformación de la primera como un vector.\n",
        "\n"
      ]
    },
    {
      "cell_type": "markdown",
      "metadata": {
        "id": "OiumcaaC-z1j"
      },
      "source": [
        "f) Para la imagen del ocho, I) calcule con una función de numpy, el entero que corresponde a la suma total de pixeles. II) un array de 28 componentes que corresponde a la suma de pixeles de cada fila. III) Un array de 28 componentes que corresponde a la columnna 17 del numero 8."
      ]
    },
    {
      "cell_type": "code",
      "execution_count": 31,
      "metadata": {
        "id": "UHjpBvUO-dFn",
        "colab": {
          "base_uri": "https://localhost:8080/"
        },
        "outputId": "9b52dc6a-4352-4b03-c901-cbbc8b8d49e4"
      },
      "outputs": [
        {
          "output_type": "stream",
          "name": "stdout",
          "text": [
            "27106 [   0    0    0    0    0  475  727 2068 2356 1717 1451 1498 1561 1590\n",
            " 1340 1115 1361 1468 1238 1270 1285 1308 1350 1246  682    0    0    0] [  0   0   0   0   0   0  47 253 161   0  36 178 253 253 179   0   0   0\n",
            "   0   0   0   0   0   0   0   0   0   0]\n"
          ]
        }
      ],
      "source": [
        "## parte I codigo aqui\n",
        "\n",
        "suma_total = eight_image.sum()\n",
        "\n",
        "\n",
        "## parte II codigo aqui\n",
        "\n",
        "suma_pixeles_filas = np.zeros(28)\n",
        "suma_pixeles_filas = np.sum(eight_image,axis=1)\n",
        "\n",
        "## parte III codigo aqui\n",
        "\n",
        "select_col = np.zeros(28)\n",
        "select_col = eight_image[:,16]\n",
        "\n",
        "print(suma_total, suma_pixeles_filas, select_col)"
      ]
    },
    {
      "cell_type": "markdown",
      "metadata": {
        "id": "djmVq_DTBkVn"
      },
      "source": [
        "g) Seleccione del conjunto de datos `X_train`, todas las imagenes que corresponden a imagenes del numero 8. Imprima la forma de la matriz resultante (tensor) de todas las imagenes de 8."
      ]
    },
    {
      "cell_type": "code",
      "execution_count": 32,
      "metadata": {
        "id": "9_UduV9vBW9J",
        "colab": {
          "base_uri": "https://localhost:8080/"
        },
        "outputId": "7f09eae4-2ee7-492e-92ed-4a3596218a86"
      },
      "outputs": [
        {
          "output_type": "stream",
          "name": "stdout",
          "text": [
            "(5851, 28, 28)\n"
          ]
        }
      ],
      "source": [
        "## tu codigo aqui\n",
        "all_eight_matrix = []\n",
        "\n",
        "for i in range(len(y_train)):\n",
        "  if y_train[i] == 8:\n",
        "     all_eight_matrix.append(X_train[i])\n",
        "\n",
        "all_eight_matrix = np.array(all_eight_matrix)\n",
        "\n",
        "print(all_eight_matrix.shape)\n",
        "\n"
      ]
    },
    {
      "cell_type": "markdown",
      "metadata": {
        "id": "tqMhYrVoEJa4"
      },
      "source": [
        "h) Grafique la imagen promedio de todos los ochos. Guarde la imagen en la variable `eight_prom`."
      ]
    },
    {
      "cell_type": "code",
      "execution_count": 33,
      "metadata": {
        "id": "xfcwJDGQEQ3s",
        "colab": {
          "base_uri": "https://localhost:8080/",
          "height": 282
        },
        "outputId": "b05381ce-714f-4f64-f9c2-79cfe28c0689"
      },
      "outputs": [
        {
          "output_type": "execute_result",
          "data": {
            "text/plain": [
              "<matplotlib.image.AxesImage at 0x7fddd7152cd0>"
            ]
          },
          "metadata": {},
          "execution_count": 33
        },
        {
          "output_type": "display_data",
          "data": {
            "text/plain": [
              "<Figure size 432x288 with 1 Axes>"
            ],
            "image/png": "[encoded data removed]"
          },
          "metadata": {
            "needs_background": "light"
          }
        }
      ],
      "source": [
        "## tu codigo aqui\n",
        "eight_prom = all_eight_matrix.mean(axis = 0)\n",
        "plt.imshow(eight_prom)\n"
      ]
    },
    {
      "cell_type": "markdown",
      "metadata": {
        "id": "Z9XKzx9DDYtG"
      },
      "source": [
        "h) Grafique la imagen del peor ocho comparado con la imagen `eight_prom`, basados en la metrica, distancia euclidiana dada por, \n",
        "\n",
        "$$E_d(\\vec{p}, \\vec{q}) = \\sqrt{\\sum_{i=1}^n(q_i-p_i)^2}$$\n",
        "\n",
        "Donde $\\vec{p}$, $\\vec{q}$ son dos vectores que pertenecen a un espacio de $n$ dimensiones. En nuestro caso $n=784 = 28\\times28$.\n",
        "\n",
        "Es decir grafique la imagen del numero ocho que tiene la mayor distancia euclidiana comparado con el ocho promedio. \n"
      ]
    },
    {
      "cell_type": "code",
      "execution_count": 49,
      "metadata": {
        "id": "k9Pte5wSDXLL",
        "colab": {
          "base_uri": "https://localhost:8080/",
          "height": 282
        },
        "outputId": "c55ccff2-c59d-4eec-d8d2-c375585bf820"
      },
      "outputs": [
        {
          "output_type": "execute_result",
          "data": {
            "text/plain": [
              "<matplotlib.image.AxesImage at 0x7fddd591be20>"
            ]
          },
          "metadata": {},
          "execution_count": 49
        },
        {
          "output_type": "display_data",
          "data": {
            "text/plain": [
              "<Figure size 432x288 with 1 Axes>"
            ],
            "image/png": "[encoded data removed]"
          },
          "metadata": {
            "needs_background": "light"
          }
        }
      ],
      "source": [
        "## tu codigo aqui\n",
        "\n",
        "worst_eight = 0\n",
        "difference = 0\n",
        "\n",
        "for i in all_eight_matrix:\n",
        "  Euclid_sqrt = np.sqrt(np.sum((i - eight_prom)**2))\n",
        "\n",
        "  if Euclid_sqrt > difference:\n",
        "    difference = Euclid_sqrt\n",
        "    worst_eight = i\n",
        "\n",
        "plt.imshow(worst_eight)\n"
      ]
    }
  ],
  "metadata": {
    "colab": {
      "provenance": []
    },
    "kernelspec": {
      "display_name": "Python 3",
      "language": "python",
      "name": "python3"
    },
    "language_info": {
      "codemirror_mode": {
        "name": "ipython",
        "version": 3
      },
      "file_extension": ".py",
      "mimetype": "text/x-python",
      "name": "python",
      "nbconvert_exporter": "python",
      "pygments_lexer": "ipython3",
      "version": "3.11.1"
    },
    "vscode": {
      "interpreter": {
        "hash": "c9f69d3aee71be54776a55aa2ba674df24312f89c0df54b2489c83ea19829380"
      }
    }
  },
  "nbformat": 4,
  "nbformat_minor": 0
}