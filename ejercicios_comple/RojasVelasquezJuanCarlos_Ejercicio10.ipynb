{
 "cells": [
  {
   "cell_type": "markdown",
   "id": "Ca47pvrzRXMy",
   "metadata": {
    "id": "Ca47pvrzRXMy"
   },
   "source": [
    "## Librerias"
   ]
  },
  {
   "cell_type": "code",
   "execution_count": 1,
   "id": "6f64d18c-e6fe-4328-a15d-9344842eabd1",
   "metadata": {
    "id": "6f64d18c-e6fe-4328-a15d-9344842eabd1"
   },
   "outputs": [],
   "source": [
    "import numpy as np\n",
    "import matplotlib.pyplot as plt"
   ]
  },
  {
   "cell_type": "markdown",
   "id": "iKUX0yLUdO7o",
   "metadata": {
    "id": "iKUX0yLUdO7o"
   },
   "source": [
    "## Problema\n",
    "\n",
    "Considere los siguientes puntos\n",
    "\n",
    "```\n",
    "x = [1., 2., 3., 4., 5.]\n",
    "y = [1.20,  0.31, 3.92, 3.78, 4.47]\n",
    "```\n",
    "\n",
    "Basados en el metodo de los mínimos cuadrados, se puede ajustar una parábola a los puntos\n",
    "\n",
    "$$ y = a + bx + cx^2$$\n",
    "\n",
    "En este problema vamos a considerar la regresión, por medio de la gradiente descendiente,\n",
    "\n",
    "a) El método de minimos cuadrados por gradiente descediente considera minimizar la distancia cuadratica entre los puntos. Implemente una función que retorne la siguiente función de costo, la cual se espera que sea mínima en el punto optimo de la regresión. \n",
    "\n",
    "$$\n",
    "\\mathcal{L} = \\sum_{i=1}^N(y_i - (a + bx_i + cx_i^2))^2\n",
    "$$\n",
    "\n",
    "Donde $a$, $b$, y $c$ son los valores a optimizar. "
   ]
  },
  {
   "cell_type": "code",
   "execution_count": 2,
   "id": "14dX13PHYbMj",
   "metadata": {
    "id": "14dX13PHYbMj"
   },
   "outputs": [
    {
     "data": {
      "text/plain": [
       "9960.6318"
      ]
     },
     "execution_count": 2,
     "metadata": {},
     "output_type": "execute_result"
    }
   ],
   "source": [
    "x = np.array([1., 2., 3., 4., 5.])\n",
    "y = np.array([1.20,  0.31, 3.92, 3.78, 4.47])\n",
    "\n",
    "def loss(x, y, a, b, c):\n",
    "  loss = 0\n",
    "  for i in range(x.size):\n",
    "        loss += (y[i] - (a + b*x[i] + c*x[i]**2))**2\n",
    "  return loss\n",
    "\n",
    "# codigo para verificar su respuesta\n",
    "loss(x, y, -1, 2, 3)"
   ]
  },
  {
   "cell_type": "markdown",
   "id": "JNhmTJ2BeSvQ",
   "metadata": {
    "id": "JNhmTJ2BeSvQ"
   },
   "source": [
    "b) Para el algoritmo de gradiente descendiente, se requiere la gradiente de la función de costo. Obtenga la gradiente de la función de costo de forma analitica,\n",
    "\n",
    "Su expresión aquí,\n",
    "\n",
    "$$\n",
    "\\vec{\\nabla} \\mathcal{L} = \\Big(\\frac{\\partial  \\mathcal{L}}{\\partial a} , \\quad \\frac{\\partial  \\mathcal{L}}{\\partial b}, \\quad \\frac{\\partial  \\mathcal{L}}{\\partial c} \\Big) =\\Big(\\  \\sum_{i=1}^N -2(y_i -(a + bx_i +cx_i^2)), \\sum_{i=1}^N -2x_i(y_i -(a + bx_i +cx_i^2)) , \\sum_{i=1}^N -2x_i^2(y_i -(a + bx_i +cx_i^2)) \\Big)\n",
    "$$"
   ]
  },
  {
   "cell_type": "markdown",
   "id": "dW34NY1YfeMH",
   "metadata": {
    "id": "dW34NY1YfeMH"
   },
   "source": [
    "c) Implemente una función que retorne la gradiente de la función de costo obtenida en el númeral anterior."
   ]
  },
  {
   "cell_type": "code",
   "execution_count": 17,
   "id": "p5qXQvevYbQE",
   "metadata": {
    "id": "p5qXQvevYbQE"
   },
   "outputs": [
    {
     "data": {
      "text/plain": [
       "array([ 22.64,  87.9 , 370.1 ])"
      ]
     },
     "execution_count": 17,
     "metadata": {},
     "output_type": "execute_result"
    }
   ],
   "source": [
    "def grad_loss(x, y, a, b, c):\n",
    "    grad = np.zeros(3)\n",
    "    loss = -2*(y - (a + b*x + c*x**2))\n",
    "    grad[0] = np.sum(loss)\n",
    "    grad[1] = np.sum(x*loss)\n",
    "    grad[2] = np.sum(x**2 * loss)\n",
    "    return grad\n",
    "    \n",
    "# codigo para verificar su respuesta\n",
    "\n",
    "grad_loss(x, y, -1, 2, 0)"
   ]
  },
  {
   "cell_type": "markdown",
   "id": "PkhobT8dgB0j",
   "metadata": {
    "id": "PkhobT8dgB0j"
   },
   "source": [
    "d) Implemente el algoritmo de gradiente descendiente, para encontrar los valores optimos de la regresión, use $e = 0.0001$, 10000 iteraciones, e imprima el valor de la función de costo cada 100 iteraciones. \n",
    "\n",
    "El algoritmo de gradiente descendiente nos indica que los puntos optimos de la regresión se van actualizando iterativamente, a partir de la regla, \n",
    "\n",
    "$$\n",
    "  \\vec{x} = \\vec{x} - e\\vec{\\nabla} \\mathcal{L}\n",
    "$$\n",
    "\n",
    "Donde $e$ es el tamaño del paso, y $\\vec{x} = [a, b, c]$. Pueden usar el siguiente notebook como guía [gradiente descendiente](https://github.com/diegour1/CompMetodosComputacionales/blob/main/Notebooks/08%20-%20Gradient_Descent_Neural_Networks.ipynb).\n"
   ]
  },
  {
   "cell_type": "code",
   "execution_count": 59,
   "id": "rqUAS3V_YbS4",
   "metadata": {
    "id": "rqUAS3V_YbS4"
   },
   "outputs": [
    {
     "name": "stdout",
     "output_type": "stream",
     "text": [
      "Iteración n° 0: [0.987736 0.95121  0.79019 ]. Loss: 713.43570609008\n",
      "Iteración n° 100: [ 0.90958628  0.73080797 -0.00508324]. Loss: 5.102620281058362\n",
      "Iteración n° 200: [0.87986457 0.6995542  0.00381521]. Loss: 4.9086276081640445\n",
      "Iteración n° 300: [0.85258465 0.67140202 0.01185943]. Loss: 4.748436040803219\n",
      "Iteración n° 400: [0.8275224  0.64606508 0.01912822]. Loss: 4.616106316433721\n",
      "Iteración n° 500: [0.80447434 0.6232834  0.02569311]. Loss: 4.506743053469981\n",
      "Iteración n° 600: [0.78325575 0.60282096 0.03161903]. Loss: 4.416311277868654\n",
      "Iteración n° 700: [0.76369891 0.5844635  0.03696496]. Loss: 4.341485197168065\n",
      "Iteración n° 800: [0.74565155 0.56801647 0.04178441]. Loss: 4.279523554139701\n",
      "Iteración n° 900: [0.72897544 0.55330326 0.04612599]. Loss: 4.228166888394939\n",
      "Iteración n° 1000: [0.71354506 0.54016355 0.0500338 ]. Loss: 4.185552855384869\n",
      "Iteración n° 1100: [0.69924647 0.52845175 0.05354791]. Loss: 4.150146429009467\n",
      "Iteración n° 1200: [0.6859762  0.51803572 0.05670468]. Loss: 4.120682371879311\n",
      "Iteración n° 1300: [0.67364035 0.50879547 0.05953713]. Loss: 4.096117817056137\n",
      "Iteración n° 1400: [0.66215362 0.5006221  0.06207522]. Loss: 4.075593184069497\n",
      "Iteración n° 1500: [0.65143861 0.4934167  0.06434616]. Loss: 4.058399964369605\n",
      "Iteración n° 1600: [0.64142502 0.4870895  0.06637466]. Loss: 4.043954168837983\n",
      "Iteración n° 1700: [0.63204902 0.481559   0.06818315]. Loss: 4.031774442187519\n",
      "Iteración n° 1800: [0.62325269 0.4767512  0.06979199]. Loss: 4.021464023995182\n",
      "Iteración n° 1900: [0.61498342 0.47259894 0.07121966]. Loss: 4.012695880279768\n",
      "Iteración n° 2000: [0.60719344 0.46904122 0.07248295]. Loss: 4.005200448366792\n",
      "Iteración n° 2100: [0.59983939 0.46602268 0.07359709]. Loss: 3.998755535726784\n",
      "Iteración n° 2200: [0.5928819  0.46349305 0.07457591]. Loss: 3.993177994202713\n",
      "Iteración n° 2300: [0.58628522 0.46140671 0.07543197]. Loss: 3.9883168575824737\n",
      "Iteración n° 2400: [0.58001691 0.45972223 0.07617668]. Loss: 3.9840476853176336\n",
      "Iteración n° 2500: [0.57404748 0.458402   0.07682037]. Loss: 3.9802679003950416\n",
      "Iteración n° 2600: [0.56835019 0.45741188 0.07737245]. Loss: 3.9768929466281078\n",
      "Iteración n° 2700: [0.56290074 0.45672088 0.07784145]. Loss: 3.9738531213457966\n",
      "Iteración n° 2800: [0.55767707 0.45630086 0.0782351 ]. Loss: 3.9710909647708355\n",
      "Iteración n° 2900: [0.55265917 0.45612627 0.07856045]. Loss: 3.9685591082429243\n",
      "Iteración n° 3000: [0.54782884 0.45617392 0.07882388]. Loss: 3.966218500639928\n",
      "Iteración n° 3100: [0.54316957 0.45642277 0.07903117]. Loss: 3.9640369465246543\n",
      "Iteración n° 3200: [0.53866638 0.4568537  0.07918759]. Loss: 3.9619879012280186\n",
      "Iteración n° 3300: [0.53430564 0.45744937 0.07929791]. Loss: 3.9600494777092563\n",
      "Iteración n° 3400: [0.530075   0.45819402 0.07936647]. Loss: 3.958203627971014\n",
      "Iteración n° 3500: [0.52596324 0.45907337 0.07939721]. Loss: 3.9564354683494476\n",
      "Iteración n° 3600: [0.52196015 0.46007443 0.0793937 ]. Loss: 3.95473272339168\n",
      "Iteración n° 3700: [0.51805648 0.46118542 0.07935917]. Loss: 3.953085267477633\n",
      "Iteración n° 3800: [0.51424384 0.46239566 0.07929659]. Loss: 3.9514847470065737\n",
      "Iteración n° 3900: [0.51051458 0.46369543 0.07920861]. Loss: 3.9499242689882608\n",
      "Iteración n° 4000: [0.50686177 0.46507592 0.07909766]. Loss: 3.9483981443673413\n",
      "Iteración n° 4100: [0.50327912 0.46652913 0.07896595]. Loss: 3.946901676461068\n",
      "Iteración n° 4200: [0.49976091 0.46804781 0.07881548]. Loss: 3.9454309865811372\n",
      "Iteración n° 4300: [0.49630195 0.46962537 0.07864806]. Loss: 3.943982870304173\n",
      "Iteración n° 4400: [0.49289751 0.47125583 0.07846534]. Loss: 3.9425546790039934\n",
      "Iteración n° 4500: [0.48954333 0.47293375 0.07826882]. Loss: 3.9411442222056507\n",
      "Iteración n° 4600: [0.4862355  0.47465421 0.07805985]. Loss: 3.9397496871015716\n",
      "Iteración n° 4700: [0.48297048 0.47641275 0.07783966]. Loss: 3.938369572213396\n",
      "Iteración n° 4800: [0.47974508 0.4782053  0.07760938]. Loss: 3.9370026327132353\n",
      "Iteración n° 4900: [0.47655637 0.48002818 0.07737001]. Loss: 3.935647835355084\n",
      "Iteración n° 5000: [0.47340169 0.48187805 0.07712249]. Loss: 3.934304321327313\n",
      "Iteración n° 5100: [0.47027865 0.48375188 0.07686764]. Loss: 3.9329713756339943\n",
      "Iteración n° 5200: [0.46718505 0.48564692 0.07660622]. Loss: 3.93164840185761\n",
      "Iteración n° 5300: [0.4641189  0.48756067 0.07633893]. Loss: 3.9303349013572086\n",
      "Iteración n° 5400: [0.46107839 0.48949086 0.07606639]. Loss: 3.9290304561225478\n",
      "Iteración n° 5500: [0.45806188 0.49143544 0.07578916]. Loss: 3.927734714641552\n",
      "Iteración n° 5600: [0.45506789 0.49339256 0.07550777]. Loss: 3.9264473802515107\n",
      "Iteración n° 5700: [0.45209503 0.4953605  0.07522268]. Loss: 3.925168201537468\n",
      "Iteración n° 5800: [0.4491421  0.49733776 0.0749343 ]. Loss: 3.923896964417971\n",
      "Iteración n° 5900: [0.44620795 0.49932292 0.07464304]. Loss: 3.9226334856216325\n",
      "Iteración n° 6000: [0.44329156 0.50131474 0.07434923]. Loss: 3.92137760731003\n",
      "Iteración n° 6100: [0.44039202 0.50331206 0.0740532 ]. Loss: 3.9201291926454975\n",
      "Iteración n° 6200: [0.43750846 0.50531386 0.07375522]. Loss: 3.918888122137682\n",
      "Iteración n° 6300: [0.43464013 0.50731919 0.07345556]. Loss: 3.9176542906320564\n",
      "Iteración n° 6400: [0.43178632 0.5093272  0.07315446]. Loss: 3.9164276048275006\n",
      "Iteración n° 6500: [0.42894639 0.51133712 0.07285214]. Loss: 3.9152079812299965\n",
      "Iteración n° 6600: [0.42611975 0.51334825 0.07254877]. Loss: 3.913995344465774\n",
      "Iteración n° 6700: [0.42330589 0.51535996 0.07224455]. Loss: 3.912789625890735\n",
      "Iteración n° 6800: [0.42050431 0.51737167 0.07193963]. Loss: 3.911590762444078\n",
      "Iteración n° 6900: [0.41771458 0.51938286 0.07163416]. Loss: 3.910398695703216\n",
      "Iteración n° 7000: [0.41493629 0.52139307 0.07132826]. Loss: 3.9092133711045847\n",
      "Iteración n° 7100: [0.41216908 0.52340187 0.07102206]. Loss: 3.908034737301217\n",
      "Iteración n° 7200: [0.40941261 0.52540888 0.07071566]. Loss: 3.906862745633023\n",
      "Iteración n° 7300: [0.40666657 0.52741374 0.07040917]. Loss: 3.9056973496899716\n",
      "Iteración n° 7400: [0.4039307  0.52941614 0.07010266]. Loss: 3.9045385049518537\n",
      "Iteración n° 7500: [0.40120472 0.53141581 0.06979622]. Loss: 3.9033861684911684\n",
      "Iteración n° 7600: [0.39848841 0.53341247 0.06948993]. Loss: 3.902240298728021\n",
      "Iteración n° 7700: [0.39578154 0.53540591 0.06918384]. Loss: 3.9011008552279227\n",
      "Iteración n° 7800: [0.39308394 0.53739592 0.06887802]. Loss: 3.8999677985349233\n",
      "Iteración n° 7900: [0.39039541 0.5393823  0.06857253]. Loss: 3.8988410900338817\n",
      "Iteración n° 8000: [0.38771578 0.54136488 0.0682674 ]. Loss: 3.8977206918367546\n",
      "Iteración n° 8100: [0.38504491 0.54334352 0.06796268]. Loss: 3.896606566688683\n",
      "Iteración n° 8200: [0.38238266 0.54531808 0.06765841]. Loss: 3.8954986778903895\n",
      "Iteración n° 8300: [0.3797289  0.54728843 0.06735464]. Loss: 3.8943969892340324\n",
      "Iteración n° 8400: [0.3770835  0.54925447 0.06705138]. Loss: 3.8933014649501487\n",
      "Iteración n° 8500: [0.37444636 0.55121609 0.06674867]. Loss: 3.8922120696637164\n",
      "Iteración n° 8600: [0.37181738 0.55317321 0.06644654]. Loss: 3.8911287683577904\n",
      "Iteración n° 8700: [0.36919646 0.55512575 0.06614501]. Loss: 3.890051526343311\n",
      "Iteración n° 8800: [0.36658351 0.55707364 0.06584409]. Loss: 3.888980309234053\n",
      "Iteración n° 8900: [0.36397846 0.55901682 0.06554382]. Loss: 3.887915082925799\n",
      "Iteración n° 9000: [0.36138123 0.56095523 0.0652442 ]. Loss: 3.886855813578975\n",
      "Iteración n° 9100: [0.35879174 0.56288883 0.06494525]. Loss: 3.8858024676041754\n",
      "Iteración n° 9200: [0.35620994 0.56481757 0.06464698]. Loss: 3.884755011650042\n",
      "Iteración n° 9300: [0.35363576 0.56674141 0.06434942]. Loss: 3.8837134125931034\n",
      "Iteración n° 9400: [0.35106914 0.56866032 0.06405255]. Loss: 3.8826776375292202\n",
      "Iteración n° 9500: [0.34851003 0.57057428 0.06375641]. Loss: 3.881647653766349\n",
      "Iteración n° 9600: [0.34595837 0.57248325 0.06346099]. Loss: 3.8806234288184167\n",
      "Iteración n° 9700: [0.34341413 0.57438722 0.06316631]. Loss: 3.8796049304000912\n",
      "Iteración n° 9800: [0.34087725 0.57628617 0.06287236]. Loss: 3.8785921264222982\n",
      "Iteración n° 9900: [0.3383477  0.57818009 0.06257916]. Loss: 3.8775849849883492\n",
      "Iteración n° 10000: [0.33582542 0.58006897 0.06228671]. Loss: 3.876583474390593\n",
      "Iteración n° 10100: [0.33331039 0.58195278 0.06199501]. Loss: 3.875587563107464\n",
      "Iteración n° 10200: [0.33080256 0.58383154 0.06170408]. Loss: 3.874597219800902\n",
      "Iteración n° 10300: [0.3283019  0.58570523 0.0614139 ]. Loss: 3.873612413314043\n",
      "Iteración n° 10400: [0.32580838 0.58757384 0.06112449]. Loss: 3.8726331126691464\n",
      "Iteración n° 10500: [0.32332196 0.58943738 0.06083585]. Loss: 3.871659287065742\n",
      "Iteración n° 10600: [0.32084261 0.59129585 0.06054797]. Loss: 3.870690905878905\n",
      "Iteración n° 10700: [0.31837031 0.59314925 0.06026087]. Loss: 3.8697279386576926\n",
      "Iteración n° 10800: [0.31590502 0.59499758 0.05997453]. Loss: 3.8687703551236825\n",
      "Iteración n° 10900: [0.31344671 0.59684084 0.05968897]. Loss: 3.867818125169616\n",
      "Iteración n° 11000: [0.31099536 0.59867904 0.05940418]. Loss: 3.8668712188580967\n",
      "Iteración n° 11100: [0.30855094 0.60051218 0.05912016]. Loss: 3.86592960642038\n",
      "Iteración n° 11200: [0.30611343 0.60234027 0.05883692]. Loss: 3.864993258255199\n",
      "Iteración n° 11300: [0.3036828  0.60416331 0.05855445]. Loss: 3.864062144927645\n",
      "Iteración n° 11400: [0.30125902 0.60598132 0.05827275]. Loss: 3.863136237168091\n",
      "Iteración n° 11500: [0.29884208 0.6077943  0.05799182]. Loss: 3.8622155058711267\n"
     ]
    },
    {
     "name": "stdout",
     "output_type": "stream",
     "text": [
      "Iteración n° 11600: [0.29643194 0.60960226 0.05771167]. Loss: 3.8612999220945565\n",
      "Iteración n° 11700: [0.29402859 0.6114052  0.05743228]. Loss: 3.8603894570583845\n",
      "Iteración n° 11800: [0.291632   0.61320315 0.05715367]. Loss: 3.8594840821438496\n",
      "Iteración n° 11900: [0.28924215 0.6149961  0.05687582]. Loss: 3.858583768892456\n",
      "Iteración n° 12000: [0.28685902 0.61678407 0.05659875]. Loss: 3.8576884890050387\n",
      "Iteración n° 12100: [0.28448259 0.61856707 0.05632243]. Loss: 3.8567982143408264\n",
      "Iteración n° 12200: [0.28211283 0.62034511 0.05604689]. Loss: 3.8559129169165307\n",
      "Iteración n° 12300: [0.27974973 0.6221182  0.0557721 ]. Loss: 3.8550325689054254\n",
      "Iteración n° 12400: [0.27739326 0.62388635 0.05549808]. Loss: 3.8541571426364674\n",
      "Iteración n° 12500: [0.27504341 0.62564957 0.05522482]. Loss: 3.8532866105933894\n",
      "Iteración n° 12600: [0.27270015 0.62740788 0.05495232]. Loss: 3.85242094541384\n",
      "Iteración n° 12700: [0.27036347 0.62916129 0.05468058]. Loss: 3.8515601198884895\n",
      "Iteración n° 12800: [0.26803334 0.6309098  0.05440959]. Loss: 3.850704106960179\n",
      "Iteración n° 12900: [0.26570974 0.63265344 0.05413936]. Loss: 3.849852879723057\n",
      "Iteración n° 13000: [0.26339266 0.63439221 0.05386988]. Loss: 3.8490064114217284\n",
      "Iteración n° 13100: [0.26108208 0.63612612 0.05360115]. Loss: 3.848164675450401\n",
      "Iteración n° 13200: [0.25877797 0.6378552  0.05333317]. Loss: 3.8473276453520473\n",
      "Iteración n° 13300: [0.25648033 0.63957944 0.05306594]. Loss: 3.846495294817582\n",
      "Iteración n° 13400: [0.25418912 0.64129887 0.05279945]. Loss: 3.845667597685007\n",
      "Iteración n° 13500: [0.25190433 0.64301349 0.0525337 ]. Loss: 3.844844527938609\n",
      "Iteración n° 13600: [0.24962594 0.64472332 0.0522687 ]. Loss: 3.8440260597081237\n",
      "Iteración n° 13700: [0.24735394 0.64642837 0.05200444]. Loss: 3.8432121672679296\n",
      "Iteración n° 13800: [0.2450883  0.64812865 0.05174091]. Loss: 3.842402825036243\n",
      "Iteración n° 13900: [0.24282901 0.64982418 0.05147813]. Loss: 3.8415980075742913\n",
      "Iteración n° 14000: [0.24057604 0.65151497 0.05121607]. Loss: 3.840797689585538\n",
      "Iteración n° 14100: [0.23832939 0.65320103 0.05095475]. Loss: 3.8400018459148715\n",
      "Iteración n° 14200: [0.23608903 0.65488238 0.05069416]. Loss: 3.839210451547817\n",
      "Iteración n° 14300: [0.23385494 0.65655902 0.05043429]. Loss: 3.838423481609749\n",
      "Iteración n° 14400: [0.23162711 0.65823098 0.05017516]. Loss: 3.8376409113651113\n",
      "Iteración n° 14500: [0.22940552 0.65989826 0.04991674]. Loss: 3.836862716216641\n",
      "Iteración n° 14600: [0.22719015 0.66156087 0.04965905]. Loss: 3.8360888717045873\n",
      "Iteración n° 14700: [0.22498099 0.66321883 0.04940208]. Loss: 3.835319353505948\n",
      "Iteración n° 14800: [0.22277801 0.66487215 0.04914583]. Loss: 3.8345541374337104\n",
      "Iteración n° 14900: [0.2205812  0.66652085 0.0488903 ]. Loss: 3.8337931994360694\n",
      "Iteración n° 15000: [0.21839054 0.66816494 0.04863548]. Loss: 3.8330365155957034\n",
      "Iteración n° 15100: [0.21620601 0.66980442 0.04838137]. Loss: 3.832284062128997\n",
      "Iteración n° 15200: [0.2140276  0.67143932 0.04812798]. Loss: 3.8315358153853003\n",
      "Iteración n° 15300: [0.21185529 0.67306964 0.04787529]. Loss: 3.830791751846189\n",
      "Iteración n° 15400: [0.20968906 0.6746954  0.04762331]. Loss: 3.8300518481247248\n",
      "Iteración n° 15500: [0.20752889 0.67631661 0.04737203]. Loss: 3.829316080964716\n",
      "Iteración n° 15600: [0.20537478 0.67793328 0.04712146]. Loss: 3.8285844272399903\n",
      "Iteración n° 15700: [0.20322669 0.67954543 0.04687159]. Loss: 3.827856863953663\n",
      "Iteración n° 15800: [0.20108462 0.68115306 0.04662242]. Loss: 3.8271333682374267\n",
      "Iteración n° 15900: [0.19894854 0.6827562  0.04637394]. Loss: 3.8264139173508136\n",
      "Iteración n° 16000: [0.19681845 0.68435485 0.04612617]. Loss: 3.8256984886804903\n",
      "Iteración n° 16100: [0.19469431 0.68594902 0.04587908]. Loss: 3.8249870597395574\n",
      "Iteración n° 16200: [0.19257613 0.68753874 0.04563269]. Loss: 3.8242796081668233\n",
      "Iteración n° 16300: [0.19046387 0.689124   0.04538698]. Loss: 3.823576111726115\n",
      "Iteración n° 16400: [0.18835753 0.69070483 0.04514196]. Loss: 3.8228765483055738\n",
      "Iteración n° 16500: [0.18625708 0.69228123 0.04489763]. Loss: 3.8221808959169574\n",
      "Iteración n° 16600: [0.18416252 0.69385322 0.04465399]. Loss: 3.8214891326949614\n",
      "Iteración n° 16700: [0.18207382 0.69542081 0.04441102]. Loss: 3.8208012368965143\n",
      "Iteración n° 16800: [0.17999096 0.69698401 0.04416873]. Loss: 3.820117186900107\n",
      "Iteración n° 16900: [0.17791394 0.69854284 0.04392713]. Loss: 3.8194369612051084\n",
      "Iteración n° 17000: [0.17584272 0.70009731 0.0436862 ]. Loss: 3.8187605384310936\n",
      "Iteración n° 17100: [0.17377731 0.70164742 0.04344594]. Loss: 3.8180878973171652\n",
      "Iteración n° 17200: [0.17171768 0.70319319 0.04320636]. Loss: 3.8174190167212885\n",
      "Iteración n° 17300: [0.16966382 0.70473464 0.04296744]. Loss: 3.8167538756196286\n",
      "Iteración n° 17400: [0.1676157  0.70627177 0.0427292 ]. Loss: 3.816092453105889\n",
      "Iteración n° 17500: [0.16557332 0.7078046  0.04249162]. Loss: 3.8154347283906516\n",
      "Iteración n° 17600: [0.16353665 0.70933314 0.04225471]. Loss: 3.8147806808007223\n",
      "Iteración n° 17700: [0.16150569 0.7108574  0.04201846]. Loss: 3.8141302897784923\n",
      "Iteración n° 17800: [0.15948041 0.71237739 0.04178287]. Loss: 3.8134835348812763\n",
      "Iteración n° 17900: [0.1574608  0.71389313 0.04154794]. Loss: 3.812840395780679\n",
      "Iteración n° 18000: [0.15544685 0.71540463 0.04131367]. Loss: 3.8122008522619573\n",
      "Iteración n° 18100: [0.15343853 0.71691189 0.04108005]. Loss: 3.811564884223383\n",
      "Iteración n° 18200: [0.15143583 0.71841494 0.04084709]. Loss: 3.810932471675603\n",
      "Iteración n° 18300: [0.14943874 0.71991378 0.04061478]. Loss: 3.8103035947410246\n",
      "Iteración n° 18400: [0.14744724 0.72140842 0.04038312]. Loss: 3.809678233653183\n",
      "Iteración n° 18500: [0.14546132 0.72289888 0.04015211]. Loss: 3.8090563687561203\n",
      "Iteración n° 18600: [0.14348095 0.72438517 0.03992174]. Loss: 3.808437980503768\n",
      "Iteración n° 18700: [0.14150613 0.7258673  0.03969202]. Loss: 3.8078230494593366\n",
      "Iteración n° 18800: [0.13953684 0.72734527 0.03946295]. Loss: 3.807211556294697\n",
      "Iteración n° 18900: [0.13757306 0.72881911 0.03923451]. Loss: 3.806603481789783\n",
      "Iteración n° 19000: [0.13561477 0.73028883 0.03900672]. Loss: 3.805998806831972\n",
      "Iteración n° 19100: [0.13366197 0.73175443 0.03877956]. Loss: 3.805397512415508\n",
      "Iteración n° 19200: [0.13171463 0.73321593 0.03855303]. Loss: 3.8047995796408762\n",
      "Iteración n° 19300: [0.12977275 0.73467334 0.03832715]. Loss: 3.804204989714231\n",
      "Iteración n° 19400: [0.1278363  0.73612666 0.03810189]. Loss: 3.8036137239467926\n",
      "Iteración n° 19500: [0.12590527 0.73757592 0.03787727]. Loss: 3.8030257637542695\n",
      "Iteración n° 19600: [0.12397965 0.73902113 0.03765327]. Loss: 3.8024410906562633\n",
      "Iteración n° 19700: [0.12205942 0.74046228 0.0374299 ]. Loss: 3.8018596862756966\n",
      "Iteración n° 19800: [0.12014456 0.74189941 0.03720715]. Loss: 3.8012815323382325\n",
      "Iteración n° 19900: [0.11823506 0.74333251 0.03698503]. Loss: 3.800706610671697\n",
      "Iteración n° 20000: [0.11633091 0.7447616  0.03676353]. Loss: 3.800134903205515\n",
      "Iteración n° 20100: [0.11443209 0.74618668 0.03654266]. Loss: 3.7995663919701332\n",
      "Iteración n° 20200: [0.11253858 0.74760778 0.03632239]. Loss: 3.799001059096468\n",
      "Iteración n° 20300: [0.11065038 0.74902491 0.03610275]. Loss: 3.7984388868153274\n",
      "Iteración n° 20400: [0.10876746 0.75043806 0.03588372]. Loss: 3.797879857456865\n",
      "Iteración n° 20500: [0.10688981 0.75184726 0.0356653 ]. Loss: 3.7973239534500216\n",
      "Iteración n° 20600: [0.10501741 0.75325251 0.0354475 ]. Loss: 3.7967711573219702\n",
      "Iteración n° 20700: [0.10315026 0.75465383 0.0352303 ]. Loss: 3.79622145169757\n",
      "Iteración n° 20800: [0.10128834 0.75605123 0.03501372]. Loss: 3.7956748192988212\n",
      "Iteración n° 20900: [0.09943162 0.75744472 0.03479774]. Loss: 3.7951312429443136\n",
      "Iteración n° 21000: [0.09758011 0.7588343  0.03458236]. Loss: 3.7945907055486945\n",
      "Iteración n° 21100: [0.09573377 0.76022    0.03436759]. Loss: 3.794053190122139\n",
      "Iteración n° 21200: [0.09389261 0.76160181 0.03415341]. Loss: 3.793518679769791\n",
      "Iteración n° 21300: [0.0920566  0.76297976 0.03393984]. Loss: 3.792987157691263\n",
      "Iteración n° 21400: [0.09022572 0.76435385 0.03372687]. Loss: 3.792458607180083\n",
      "Iteración n° 21500: [0.08839998 0.7657241  0.03351449]. Loss: 3.7919330116231817\n",
      "Iteración n° 21600: [0.08657934 0.76709051 0.0333027 ]. Loss: 3.791410354500373\n",
      "Iteración n° 21700: [0.0847638  0.76845309 0.03309151]. Loss: 3.7908906193838234\n",
      "Iteración n° 21800: [0.08295335 0.76981186 0.03288091]. Loss: 3.7903737899375463\n",
      "Iteración n° 21900: [0.08114796 0.77116683 0.0326709 ]. Loss: 3.7898598499168807\n",
      "Iteración n° 22000: [0.07934762 0.772518   0.03246148]. Loss: 3.7893487831679864\n",
      "Iteración n° 22100: [0.07755233 0.77386539 0.03225264]. Loss: 3.7888405736273345\n",
      "Iteración n° 22200: [0.07576205 0.77520901 0.03204439]. Loss: 3.7883352053212023\n",
      "Iteración n° 22300: [0.0739768  0.77654887 0.03183672]. Loss: 3.787832662365172\n",
      "Iteración n° 22400: [0.07219653 0.77788498 0.03162963]. Loss: 3.787332928963625\n",
      "Iteración n° 22500: [0.07042126 0.77921735 0.03142312]. Loss: 3.786835989409254\n",
      "Iteración n° 22600: [0.06865095 0.78054598 0.03121719]. Loss: 3.7863418280825694\n",
      "Iteración n° 22700: [0.06688559 0.7818709  0.03101184]. Loss: 3.785850429451401\n",
      "Iteración n° 22800: [0.06512518 0.78319211 0.03080706]. Loss: 3.7853617780704174\n",
      "Iteración n° 22900: [0.0633697  0.78450962 0.03060286]. Loss: 3.784875858580633\n",
      "Iteración n° 23000: [0.06161913 0.78582345 0.03039922]. Loss: 3.7843926557089302\n",
      "Iteración n° 23100: [0.05987346 0.78713359 0.03019616]. Loss: 3.7839121542675787\n",
      "Iteración n° 23200: [0.05813268 0.78844007 0.02999366]. Loss: 3.7834343391537635\n",
      "Iteración n° 23300: [0.05639677 0.78974289 0.02979174]. Loss: 3.782959195349094\n",
      "Iteración n° 23400: [0.05466572 0.79104207 0.02959037]. Loss: 3.7824867079191526\n",
      "Iteración n° 23500: [0.05293951 0.79233761 0.02938957]. Loss: 3.7820168620130086\n"
     ]
    },
    {
     "name": "stdout",
     "output_type": "stream",
     "text": [
      "Iteración n° 23600: [0.05121814 0.79362952 0.02918933]. Loss: 3.781549642862761\n",
      "Iteración n° 23700: [0.04950158 0.79491781 0.02898966]. Loss: 3.781085035783067\n",
      "Iteración n° 23800: [0.04778984 0.7962025  0.02879054]. Loss: 3.780623026170694\n",
      "Iteración n° 23900: [0.04608288 0.79748359 0.02859198]. Loss: 3.7801635995040437\n",
      "Iteración n° 24000: [0.0443807  0.7987611  0.02839397]. Loss: 3.779706741342702\n",
      "Iteración n° 24100: [0.04268328 0.80003503 0.02819652]. Loss: 3.7792524373269942\n",
      "Iteración n° 24200: [0.04099062 0.80130539 0.02799963]. Loss: 3.7788006731775186\n",
      "Iteración n° 24300: [0.0393027  0.8025722  0.02780328]. Loss: 3.778351434694709\n",
      "Iteración n° 24400: [0.0376195  0.80383546 0.02760748]. Loss: 3.777904707758383\n",
      "Iteración n° 24500: [0.03594101 0.80509519 0.02741223]. Loss: 3.777460478327299\n",
      "Iteración n° 24600: [0.03426722 0.80635139 0.02721753]. Loss: 3.7770187324387168\n",
      "Iteración n° 24700: [0.03259811 0.80760407 0.02702337]. Loss: 3.7765794562079584\n",
      "Iteración n° 24800: [0.03093368 0.80885325 0.02682976]. Loss: 3.7761426358279655\n",
      "Iteración n° 24900: [0.02927391 0.81009893 0.02663669]. Loss: 3.775708257568875\n",
      "Iteración n° 25000: [0.02761878 0.81134112 0.02644416]. Loss: 3.775276307777585\n",
      "Iteración n° 25100: [0.02596829 0.81257983 0.02625216]. Loss: 3.774846772877315\n",
      "Iteración n° 25200: [0.02432242 0.81381508 0.02606071]. Loss: 3.7744196393671983\n",
      "Iteración n° 25300: [0.02268115 0.81504687 0.02586979]. Loss: 3.773994893821842\n",
      "Iteración n° 25400: [0.02104448 0.81627521 0.0256794 ]. Loss: 3.773572522890905\n",
      "Iteración n° 25500: [0.01941239 0.81750012 0.02548955]. Loss: 3.773152513298698\n",
      "Iteración n° 25600: [0.01778486 0.81872159 0.02530023]. Loss: 3.772734851843733\n",
      "Iteración n° 25700: [0.0161619  0.81993965 0.02511144]. Loss: 3.7723195253983475\n",
      "Iteración n° 25800: [0.01454348 0.82115429 0.02492318]. Loss: 3.7719065209082543\n",
      "Iteración n° 25900: [0.01292958 0.82236554 0.02473544]. Loss: 3.771495825392155\n",
      "Iteración n° 26000: [0.01132021 0.8235734  0.02454823]. Loss: 3.77108742594133\n",
      "Iteración n° 26100: [0.00971534 0.82477787 0.02436155]. Loss: 3.7706813097192216\n",
      "Iteración n° 26200: [0.00811496 0.82597897 0.02417539]. Loss: 3.7702774639610395\n",
      "Iteración n° 26300: [0.00651906 0.82717671 0.02398974]. Loss: 3.769875875973354\n",
      "Iteración n° 26400: [0.00492763 0.8283711  0.02380462]. Loss: 3.7694765331337106\n",
      "Iteración n° 26500: [0.00334066 0.82956214 0.02362002]. Loss: 3.769079422890209\n",
      "Iteración n° 26600: [0.00175813 0.83074985 0.02343593]. Loss: 3.768684532761134\n",
      "Iteración n° 26700: [1.80022230e-04 8.31934240e-01 2.32523599e-02]. Loss: 3.768291850334543\n",
      "Iteración n° 26800: [-0.00139366  0.83311531  0.0230693 ]. Loss: 3.7679013632678893\n",
      "Iteración n° 26900: [-0.00296294  0.83429307  0.02288676]. Loss: 3.7675130592876283\n",
      "Iteración n° 27000: [-0.00452783  0.83546754  0.02270472]. Loss: 3.767126926188836\n",
      "Iteración n° 27100: [-0.00608834  0.83663872  0.0225232 ]. Loss: 3.766742951834814\n",
      "Iteración n° 27200: [-0.00764448  0.83780662  0.02234218]. Loss: 3.7663611241567243\n",
      "Iteración n° 27300: [-0.00919626  0.83897125  0.02216167]. Loss: 3.7659814311531994\n",
      "Iteración n° 27400: [-0.0107437   0.84013262  0.02198167]. Loss: 3.765603860889963\n",
      "Iteración n° 27500: [-0.01228681  0.84129075  0.02180216]. Loss: 3.765228401499468\n",
      "Iteración n° 27600: [-0.01382559  0.84244562  0.02162317]. Loss: 3.764855041180507\n",
      "Iteración n° 27700: [-0.01536007  0.84359727  0.02144467]. Loss: 3.7644837681978545\n",
      "Iteración n° 27800: [-0.01689026  0.84474569  0.02126667]. Loss: 3.7641145708818913\n",
      "Iteración n° 27900: [-0.01841616  0.8458909   0.02108917]. Loss: 3.7637474376282394\n",
      "Iteración n° 28000: [-0.01993779  0.8470329   0.02091217]. Loss: 3.7633823568973943\n",
      "Iteración n° 28100: [-0.02145516  0.84817171  0.02073566]. Loss: 3.763019317214368\n",
      "Iteración n° 28200: [-0.02296828  0.84930732  0.02055965]. Loss: 3.7626583071683246\n",
      "Iteración n° 28300: [-0.02447717  0.85043976  0.02038413]. Loss: 3.762299315412228\n",
      "Iteración n° 28400: [-0.02598184  0.85156903  0.0202091 ]. Loss: 3.761942330662466\n",
      "Iteración n° 28500: [-0.02748229  0.85269514  0.02003456]. Loss: 3.7615873416985233\n",
      "Iteración n° 28600: [-0.02897854  0.85381809  0.01986051]. Loss: 3.7612343373626085\n",
      "Iteración n° 28700: [-0.0304706   0.8549379   0.01968695]. Loss: 3.760883306559311\n",
      "Iteración n° 28800: [-0.03195849  0.85605458  0.01951387]. Loss: 3.760534238255249\n",
      "Iteración n° 28900: [-0.03344221  0.85716813  0.01934128]. Loss: 3.7601871214787286\n",
      "Iteración n° 29000: [-0.03492178  0.85827857  0.01916917]. Loss: 3.759841945319391\n",
      "Iteración n° 29100: [-0.03639721  0.85938589  0.01899754]. Loss: 3.759498698927878\n",
      "Iteración n° 29200: [-0.0378685   0.86049012  0.01882639]. Loss: 3.7591573715154833\n",
      "Iteración n° 29300: [-0.03933568  0.86159125  0.01865572]. Loss: 3.7588179523538177\n",
      "Iteración n° 29400: [-0.04079875  0.8626893   0.01848553]. Loss: 3.7584804307744695\n",
      "Iteración n° 29500: [-0.04225773  0.86378428  0.01831582]. Loss: 3.758144796168675\n",
      "Iteración n° 29600: [-0.04371262  0.8648762   0.01814658]. Loss: 3.7578110379869747\n",
      "Iteración n° 29700: [-0.04516344  0.86596505  0.01797781]. Loss: 3.7574791457388956\n",
      "Iteración n° 29800: [-0.04661019  0.86705086  0.01780952]. Loss: 3.7571491089926035\n",
      "Iteración n° 29900: [-0.0480529   0.86813363  0.0176417 ]. Loss: 3.7568209173745912\n"
     ]
    }
   ],
   "source": [
    "# su codigo aqui\n",
    "\n",
    "gamma = 0.0001\n",
    "N = 30000\n",
    "h = 0.0001\n",
    "next_ = np.array([1.,1.,1.])\n",
    "\n",
    "for i in range(N):\n",
    "    next_ = next_ - gamma*grad_loss(x,y,next_[0],next_[1],next_[2])\n",
    "    if i%100 == 0:\n",
    "        print(\"Iteración n° %s: %s. Loss: %s\"%(i,next_,loss(x,y,*tuple(next_))))\n",
    "\n"
   ]
  },
  {
   "cell_type": "markdown",
   "id": "MSmaQFKhiMIJ",
   "metadata": {
    "id": "MSmaQFKhiMIJ"
   },
   "source": [
    "e) Imprima los valores finales de la regresión y de la función de costo para los valores optimos."
   ]
  },
  {
   "cell_type": "code",
   "execution_count": 60,
   "id": "wnh5PS3YYbbB",
   "metadata": {
    "id": "wnh5PS3YYbbB"
   },
   "outputs": [
    {
     "name": "stdout",
     "output_type": "stream",
     "text": [
      "a:-0.049477204934031745, b:0.8692025893451499, c:0.017476016011877153\n",
      "Loss: 3.756497815088808\n"
     ]
    }
   ],
   "source": [
    "# su codigo aqui\n",
    "print(\"a:%s, b:%s, c:%s\"%(next_[0],next_[1],next_[2]))\n",
    "print(\"Loss: %s\"%(loss(x,y,*tuple(next_))))\n"
   ]
  },
  {
   "cell_type": "markdown",
   "id": "HCM7ZTbll6Iv",
   "metadata": {
    "id": "HCM7ZTbll6Iv"
   },
   "source": [
    "f) Ahora obtenga los valores optimos de la regresión, usando el método matricial. Puede usar el siguiente notebook como guía, [Minimos cuadrados](https://github.com/diegour1/CompMetodosComputacionales/blob/main/Notebooks/05%20-%20fit_lineal_y_solucion_sistema_de_ecuaciones.ipynb).\n"
   ]
  },
  {
   "cell_type": "code",
   "execution_count": 61,
   "id": "qFy15KA0meiL",
   "metadata": {
    "id": "qFy15KA0meiL"
   },
   "outputs": [
    {
     "name": "stdout",
     "output_type": "stream",
     "text": [
      "[-0.562       1.25385714 -0.04214286] 3.698445714285714\n"
     ]
    }
   ],
   "source": [
    "param = np.zeros(3)\n",
    "# su codigo aqui\n",
    "Pt = np.array([np.ones(x.size),x,x**2])\n",
    "P = Pt.T\n",
    "\n",
    "param = np.linalg.inv(Pt@P)@Pt@y\n",
    "\n",
    "print(param, loss(x, y, *tuple(param)))"
   ]
  },
  {
   "cell_type": "markdown",
   "id": "1AvYxum4nGfi",
   "metadata": {
    "id": "1AvYxum4nGfi"
   },
   "source": [
    "g) ¿La función de costo con el método de regresión matricial es mayor o menor que con el método de gradiente descediente? ¿Sí, No, por qué?\n",
    "\n",
    "La función de costo de la regresión matricial es menor a la del método del descenso del gradiente. Esto se puede deber a que el método de descenso del gradiente es un método iterativo y éste conlleva un error a la hora de hacer las aproximaciones que está ligado al número de iteraciones que se haga.\n"
   ]
  },
  {
   "cell_type": "markdown",
   "id": "b3aZ-I4smm96",
   "metadata": {
    "id": "b3aZ-I4smm96"
   },
   "source": [
    "h) Realice una gráfica mostrando los puntos $x$ y $y$, ademas de las gráficas de las funciones obtenidas con el método de gradiente descendiente y con el método de regresión matricial."
   ]
  },
  {
   "cell_type": "code",
   "execution_count": 62,
   "id": "4pWICAMEebbs",
   "metadata": {
    "id": "4pWICAMEebbs"
   },
   "outputs": [
    {
     "data": {
      "text/plain": [
       "<matplotlib.legend.Legend at 0x2dd0de2a520>"
      ]
     },
     "execution_count": 62,
     "metadata": {},
     "output_type": "execute_result"
    },
    {
     "data": {
      "image/png": "[encoded data removed]",
      "text/plain": [
       "<Figure size 640x480 with 1 Axes>"
      ]
     },
     "metadata": {},
     "output_type": "display_data"
    }
   ],
   "source": [
    "(a1,b1,c1) = tuple(next_)\n",
    "(a2,b2,c2) = tuple(param)\n",
    "\n",
    "fig, ax = plt.subplots()\n",
    "ax.scatter(x,y)\n",
    "f1, = ax.plot(x,a1 + b1*x + c1*x**2)\n",
    "f2, = ax.plot(x,a2 + b2*x + c2*x**2)\n",
    "f1.set_label(\"Método descenso del gradiente\")\n",
    "f2.set_label(\"Método de mínimos cuadrados\")\n",
    "ax.legend()\n"
   ]
  }
 ],
 "metadata": {
  "colab": {
   "provenance": []
  },
  "kernelspec": {
   "display_name": "Python 3 (ipykernel)",
   "language": "python",
   "name": "python3"
  },
  "language_info": {
   "codemirror_mode": {
    "name": "ipython",
    "version": 3
   },
   "file_extension": ".py",
   "mimetype": "text/x-python",
   "name": "python",
   "nbconvert_exporter": "python",
   "pygments_lexer": "ipython3",
   "version": "3.9.13"
  }
 },
 "nbformat": 4,
 "nbformat_minor": 5
}
