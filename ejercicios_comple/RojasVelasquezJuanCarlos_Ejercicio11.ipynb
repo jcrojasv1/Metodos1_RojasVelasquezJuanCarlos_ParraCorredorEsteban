{
 "cells": [
  {
   "cell_type": "markdown",
   "id": "Ca47pvrzRXMy",
   "metadata": {
    "id": "Ca47pvrzRXMy"
   },
   "source": [
    "## Librerias"
   ]
  },
  {
   "cell_type": "code",
   "execution_count": 2,
   "id": "6f64d18c-e6fe-4328-a15d-9344842eabd1",
   "metadata": {
    "id": "6f64d18c-e6fe-4328-a15d-9344842eabd1"
   },
   "outputs": [],
   "source": [
    "import numpy as np\n",
    "import sympy as sym\n",
    "from sympy import symbols\n",
    "sym.init_printing()"
   ]
  },
  {
   "cell_type": "markdown",
   "id": "RQcF9p3vavGU",
   "metadata": {
    "id": "RQcF9p3vavGU"
   },
   "source": [
    "## Problema\n",
    "\n"
   ]
  },
  {
   "cell_type": "markdown",
   "id": "zes6GP0La1Oy",
   "metadata": {
    "id": "zes6GP0La1Oy"
   },
   "source": [
    "Considere dos bloques de masa $m_1$ y $m_2$, el bloque $m_1$ empieza con una velocidad $v_1 = - 1 \\text{ m/s}$ el bloque $m_2$ empieza en reposo. Primero el bloque 1 choca con el bloque 2 de forma elastica, luego el bloque 2 choca elasticamente contra la pared, y luego se dirige el bloque 2 de nuevo hacia el bloque 1 para chocar de nuevo elasticamente. El bloque 2 choca elasticamente varias veces contra la pared y contra el bloque 1 y se cuentan el número de choques elasticos totales, hasta que los bloques dejan de chocar.\n",
    "\n",
    "![](https://raw.githubusercontent.com/diegour1/CompMetodosComputacionales/main/DataFiles/image9.png)\n",
    "\n",
    "Más detalles del problema se pueden encontrar en este [link](https://www.youtube.com/watch?v=HEfHFsfGXjs&ab_channel=3Blue1Brown).\n",
    "\n"
   ]
  },
  {
   "cell_type": "markdown",
   "id": "iwNAUfVTxfKC",
   "metadata": {
    "id": "iwNAUfVTxfKC"
   },
   "source": [
    "a) Si los bloques 1 y 2 tienen en cierto momento una velocidad $v_{1i}$ y $v_{2i}$ la velocidades después del choque elastico están dadas por, \n",
    "\n",
    "$$\n",
    "v_{1f} = v_{1i}\\Big(\\frac{m_1-m_2}{m_1+m_2}\\Big) + v_{2i}\\Big(\\frac{2m_2}{m_1+m_2}\\Big)\n",
    "$$\n",
    "\n",
    "$$\n",
    "v_{2f} = v_{1i}\\Big(\\frac{2m_1}{m_1+m_2}\\Big) + v_{2i}\\Big(\\frac{m_2-m_1}{m_1+m_2}\\Big)\n",
    "$$\n",
    "\n",
    "Demuestre la validez de esas dos ecuaciones con ayuda de la libreria sympy. (Imprima la ecuación simplificada que resulta de simpy)"
   ]
  },
  {
   "cell_type": "markdown",
   "id": "ae17e68d",
   "metadata": {},
   "source": [
    "Se tiene que para la conservación de momento lineal:\n",
    "$$m_1v_{1i} + m_2v_{2i} = m_2v_{2f} + m_1v_{1f}$$ \n",
    "y de la energía:\n",
    "$$\\frac{1}{2}m_1v_{1f}^2 + \\frac{1}{2}m_2v_{2f}^2 =\\frac{1}{2}m_1v_{1i}^2 + \\frac{1}{2}m_2v_{2i}^2 $$"
   ]
  },
  {
   "cell_type": "code",
   "execution_count": 3,
   "id": "jvurBrYswg99",
   "metadata": {
    "id": "jvurBrYswg99"
   },
   "outputs": [
    {
     "data": {
      "image/png": "[encoded data removed]",
      "text/latex": [
       "$\\displaystyle \\left( \\frac{1.0 \\cdot \\left(1.0 m_{1} v1i - 1.0 m_{2} v1i + 2.0 m_{2} v2i\\right)}{m_{1} + m_{2}}, \\  \\frac{2.0 m_{1} v1i - m_{1} v2i + m_{2} v2i}{m_{1} + m_{2}}\\right)$"
      ],
      "text/plain": [
       "⎛1.0⋅(1.0⋅m₁⋅v1i - m₂⋅v1i + 2.0⋅m₂⋅v2i)  2.0⋅m₁⋅v1i - m₁⋅v2i + m₂⋅v2i⎞\n",
       "⎜──────────────────────────────────────, ────────────────────────────⎟\n",
       "⎝               m₁ + m₂                            m₁ + m₂           ⎠"
      ]
     },
     "execution_count": 3,
     "metadata": {},
     "output_type": "execute_result"
    }
   ],
   "source": [
    "# su codigo aqui\n",
    "v1i,v1f,v2i,v2f,m1,m2 = sym.Symbol('v1i'),sym.Symbol('v1f'),sym.Symbol('v2i'),sym.Symbol('v2f'),sym.Symbol('m1'),sym.Symbol('m2')\n",
    "\n",
    "exp = sym.solve([m1*v1i + m2*v2i - m2*v2f - m1*v1f,0.5*m1*v1f**2 + 0.5*m2*v2f**2 - 0.5*m1*v1i**2 - 0.5*m2*v2i**2],[v1f,v2f])\n",
    "sym.simplify(exp[1][0]), sym.simplify(exp[1][1])\n"
   ]
  },
  {
   "cell_type": "markdown",
   "id": "hAVlrLnf0H5H",
   "metadata": {
    "id": "hAVlrLnf0H5H"
   },
   "source": [
    "b) Cree la función `num_collisions(m1, m2)` que reciba las masas $m_1$ y $m_2$ de los bloques 1 y 2 respectivamente, y retorne el número de choques totales `count`, la velocidad inicial del bloque 1 es $v_1 = -1 \\text{ m/s}$ y el bloque 2 empieza en reposo."
   ]
  },
  {
   "cell_type": "code",
   "execution_count": 19,
   "id": "_4YA_OGs0iK8",
   "metadata": {
    "id": "_4YA_OGs0iK8"
   },
   "outputs": [],
   "source": [
    "def num_collisions(m1,m2):\n",
    "    count = 0\n",
    "    v = np.array([-1,0])\n",
    "    B = (1/(m1+m2))*np.array([[m1-m2,2*m2],[2*m1,m2-m1]])\n",
    "    while True:\n",
    "        if count%2 == 0:\n",
    "            v = B@v\n",
    "            count += 1\n",
    "            if v[1] >= 0 and v[0] >= 0:\n",
    "                if v[1] < v[0]:\n",
    "                    break\n",
    "        elif count%2 != 0:\n",
    "            v[1] = -v[1]\n",
    "            count += 1\n",
    "            if v[1] >= 0 and v[0] >= 0:\n",
    "                if v[1] < v[0]:\n",
    "                    break\n",
    "    return count\n",
    "        "
   ]
  },
  {
   "cell_type": "code",
   "execution_count": 33,
   "id": "bzxckmmI0ngu",
   "metadata": {
    "id": "bzxckmmI0ngu"
   },
   "outputs": [
    {
     "name": "stdout",
     "output_type": "stream",
     "text": [
      "3\n",
      "10\n",
      "31\n",
      "99\n",
      "314\n",
      "993\n",
      "3141\n",
      "9934\n",
      "31415\n",
      "99345\n",
      "314159\n",
      "993458\n",
      "3141592\n"
     ]
    }
   ],
   "source": [
    "# codigo para la verificacion no modificar\n",
    "for i in range(13):\n",
    "    print(num_collisions(10**i,1))"
   ]
  },
  {
   "attachments": {},
   "cell_type": "markdown",
   "id": "8tEUriyx0NQm",
   "metadata": {
    "id": "8tEUriyx0NQm"
   },
   "source": [
    "c)¿ Cómo resolvería el problema analíticamente ? (Sin ver las soluciones en internet) (No hay soluciones correctas)\n",
    "\n",
    "Dado que hay una relación entre el número de colisiones y el valor de $\\pi$. Se debe asociar este problema de alguna manera con un símil donde se encuentre un círculo. Usaría esta asociación para hacer una compararación con un péndulo amortiguado que choca contra una pared perdiendo energía y así, reduciendo su período hasta que el número de choques dé los mismos resultados del problema."
   ]
  }
 ],
 "metadata": {
  "colab": {
   "provenance": []
  },
  "kernelspec": {
   "display_name": "Python 3 (ipykernel)",
   "language": "python",
   "name": "python3"
  },
  "language_info": {
   "codemirror_mode": {
    "name": "ipython",
    "version": 3
   },
   "file_extension": ".py",
   "mimetype": "text/x-python",
   "name": "python",
   "nbconvert_exporter": "python",
   "pygments_lexer": "ipython3",
   "version": "3.9.13"
  }
 },
 "nbformat": 4,
 "nbformat_minor": 5
}
