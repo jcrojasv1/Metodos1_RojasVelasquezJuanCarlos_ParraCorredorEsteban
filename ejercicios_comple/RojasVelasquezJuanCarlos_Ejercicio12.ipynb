{
 "cells": [
  {
   "cell_type": "markdown",
   "id": "Ca47pvrzRXMy",
   "metadata": {
    "id": "Ca47pvrzRXMy"
   },
   "source": [
    "## Librerias"
   ]
  },
  {
   "cell_type": "code",
   "execution_count": 32,
   "id": "6f64d18c-e6fe-4328-a15d-9344842eabd1",
   "metadata": {
    "id": "6f64d18c-e6fe-4328-a15d-9344842eabd1"
   },
   "outputs": [],
   "source": [
    "import numpy as np\n",
    "import matplotlib.pyplot as plt"
   ]
  },
  {
   "cell_type": "markdown",
   "id": "RQcF9p3vavGU",
   "metadata": {
    "id": "RQcF9p3vavGU"
   },
   "source": [
    "## Problema\n",
    "\n",
    "En este problema vamos a estudiar cómo muestrear puntos aleatorios usando el método de la distribución cumulativa inversa.\n",
    "\n"
   ]
  },
  {
   "cell_type": "markdown",
   "id": "wjtj7krcShO4",
   "metadata": {
    "id": "wjtj7krcShO4"
   },
   "source": [
    "a) Es posible muestrear puntos uniformes entre (0, 1) usando algebra modular, \n",
    "\n",
    "Para ello calcule iterativamente los puntos que se generan de la siguiente formula\n",
    "\n",
    "$$\n",
    "  seed_{i+1} = (seed_i * a + c) \\ \\% \\ mod\n",
    "$$\n",
    "\n",
    "los valores $seed_{i}$ corresponden a numeros aleatorios generados entre 0 y $mod$, para que sean valores entre 0, y 1 divida al final los numeros obtenidos del las $\\{seed_{i}\\}$ por $mod$\n",
    "\n",
    "Genere 10 puntos aleatorios entre 0 y 1, con los siguientes parametros\n",
    "\n",
    "$\n",
    "seed_{0} = 12345\n",
    "$\n",
    "\n",
    "$\n",
    "a = 1664525\n",
    "$\n",
    "\n",
    "$\n",
    "c = 1013904223\n",
    "$\n",
    "\n",
    "$\n",
    "mod = 2^{32}\n",
    "$\n",
    "\n",
    "\n",
    "\n"
   ]
  },
  {
   "cell_type": "code",
   "execution_count": 33,
   "id": "QD6bkfUeG184",
   "metadata": {
    "colab": {
     "base_uri": "https://localhost:8080/"
    },
    "id": "QD6bkfUeG184",
    "outputId": "5be38348-fcb2-49d6-93c8-ca30a23a5773"
   },
   "outputs": [
    {
     "data": {
      "text/plain": [
       "array([2.87429430e-06, 2.04026857e-02, 1.65478482e-02, 5.43155794e-01,\n",
       "       6.34904056e-01, 9.10029514e-01, 1.12461669e-01, 4.95889405e-01,\n",
       "       5.48348844e-01, 5.96100117e-01])"
      ]
     },
     "execution_count": 33,
     "metadata": {},
     "output_type": "execute_result"
    }
   ],
   "source": [
    "def uniform_distribution(num_samples):\n",
    "    nums_uniform = np.zeros(num_samples)\n",
    "    seed = 12345\n",
    "    a = 1664525\n",
    "    c = 1013904223\n",
    "    mod = 2**(32)\n",
    "    # tu codigo aqui num_sample es un escalar que indica el numero de muestras de la distribucion, # nums_uniform corresponde a la lista de puntos muestreados\n",
    "    nums_uniform[0] = seed\n",
    "    for i in range(1,nums_uniform.size):\n",
    "        nums_uniform[i] = (nums_uniform[i-1]*a + c)%mod\n",
    "    return nums_uniform/mod\n",
    "\n",
    "# codigo para verificar su respuesta (no modificar)\n",
    "uniform_distribution(10)"
   ]
  },
  {
   "cell_type": "markdown",
   "id": "XuO145FEvaIC",
   "metadata": {
    "id": "XuO145FEvaIC"
   },
   "source": [
    "b) Realice un histograma que indique 10000 puntos muestreados de la función de la parte a)"
   ]
  },
  {
   "cell_type": "code",
   "execution_count": 34,
   "id": "I9qJkiXyIW2A",
   "metadata": {
    "id": "I9qJkiXyIW2A"
   },
   "outputs": [
    {
     "data": {
      "text/plain": [
       "(array([521., 541., 534., 538., 539., 533., 492., 506., 507., 529., 548.,\n",
       "        546., 534., 535., 532., 511., 532., 540., 482.]),\n",
       " array([0.        , 0.05263158, 0.10526316, 0.15789474, 0.21052632,\n",
       "        0.26315789, 0.31578947, 0.36842105, 0.42105263, 0.47368421,\n",
       "        0.52631579, 0.57894737, 0.63157895, 0.68421053, 0.73684211,\n",
       "        0.78947368, 0.84210526, 0.89473684, 0.94736842, 1.        ]),\n",
       " <BarContainer object of 19 artists>)"
      ]
     },
     "execution_count": 34,
     "metadata": {},
     "output_type": "execute_result"
    },
    {
     "data": {
      "image/png": "[encoded data removed]",
      "text/plain": [
       "<Figure size 640x480 with 1 Axes>"
      ]
     },
     "metadata": {},
     "output_type": "display_data"
    }
   ],
   "source": [
    "## su codigo aqui\n",
    "intervalos = np.linspace(0,1,20)\n",
    "puntos = uniform_distribution(10000)\n",
    "plt.hist(x = puntos, bins= intervalos, color='#F2AB6D', rwidth=0.85)"
   ]
  },
  {
   "cell_type": "markdown",
   "id": "mFQfe10jvnnV",
   "metadata": {
    "id": "mFQfe10jvnnV"
   },
   "source": [
    "Un teorema de la probabilidad indica que la densidad de probabilidad cumulativa (CDF) de una función de densidad arbitraria es una distribución uniforme. Esto indica que es posible muestrear algunas funciones de densidad de probabilidad especiales, haciendo el proceso inverso (inverse cumulative distribution), es decir pasar de una distribución uniforme a otra distribución.\n",
    "\n",
    "Matematicamente tiene la siguiente forma: Sea $p(t)$ un función de densidad. La función acumulativa es, \n",
    "\n",
    "$$\n",
    "  \\int_{-∞}^xp(t)\\,dt = \\text{Uniform distribution}\n",
    "$$\n",
    "\n",
    "En este problema vamos a muestrear una uniforme para obtener un muestreo de la función $p(t) = e^{-t}$ para $x>0$."
   ]
  },
  {
   "cell_type": "markdown",
   "id": "fqXO0eZox9Xa",
   "metadata": {
    "id": "fqXO0eZox9Xa"
   },
   "source": [
    "c)  Realice la integral mostrada, completando la igualdad, \n",
    "\n",
    "$$\n",
    " f(x) = \\int_{0}^xe^{-t}\\,dt = -e^{-t} \\bigg|_{0}^{x} = e^{-t}\\bigg|_{x}^{0} = 1 - e^{-x}\n",
    "$$\n",
    "\n"
   ]
  },
  {
   "cell_type": "markdown",
   "id": "uKOA_SlfyrpU",
   "metadata": {
    "id": "uKOA_SlfyrpU"
   },
   "source": [
    "d) Iguale $f(x) = U$, donde U es la distribución uniforme y despeje la variable x, (complete la igualdad),\n",
    "\n",
    "$$\n",
    "  x = -\\ln{(1- U)}\n",
    "$$"
   ]
  },
  {
   "cell_type": "markdown",
   "id": "Of824SuozJtg",
   "metadata": {
    "id": "Of824SuozJtg"
   },
   "source": [
    "e) Realice un muestreo de la variable $x$, realizando la operación del numeral d sobre los puntos muetreados de una uniforme."
   ]
  },
  {
   "cell_type": "code",
   "execution_count": 35,
   "id": "RRgg8oSUJ1To",
   "metadata": {
    "colab": {
     "base_uri": "https://localhost:8080/"
    },
    "id": "RRgg8oSUJ1To",
    "outputId": "57dc3b30-4b49-4d2b-8d0c-5b074cdac7ec"
   },
   "outputs": [
    {
     "data": {
      "text/plain": [
       "array([2.87429843e-06, 2.06136956e-02, 1.66862933e-02, 7.83412853e-01,\n",
       "       1.00759510e+00, 2.40827359e+00, 1.19303569e-01, 6.84959601e-01,\n",
       "       7.94845177e-01, 9.06588246e-01])"
      ]
     },
     "execution_count": 35,
     "metadata": {},
     "output_type": "execute_result"
    }
   ],
   "source": [
    "# su codigo aqui\n",
    "def exp_distribution(num_samples):\n",
    "    exp_samples = np.zeros(num_samples)\n",
    "    U = uniform_distribution(num_samples)\n",
    "    # su codigo aqui\n",
    "    for i in range(U.size):\n",
    "        exp_samples[i] = -np.log(1-U[i])\n",
    "\n",
    "    return exp_samples\n",
    "\n",
    "# codigo para verificar su respuesta (no modificar)\n",
    "exp_distribution(10)"
   ]
  },
  {
   "cell_type": "markdown",
   "id": "UasOAT2Azxuh",
   "metadata": {
    "id": "UasOAT2Azxuh"
   },
   "source": [
    "f) Realice un histograma de los 10000 puntos muestreados de la función de densidad $p(t) = e^{-t}$"
   ]
  },
  {
   "cell_type": "code",
   "execution_count": 38,
   "id": "Cm8dKS6XK2bn",
   "metadata": {
    "id": "Cm8dKS6XK2bn"
   },
   "outputs": [
    {
     "data": {
      "text/plain": [
       "(array([6.148e+03, 2.379e+03, 9.340e+02, 3.110e+02, 1.410e+02, 5.000e+01,\n",
       "        2.400e+01, 7.000e+00, 4.000e+00, 2.000e+00]),\n",
       " array([2.87429843e-06, 9.51100446e-01, 1.90219802e+00, 2.85329559e+00,\n",
       "        3.80439316e+00, 4.75549073e+00, 5.70658830e+00, 6.65768588e+00,\n",
       "        7.60878345e+00, 8.55988102e+00, 9.51097859e+00]),\n",
       " <BarContainer object of 10 artists>)"
      ]
     },
     "execution_count": 38,
     "metadata": {},
     "output_type": "execute_result"
    },
    {
     "data": {
      "image/png": "[encoded data removed]",
      "text/plain": [
       "<Figure size 640x480 with 1 Axes>"
      ]
     },
     "metadata": {},
     "output_type": "display_data"
    }
   ],
   "source": [
    "## su codigo aqui\n",
    "puntos_exp = exp_distribution(10000)\n",
    "\n",
    "plt.hist(x = puntos_exp, color='#F2AB6D', rwidth=0.85)"
   ]
  },
  {
   "cell_type": "markdown",
   "id": "_N3k4oBz0Fno",
   "metadata": {
    "id": "_N3k4oBz0Fno"
   },
   "source": [
    "g) Cómo haría usted para muestrear un función normal?\n",
    "\n",
    "Para poder muestrear una función normal, usaría como función de densidad $\\rho(t) = e^{-x^2}$ y seguiría los mismos pasos, siendo las $x = - \\ln{\\sqrt{1-\\frac{4I^2}{\\pi}}}$ e $I$ el valor de la integral, la distribución."
   ]
  },
  {
   "cell_type": "code",
   "execution_count": 41,
   "id": "b2a24836",
   "metadata": {},
   "outputs": [
    {
     "name": "stderr",
     "output_type": "stream",
     "text": [
      "C:\\Users\\juank\\AppData\\Local\\Temp\\ipykernel_8320\\1866214020.py:6: RuntimeWarning: invalid value encountered in sqrt\n",
      "  exp2_samples[i] = -np.log(np.sqrt(1-(4*U[i]**2)/np.pi))\n"
     ]
    },
    {
     "data": {
      "text/plain": [
       "(array([6.198e+03, 1.461e+03, 6.230e+02, 2.940e+02, 1.420e+02, 8.500e+01,\n",
       "        4.700e+01, 2.700e+01, 1.100e+01, 4.000e+00]),\n",
       " array([5.25945953e-12, 3.34765474e-01, 6.69530949e-01, 1.00429642e+00,\n",
       "        1.33906190e+00, 1.67382737e+00, 2.00859285e+00, 2.34335832e+00,\n",
       "        2.67812380e+00, 3.01288927e+00, 3.34765474e+00]),\n",
       " <BarContainer object of 10 artists>)"
      ]
     },
     "execution_count": 41,
     "metadata": {},
     "output_type": "execute_result"
    },
    {
     "data": {
      "image/png": "[encoded data removed]",
      "text/plain": [
       "<Figure size 640x480 with 1 Axes>"
      ]
     },
     "metadata": {},
     "output_type": "display_data"
    }
   ],
   "source": [
    "def exp2_distribution(num_samples):\n",
    "    exp2_samples = np.zeros(num_samples)\n",
    "    U = uniform_distribution(num_samples)\n",
    "    # su codigo aqui\n",
    "    for i in range(U.size):\n",
    "        exp2_samples[i] = -np.log(np.sqrt(1-(4*U[i]**2)/np.pi))\n",
    "    return exp2_samples\n",
    "\n",
    "puntos_exp2 = exp2_distribution(10000)\n",
    "\n",
    "plt.hist(x = puntos_exp2, color='#F2AB6D', rwidth=0.85)"
   ]
  },
  {
   "cell_type": "code",
   "execution_count": null,
   "id": "6313c2e1",
   "metadata": {},
   "outputs": [],
   "source": []
  }
 ],
 "metadata": {
  "colab": {
   "provenance": []
  },
  "kernelspec": {
   "display_name": "Python 3 (ipykernel)",
   "language": "python",
   "name": "python3"
  },
  "language_info": {
   "codemirror_mode": {
    "name": "ipython",
    "version": 3
   },
   "file_extension": ".py",
   "mimetype": "text/x-python",
   "name": "python",
   "nbconvert_exporter": "python",
   "pygments_lexer": "ipython3",
   "version": "3.9.13"
  }
 },
 "nbformat": 4,
 "nbformat_minor": 5
}
