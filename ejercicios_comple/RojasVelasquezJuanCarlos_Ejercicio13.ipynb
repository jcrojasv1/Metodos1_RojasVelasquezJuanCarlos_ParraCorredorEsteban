{
 "cells": [
  {
   "cell_type": "markdown",
   "id": "Ca47pvrzRXMy",
   "metadata": {
    "id": "Ca47pvrzRXMy"
   },
   "source": [
    "## Librerias"
   ]
  },
  {
   "cell_type": "code",
   "execution_count": 9,
   "id": "6f64d18c-e6fe-4328-a15d-9344842eabd1",
   "metadata": {
    "id": "6f64d18c-e6fe-4328-a15d-9344842eabd1"
   },
   "outputs": [],
   "source": [
    "import numpy as np"
   ]
  },
  {
   "cell_type": "markdown",
   "id": "xLdV95A5DY-l",
   "metadata": {
    "id": "xLdV95A5DY-l"
   },
   "source": [
    "## Problema 1\n",
    "\n",
    "Considere $D = \\{d_1, \\cdots d_n\\}$ un conjunto de documentos y $T = \\{t_1, \\cdots t_m\\}$ un conjunto de términos (palabras). Considere además, $TD = (TD_{i,j})_{i=1\\cdots m, j = 1 \\cdots n}$ como una matriz tal que $TD_{i, j}$ indica el número de veces que el término $t_i$ (palabra) aparece en el documento $d_j$ (Los documentos están el las columnas, las palabras en las filas). También, considere $l_i$ como la longitud (número de letras) del término $t_i$, y sea $L = (l_1, \\cdots, l_m)$ un vector columna. Adicionalmente, asuma un proceso en el cual el documento $d_j$ is escogido aleatoriamente con probabilidad uniforme y el termino $t_i$, presente en el documento $d_j$,  es escogido con una probabilidad proporcional a la frecuencia de $t_i$ en el documento $d_j$.\n",
    "\n",
    "Para las siguientes expresiones usted debe mostrar lo siguiente:\n",
    "\n",
    "*   La expresión matemática de lo que se le pide en términos de $TD$, $L$, constantes (es decir en terminos de matrices, vectores, escalares) y operaciones algebraícas o del algebra lineal.\n",
    "*   Una expresión en `numpy`, tal que al ser evaluada se obtenga, la matriz, el vector o el escalar requerido (La expresión debe estar descrita en términos del algebra lineal, es decir no se pueden usar estructuras de control, `for`, `while`, etc)\n",
    "*   El resultado de las expresiones usando los siguientes datos:\n",
    "\n",
    "\n",
    "$$\n",
    "TD =  \\begin{bmatrix}\n",
    "2 & 3 & 0 & 3 & 7 \\\\  0 & 5 & 5 & 0 & 3 \\\\ 5 & 0 & 7 & 3 & 3 \\\\ 3 & 1 & 0 & 9 & 9 \\\\ 0 & 0 & 7 & 1 & 3 \\\\ 6 & 9 & 4 & 6 & 0 \n",
    "\\end{bmatrix}, \\quad L = \\begin{bmatrix}\n",
    "5 \\\\  2 \\\\ 3 \\\\ 6 \\\\ 4 \\\\ 3 \\\\ \n",
    "\\end{bmatrix}\n",
    "$$\n",
    "\n",
    "\n",
    "\n"
   ]
  },
  {
   "cell_type": "code",
   "execution_count": 10,
   "id": "4CUcPGP0xi1z",
   "metadata": {
    "colab": {
     "base_uri": "https://localhost:8080/"
    },
    "id": "4CUcPGP0xi1z",
    "outputId": "e8133849-c60f-4602-f758-34a94a8dd04f"
   },
   "outputs": [
    {
     "data": {
      "text/plain": [
       "(array([[2, 3, 0, 3, 7],\n",
       "        [0, 5, 5, 0, 3],\n",
       "        [5, 0, 7, 3, 3],\n",
       "        [3, 1, 0, 9, 9],\n",
       "        [0, 0, 7, 1, 3],\n",
       "        [6, 9, 4, 6, 0]]),\n",
       " array([[5],\n",
       "        [2],\n",
       "        [3],\n",
       "        [6],\n",
       "        [4],\n",
       "        [3]]))"
      ]
     },
     "execution_count": 10,
     "metadata": {},
     "output_type": "execute_result"
    }
   ],
   "source": [
    "# Arrays for the computations\n",
    "\n",
    "TD = np.array([[2, 3, 0, 3, 7],[0, 5, 5, 0, 3],[5, 0, 7, 3, 3],[3, 1, 0, 9, 9],[0, 0, 7, 1, 3],[6, 9, 4, 6, 0]])\n",
    "L = np.array([[5, 2, 3, 6, 4, 3]]).T\n",
    "m , n = TD.shape\n",
    "\n",
    "TD, L"
   ]
  },
  {
   "cell_type": "markdown",
   "id": "DmZ1Xk-xx1OR",
   "metadata": {
    "id": "DmZ1Xk-xx1OR"
   },
   "source": [
    "(a) Matriz $P(T, D)$ (cada posición de la matriz, $P(T, D)_{i,j}$ indica la probabilidad conjunta del término $t_i$ y el documento $d_j$, $P(t_j, d_j)$)\n",
    "\n",
    "Escriba su expresión matemática a continuación, \n",
    "\n",
    "$$\n",
    "P(T, D)_{i,j} = \\frac{TD_{i,j}}{\\sum_{i=1}^{m} \\sum_{j=1}^{n} TD_{i,j}}\n",
    "$$"
   ]
  },
  {
   "cell_type": "code",
   "execution_count": 13,
   "id": "Soak5hOoykxG",
   "metadata": {
    "colab": {
     "base_uri": "https://localhost:8080/"
    },
    "id": "Soak5hOoykxG",
    "outputId": "a93937b7-5088-4869-af89-bb561d58f24b"
   },
   "outputs": [
    {
     "name": "stdout",
     "output_type": "stream",
     "text": [
      "1.0\n",
      "[[0.025      0.03333333 0.         0.02727273 0.056     ]\n",
      " [0.         0.05555556 0.04347826 0.         0.024     ]\n",
      " [0.0625     0.         0.06086957 0.02727273 0.024     ]\n",
      " [0.0375     0.01111111 0.         0.08181818 0.072     ]\n",
      " [0.         0.         0.06086957 0.00909091 0.024     ]\n",
      " [0.075      0.1        0.03478261 0.05454545 0.        ]]\n"
     ]
    }
   ],
   "source": [
    "### Escriba e imprima la matriz con los valores de ejemplo a continuación\n",
    "M1 = np.zeros((6, 5))\n",
    "# su codigo aqui\n",
    "Count_all_words_by_doc = TD.sum(axis=0)\n",
    "Prob_choosing_doc = 1/5\n",
    "\n",
    "M1 = TD/Count_all_words_by_doc*Prob_choosing_doc\n",
    "\n",
    "# codigo para verificar su respuesta no modificar\n",
    "print(M1.sum())\n",
    "print(M1)"
   ]
  },
  {
   "cell_type": "markdown",
   "id": "FmVDpv4SzDla",
   "metadata": {
    "id": "FmVDpv4SzDla"
   },
   "source": [
    "(b) Matriz $P(T|D)$\n",
    "\n",
    "Escriba su expresión matemática a continuación, \n",
    "\n",
    "$$\n",
    "P(T|D)_{i, j} = \\frac{TD_{i, j}}{\\sum_{k=1}^{m} TD_{k, j}}\n",
    "$$"
   ]
  },
  {
   "cell_type": "code",
   "execution_count": 14,
   "id": "JXlgbXHRzYvo",
   "metadata": {
    "colab": {
     "base_uri": "https://localhost:8080/"
    },
    "id": "JXlgbXHRzYvo",
    "outputId": "19e7cdf5-ca48-49e0-9210-b3ac2d784a27"
   },
   "outputs": [
    {
     "name": "stdout",
     "output_type": "stream",
     "text": [
      "[[0.125      0.16666667 0.         0.13636364 0.28      ]\n",
      " [0.         0.27777778 0.2173913  0.         0.12      ]\n",
      " [0.3125     0.         0.30434783 0.13636364 0.12      ]\n",
      " [0.1875     0.05555556 0.         0.40909091 0.36      ]\n",
      " [0.         0.         0.30434783 0.04545455 0.12      ]\n",
      " [0.375      0.5        0.17391304 0.27272727 0.        ]]\n",
      "[1. 1. 1. 1. 1.]\n"
     ]
    }
   ],
   "source": [
    "### Escriba e imprima la matriz con los valores de ejemplo a continuación\n",
    "M2 = np.zeros((6, 5))\n",
    "# su codigo aqui\n",
    "M2 = M1/Prob_choosing_doc\n",
    "\n",
    "# codigo para verificar su respuesta no modificar\n",
    "print(M2)\n",
    "print(M2.sum(axis = 0))"
   ]
  },
  {
   "cell_type": "markdown",
   "id": "OBYAuE1TzauB",
   "metadata": {
    "id": "OBYAuE1TzauB"
   },
   "source": [
    "(c) Vector P(D)\n",
    "\n",
    "Escriba su expresión matemática a continuación, \n",
    "\n",
    "$$\n",
    "P(D)_j = \\frac{1}{n}\n",
    "$$"
   ]
  },
  {
   "cell_type": "code",
   "execution_count": 15,
   "id": "0ZuKBnSfzuHX",
   "metadata": {
    "colab": {
     "base_uri": "https://localhost:8080/"
    },
    "id": "0ZuKBnSfzuHX",
    "outputId": "b1f02f89-c3fb-4832-f200-693b6aa0eebe"
   },
   "outputs": [
    {
     "name": "stdout",
     "output_type": "stream",
     "text": [
      "[0.2 0.2 0.2 0.2 0.2]\n"
     ]
    }
   ],
   "source": [
    "### Escriba e imprima el vector con los valores de ejemplo a continuación\n",
    "P_D = np.zeros(5)\n",
    "# su codigo aqui\n",
    "\n",
    "P_D = M1.sum(axis=0)\n",
    "# codigo para verificar su respuesta no modificar\n",
    "print(P_D)"
   ]
  },
  {
   "cell_type": "markdown",
   "id": "Haqd76Hlz2V6",
   "metadata": {
    "id": "Haqd76Hlz2V6"
   },
   "source": [
    "## Problema 2\n",
    "Continuación problema anterior\n",
    "\n",
    "(d) Vector P(T)\n",
    "\n",
    "Escriba su expresión matemática a continuación, \n",
    "\n",
    "$$\n",
    "P(T)_i = \\frac{\\sum_{j=1}^{n} TD_{i,j}}{\\sum_{k=1}^{m} \\sum_{j=1}^{n} TD_{k,j}}\n",
    "$$"
   ]
  },
  {
   "cell_type": "code",
   "execution_count": 16,
   "id": "q8sqdTtxz2V7",
   "metadata": {
    "colab": {
     "base_uri": "https://localhost:8080/"
    },
    "id": "q8sqdTtxz2V7",
    "outputId": "85fe60c3-4088-4152-a8c4-b8874301c5f4"
   },
   "outputs": [
    {
     "name": "stdout",
     "output_type": "stream",
     "text": [
      "1.0\n",
      "[0.14160606 0.12303382 0.17464229 0.20242929 0.09396047 0.26432806]\n"
     ]
    }
   ],
   "source": [
    "### Escriba e imprima el vector con los valores de ejemplo a continuación\n",
    "P_T = np.zeros(5)\n",
    "# su codigo aqui\n",
    "P_T = M1.sum(axis=1)\n",
    "\n",
    "# codigo para verificar su respuesta no modificar\n",
    "print(P_T.sum())\n",
    "print(P_T)"
   ]
  },
  {
   "cell_type": "markdown",
   "id": "hiCvvxLW0LmV",
   "metadata": {
    "id": "hiCvvxLW0LmV"
   },
   "source": [
    "(e) Matriz $P(D|T)$\n",
    "\n",
    "Escriba su expresión matemática a continuación, \n",
    "\n",
    "$$\n",
    "P(D|T)_{i, j} = \\frac{TD_{i, j}}{\\sum_{k=1}^{n} TD_{i, k}}\n",
    "$$"
   ]
  },
  {
   "cell_type": "code",
   "execution_count": 17,
   "id": "py-QC25p0LmX",
   "metadata": {
    "colab": {
     "base_uri": "https://localhost:8080/"
    },
    "id": "py-QC25p0LmX",
    "outputId": "3d27daee-b959-4aed-9bb5-cd2bd7078667"
   },
   "outputs": [
    {
     "name": "stdout",
     "output_type": "stream",
     "text": [
      "[[0.2]\n",
      " [0.2]\n",
      " [0.2]\n",
      " [0.2]\n",
      " [0.2]\n",
      " [0.2]]\n",
      "[[0.03530922 0.04707896 0.         0.03851915 0.07909266]\n",
      " [0.         0.09030941 0.07067693 0.         0.03901366]\n",
      " [0.07157487 0.         0.0697077  0.03123267 0.02748475]\n",
      " [0.03704997 0.01097777 0.         0.08083631 0.07113595]\n",
      " [0.         0.         0.12956419 0.0193505  0.05108531]\n",
      " [0.05674766 0.07566355 0.02631776 0.04127103 0.        ]]\n"
     ]
    }
   ],
   "source": [
    "### Escriba e imprima la matriz con los valores de ejemplo a continuación\n",
    "M3 = np.zeros((6, 5))\n",
    "# su codigo aqui\n",
    "\n",
    "M3 = (M1*P_D).T/P_T\n",
    "M3= M3.T\n",
    "\n",
    "# codigo para verificar su respuesta no modificar\n",
    "print(M3.sum(axis=1).reshape((m,1)))\n",
    "print(M3)"
   ]
  },
  {
   "cell_type": "markdown",
   "id": "r2zS_j-r0g0z",
   "metadata": {
    "id": "r2zS_j-r0g0z"
   },
   "source": [
    "(f) Escalar $E[l]$ (el valor esperado de la variable aleatoria $l$ que corresponde a la longitud de un término escogido aleatoriamente) (sin importar el documento)\n",
    "\n",
    "Escriba su expresión matemática a continuación, \n",
    "\n",
    "$$\n",
    "E[l] = \\frac{1}{m} \\sum_{i=1}^{m} l_i\n",
    "$$"
   ]
  },
  {
   "cell_type": "code",
   "execution_count": 18,
   "id": "QAoaKJDE1RXD",
   "metadata": {
    "colab": {
     "base_uri": "https://localhost:8080/"
    },
    "id": "QAoaKJDE1RXD",
    "outputId": "1af4f303-96a2-4808-9df0-d58e11223c43"
   },
   "outputs": [
    {
     "name": "stdout",
     "output_type": "stream",
     "text": [
      "3.8333333333333335\n"
     ]
    }
   ],
   "source": [
    "### Escriba e imprima el escalar con los valores de ejemplo a continuación\n",
    "E_l = np.zeros(1)\n",
    "# su codigo aqui\n",
    "\n",
    "m = L.shape[0]\n",
    "E_l = np.sum(L) / m\n",
    "\n",
    "E_l\n",
    "\n",
    "# codigo para verificar su respuesta no modificar\n",
    "print(E_l)"
   ]
  }
 ],
 "metadata": {
  "colab": {
   "provenance": []
  },
  "kernelspec": {
   "display_name": "Python 3 (ipykernel)",
   "language": "python",
   "name": "python3"
  },
  "language_info": {
   "codemirror_mode": {
    "name": "ipython",
    "version": 3
   },
   "file_extension": ".py",
   "mimetype": "text/x-python",
   "name": "python",
   "nbconvert_exporter": "python",
   "pygments_lexer": "ipython3",
   "version": "3.9.13"
  }
 },
 "nbformat": 4,
 "nbformat_minor": 5
}
