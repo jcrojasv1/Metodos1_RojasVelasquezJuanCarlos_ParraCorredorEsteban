{
 "cells": [
  {
   "cell_type": "markdown",
   "id": "Ca47pvrzRXMy",
   "metadata": {
    "id": "Ca47pvrzRXMy"
   },
   "source": [
    "## Librerias"
   ]
  },
  {
   "cell_type": "code",
   "execution_count": 2,
   "id": "6f64d18c-e6fe-4328-a15d-9344842eabd1",
   "metadata": {
    "id": "6f64d18c-e6fe-4328-a15d-9344842eabd1"
   },
   "outputs": [],
   "source": [
    "import numpy as np\n",
    "import matplotlib.pyplot as plt\n",
    "from scipy.stats import norm, multivariate_normal"
   ]
  },
  {
   "cell_type": "markdown",
   "id": "RQcF9p3vavGU",
   "metadata": {
    "id": "RQcF9p3vavGU"
   },
   "source": [
    "## Problema 1\n",
    "\n",
    "Considere las dos caracteristicas \"Alcohol level\" y \"Alcalinity level\" del conjunto de datos [wine_data](https://scikit-learn.org/stable/modules/generated/sklearn.datasets.load_wine.html). "
   ]
  },
  {
   "cell_type": "code",
   "execution_count": 3,
   "id": "gUUF908BqK79",
   "metadata": {
    "colab": {
     "base_uri": "https://localhost:8080/",
     "height": 37
    },
    "executionInfo": {
     "elapsed": 311,
     "status": "ok",
     "timestamp": 1668526184176,
     "user": {
      "displayName": "Diego Useche Reyes",
      "userId": "02270832771774592167"
     },
     "user_tz": 300
    },
    "id": "gUUF908BqK79",
    "outputId": "3b73f47a-cf4e-40cf-8de0-4aff1bab0d0c"
   },
   "outputs": [
    {
     "data": {
      "text/plain": [
       "((178,), (178,))"
      ]
     },
     "execution_count": 3,
     "metadata": {},
     "output_type": "execute_result"
    }
   ],
   "source": [
    "# load data\n",
    "from sklearn.datasets import load_wine\n",
    "import scipy.stats\n",
    "\n",
    "alcohol_levels = load_wine()['data'][:, [0]].ravel()\n",
    "alcalinity_levels = load_wine()['data'][:, [3]].ravel()\n",
    "\n",
    "alcohol_levels.shape, alcalinity_levels.shape"
   ]
  },
  {
   "cell_type": "markdown",
   "id": "xEmsuQkxqr2u",
   "metadata": {
    "id": "xEmsuQkxqr2u"
   },
   "source": [
    "a) A partir de esas dos caracteristicas del vino, calcule el vector $\\vec{\\mu}$ y la matrix de covarianza $\\Sigma$, \n",
    "\n",
    "$$\n",
    "\\vec{\\mu} = \\begin{bmatrix}\n",
    "\\mu_x\\\\\n",
    "\\mu_y\n",
    "\\end{bmatrix}, \\quad \\Sigma = \\begin{bmatrix}\n",
    "\\text{Var}(x) & \\text{Cov}(x, y)\\\\\n",
    "\\text{Cov}(y, x) & \\text{Var}(y)\n",
    "\\end{bmatrix}\n",
    "$$"
   ]
  },
  {
   "cell_type": "code",
   "execution_count": 4,
   "id": "Sfi9pJ_sqlvR",
   "metadata": {
    "colab": {
     "base_uri": "https://localhost:8080/"
    },
    "executionInfo": {
     "elapsed": 305,
     "status": "ok",
     "timestamp": 1668531308282,
     "user": {
      "displayName": "Diego Useche Reyes",
      "userId": "02270832771774592167"
     },
     "user_tz": 300
    },
    "id": "Sfi9pJ_sqlvR",
    "outputId": "c789f497-b930-4ebc-9456-271849812944"
   },
   "outputs": [
    {
     "name": "stdout",
     "output_type": "stream",
     "text": [
      "[13.00061798 19.49494382] \n",
      "\n",
      "[[ 0.65535973 -0.83636766]\n",
      " [-0.83636766 11.09003061]]\n"
     ]
    },
    {
     "data": {
      "text/plain": [
       "(178,)"
      ]
     },
     "execution_count": 4,
     "metadata": {},
     "output_type": "execute_result"
    }
   ],
   "source": [
    "covar = np.zeros((2, 2))\n",
    "mu = np.zeros(2)\n",
    "## Tu codigo aqui\n",
    "N = alcohol_levels.shape\n",
    "mu[0] = alcohol_levels.sum()/N\n",
    "mu[1] = alcalinity_levels.sum()/N\n",
    "\n",
    "var_x = ((alcohol_levels - mu[0])**2).sum()/N\n",
    "var_y = ((alcalinity_levels - mu[1])**2).sum()/N\n",
    "\n",
    "covar_xy = ((alcohol_levels - mu[0])*(alcalinity_levels - mu[1])).sum()/N\n",
    "\n",
    "covar[0,0] = var_x\n",
    "covar[0,1] = covar_xy\n",
    "covar[1,0] = covar_xy\n",
    "covar[1,1] = var_y\n",
    "\n",
    "\n",
    "print(mu,\"\\n\")\n",
    "print(covar)\n",
    "N"
   ]
  },
  {
   "cell_type": "markdown",
   "id": "_ebwZzVdDfYH",
   "metadata": {
    "id": "_ebwZzVdDfYH"
   },
   "source": [
    "b) Gráfique los puntos del problema, con alcohol levels en x, y alcalinity levels en y"
   ]
  },
  {
   "cell_type": "code",
   "execution_count": 5,
   "id": "QKZoQjPUDPcw",
   "metadata": {
    "id": "QKZoQjPUDPcw"
   },
   "outputs": [
    {
     "data": {
      "text/plain": [
       "<matplotlib.collections.PathCollection at 0x26f88af4850>"
      ]
     },
     "execution_count": 5,
     "metadata": {},
     "output_type": "execute_result"
    },
    {
     "data": {
      "image/png": "[encoded data removed]",
      "text/plain": [
       "<Figure size 640x480 with 1 Axes>"
      ]
     },
     "metadata": {},
     "output_type": "display_data"
    }
   ],
   "source": [
    "# tu codigo aqui\n",
    "plt.scatter(alcohol_levels,alcalinity_levels)\n"
   ]
  },
  {
   "cell_type": "markdown",
   "id": "Kv-aqH5DBbu2",
   "metadata": {
    "id": "Kv-aqH5DBbu2"
   },
   "source": [
    "c) A partir del la matriz de covarianza se puede obtener una función de de densidad de probabilidad de los datos como una Gaussiana bivariada, cuya fórmula está dada por, \n",
    "\n",
    "$$\n",
    "  f(\\mathbf{x}) = \\frac{1}{\\sqrt{(2\\pi)^k\\text{det}(\\Sigma)}}\\exp\\Big(-\\frac{1}{2}(\\mathbf{x}- \\mathbf{\\mu})^T\\Sigma^{-1}(\\mathbf{x}-\\mathbf{\\mu})\\Big)\n",
    "$$\n",
    "\n",
    "Donde $\\mathbf{\\mu}$, es el promedio, $\\Sigma$ la matriz de covarianza, y $k$, el orden de la gausiana multivariada.\n",
    "\n",
    "Use la siguiente implementación para gráficar la función de densidad de probabilidad bivariada. [Bivariate](https://docs.scipy.org/doc/scipy/reference/generated/scipy.stats.multivariate_normal.html)\n",
    "\n",
    "Tenga en cuenta los límites\n",
    "\n"
   ]
  },
  {
   "cell_type": "code",
   "execution_count": 24,
   "id": "gTRb3QNbC9Zr",
   "metadata": {
    "id": "gTRb3QNbC9Zr"
   },
   "outputs": [
    {
     "data": {
      "text/plain": [
       "<matplotlib.contour.QuadContourSet at 0x26f89d76700>"
      ]
     },
     "execution_count": 24,
     "metadata": {},
     "output_type": "execute_result"
    },
    {
     "data": {
      "image/png": "[encoded data removed]",
      "text/plain": [
       "<Figure size 640x480 with 1 Axes>"
      ]
     },
     "metadata": {},
     "output_type": "display_data"
    }
   ],
   "source": [
    "# tu codigo aqui\n",
    "x, y = np.mgrid[min(alcohol_levels):max(alcohol_levels):.01, min(alcalinity_levels):max(alcalinity_levels):.01]\n",
    "pos = np.dstack((x, y))\n",
    "rv = multivariate_normal(mean = mu, cov = covar)\n",
    "fig2 = plt.figure()\n",
    "ax2 = fig2.add_subplot(111)\n",
    "ax2.contourf(x, y, rv.pdf(pos))\n"
   ]
  },
  {
   "cell_type": "markdown",
   "id": "55B8tEoTFcvA",
   "metadata": {
    "id": "55B8tEoTFcvA"
   },
   "source": [
    "d) A partir de la función de densidad, La correlación de los datos es positiva, negativa o nula? Por qué?\n",
    "\n",
    "La covarianza entre los datos parece ser negativa, eso debido a la inclinación de los datos, lo cual muestra que a medida de alcohol aumenta, su alcalinidad decrece."
   ]
  },
  {
   "cell_type": "markdown",
   "id": "rsePt_u1F6Hy",
   "metadata": {
    "id": "rsePt_u1F6Hy"
   },
   "source": [
    "## Problema 2 (continuación)\n",
    "\n",
    "e) Diagonalice la matriz de covarianza, es decir imprima los valores propios y vectores propios de la matriz de covarianza"
   ]
  },
  {
   "cell_type": "code",
   "execution_count": 31,
   "id": "lLi_DepQF85k",
   "metadata": {
    "id": "lLi_DepQF85k"
   },
   "outputs": [
    {
     "name": "stdout",
     "output_type": "stream",
     "text": [
      "[ 0.58874779 11.15664256]\n",
      "[[-0.9968434   0.07939293]\n",
      " [-0.07939293 -0.9968434 ]]\n"
     ]
    }
   ],
   "source": [
    "eigen_values,eigen_vectors = np.linalg.eig(covar)\n",
    "print(eigen_values)\n",
    "print(eigen_vectors)"
   ]
  },
  {
   "cell_type": "markdown",
   "id": "hJwBlwa8GKc9",
   "metadata": {
    "id": "hJwBlwa8GKc9"
   },
   "source": [
    "f) A partir de los vectores propios y valores propios de la matriz, y el vector $\\vec{\\mu}$.\n",
    "\n",
    "*   Desplace los datos de forma que el promedio de los datos en juntas coordenadas sea cero.\n",
    "*   Rote los datos de forma que la covarianza de los datos sea cero, para ello use la matriz de vectores propios.\n",
    "\n",
    "Una rotación de puntos en dos dimensiones se puede ver como una matriz unitaria de la forma,\n",
    "\n",
    "$$\n",
    "\\text{Rot}(\\theta) = \\begin{bmatrix}\n",
    "\\cos{\\theta} & -\\sin{\\theta}\\\\\n",
    "\\sin{\\theta} & \\cos{\\theta}\n",
    "\\end{bmatrix}\n",
    "$$"
   ]
  },
  {
   "cell_type": "code",
   "execution_count": 91,
   "id": "trj-inLgGI7t",
   "metadata": {
    "id": "trj-inLgGI7t"
   },
   "outputs": [],
   "source": [
    "# tu codigo aqui\n",
    "\n",
    "new_covar = np.zeros((2,2))\n",
    "new_alcohol_levels = alcohol_levels - mu[0]\n",
    "new_alcalinity_levels = alcalinity_levels - mu[1]\n",
    "\n",
    "new_var_x = ((new_alcohol_levels)**2).sum()/N\n",
    "new_var_y = ((new_alcalinity_levels)**2).sum()/N\n",
    "\n",
    "new_covar_xy = ((new_alcohol_levels)*(new_alcalinity_levels)).sum()/N\n",
    "\n",
    "new_covar[0,0] = new_var_x\n",
    "new_covar[0,1] = new_covar_xy\n",
    "new_covar[1,0] = new_covar_xy\n",
    "new_covar[1,1] = new_var_y\n",
    "\n",
    "vectores = np.zeros((178,2))\n",
    "for i in range(N[0]):\n",
    "    vectores[i] = np.array([new_alcohol_levels[i],new_alcalinity_levels[i]])\n",
    "    \n",
    "for i in range(N[0]):\n",
    "    vectores[i] = eigen_vectors@vectores[i]\n",
    "\n",
    "    \n",
    "x_ = vectores[:,0]\n",
    "y_ = vectores[:,1]"
   ]
  },
  {
   "cell_type": "markdown",
   "id": "UxrBPRo5G8oo",
   "metadata": {
    "id": "UxrBPRo5G8oo"
   },
   "source": [
    "g) Gráfique la función de densidad de probabilidad de datos rotados  a partir de la diagonzalización de la matrix de covarianza original (parte f). "
   ]
  },
  {
   "cell_type": "code",
   "execution_count": 94,
   "id": "39S_4IiBHND5",
   "metadata": {
    "id": "39S_4IiBHND5"
   },
   "outputs": [
    {
     "data": {
      "text/plain": [
       "<matplotlib.contour.QuadContourSet at 0x1ee0a6dce20>"
      ]
     },
     "execution_count": 94,
     "metadata": {},
     "output_type": "execute_result"
    },
    {
     "data": {
      "image/png": "[encoded data removed]",
      "text/plain": [
       "<Figure size 640x480 with 1 Axes>"
      ]
     },
     "metadata": {},
     "output_type": "display_data"
    }
   ],
   "source": [
    "# tu codigo aqui\n",
    "x, y = np.mgrid[min(x_):max(x_):.01, min(y_):max(y_):.01]\n",
    "pos = np.dstack((x, y))\n",
    "rv = multivariate_normal(mean = np.array([0.,0.]), cov = new_covar)\n",
    "fig2 = plt.figure()\n",
    "ax2 = fig2.add_subplot(111)\n",
    "ax2.contourf(x, y, rv.pdf(pos))"
   ]
  },
  {
   "cell_type": "markdown",
   "id": "2CNO1zYpHw_h",
   "metadata": {
    "id": "2CNO1zYpHw_h"
   },
   "source": [
    "h) Las coordenadas de los nuevos datos se llaman Componentes principales, lo que hicimos fue basicamente el método PCA. Argumente cómo se puede usar PCA para reducir la dimensionalidad de los datos.\n",
    "\n",
    "En conjuntos de datos con muchas características, puede haber redundancia o correlación entre algunas de ellas. PCA permite identificar y eliminar características redundantes al encontrar combinaciones lineales de características que capturan la mayor parte de la varianza en los datos. Al eliminar características redundantes, se simplifica la representación de los datos sin perder información significativa. Además, al reducir la dimensionalidad de los datos, PCA puede ayudar a eliminar el ruido y las variaciones irrelevantes o de baja importancia. Al eliminar estas variaciones insignificantes, se puede obtener una representación más compacta y eficiente de los datos, lo que puede llevar a un mejor rendimiento en tareas de modelado o análisis."
   ]
  }
 ],
 "metadata": {
  "colab": {
   "provenance": []
  },
  "kernelspec": {
   "display_name": "Python 3 (ipykernel)",
   "language": "python",
   "name": "python3"
  },
  "language_info": {
   "codemirror_mode": {
    "name": "ipython",
    "version": 3
   },
   "file_extension": ".py",
   "mimetype": "text/x-python",
   "name": "python",
   "nbconvert_exporter": "python",
   "pygments_lexer": "ipython3",
   "version": "3.9.13"
  }
 },
 "nbformat": 4,
 "nbformat_minor": 5
}
