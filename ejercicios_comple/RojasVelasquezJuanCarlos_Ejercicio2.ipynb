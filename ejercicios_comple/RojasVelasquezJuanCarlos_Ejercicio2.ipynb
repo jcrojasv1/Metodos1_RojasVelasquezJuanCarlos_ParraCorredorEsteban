{
 "cells": [
  {
   "cell_type": "markdown",
   "metadata": {
    "id": "ySCvWQe5vxeT"
   },
   "source": [
    "## Librerias"
   ]
  },
  {
   "cell_type": "code",
   "execution_count": 1,
   "metadata": {
    "id": "VBo2Hv2tv0UR"
   },
   "outputs": [],
   "source": [
    "import numpy as np"
   ]
  },
  {
   "cell_type": "markdown",
   "metadata": {
    "id": "dEcQng6BpVFN"
   },
   "source": [
    "## Problema\n",
    "\n",
    "Un gancho puede realizar oscilaciones con amplitudes pequeñas en el plano del gancho alrededor de sus posiciones de equilibrio como se muestra en la figura. En las posiciones a) y b) el lado largo (base) se encuentra orientado de forma horizontal. Los otros dos lados tienen la misma longitud. Considerando que el periodo de oscilación es el mismo en los tres casos. \n",
    "\n",
    "¿Cuál es la ubicación del centro de masa del gancho?\n",
    "\n",
    "![](https://raw.githubusercontent.com/diegour1/CompMetodosComputacionales/main/DataFiles/image1.PNG)\n",
    "\n",
    "\n",
    "La figura no contiene ninguna información más alla de las dimensiones mostradas. En particular, no se sabe cómo se distribuye la masa. La base en la figura es de 0.42 m, y la altura de 0.1 m.\n",
    "\n",
    "Siga los pasos siguientes para resolver el problema."
   ]
  },
  {
   "cell_type": "markdown",
   "metadata": {
    "id": "flS06YTk5M2Q"
   },
   "source": [
    "a) Construya la clase gancho con los siguientes atributos `mass`, `inertia`, `base`, `altura`, para ello cree el constructor de la clase Gancho, el cual debe recibir esos atributos como parametros y debe inicializar los atributos en el constructor. `inertia` se refiere a la inercia con respecto al centro de masa. Puede usar el siguiente [notebook](https://github.com/diegour1/CompMetodosComputacionales/blob/main/Notebooks/07%20-%20ObjectOrientedProgramming.ipynb) como referencia. "
   ]
  },
  {
   "cell_type": "code",
   "execution_count": 2,
   "metadata": {
    "id": "kj3P_SCFdZH2"
   },
   "outputs": [],
   "source": [
    "class Gancho:\n",
    "  # tu codigo aqui\n",
    "  def __init__(self, mass, inertia, base, altura):\n",
    "    self.mass = mass\n",
    "    self.inertia = inertia\n",
    "    self.base = base\n",
    "    self.altura = altura\n",
    "\n"
   ]
  },
  {
   "cell_type": "code",
   "execution_count": 3,
   "metadata": {
    "colab": {
     "base_uri": "https://localhost:8080/"
    },
    "id": "Iv-iiriR6cKB",
    "outputId": "3ba32ab6-3721-4bee-a898-a81a79669c59"
   },
   "outputs": [
    {
     "name": "stdout",
     "output_type": "stream",
     "text": [
      "Gancho a 1 0.01 0.42 0.14\n",
      "Gancho b 3 0.015 0.3 0.1\n"
     ]
    }
   ],
   "source": [
    "# Codigo para verificar la respuesta (no modificar)\n",
    "\n",
    "gancho_a = Gancho(1, 0.01, 0.42, 0.14)\n",
    "print(\"Gancho a\", gancho_a.mass, gancho_a.inertia, gancho_a.base, gancho_a.altura)\n",
    "gancho_b = Gancho(3, 0.015, 0.3, 0.1)\n",
    "print(\"Gancho b\", gancho_b.mass, gancho_b.inertia, gancho_b.base, gancho_b.altura)"
   ]
  },
  {
   "cell_type": "markdown",
   "metadata": {
    "id": "ztOlc_H8eFLk"
   },
   "source": [
    "b) Argumente: ¿Por qué se puede decir que el centro de masa del gancho se encuentra sobre la altura sobre del triangulo del gancho, altura en la figura (a) (la mediatriz de la base)?\n",
    "\n",
    "Esto se puede afirmar debido a que las posiciones de equilibrio, el objeto reposa sobre puntos que están sobre la mediatriz de la base. Es decir, debido a que no hay torques, la fuerza aplicada debe pasar por el centro de masas."
   ]
  },
  {
   "cell_type": "markdown",
   "metadata": {
    "id": "mjTB0824ekIE"
   },
   "source": [
    "c) Copie su codigo anterior en esta sección, y ahora cree un metodo de la clase Gancho llamado `centro_de_masa(altura_cm)`  que asumiendo que la coordenada vertical del centro de masa se encuentra en `altura_cm` (ver figura), retorne un array con las dos dimensiones del centro de masa del gancho en las coordenadas de la figura mostrada.\n",
    "\n",
    "![](https://raw.githubusercontent.com/diegour1/CompMetodosComputacionales/main/DataFiles/image3.png)\n",
    "\n",
    "\n"
   ]
  },
  {
   "cell_type": "code",
   "execution_count": 4,
   "metadata": {
    "id": "gTs6y5ZMejf-"
   },
   "outputs": [],
   "source": [
    "class Gancho:\n",
    "  def __init__(self, mass, inertia, base, altura):\n",
    "    self.mass = mass\n",
    "    self.inertia = inertia\n",
    "    self.base = base\n",
    "    self.altura = altura\n",
    "  \n",
    "  def centro_de_masa(self,altura_cm):\n",
    "    return np.array([self.base/2,altura_cm])\n"
   ]
  },
  {
   "cell_type": "code",
   "execution_count": 5,
   "metadata": {
    "colab": {
     "base_uri": "https://localhost:8080/"
    },
    "id": "A0yAGDKI9TaX",
    "outputId": "93bbb79a-13f0-4e5a-8860-ee9fb28a1779"
   },
   "outputs": [
    {
     "name": "stdout",
     "output_type": "stream",
     "text": [
      "centro de masa [0.21 0.75]\n"
     ]
    }
   ],
   "source": [
    "# Codigo para verificar la respuesta (no modificar)\n",
    "\n",
    "gancho_a = Gancho(1, 0.01066, 0.42, 0.1)\n",
    "print(\"centro de masa\", gancho_a.centro_de_masa(0.75))"
   ]
  },
  {
   "cell_type": "markdown",
   "metadata": {
    "id": "XPOFys_kfHxH"
   },
   "source": [
    "d) Copie su codigo anterior en esta sección, y ahora cree un metodo de la clase Gancho llamado `inertia_xy(altura_cm, x, y)`  que calcule un float que corresponde a la inercia respecto a cualquier punto `(x, y)` asumiendo que el centro de masa se encuentra en la altura `altura_cm`, de acuerdo a las coordenadas de la figura c)"
   ]
  },
  {
   "cell_type": "code",
   "execution_count": 6,
   "metadata": {
    "id": "97xODnCpfbPn"
   },
   "outputs": [],
   "source": [
    "class Gancho:\n",
    "  def __init__(self, mass, inertia, base, altura):\n",
    "    self.mass = mass\n",
    "    self.inertia = inertia\n",
    "    self.base = base\n",
    "    self.altura = altura\n",
    "  \n",
    "  def centro_de_masa(self,altura_cm):\n",
    "    return np.array([self.base/2,altura_cm])\n",
    "\n",
    "  def inertia_xy(self,altura_cm,x,y):\n",
    "    # Utilizando el Teorema de los ejes paralelos\n",
    "    # I_xy = I_cm + Md^2 donde I_cm es la inercia del centro de masa, d es la distancia entre el centro de masa y (x,y) y M la masa\n",
    "\n",
    "\n",
    "    inertia_w_respect_to_xy = self.inertia + self.mass*np.sum((np.array([x,y]) - self.centro_de_masa(altura_cm))**2)\n",
    "    return inertia_w_respect_to_xy\n"
   ]
  },
  {
   "cell_type": "code",
   "execution_count": 7,
   "metadata": {
    "colab": {
     "base_uri": "https://localhost:8080/"
    },
    "id": "3qmOH6nyCN_E",
    "outputId": "66f4bb19-9bd6-4349-be7f-8b08d7303cfd"
   },
   "outputs": [
    {
     "name": "stdout",
     "output_type": "stream",
     "text": [
      "inertia punto (0.025, 0.03), altura cm 0.75: 0.5632849999999999\n"
     ]
    }
   ],
   "source": [
    "# Codigo para verificar la respuesta (no modificar)\n",
    "\n",
    "gancho_a = Gancho(1, 0.01066, 0.42, 0.10)\n",
    "print(\"inertia punto (0.025, 0.03), altura cm 0.75:\", gancho_a.inertia_xy(0.75, 0.025, 0.03))"
   ]
  },
  {
   "cell_type": "markdown",
   "metadata": {
    "id": "VDXAhZTSD4QK"
   },
   "source": [
    "e) Copie su codigo anterior en esta sección, y ahora cree un metodo de la clase Gancho llamado `periodo_oscilacion(altura_cm, x, y)`  que calcule un float que corresponde al periodo de oscilacion, con respecto a cualquier eje de rotación `(x, y)` asumiendo que el centro de masa esta en la altura `altura_cm`, de acuerdo a las coordenadas de la figura c)"
   ]
  },
  {
   "cell_type": "code",
   "execution_count": 8,
   "metadata": {
    "id": "I2pIBcAFhNvk"
   },
   "outputs": [],
   "source": [
    "class Gancho:\n",
    "  def __init__(self, mass, inertia, base, altura):\n",
    "    self.mass = mass\n",
    "    self.inertia = inertia\n",
    "    self.base = base\n",
    "    self.altura = altura\n",
    "  \n",
    "  def centro_de_masa(self,altura_cm):\n",
    "    return np.array([self.base/2,altura_cm])\n",
    "\n",
    "  def inertia_xy(self,altura_cm,x,y):\n",
    "    # Utilizando el Teorema de los ejes paralelos\n",
    "    # I_xy = I_cm + Md^2 donde I_cm es la inercia del centro de masa, d es la distancia entre el centro de masa y (x,y) y M la masa\n",
    "    inertia_w_respect_to_xy = self.inertia + self.mass*np.sum((np.array([x,y]) - self.centro_de_masa(altura_cm))**2)\n",
    "    return inertia_w_respect_to_xy\n",
    "  \n",
    "  def periodo_oscilacion(self,altura_cm,x,y):\n",
    "    period = 2*np.pi*np.sqrt(self.inertia_xy(altura_cm,x,y)/(self.mass*(9.809665)*(np.sqrt(np.sum((np.array([x,y]) - self.centro_de_masa(altura_cm))**2)))))\n",
    "    return period\n",
    "  \n",
    "  def approx_center_mass(gancho1):\n",
    "    for i in np.linspace(0,gancho1.altura,10000):\n",
    "      diff = gancho1.periodo_oscilacion(i,gancho1.base/2,0) - gancho1.periodo_oscilacion(i,gancho1.base/2,gancho1.altura)\n",
    "      if abs(diff)<0.001:\n",
    "        return np.array([gancho1.base/2,i])\n",
    "\n"
   ]
  },
  {
   "cell_type": "code",
   "execution_count": 9,
   "metadata": {
    "colab": {
     "base_uri": "https://localhost:8080/"
    },
    "id": "DU59L3CwEZOd",
    "outputId": "4b0ac672-f190-40c3-e837-8251b64af141"
   },
   "outputs": [
    {
     "name": "stdout",
     "output_type": "stream",
     "text": [
      "perido de oscilacion con eje (0.025, 0.03), altura cm 0.75 1.7462613477468567\n"
     ]
    }
   ],
   "source": [
    "# Codigo para verificar la respuesta (no modificar)\n",
    "\n",
    "gancho_a = Gancho(1, 0.01066, 0.42, 0.1)\n",
    "print(\"perido de oscilacion con eje (0.025, 0.03), altura cm 0.75\", gancho_a.periodo_oscilacion(0.75, 0.025, 0.03))"
   ]
  },
  {
   "cell_type": "markdown",
   "metadata": {
    "id": "78CNxiHkGGvR"
   },
   "source": [
    "f) A partir de la clase Gancho construida, diseñe un metodo para calcular el centro de masa del gancho.\n",
    "\n",
    "Retorne un array con las dos coordenadas del centro de masa del gancho."
   ]
  },
  {
   "cell_type": "code",
   "execution_count": 10,
   "metadata": {
    "colab": {
     "base_uri": "https://localhost:8080/"
    },
    "id": "0RfM_AdCiU5v",
    "outputId": "a760426b-ef14-480f-b0a6-fb0e702a15c5"
   },
   "outputs": [
    {
     "name": "stdout",
     "output_type": "stream",
     "text": [
      "[0.21     0.049922]\n"
     ]
    }
   ],
   "source": [
    "class Gancho:\n",
    "  def __init__(self, mass, inertia, base, altura):\n",
    "    self.mass = mass\n",
    "    self.inertia = inertia\n",
    "    self.base = base\n",
    "    self.altura = altura\n",
    "  \n",
    "  def centro_de_masa(self,altura_cm):\n",
    "    return np.array([self.base/2,altura_cm])\n",
    "\n",
    "  def inertia_xy(self,altura_cm,x,y):\n",
    "    # Utilizando el Teorema de los ejes paralelos\n",
    "    # I_xy = I_cm + Md^2 donde I_cm es la inercia del centro de masa, d es la distancia entre el centro de masa y (x,y) y M la masa\n",
    "    inertia_w_respect_to_xy = self.inertia + self.mass*np.sum((np.array([x,y]) - self.centro_de_masa(altura_cm))**2)\n",
    "    return inertia_w_respect_to_xy\n",
    "  \n",
    "  def periodo_oscilacion(self,altura_cm,x,y):\n",
    "    period = 2*np.pi*np.sqrt(self.inertia_xy(altura_cm,x,y)/(self.mass*(9.809665)*(np.sqrt(np.sum((np.array([x,y]) - self.centro_de_masa(altura_cm))**2)))))\n",
    "    return period\n",
    "  \n",
    "  def approx_center_mass(self):\n",
    "    \n",
    "    for i in np.linspace(0.000001,self.altura,100000):\n",
    "      diff = self.periodo_oscilacion(i,self.base/2,0) - self.periodo_oscilacion(i,self.base/2,self.altura)\n",
    "      if abs(diff)<0.001:\n",
    "        return np.array([self.base/2,i])\n",
    "\n",
    "\n",
    "\n",
    "gancho1 = Gancho(1, 0.01066, 0.42, 0.1)\n",
    "cm_gancho = np.zeros(2)\n",
    "\n",
    "## tu codigo aqui\n",
    "\n",
    "cm_gancho = gancho1.approx_center_mass()\n",
    "\n",
    "\n",
    "# codigo para verificar su codigo (no modificar)\n",
    "print(cm_gancho)"
   ]
  },
  {
   "cell_type": "markdown",
   "metadata": {
    "id": "pC7RRkdTHMnS"
   },
   "source": [
    "g) Note que el centro de masa no depende de la distribución de la masa. ¿Cómo resolveria el problema de forma análitica?\n",
    "\n",
    "Teniendo en cuenta que las configuraciones de a) y b) del gancho dan períodos de oscilación iguales se tiene que \n",
    "\n",
    "$$ \\begin{equation}2\\pi\\sqrt{\\frac{I_1}{MgL_1}} = 2\\pi\\sqrt{\\frac{I_2}{MgL_2}}\\end{equation}$$\n",
    "\n",
    "donde $I_1, I_2$ e $L_1, L_2$ son los momentos de inercia y longitudes desde el punto de rotación de la figura b) y a), respectivamente.\n",
    "\n",
    "Por otro lado, se tiene que \n",
    "\n",
    "$$ I_1 = I_{\\text{cm}} + ML_1^2 \\text{    y    } I_2 = I_{\\text{cm}} + ML_2^2 $$\n",
    "\n",
    "además,\n",
    "\n",
    "$$L_1 = y_{\\text{cm}} \\text{    y    } L_2 = h - y_{\\text{cm}}$$\n",
    "\n",
    "donde $y_{\\text{cm}}$ es la componente en $y$ donde debería estar el centro de masas y $h$ la altura del triángulo del gancho.\n",
    "\n",
    "Simplificando la ecuación (1) y reemplazando los valores de las $L$ se tiene la relación\n",
    "\n",
    "$$ \\frac{I_2}{I_1} = \\frac{h-y_{\\text{cm}}}{y_{\\text{cm}}}$$\n",
    "\n",
    "Reemplazando los momentos de incercia por sus respectivas definiciones se tiene que \n",
    "\n",
    "$$\\frac{I_{\\text{cm}} + M(h-y_{\\text{cm}})^2}{I_{\\text{cm}}+My_{\\text{cm}}^2} = \\frac{h-y_{\\text{cm}}}{y_{\\text{cm}}}$$ \n",
    "\n",
    "Reordenando los términos de la ecuación, se consigue \n",
    "\n",
    "$$ 2My_{\\text{cm}}^3 -3Mhy_{\\text{cm}}^2+ (2I_{\\text{cm}}+Mh^2)y_{\\text{cm}} -I_{\\text{cm}}h = 0$$\n",
    "\n",
    "En el caso del gancho de la celda anterior, se tendría como solución a esta ecuación $y_{\\text{cm}} = 0.05$. \n",
    "\n",
    "\n",
    "\n",
    "\n",
    "\n",
    "\n",
    "\n"
   ]
  }
 ],
 "metadata": {
  "colab": {
   "provenance": []
  },
  "kernelspec": {
   "display_name": "Python 3 (ipykernel)",
   "language": "python",
   "name": "python3"
  },
  "language_info": {
   "codemirror_mode": {
    "name": "ipython",
    "version": 3
   },
   "file_extension": ".py",
   "mimetype": "text/x-python",
   "name": "python",
   "nbconvert_exporter": "python",
   "pygments_lexer": "ipython3",
   "version": "3.9.13"
  },
  "vscode": {
   "interpreter": {
    "hash": "c9f69d3aee71be54776a55aa2ba674df24312f89c0df54b2489c83ea19829380"
   }
  }
 },
 "nbformat": 4,
 "nbformat_minor": 4
}
