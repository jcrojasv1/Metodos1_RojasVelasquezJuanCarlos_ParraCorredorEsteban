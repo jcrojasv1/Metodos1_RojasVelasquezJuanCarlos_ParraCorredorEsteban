{
 "cells": [
  {
   "cell_type": "markdown",
   "metadata": {
    "id": "ySCvWQe5vxeT"
   },
   "source": [
    "## Librerias"
   ]
  },
  {
   "cell_type": "code",
   "execution_count": 1,
   "metadata": {
    "id": "VBo2Hv2tv0UR"
   },
   "outputs": [],
   "source": [
    "import numpy as np"
   ]
  },
  {
   "cell_type": "markdown",
   "metadata": {
    "id": "dEcQng6BpVFN"
   },
   "source": [
    "## Problema\n",
    "\n",
    "Existe un punto magico entre la tierra y la Luna, llamado el punto Lagrangiano $L_1$. En este punto un satelite orbita la tierra de forma sincronica con la Luna a la velocidad angular $\\omega$ de la Luna, manteniendose siempre entre los dos cuerpos celestes. Esto sucede porque la fuerza hacia adentro debido a la tierra y la fuerza hacia afuera debido a la Luna se combinan para crear exactamente la fuerza centripeta necesaria para mantener el satelite en su orbita. \n",
    "\n",
    "El dibujo se presenta a continuación:\n",
    "\n",
    "\n",
    "![](https://raw.githubusercontent.com/diegour1/CompMetodosComputacionales/main/DataFiles/image6.png)\n",
    "\n",
    "Asumiendo que las orbitas son circulares, que la distancia entre el centro de la tierra y el centro de la Luna es $R$, y que la Tierra tiene una masa $M$ mucho mayor que la masa de la Luna $m$ y que la masa del satelite, encuentre la distancia $r$, con una precisión de $10^{-4}$, entre el centro de la Tierra y el satelite con el método de Newton-Raphson, la ecuación es de grado 5 y no se puede resolver facilmente de forma analitica. \n",
    "\n",
    "Considere los siguientes parametros:\n",
    "\n",
    "$$ G = 6.674 \\times 10^{-11} \\quad [m^3kg^{-1}s^{-2}] $$\n",
    "$$ M = 5.974 \\times 10^{24} \\quad [kg]$$\n",
    "$$ m = 7.348 \\times 10^{22} \\quad [kg]$$\n",
    "$$ R = 3.844 \\times 10^{8} \\quad [m]$$\n",
    "$$ \\omega = 2.662 \\times 10^{-6} \\quad [s^{-1}]$$"
   ]
  },
  {
   "cell_type": "markdown",
   "metadata": {
    "id": "CPCsDv8cWAyP"
   },
   "source": [
    "a) Encuentre análiticamente la ecuación de $r$ que describe la situación descrita, de acuerdo a las variables descritas anteriormente \n",
    "\n",
    "Teniendo en cuenta las fuerzas que hay en el problema se tien la ecuación:\n",
    "\n",
    "$$F_{TS} - F_{LS} = F_C$$\n",
    "\n",
    "donde $F_{TS}, F_{LS}$ y $F_c$ son la fuerza que le hace la Tierra al satéltite, la fuerza que la Luna le hace al satélite y la fuerza centrípeta del satélite.\n",
    "Desarrollando a lo anterior, se llega una ecuación que depende de $r$\n",
    "$$ GM(R-r)^2 - Gmr^2 - \\omega^2r^3(R-r)^2 = 0 $$\n",
    "Por lo que la distancia $r$ sería la solución a esta ecuación."
   ]
  },
  {
   "cell_type": "markdown",
   "metadata": {
    "id": "AslCjkt7W-B1"
   },
   "source": [
    "b) Use el método de Newton Raphson para encontrar el valor de $r$ distancia entre la tierra y el satelite. Guarde el valor obtenido en la variable `distance` y al final imprima el resultado. Note que la ecuación no es fácil de resolver analiticamente. "
   ]
  },
  {
   "cell_type": "code",
   "execution_count": 6,
   "metadata": {
    "id": "XVXNGJjfWfnL"
   },
   "outputs": [
    {
     "name": "stdout",
     "output_type": "stream",
     "text": [
      "326045071.6654\n"
     ]
    }
   ],
   "source": [
    "distance = 0\n",
    "### tu codigo aqui\n",
    "\n",
    "G = 6.674e-11\n",
    "M = 5.974e+24\n",
    "m = 7.348e+22\n",
    "R = 3.844e+8\n",
    "omega = 2.662e-6\n",
    "\n",
    "def function(x):\n",
    "    return G*M*(R-x)**2 - G*m*x**2 - (omega**2)*(x**3)*(R-x)**2\n",
    "\n",
    "def dif(f,x,h=1e-4):\n",
    "    return (f(x+h)-f(x-h))/(2*h)\n",
    "\n",
    "    \n",
    "def GetNewtonRaphson(f,df,xn,itmax = 1000, precision=1e-4):\n",
    "    \n",
    "    error = 1\n",
    "    it = 0\n",
    "    \n",
    "    while error > precision and it < itmax:\n",
    "        \n",
    "        try:\n",
    "            \n",
    "            xn1 = xn - f(xn)/df(f,xn)\n",
    "            \n",
    "            error = np.abs(f(xn)/df(f,xn))\n",
    "            \n",
    "        except ZeroDivisionError:\n",
    "            \n",
    "            print('División por cero')\n",
    "            \n",
    "        it += 1\n",
    "        xn = xn1\n",
    "            \n",
    "    return round(xn,4)\n",
    "\n",
    "distance = GetNewtonRaphson(function,dif,R)\n",
    "\n",
    "## codigo para verificar su respuesta (no modificar)\n",
    "print(distance)"
   ]
  },
  {
   "cell_type": "code",
   "execution_count": null,
   "metadata": {},
   "outputs": [],
   "source": []
  }
 ],
 "metadata": {
  "colab": {
   "provenance": []
  },
  "kernelspec": {
   "display_name": "Python 3 (ipykernel)",
   "language": "python",
   "name": "python3"
  },
  "language_info": {
   "codemirror_mode": {
    "name": "ipython",
    "version": 3
   },
   "file_extension": ".py",
   "mimetype": "text/x-python",
   "name": "python",
   "nbconvert_exporter": "python",
   "pygments_lexer": "ipython3",
   "version": "3.9.13"
  }
 },
 "nbformat": 4,
 "nbformat_minor": 1
}
