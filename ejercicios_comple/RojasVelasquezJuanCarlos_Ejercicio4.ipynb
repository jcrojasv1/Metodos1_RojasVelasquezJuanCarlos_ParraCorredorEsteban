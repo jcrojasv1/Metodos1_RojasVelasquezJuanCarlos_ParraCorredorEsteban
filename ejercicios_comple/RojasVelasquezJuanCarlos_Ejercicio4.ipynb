{
 "cells": [
  {
   "cell_type": "markdown",
   "metadata": {
    "id": "ySCvWQe5vxeT"
   },
   "source": [
    "## Librerias"
   ]
  },
  {
   "cell_type": "code",
   "execution_count": 3,
   "metadata": {
    "id": "VBo2Hv2tv0UR"
   },
   "outputs": [],
   "source": [
    "import numpy as np\n",
    "import matplotlib.pyplot as plt\n",
    "import sympy as sym"
   ]
  },
  {
   "cell_type": "markdown",
   "metadata": {
    "id": "dEcQng6BpVFN"
   },
   "source": [
    "## Problema 1\n",
    "\n",
    "Implemente el método de interpolación de Lagrange que ajuste un polinomio de grado 4 a los siguientes datos experimentales.\n",
    "\n",
    "\n",
    "\n",
    "```\n",
    "    x_values = 4, 7, 8, 12,  17\n",
    "    y_values = 8, 16, 3,  5,  0\n",
    "```\n",
    "\n",
    "El código debe generar una figura que contenga los puntos asociados a los datos experimentales y la curva generada por el polinomio de Lagrange. Gráfique en el intervalo $[3, 18]$."
   ]
  },
  {
   "cell_type": "code",
   "execution_count": 4,
   "metadata": {
    "id": "dMGmXpTTeNgk"
   },
   "outputs": [
    {
     "data": {
      "text/plain": [
       "[<matplotlib.lines.Line2D at 0x1fba2103250>]"
      ]
     },
     "execution_count": 4,
     "metadata": {},
     "output_type": "execute_result"
    },
    {
     "data": {
      "image/png": "[encoded data removed]",
      "text/plain": [
       "<Figure size 640x480 with 1 Axes>"
      ]
     },
     "metadata": {},
     "output_type": "display_data"
    }
   ],
   "source": [
    "X = np.array([ 4, 7, 8, 12,  17])\n",
    "Y = np.array([ 8, 16, 3,  5,  0])\n",
    "\n",
    "## tu codigo aqui\n",
    "\n",
    "\n",
    "\n",
    "def Lagrange_coeff(x,xi,j):\n",
    "    n = len(xi)\n",
    "    prod = 1\n",
    "    \n",
    "    for i in range(n):\n",
    "        prod *= (x - xi[i])/(xi[j]-xi[i]) if i != j else 1\n",
    "        \n",
    "    return prod\n",
    "\n",
    "def Lagrange_inter(x,xi,yi):\n",
    "    Sum = 0\n",
    "    for j in range(len(yi)):\n",
    "        Sum += yi[j]*Lagrange_coeff(x,xi,j)\n",
    "        \n",
    "    return Sum\n",
    "\n",
    "x = np.linspace(3,18,100)\n",
    "y = Lagrange_inter(x,X,Y)\n",
    "\n",
    "plt.plot(x,y)\n",
    "\n"
   ]
  },
  {
   "cell_type": "markdown",
   "metadata": {
    "id": "ppMjLe_ZCKa4"
   },
   "source": [
    "b) Explique cuál es la intuición detras de la fórmula de interpolación de Lagrange. \n",
    "\n",
    "La intución detrás de la fórmula para la interpolación de Lagrange es que cada valor de $y$ del par odernado en el conjunto soporte $\\Omega$\n",
    "se le asigna un valor de $\\mathcal{L}_j$ que corresponderiente a las aportaciones de ése punto a la sumatoria del polimonio que \n",
    "se interpola. Siendo este cero en caso de que $x = x_j $"
   ]
  },
  {
   "cell_type": "markdown",
   "metadata": {
    "id": "cSGUKS4RA8wk"
   },
   "source": [
    "## Problema 2\n",
    "\n",
    "Diseñe un método que obtenga el valor en $x$ para el cual el polinomio interpolador del problema anterior es máximo. Guarde el resultado obtenido en la variable `x_value`, e imprima ese valor. "
   ]
  },
  {
   "cell_type": "code",
   "execution_count": 49,
   "metadata": {
    "id": "uCIYNjJDfVNI"
   },
   "outputs": [
    {
     "name": "stdout",
     "output_type": "stream",
     "text": [
      "15.087087087087086\n"
     ]
    }
   ],
   "source": [
    "x_value = 0\n",
    "\n",
    "## tu codigo aqui\n",
    "interval = np.linspace(3,18,1000)\n",
    "x = sym.Symbol('x',real=True)\n",
    "f = Lagrange_inter(x,X,Y)\n",
    "f = sym.simplify(f)\n",
    "df = sym.diff(f,x)\n",
    "func = sym.lambdify([x],f,'numpy')\n",
    "dfunc = sym.lambdify([x],df,'numpy')\n",
    "\n",
    "\n",
    "def Search4Max(x,f,dif):\n",
    "    pc = []\n",
    "    for i in x:\n",
    "        if abs(dif(i)) <= 1e-1:\n",
    "            pc.append(i)\n",
    "    maxy = f(pc[0])\n",
    "    maxx = pc[0]\n",
    "    for i in pc:\n",
    "        if maxy < f(i):\n",
    "            maxy = f(i)\n",
    "            maxx = i\n",
    "    return (maxx,maxy)\n",
    "    \n",
    "   \n",
    "\n",
    "x_value = Search4Max(interval,func,dfunc)[0]\n",
    "\n",
    "\n",
    "# codigo para verificar su resultado (no modificar)\n",
    "print(x_value)"
   ]
  }
 ],
 "metadata": {
  "colab": {
   "provenance": []
  },
  "kernelspec": {
   "display_name": "Python 3 (ipykernel)",
   "language": "python",
   "name": "python3"
  },
  "language_info": {
   "codemirror_mode": {
    "name": "ipython",
    "version": 3
   },
   "file_extension": ".py",
   "mimetype": "text/x-python",
   "name": "python",
   "nbconvert_exporter": "python",
   "pygments_lexer": "ipython3",
   "version": "3.9.13"
  }
 },
 "nbformat": 4,
 "nbformat_minor": 1
}
