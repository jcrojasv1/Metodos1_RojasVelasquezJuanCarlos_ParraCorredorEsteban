{
 "cells": [
  {
   "cell_type": "markdown",
   "id": "Ca47pvrzRXMy",
   "metadata": {
    "id": "Ca47pvrzRXMy"
   },
   "source": [
    "## Librerias"
   ]
  },
  {
   "cell_type": "code",
   "execution_count": 42,
   "id": "6f64d18c-e6fe-4328-a15d-9344842eabd1",
   "metadata": {
    "id": "6f64d18c-e6fe-4328-a15d-9344842eabd1"
   },
   "outputs": [],
   "source": [
    "import numpy as np\n",
    "import sympy as sym\n",
    "from scipy import integrate as sci"
   ]
  },
  {
   "cell_type": "markdown",
   "id": "hwM8VmxfF1w_",
   "metadata": {
    "id": "hwM8VmxfF1w_"
   },
   "source": [
    "## Problema 1\n",
    "\n",
    "Considere la integral, \n",
    "\n",
    "$$ I = \\int_0^1\\sin^2(\\sqrt{100x})\\,dx$$\n",
    "\n",
    "a) Cree la función `gauss_integrate(n)`, que reciba el grado `n` del polinomio de Gauss-Legendre y retorne la integral de la función pedida con el método de gauss-legendre. Puede usar la función `np.polynomial.legendre.leggauss` , para obtener los pesos y puntos de Legendre.\n",
    "\n",
    "Puede usar el siguiente cuaderno como guia, [link](https://github.com/diegour1/CompMetodosComputacionales/blob/main/Notebooks/03%20-%20integracion_numerica.ipynb)"
   ]
  },
  {
   "cell_type": "code",
   "execution_count": 43,
   "id": "Tx8fBk37gXrD",
   "metadata": {
    "id": "Tx8fBk37gXrD"
   },
   "outputs": [],
   "source": [
    "def function(x):\n",
    "    return np.sin(np.sqrt(100*x))**2\n",
    "\n",
    "\n",
    "def gauss_integrate(n):\n",
    "  ## tu codigo aqui\n",
    "    a,b = (0,1)\n",
    "    gauss_int = 0\n",
    "    puntos, weights = np.polynomial.legendre.leggauss(n)\n",
    "    print(puntos)\n",
    "    c1 = 0.5*(b-a)\n",
    "    c2 = 0.5*(a+b)\n",
    "    gauss_int = c1*np.sum(weights*function(c1*puntos + c2))\n",
    "    return gauss_int\n",
    "\n",
    "\n"
   ]
  },
  {
   "cell_type": "code",
   "execution_count": 44,
   "id": "ni3JHLRDoqBv",
   "metadata": {
    "id": "ni3JHLRDoqBv"
   },
   "outputs": [
    {
     "name": "stdout",
     "output_type": "stream",
     "text": [
      "[0.]\n",
      "0.5024843310662972\n",
      "[-0.57735027  0.57735027]\n",
      "0.6273262731105194\n",
      "[-0.77459667  0.          0.77459667]\n",
      "0.23603692720508807\n",
      "[-0.86113631 -0.33998104  0.33998104  0.86113631]\n",
      "0.42670930479562463\n",
      "[-0.9931286  -0.96397193 -0.91223443 -0.83911697 -0.74633191 -0.63605368\n",
      " -0.510867   -0.37370609 -0.22778585 -0.07652652  0.07652652  0.22778585\n",
      "  0.37370609  0.510867    0.63605368  0.74633191  0.83911697  0.91223443\n",
      "  0.96397193  0.9931286 ]\n",
      "0.4558325323090848\n",
      "[-0.99971373 -0.99849195 -0.99629513 -0.99312494 -0.9889844  -0.98387754\n",
      " -0.97780936 -0.97078578 -0.96281365 -0.95390078 -0.94405587 -0.93328854\n",
      " -0.9216093  -0.90902957 -0.89556164 -0.88121868 -0.86601469 -0.84996453\n",
      " -0.83308388 -0.81538924 -0.79689789 -0.77762791 -0.75759812 -0.73682809\n",
      " -0.71533812 -0.6931492  -0.67028302 -0.64676191 -0.62260886 -0.59784747\n",
      " -0.57250193 -0.54659701 -0.52015802 -0.49321079 -0.46578165 -0.4378974\n",
      " -0.40958529 -0.38087298 -0.35178853 -0.32236034 -0.29261719 -0.26258812\n",
      " -0.23230248 -0.20178986 -0.17108008 -0.14020314 -0.1091892  -0.07806858\n",
      " -0.04687168 -0.01562898  0.01562898  0.04687168  0.07806858  0.1091892\n",
      "  0.14020314  0.17108008  0.20178986  0.23230248  0.26258812  0.29261719\n",
      "  0.32236034  0.35178853  0.38087298  0.40958529  0.4378974   0.46578165\n",
      "  0.49321079  0.52015802  0.54659701  0.57250193  0.59784747  0.62260886\n",
      "  0.64676191  0.67028302  0.6931492   0.71533812  0.73682809  0.75759812\n",
      "  0.77762791  0.79689789  0.81538924  0.83308388  0.84996453  0.86601469\n",
      "  0.88121868  0.89556164  0.90902957  0.9216093   0.93328854  0.94405587\n",
      "  0.95390078  0.96281365  0.97078578  0.97780936  0.98387754  0.9889844\n",
      "  0.99312494  0.99629513  0.99849195  0.99971373]\n",
      "0.4558325323090862\n"
     ]
    }
   ],
   "source": [
    "# Codigo para evaluar su resultado, no modificar\n",
    "print(gauss_integrate(1))\n",
    "print(gauss_integrate(2))\n",
    "print(gauss_integrate(3))\n",
    "print(gauss_integrate(4))\n",
    "print(gauss_integrate(20))\n",
    "print(gauss_integrate(100))"
   ]
  },
  {
   "cell_type": "markdown",
   "id": "7vK6RFJ1W_p2",
   "metadata": {
    "id": "7vK6RFJ1W_p2"
   },
   "source": [
    "b) Verifique sus resultados obtenidos usando la función `scipy.integrate.fixed_quad`. Imprima los resultados obtenidos con la libreria.\n"
   ]
  },
  {
   "cell_type": "code",
   "execution_count": 45,
   "id": "7f869d2c",
   "metadata": {
    "id": "sQJZ_280pLqK"
   },
   "outputs": [
    {
     "data": {
      "text/plain": [
       "(0.5024843310662972, None)"
      ]
     },
     "execution_count": 45,
     "metadata": {},
     "output_type": "execute_result"
    }
   ],
   "source": [
    "# tu codigo aqui\n",
    "sci.fixed_quad(function,a=0,b=1,n=1)"
   ]
  },
  {
   "cell_type": "markdown",
   "id": "7Gv1no-mRcMn",
   "metadata": {
    "id": "7Gv1no-mRcMn"
   },
   "source": [
    "## Problema 2\n",
    "\n",
    "En este problema vamos a reproducir los cálculos realizados en el siguiente [pdf](https://github.com/diegour1/CompMetodosComputacionales/blob/main/Lectures/01%20-%20Gauss%20Legendre%202.pdf) para dar una interpretación del método de Gauss Legendre para el caso $n = 4$. \n",
    "\n",
    "\n",
    "\n"
   ]
  },
  {
   "cell_type": "markdown",
   "id": "KEQ3AC30RKaw",
   "metadata": {
    "id": "KEQ3AC30RKaw"
   },
   "source": [
    "a) Con la libreria `sympy` cree la aproximación de taylor de grado 6 del polinomio $h(x)$, es decir cree la siguiente función e imprimala en la celda.\n",
    "\n",
    "\n",
    "$$\n",
    "h(x) = a + bx + c\\frac{x^2}{2!} + d\\frac{x^3}{3!} + e\\frac{x^4}{4!} + f\\frac{x^5}{5!} + g\\frac{x^6}{6!}\n",
    "$$\n",
    "\n",
    "\n",
    "Pista: Use lo siguiente [link](https://stackoverflow.com/questions/37100053/how-to-define-a-mathematical-function-in-sympy\n",
    ")\n"
   ]
  },
  {
   "cell_type": "code",
   "execution_count": 46,
   "id": "wt_bl_CYiRIt",
   "metadata": {
    "id": "wt_bl_CYiRIt"
   },
   "outputs": [
    {
     "data": {
      "text/latex": [
       "$\\displaystyle a_{0} + a_{1} x + \\frac{a_{2} x^{2}}{2} + \\frac{a_{3} x^{3}}{6} + \\frac{a_{4} x^{4}}{24} + \\frac{a_{5} x^{5}}{120} + \\frac{a_{6} x^{6}}{720}$"
      ],
      "text/plain": [
       "a_0 + a_1*x + a_2*x**2/2 + a_3*x**3/6 + a_4*x**4/24 + a_5*x**5/120 + a_6*x**6/720"
      ]
     },
     "execution_count": 46,
     "metadata": {},
     "output_type": "execute_result"
    }
   ],
   "source": [
    "## tu codigo aqui\n",
    "coeff = []\n",
    "x = sym.Symbol('x')\n",
    "h = 0\n",
    "for i in range(7):\n",
    "    coeff.append(sym.Symbol('a_'+str(i)))\n",
    "for exponent in range(len(coeff)):\n",
    "    h += coeff[exponent]*x**exponent/np.math.factorial(exponent)\n",
    "h"
   ]
  },
  {
   "cell_type": "markdown",
   "id": "hreZn9jYSmJq",
   "metadata": {
    "id": "hreZn9jYSmJq"
   },
   "source": [
    "**b) Usando `sympy` cálcule:**\n",
    "\n",
    "$$\n",
    "\\int_{-1}^1h(x) \\ dx\n",
    "$$\n",
    "\n",
    "imprima el resultado de la integral.\n",
    "\n",
    "Pista: debe resultar una función de $x$ con coeficientes, $a$, $c$, $e$, $g$."
   ]
  },
  {
   "cell_type": "code",
   "execution_count": 47,
   "id": "rZ3dV6B5Sjdd",
   "metadata": {
    "id": "rZ3dV6B5Sjdd"
   },
   "outputs": [
    {
     "data": {
      "text/latex": [
       "$\\displaystyle 2 a_{0} + \\frac{a_{2}}{3} + \\frac{a_{4}}{60} + \\frac{a_{6}}{2520}$"
      ],
      "text/plain": [
       "2*a_0 + a_2/3 + a_4/60 + a_6/2520"
      ]
     },
     "execution_count": 47,
     "metadata": {},
     "output_type": "execute_result"
    }
   ],
   "source": [
    "# tu codigo aqui\n",
    "sym.integrate(h,(x,-1,1))"
   ]
  },
  {
   "cell_type": "markdown",
   "id": "bMuT_RnVTlWB",
   "metadata": {
    "id": "bMuT_RnVTlWB"
   },
   "source": [
    "**c) Encuentre los puntos en $x$ y los pesos $w$ de la cuadratura de Gauss de grado 4. Imprima los puntos y los pesos.**"
   ]
  },
  {
   "cell_type": "code",
   "execution_count": 48,
   "id": "3kst1ovLjn-x",
   "metadata": {
    "id": "3kst1ovLjn-x"
   },
   "outputs": [
    {
     "data": {
      "text/plain": [
       "(array([-0.86113631, -0.33998104,  0.33998104,  0.86113631]),\n",
       " array([0.34785485, 0.65214515, 0.65214515, 0.34785485]))"
      ]
     },
     "execution_count": 48,
     "metadata": {},
     "output_type": "execute_result"
    }
   ],
   "source": [
    "## find the Cuadrature weights\n",
    "# tu codigo aqui\n",
    "X,W = np.polynomial.legendre.leggauss(4)\n",
    "X,W"
   ]
  },
  {
   "cell_type": "markdown",
   "id": "8WxyRaSZUPIy",
   "metadata": {
    "id": "8WxyRaSZUPIy"
   },
   "source": [
    "**d) Usando la función $h(x)$ del punto a), evalúe el resultado de la cuadratura de Gauss de grado 4, es decir cálcule:**\n",
    "\n",
    "$$\n",
    "\\sum_{i=1}^4w_ih(x_i)\n",
    "$$\n",
    "\n",
    "Imprima el resultado de la integral."
   ]
  },
  {
   "cell_type": "code",
   "execution_count": 49,
   "id": "DGRnXIc_o3Hs",
   "metadata": {
    "id": "DGRnXIc_o3Hs"
   },
   "outputs": [
    {
     "data": {
      "text/latex": [
       "$\\displaystyle 2.0 a_{0} + 5.55111512312578 \\cdot 10^{-17} a_{1} + 0.333333333333333 a_{2} + 0.0166666666666667 a_{4} + 0.000396825396825397 a_{6}$"
      ],
      "text/plain": [
       "2.0*a_0 + 5.55111512312578e-17*a_1 + 0.333333333333333*a_2 + 0.0166666666666667*a_4 + 0.000396825396825397*a_6"
      ]
     },
     "execution_count": 49,
     "metadata": {},
     "output_type": "execute_result"
    }
   ],
   "source": [
    "# tu codigo aqui\n",
    "Sum = 0\n",
    "for i in range(4):\n",
    "    Sum += W[i]*h.evalf(subs={x: X[i]})\n",
    "Sum"
   ]
  },
  {
   "cell_type": "markdown",
   "id": "PPcbaNtzVAo0",
   "metadata": {
    "id": "PPcbaNtzVAo0"
   },
   "source": [
    "**e) ¿Cuadran las funciones resultantes del punto b) y d)? Sí, no y por qué.**\n",
    "\n",
    "Sí, las funciones cuadran (el término de $a_1$ es prácticamente cero y despreciable), esto es debido a que la interpretación geométrica de la cuadratura de Gauss, es la suma de los rectangulos bajo la curva con área $w_if(x_i)$ para $i \\in I$ (siendo $I$ un conjunto de índices)."
   ]
  },
  {
   "cell_type": "markdown",
   "id": "Uc_peQopVaXy",
   "metadata": {
    "id": "Uc_peQopVaXy"
   },
   "source": [
    "**f) ¿Qué interpretación geometrica daría a la cuadratura de Gauss?**\n",
    "\n",
    "La interpretación geométrica de la cuadraturea de Gauss es una suma de rectángulos evaluados en ciertos puntos de la función de base dada por los pesos $w_i$."
   ]
  },
  {
   "cell_type": "markdown",
   "id": "54CxOHrnV_g2",
   "metadata": {
    "id": "54CxOHrnV_g2"
   },
   "source": [
    "**g) A partir de la integral de la función obtenida, cálcule:**\n",
    "\n",
    "$$\n",
    "\\int_{-1}^1h(x)\\ dx\n",
    "$$\n",
    "\n",
    "para la función \n",
    "\n",
    "$$\n",
    "h(x) = 0.70458458 + 0.23544087x + 0.58528482x^2 + 0.1669135x^3 + 0.20669362x^4 + 0.4717781x^5 + 0.48755507x^6\n",
    "$$"
   ]
  },
  {
   "cell_type": "code",
   "execution_count": 50,
   "id": "VG-TiLaHGP30",
   "metadata": {
    "id": "VG-TiLaHGP30"
   },
   "outputs": [
    {
     "data": {
      "text/plain": [
       "2.0213379365714284"
      ]
     },
     "execution_count": 50,
     "metadata": {},
     "output_type": "execute_result"
    }
   ],
   "source": [
    "coeffs = np.array([0.70458458, 0.23544087, 0.58528482, 0.1669135 , 0.20669362, 0.4717781 , 0.48755507])    \n",
    "   \n",
    "def six_deg_function(x):\n",
    "  return 0.70458458 + 0.23544087*x + 0.58528482*x**2 + 0.1669135*x**3 + 0.20669362*x**4 + 0.4717781*x**5 + 0.48755507*x**6\n",
    "\n",
    "\n",
    "## tu codigo aqui\n",
    "\n",
    "def gauss_integrate(n):\n",
    "  ## tu codigo aqui\n",
    "    a,b = (-1,1)\n",
    "    gauss_int = 0\n",
    "    puntos, weights = np.polynomial.legendre.leggauss(n)\n",
    "    c1 = 0.5*(b-a)\n",
    "    c2 = 0.5*(a+b)\n",
    "    gauss_int = c1*np.sum(weights*six_deg_function(c1*puntos + c2))\n",
    "    return gauss_int\n",
    "\n",
    "gauss_integrate(n=4)\n"
   ]
  },
  {
   "cell_type": "markdown",
   "id": "6b629sy2WvhD",
   "metadata": {
    "id": "6b629sy2WvhD"
   },
   "source": [
    "**h) Evalúe la integral de $h(x)$ usando la función `integrate.fixed_quad`**"
   ]
  },
  {
   "cell_type": "code",
   "execution_count": 51,
   "id": "jykGzgDrJctv",
   "metadata": {
    "id": "jykGzgDrJctv"
   },
   "outputs": [
    {
     "data": {
      "text/plain": [
       "(2.0213379365714284, None)"
      ]
     },
     "execution_count": 51,
     "metadata": {},
     "output_type": "execute_result"
    }
   ],
   "source": [
    "## tu codigo aqui\n",
    "sci.fixed_quad(six_deg_function,a=-1,b=1,n=4)\n",
    "\n"
   ]
  },
  {
   "cell_type": "markdown",
   "id": "ZkMLUm2mXEDv",
   "metadata": {
    "id": "ZkMLUm2mXEDv"
   },
   "source": [
    "**i) ¿Qué cambiaría en este método si se integrara un polinomio de grado mayor a 6 con el método expuesto?**\n",
    "Si el grado del polinomio fuera mayor a 7, la integral no sería exacta. Esto debido a que estamos trabajando con los pesos y valores del polinomio de Laguerre de grado 4 y la cuadratura es exacta para los polimonios con grado menor o igual a $2n -1$, siendo $n = 4$. Por lo que integral de un polimonio de grado 8 ya no debería ser exacta."
   ]
  }
 ],
 "metadata": {
  "colab": {
   "provenance": []
  },
  "kernelspec": {
   "display_name": "Python 3 (ipykernel)",
   "language": "python",
   "name": "python3"
  },
  "language_info": {
   "codemirror_mode": {
    "name": "ipython",
    "version": 3
   },
   "file_extension": ".py",
   "mimetype": "text/x-python",
   "name": "python",
   "nbconvert_exporter": "python",
   "pygments_lexer": "ipython3",
   "version": "3.9.13"
  }
 },
 "nbformat": 4,
 "nbformat_minor": 5
}
