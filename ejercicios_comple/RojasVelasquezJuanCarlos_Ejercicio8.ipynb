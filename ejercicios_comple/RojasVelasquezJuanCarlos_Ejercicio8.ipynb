{
 "cells": [
  {
   "cell_type": "markdown",
   "id": "Ca47pvrzRXMy",
   "metadata": {
    "id": "Ca47pvrzRXMy"
   },
   "source": [
    "## Librerias"
   ]
  },
  {
   "cell_type": "code",
   "execution_count": 4,
   "id": "6f64d18c-e6fe-4328-a15d-9344842eabd1",
   "metadata": {
    "id": "6f64d18c-e6fe-4328-a15d-9344842eabd1"
   },
   "outputs": [],
   "source": [
    "import numpy as np"
   ]
  },
  {
   "cell_type": "markdown",
   "id": "TtDSGwXXOzhk",
   "metadata": {
    "id": "TtDSGwXXOzhk"
   },
   "source": [
    "## Problema 2\n",
    "\n",
    "Considere una cadena larga de resistencias como se muestra en la figura:\n",
    "\n",
    "![](https://raw.githubusercontent.com/diegour1/CompMetodosComputacionales/main/DataFiles/image8.png)\n",
    "\n",
    "Todos los resitores tienen las misma resistencia $R$. El voltage en la parte superior izquierda del sistema es $V_+ = 5 \\text{V}$. El problema consiste en obtener los voltajes $V_1, \\ldots, V_N$ de los puntos internos del circuito. \n",
    "\n"
   ]
  },
  {
   "cell_type": "markdown",
   "id": "eZIdQ9fkHfsC",
   "metadata": {
    "id": "eZIdQ9fkHfsC"
   },
   "source": [
    "a) Usando la ley de Ohm y la ley de corrientes de Kirchoff, la cual dice que la corriente total que fluye hacia afuera o hacia adentro de cada nodo del circuito es cero. Explique porqué los voltajes $V_1, \\ldots, V_N$ cumplen con las siguientes ecuaciones.\n",
    "\n",
    "$$3V_1 − V_2 − V_3 = V_+$$\n",
    "$$− V_1 + 4V_2 − V_3 − V_4 = V_+,$$\n",
    "$$\\vdots$$\n",
    "$$− V_{i − 2} − V_{i − 1} + 4V_i − V_{i + 1} − V_{i + 2} = 0,$$\n",
    "$$\\vdots$$\n",
    "$$− V_{N − 3} − V_{N − 2}+ 4V_{N − 1} − V_N = 0,$$\n",
    "$$− V_{N − 2} − V_{N − 1} + 3V_N = 0.$$\n",
    "\n",
    "Pista: Para resolver esta pregunta se usa la ley de Ohm y la ley de corrientes de Kirchhoff. La cual dice que la corriente que fluye hacia adentro o hacia afuera de cada unión del circuito es cero. Por ejemplo para el voltaje $V_1$ se tiene que, \n",
    "\n",
    "$$\n",
    "\\frac{V_1-V_2}{R} + \\frac{V_1-V_3}{R} + \n",
    "\\frac{V_1-V_+}{R} = 0, \n",
    "$$\n",
    "\n",
    "La fómrula general que se presentar arriba, resulta de la aplicación de la Ley de Ohm y Kirchoff. Por ley de Ohm, se tiene que $I = \\frac{\\Delta V}{R}$. Tomando las sumas para cada nodo se tendría que $\\frac{V_N - V_{N-1}}{R} + \\frac{V_N - V_{N-2}}{R} + \\frac{V_N - V_{N+1}}{R} + \\frac{V_N - V_{N+2}}{R} = 0 \\leftrightarrow − V_{N − 2} − V_{N − 1} + 4V_N − V_{N + 1} − V_{N + 2} = 0$\n"
   ]
  },
  {
   "cell_type": "markdown",
   "id": "5w_WqBWJHkua",
   "metadata": {
    "id": "5w_WqBWJHkua"
   },
   "source": []
  },
  {
   "cell_type": "markdown",
   "id": "a8YYYzy-HYUk",
   "metadata": {
    "id": "a8YYYzy-HYUk"
   },
   "source": [
    "b) Escriba las ecuaciones de la forma $A\\vec{x} = \\vec{b}$ encuentre los valores de la matriz $A$ y del vector $\\vec{b}$, para $N=6$. Imprima estos dos resultados en el notebook.\n",
    "\n",
    "$$\n",
    "\\begin{bmatrix}\n",
    "    3 & -1 & -1 & 0 & 0 & 0 \\\\ -1&4&-1&-1&0&0 \\\\\n",
    "    -1&-1&4&-1&-1&0 \\\\\n",
    "    0&-1&-1&4&-1&-1 \\\\\n",
    "    0&0&-1&-1&4&-1 \\\\\n",
    "    0&0&0&-1&-1&3 \\end{bmatrix}\n",
    "    \\begin{bmatrix}\n",
    "     V_1 \\\\  V_2 \\\\ V_3 \\\\ V_4 \\\\ V_5 \\\\ V_6 \\end{bmatrix}\n",
    "     =\n",
    "     \\begin{bmatrix}\n",
    "     5 \\\\  5 \\\\ 0 \\\\ 0 \\\\ 0 \\\\ 0 \\end{bmatrix}\n",
    "$$"
   ]
  },
  {
   "cell_type": "code",
   "execution_count": 35,
   "id": "GpkXxHCNI4s8",
   "metadata": {
    "colab": {
     "base_uri": "https://localhost:8080/"
    },
    "id": "GpkXxHCNI4s8",
    "outputId": "96294798-ee4d-4bbf-84ce-e0bb1db77a37"
   },
   "outputs": [
    {
     "name": "stdout",
     "output_type": "stream",
     "text": [
      "[[ 3 -1 -1  0  0  0]\n",
      " [-1  4 -1 -1  0  0]\n",
      " [-1 -1  4 -1 -1  0]\n",
      " [ 0 -1 -1  4 -1 -1]\n",
      " [ 0  0 -1 -1  4 -1]\n",
      " [ 0  0  0 -1 -1  3]]\n",
      "[5. 5. 0. 0. 0. 0.]\n"
     ]
    }
   ],
   "source": [
    "A = np.zeros((6, 6))\n",
    "b = np.zeros(6)\n",
    "\n",
    "# Tu codigo aqui\n",
    "\n",
    "A = np.array([\n",
    "    [3,-1,-1,0,0,0],\n",
    "    [-1,4,-1,-1,0,0],\n",
    "    [-1,-1,4,-1,-1,0],\n",
    "    [0,-1,-1,4,-1,-1],\n",
    "    [0,0,-1,-1,4,-1],\n",
    "    [0,0,0,-1,-1,3]\n",
    "])\n",
    "\n",
    "b[0] = 5\n",
    "b[1] = 5\n",
    "\n",
    "\n",
    "# Codigo para la verificacion (no modificar)\n",
    "print(A)\n",
    "print(b)\n"
   ]
  },
  {
   "cell_type": "markdown",
   "id": "kiqwGe0VHZ9x",
   "metadata": {
    "id": "kiqwGe0VHZ9x"
   },
   "source": [
    "c) Escriba un programa que resuelva los valores de $V_i$ cuando $N=6$ es decir 6 nodos internos. Guarde e imprima los valores en el vector $\\vec{x}$.\n",
    "\n"
   ]
  },
  {
   "cell_type": "code",
   "execution_count": 36,
   "id": "CEaRvnvBJ9aQ",
   "metadata": {
    "colab": {
     "base_uri": "https://localhost:8080/"
    },
    "id": "CEaRvnvBJ9aQ",
    "outputId": "af70c3d6-85a7-4350-ae41-242c7d110451"
   },
   "outputs": [
    {
     "name": "stdout",
     "output_type": "stream",
     "text": [
      "[3.7254902  3.43137255 2.74509804 2.25490196 1.56862745 1.2745098 ]\n"
     ]
    }
   ],
   "source": [
    "x = np.zeros(6)\n",
    "\n",
    "x = np.linalg.solve(A,b)\n",
    "# Codigo para la verificacion (no modificar)\n",
    "print(x)"
   ]
  },
  {
   "cell_type": "markdown",
   "id": "B3jGZc8JHbkj",
   "metadata": {
    "id": "B3jGZc8JHbkj"
   },
   "source": [
    "d) Encuentre la resistencia total $R_{(N=6)} = \\alpha R$, para la red $N=6$, donde $\\alpha$ es una constante, imprima el valor de $\\alpha$."
   ]
  },
  {
   "cell_type": "code",
   "execution_count": 39,
   "id": "YBQxjpLU1mrU",
   "metadata": {
    "colab": {
     "base_uri": "https://localhost:8080/"
    },
    "id": "YBQxjpLU1mrU",
    "outputId": "19b3458c-de51-49e2-e96a-65ca80067775"
   },
   "outputs": [
    {
     "name": "stdout",
     "output_type": "stream",
     "text": [
      "1.7586206896551737\n"
     ]
    }
   ],
   "source": [
    "alpha = 0\n",
    "\n",
    "# Tu codigo aqui\n",
    "I_total = (5-x[0]) + (5-x[1])\n",
    "V = 5\n",
    "alpha = 5/I_total\n",
    "# Codigo para la verificacion (no modificar)\n",
    "print(alpha)"
   ]
  },
  {
   "cell_type": "markdown",
   "id": "dgShAA91MxJs",
   "metadata": {
    "id": "dgShAA91MxJs"
   },
   "source": [
    "e) Explique qué haría usted para resolver la resistencia equivalente del circuito para un número infinito de nodos. \n",
    "\n",
    "Para hallar la resistencia equivalente para un circuito de un circuito infinito, se usarían las leyes de Ohm y las de Kirchoff para hallar los valores de lo voltajes y luego el de la resistencia total."
   ]
  }
 ],
 "metadata": {
  "colab": {
   "provenance": []
  },
  "kernelspec": {
   "display_name": "Python 3 (ipykernel)",
   "language": "python",
   "name": "python3"
  },
  "language_info": {
   "codemirror_mode": {
    "name": "ipython",
    "version": 3
   },
   "file_extension": ".py",
   "mimetype": "text/x-python",
   "name": "python",
   "nbconvert_exporter": "python",
   "pygments_lexer": "ipython3",
   "version": "3.9.13"
  }
 },
 "nbformat": 4,
 "nbformat_minor": 5
}
