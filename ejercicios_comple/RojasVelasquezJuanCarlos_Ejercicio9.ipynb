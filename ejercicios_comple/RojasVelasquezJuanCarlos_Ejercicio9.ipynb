{
 "cells": [
  {
   "cell_type": "markdown",
   "id": "Ca47pvrzRXMy",
   "metadata": {
    "id": "Ca47pvrzRXMy"
   },
   "source": [
    "## Librerias"
   ]
  },
  {
   "cell_type": "code",
   "execution_count": 3,
   "id": "6f64d18c-e6fe-4328-a15d-9344842eabd1",
   "metadata": {
    "id": "6f64d18c-e6fe-4328-a15d-9344842eabd1"
   },
   "outputs": [],
   "source": [
    "import numpy as np\n",
    "import matplotlib.pyplot as plt"
   ]
  },
  {
   "cell_type": "markdown",
   "id": "XkEKN8o3Lu0o",
   "metadata": {
    "id": "XkEKN8o3Lu0o"
   },
   "source": [
    "## Problema\n",
    "\n",
    "Para el siguiente problema se puede guiar del siguiente notebook [gradiente descendiente](https://github.com/diegour1/CompMetodosComputacionales/blob/main/Notebooks/08%20-%20Gradient_Descent_Neural_Networks.ipynb)\n",
    "\n",
    "Considere el potencial electrico entre dos cargas de la misma magnitud pero de signo opuesto medido en la posición $\\vec{r}$ desde el centro de coordenadas dado por,\n",
    "\n",
    "$$ V(\\vec{r}) = \\frac{q}{4\\pi \\epsilon_0}\\Bigg[\\frac{1}{|\\vec{r}-\\vec{r_+}|}-\\frac{1}{|\\vec{r}-\\vec{r_-}|}\\Bigg], $$\n",
    "\n",
    "donde $\\vec{r_+}$, y $\\vec{r_-}$, son las posiciones de las cargas positivas y negativas respectivamente. En este ejercicio solamente nos vamos a enfocar en las dimensiones $x$ y $y$.\n",
    "\n",
    "Dados los siguientes parametros, \n",
    "\n",
    "$$\\vec{r_+} = (-0.25\\text{ m}, 0), \\quad \\vec{r_-} = (0.25\\text{ m}, 0), \\quad \\frac{q}{4\\pi \\epsilon_0} = 1, $$\n",
    "\n",
    "y que el campo electrico está dado por, \n",
    "\n",
    "$$\\vec{E}(\\vec{r}) = -\\vec{\\nabla} V(\\vec{r}),$$"
   ]
  },
  {
   "cell_type": "markdown",
   "id": "vi77WfbpMLnB",
   "metadata": {
    "id": "vi77WfbpMLnB"
   },
   "source": [
    "a) Escriba la función potencial en términos de $x$ y $y$ e imprima los valores del potencial en el punto $(x, y) = (0, 0)$ y $(x, y) = (0.1, 0)$, $(x, y) = (-0.15, 0.12)$."
   ]
  },
  {
   "cell_type": "code",
   "execution_count": 4,
   "id": "wNVvdgkBLwA5",
   "metadata": {
    "id": "wNVvdgkBLwA5"
   },
   "outputs": [
    {
     "data": {
      "text/plain": [
       "(0.0, -3.8095238095238098, 4.007278283591919)"
      ]
     },
     "execution_count": 4,
     "metadata": {},
     "output_type": "execute_result"
    }
   ],
   "source": [
    "def Potential(x, y):\n",
    "    pos_charge = np.array([-0.25,0.])\n",
    "    neg_charge = np.array([0.25,0.])\n",
    "    point = np.array([x,y])\n",
    "    return 1/np.linalg.norm(point - pos_charge) - 1/np.linalg.norm(point - neg_charge)\n",
    "    \n",
    "# codigo para verificar su resultado no modificar\n",
    "Potential(0, 0), Potential(0.1, 0), Potential(-0.15, 0.12)"
   ]
  },
  {
   "cell_type": "markdown",
   "id": "Twn0pdu1N7kg",
   "metadata": {
    "id": "Twn0pdu1N7kg"
   },
   "source": [
    "b) Calcule la gradiente del potencial, con la formula de derivada central."
   ]
  },
  {
   "cell_type": "code",
   "execution_count": 129,
   "id": "dwchzjJ-M7JO",
   "metadata": {
    "id": "dwchzjJ-M7JO"
   },
   "outputs": [
    {
     "data": {
      "text/plain": [
       "(array([-32.00000512,   0.        ]),\n",
       " array([-45.86693986,  11.5177336 ]),\n",
       " array([-31.72918389, -29.83684152]))"
      ]
     },
     "execution_count": 129,
     "metadata": {},
     "output_type": "execute_result"
    }
   ],
   "source": [
    "def Gradient_xy(f, x, y, h): \n",
    "    grad = np.array([0.,0.])\n",
    "    grad[0] =(f(x+h,y) - f(x-h,y))/(2*h)\n",
    "    grad[1] = (f(x,y+h) - f(x,y-h))/(2*h)\n",
    "    return grad\n",
    "\n",
    "def Electric_field(f,x,y,h):\n",
    "    return -Gradient_xy(f,x,y,h)\n",
    "\n",
    "# codigo para verificar su resultado no modificar\n",
    "Gradient_xy(Potential, 0, 0, 0.0001), Gradient_xy(Potential, 0.1, 0.05, 0.0001), Gradient_xy(Potential, -0.15, 0.12, 0.0001)"
   ]
  },
  {
   "cell_type": "markdown",
   "id": "uKEKtSXYOzLN",
   "metadata": {
    "id": "uKEKtSXYOzLN"
   },
   "source": [
    "c) Empezando en el punto $(x, y) = (0, 0.15)$ implemente el algoritmo de gradiente descendiente. Con pasos 683 pasos de $e = 0.0001$ para el gradiente descendiente y $h = 0.0001$ para la derivada central. Guarde la trayectoria en la variable `trayectory`\n",
    "\n",
    "El algoritmo gradiente descendiente tiene la siguiente forma\n",
    "\n",
    "\n",
    "\n",
    "```\n",
    "loss_function := Potential function that you wish to minimize\n",
    "min_value := initial_value\n",
    "e := the step size of the gradient descent\n",
    "num_steps := num of times that the GD looks for the minima\n",
    "\n",
    "\n",
    "for i in range(num_steps)\n",
    "  min_value = min_value - e * grad_loss_function(min_value)\n",
    "```\n",
    "\n",
    "Puede seguir el siguiente [notebook](https://github.com/diegour1/CompMetodosComputacionales/blob/main/Notebooks/08%20-%20Gradient_Descent_Neural_Networks.ipynb)\n",
    "\n",
    "\n"
   ]
  },
  {
   "cell_type": "code",
   "execution_count": 2,
   "id": "24EohIcKOg6Z",
   "metadata": {
    "id": "24EohIcKOg6Z"
   },
   "outputs": [
    {
     "ename": "NameError",
     "evalue": "name 'np' is not defined",
     "output_type": "error",
     "traceback": [
      "\u001b[1;31m---------------------------------------------------------------------------\u001b[0m",
      "\u001b[1;31mNameError\u001b[0m                                 Traceback (most recent call last)",
      "\u001b[1;32m~\\AppData\\Local\\Temp\\ipykernel_24200\\1166776747.py\u001b[0m in \u001b[0;36m<module>\u001b[1;34m\u001b[0m\n\u001b[0;32m      1\u001b[0m \u001b[0mtrayectory\u001b[0m \u001b[1;33m=\u001b[0m \u001b[1;33m[\u001b[0m\u001b[1;33m]\u001b[0m\u001b[1;33m\u001b[0m\u001b[1;33m\u001b[0m\u001b[0m\n\u001b[0;32m      2\u001b[0m \u001b[1;31m# su codigo aqui\u001b[0m\u001b[1;33m\u001b[0m\u001b[1;33m\u001b[0m\u001b[0m\n\u001b[1;32m----> 3\u001b[1;33m \u001b[0minit_point\u001b[0m \u001b[1;33m=\u001b[0m \u001b[0mnp\u001b[0m\u001b[1;33m.\u001b[0m\u001b[0marray\u001b[0m\u001b[1;33m(\u001b[0m\u001b[1;33m[\u001b[0m\u001b[1;36m0.\u001b[0m\u001b[1;33m,\u001b[0m\u001b[1;36m0.15\u001b[0m\u001b[1;33m]\u001b[0m\u001b[1;33m)\u001b[0m\u001b[1;33m\u001b[0m\u001b[1;33m\u001b[0m\u001b[0m\n\u001b[0m\u001b[0;32m      4\u001b[0m \u001b[1;33m\u001b[0m\u001b[0m\n\u001b[0;32m      5\u001b[0m \u001b[0mgamma\u001b[0m \u001b[1;33m=\u001b[0m \u001b[1;36m0.0001\u001b[0m\u001b[1;33m\u001b[0m\u001b[1;33m\u001b[0m\u001b[0m\n",
      "\u001b[1;31mNameError\u001b[0m: name 'np' is not defined"
     ]
    }
   ],
   "source": [
    "trayectory = []\n",
    "# su codigo aqui\n",
    "init_point = np.array([0.,0.15])\n",
    "\n",
    "gamma = 0.0001\n",
    "N = 683\n",
    "h = 0.0001\n",
    "next_ = init_point\n",
    "\n",
    "for i in range(N):\n",
    "    next_ = next_ - gamma*Gradient_xy(Potential,next_[0],next_[1],h)\n",
    "    trayectory.append(next_.tolist())\n",
    "    if i % 100 == 0:\n",
    "        print(\"Iteración n° %s: %s\"%(i, next_))\n",
    "\n",
    "\n",
    "# codigo para verificar su resultado no modificar\n",
    "print(trayectory[-1])\n"
   ]
  },
  {
   "cell_type": "markdown",
   "id": "mLfPrEKNUo9Q",
   "metadata": {
    "id": "mLfPrEKNUo9Q"
   },
   "source": [
    "d) Gráfique con la misma escala en x y y, las dos cargas y la trayectoria."
   ]
  },
  {
   "cell_type": "code",
   "execution_count": 154,
   "id": "IZUP7xcDQEZl",
   "metadata": {
    "id": "IZUP7xcDQEZl"
   },
   "outputs": [
    {
     "data": {
      "image/png": "[encoded data removed]",
      "text/plain": [
       "<Figure size 640x480 with 1 Axes>"
      ]
     },
     "metadata": {},
     "output_type": "display_data"
    }
   ],
   "source": [
    "# su codigo aqui\n",
    "\n",
    "xticks = np.arange(min(trayectory[:,0]),max(trayectory[:,0]),1).tolist()\n",
    "yticks = np.arange(min(trayectory[:,1]),max(trayectory[:,1]),1).tolist()\n",
    "\n",
    "fig, axs = plt.subplots()\n",
    "\n",
    "axs.scatter(trayectory[:,0],trayectory[:,1])\n",
    "axs.set_yticks(yticks)\n",
    "axs.set_xticks(xticks)\n",
    "\n",
    "plt.show()\n"
   ]
  },
  {
   "cell_type": "markdown",
   "id": "1P6GEJVQV1Oc",
   "metadata": {
    "id": "1P6GEJVQV1Oc"
   },
   "source": [
    "e) ¿Qué significa físicamente la trayectoria?"
   ]
  },
  {
   "cell_type": "markdown",
   "id": "31c2eb0c",
   "metadata": {},
   "source": [
    "La trayectoria representa la evolución del sistema de prueba en el campo eléctrico generado por las dos cargas puntuales. Cada punto en la trayectoria representa la posición del sistema en un momento dado, y la dirección de la trayectoria indica la dirección en la que se mueve el sistema en ese momento."
   ]
  }
 ],
 "metadata": {
  "colab": {
   "provenance": []
  },
  "kernelspec": {
   "display_name": "Python 3 (ipykernel)",
   "language": "python",
   "name": "python3"
  },
  "language_info": {
   "codemirror_mode": {
    "name": "ipython",
    "version": 3
   },
   "file_extension": ".py",
   "mimetype": "text/x-python",
   "name": "python",
   "nbconvert_exporter": "python",
   "pygments_lexer": "ipython3",
   "version": "3.9.13"
  }
 },
 "nbformat": 4,
 "nbformat_minor": 5
}
