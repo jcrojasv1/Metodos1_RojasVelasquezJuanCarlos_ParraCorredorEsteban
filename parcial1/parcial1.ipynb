{
 "cells": [
  {
   "cell_type": "markdown",
   "metadata": {},
   "source": [
    "# Parcial 1. Métodos Computacionales"
   ]
  },
  {
   "cell_type": "markdown",
   "metadata": {},
   "source": [
    "## Punto 1"
   ]
  },
  {
   "cell_type": "code",
   "execution_count": 6,
   "metadata": {},
   "outputs": [],
   "source": [
    "import numpy as np\n",
    "import sympy as sym"
   ]
  },
  {
   "cell_type": "code",
   "execution_count": 10,
   "metadata": {},
   "outputs": [],
   "source": [
    "def Lagrange(x,xi,j):\n",
    "    \n",
    "    prod = 1\n",
    "    n = len(xi)\n",
    "    \n",
    "    for i in range(n):\n",
    "        if i != j:\n",
    "            prod *= (x - xi[i])/(xi[j]-xi[i])\n",
    "            \n",
    "    return prod\n",
    "\n",
    "def GetCoefficients(x,p,X):\n",
    "    Coefficients = []\n",
    "    for i in range(len(X)):\n",
    "        Li = Lagrange(x,X,i)\n",
    "        dLi = sym.diff(Li,x,1)\n",
    "        C = dLi.subs(x,X[p])\n",
    "        Coefficients.append(C)\n",
    "    return Coefficients\n",
    "\n",
    "    "
   ]
  },
  {
   "cell_type": "code",
   "execution_count": 13,
   "metadata": {},
   "outputs": [
    {
     "data": {
      "text/plain": [
       "[1/(12*h), -2/(3*h), 0, 2/(3*h), -1/(12*h)]"
      ]
     },
     "execution_count": 13,
     "metadata": {},
     "output_type": "execute_result"
    }
   ],
   "source": [
    "x = sym.Symbol(\"x\",real=True)\n",
    "h= sym.Symbol(\"h\",real=True)\n",
    "X = [-2*h,-h,0,h,2*h]\n",
    "\n",
    "GetCoefficients(x,2,X)"
   ]
  },
  {
   "cell_type": "markdown",
   "metadata": {},
   "source": [
    "**¿Cuál es el orden de aproximación $\\mathcal{O}(h^k)$?**\n",
    "\n",
    "El orden de aproximación es $\\mathcal{O}(h^4).$ Luego, las derivadas son la suma de los coeficientes.\n"
   ]
  },
  {
   "cell_type": "code",
   "execution_count": null,
   "metadata": {},
   "outputs": [],
   "source": []
  }
 ],
 "metadata": {
  "kernelspec": {
   "display_name": "Python 3 (ipykernel)",
   "language": "python",
   "name": "python3"
  },
  "language_info": {
   "codemirror_mode": {
    "name": "ipython",
    "version": 3
   },
   "file_extension": ".py",
   "mimetype": "text/x-python",
   "name": "python",
   "nbconvert_exporter": "python",
   "pygments_lexer": "ipython3",
   "version": "3.9.13"
  },
  "vscode": {
   "interpreter": {
    "hash": "c9f69d3aee71be54776a55aa2ba674df24312f89c0df54b2489c83ea19829380"
   }
  }
 },
 "nbformat": 4,
 "nbformat_minor": 2
}
