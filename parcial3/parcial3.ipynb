{
 "cells": [
  {
   "cell_type": "code",
   "execution_count": 117,
   "id": "f3ba9c92",
   "metadata": {},
   "outputs": [],
   "source": [
    "import numpy as np\n",
    "import sympy as sym\n",
    "import matplotlib.pyplot as plt\n",
    "\n",
    "x,y = sym.symbols(\"x y\",real=True)"
   ]
  },
  {
   "cell_type": "code",
   "execution_count": 118,
   "id": "abbaadd0",
   "metadata": {},
   "outputs": [],
   "source": [
    "z = x + sym.I*y"
   ]
  },
  {
   "cell_type": "code",
   "execution_count": 119,
   "id": "2ada7097",
   "metadata": {},
   "outputs": [],
   "source": [
    "def function(z):\n",
    "    return z**3 - 1"
   ]
  },
  {
   "cell_type": "code",
   "execution_count": 120,
   "id": "73da4a42",
   "metadata": {},
   "outputs": [],
   "source": [
    "F_ = [sym.re(function(z)),sym.im(function(z))]"
   ]
  },
  {
   "cell_type": "code",
   "execution_count": 121,
   "id": "7764a81f",
   "metadata": {},
   "outputs": [],
   "source": [
    "X = [x,y]\n",
    "\n",
    "def Jacobian(F,X):\n",
    "    J = [[None,None],[None,None]]\n",
    "    for i in range(len(F)):\n",
    "        for j in range(len(X)):\n",
    "            J[i][j] = sym.diff(F[i],X[j])\n",
    "    return sym.Matrix(J)\n",
    "\n",
    "J = sym.lambdify([x,y],Jacobian(F,X),\"numpy\")\n",
    "Fn = sym.lambdify([x,y],F,'numpy')"
   ]
  },
  {
   "cell_type": "code",
   "execution_count": 122,
   "id": "a7ec4ef1",
   "metadata": {},
   "outputs": [
    {
     "data": {
      "text/latex": [
       "$\\displaystyle -0.5 + \\frac{\\sqrt{3} i}{2}$"
      ],
      "text/plain": [
       "-0.5 + sqrt(3)*I/2"
      ]
     },
     "execution_count": 122,
     "metadata": {},
     "output_type": "execute_result"
    }
   ],
   "source": [
    "z0 = -1/2 + sym.sqrt(3)/2*sym.I\n",
    "z0"
   ]
  },
  {
   "cell_type": "code",
   "execution_count": 123,
   "id": "ba244fae",
   "metadata": {},
   "outputs": [
    {
     "name": "stdout",
     "output_type": "stream",
     "text": [
      "[-0.49999997  0.86602543]\n"
     ]
    }
   ],
   "source": [
    "def NewtonRaphson(F,J,z0,itmax = 1000,epsilon= 1e-7):\n",
    "    i = 0\n",
    "    zn_1 = z0\n",
    "    while i < itmax:\n",
    "        i+=1\n",
    "        zn = zn_1 - np.linalg.inv(J(zn_1[0],zn_1[1]))@Fn(zn_1[0],zn_1[1])\n",
    "        if np.linalg.norm(zn - zn_1) <= epsilon:\n",
    "            break\n",
    "        zn_1 = zn\n",
    "    return zn_1\n",
    "    \n",
    "z = NewtonRaphson(Fn,J,[0.5,0.5])\n",
    "print(z)"
   ]
  },
  {
   "cell_type": "code",
   "execution_count": null,
   "id": "b5e16cea",
   "metadata": {},
   "outputs": [],
   "source": [
    "N = 500\n",
    "x_ = np.linspace(-1,1,N)\n",
    "y_ = np.linspace(-1,1,N)\n",
    "Fractal = np.zeros((N,N),np.int64)\n",
    "z0 = np.array([-0.5,np.sqrt(3)/2])\n",
    "z1 = np.array([-0.5,-np.sqrt(3)/2])\n",
    "z2 = np.array([1,0])\n",
    "\n",
    "for i in range(len(x_)):\n",
    "    for j in range(len(y_)):\n",
    "        root = NewtonRaphson(Fn,J,[x_[i],y_[j]])\n",
    "        if np.linalg.norm(root -z0) <= 1e-7:\n",
    "            Fractal[i][j] = 20\n",
    "        elif np.linalg.norm(root -z1) <= 1e-7:\n",
    "            Fractal[i][j] = 100\n",
    "        else:\n",
    "            Fractal[i][j] = 255\n",
    "plt.imshow(Fractal, cmap = \"coolwarm\", extent = [-1,1,-1,1])\n",
    "                        "
   ]
  },
  {
   "cell_type": "code",
   "execution_count": null,
   "id": "77731baf",
   "metadata": {},
   "outputs": [],
   "source": []
  }
 ],
 "metadata": {
  "kernelspec": {
   "display_name": "Python 3 (ipykernel)",
   "language": "python",
   "name": "python3"
  },
  "language_info": {
   "codemirror_mode": {
    "name": "ipython",
    "version": 3
   },
   "file_extension": ".py",
   "mimetype": "text/x-python",
   "name": "python",
   "nbconvert_exporter": "python",
   "pygments_lexer": "ipython3",
   "version": "3.9.13"
  }
 },
 "nbformat": 4,
 "nbformat_minor": 5
}
