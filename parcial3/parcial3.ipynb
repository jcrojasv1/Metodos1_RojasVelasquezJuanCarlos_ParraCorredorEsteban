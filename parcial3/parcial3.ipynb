{
 "cells": [
  {
   "cell_type": "code",
   "execution_count": 3,
   "id": "384c335e",
   "metadata": {},
   "outputs": [],
   "source": [
    "# Newton-Pahson generalizado\n",
    "import numpy as np\n",
    "import sympy as sym\n",
    "\n",
    "x1,x2 = sym.symbols('x_1 x_2',real=True)\n",
    "\n",
    "f1 = sym.log(x1**2 + x2**2) - sym.sin(x1*x2) - sym.log(2*sym.pi)\n",
    "f2 = sym.exp(x1 - x2) + sym.cos(x1*x2)\n",
    "\n",
    "F = np.array([f1,f2])\n",
    "X = np.array([x1,x2])\n",
    "\n",
    "def Jacobian(F,X):\n",
    "    J = np.matrix([[None,None],[None,None]])\n",
    "    for i in range(F.size):\n",
    "        for j in range(X.size):\n",
    "            J[i,j] = sym.lambdify([x1,x2],sym.diff(F[i],X[j]))\n",
    "    return J\n",
    "\n",
    "Jacobian(F,X)\n",
    "\n",
    "\n",
    "\n",
    "import numpy as np\n",
    "\n",
    "def newton_raphson_system(f, jacobian, x0, tol=1e-6, max_iter=100):\n",
    "    x = np.array(x0)\n",
    "    for i in range(max_iter):\n",
    "        f_eval = f(x)\n",
    "        jacobian_eval = jacobian(x)\n",
    "        dx = np.linalg.solve(jacobian_eval, -f_eval)\n",
    "        x += dx\n",
    "        if np.allclose(f_eval, 0, atol=tol):\n",
    "            return x\n",
    "    raise ValueError(\"El método de Newton-Raphson no converge.\")\n"
   ]
  },
  {
   "cell_type": "code",
   "execution_count": 4,
   "id": "f3ba9c92",
   "metadata": {},
   "outputs": [],
   "source": [
    "x,y = sym.symbols(\"x y\",real=True)"
   ]
  },
  {
   "cell_type": "code",
   "execution_count": 5,
   "id": "c955fd31",
   "metadata": {},
   "outputs": [],
   "source": [
    "z = x + sym.I*y"
   ]
  },
  {
   "cell_type": "code",
   "execution_count": 6,
   "id": "8ff84c67",
   "metadata": {},
   "outputs": [],
   "source": [
    "def function(z):\n",
    "    return z**3 - 1"
   ]
  },
  {
   "cell_type": "code",
   "execution_count": 33,
   "id": "2af654d3",
   "metadata": {},
   "outputs": [],
   "source": [
    "F_ = [sym.re(function(z)),sym.im(function(z))]\n"
   ]
  },
  {
   "cell_type": "code",
   "execution_count": 72,
   "id": "896d6e96",
   "metadata": {},
   "outputs": [],
   "source": [
    "X = [x,y]\n",
    "\n",
    "def Jacobian(F,X,z):\n",
    "    J = np.array([[None,None],[None,None]])\n",
    "    for i in range(len(F)):\n",
    "        for j in range(len(X)):\n",
    "            J[i,j] = sym.lambdify([x,y],sym.diff(F[i],X[j]),\"numpy\")(z[0],z[1])\n",
    "    return J\n",
    "\n",
    "J = Jacobian(F,X,[-0.5,1])\n",
    "Fn = sym.lambdify([x,y],F,'numpy')\n"
   ]
  },
  {
   "cell_type": "code",
   "execution_count": 73,
   "id": "df19a795",
   "metadata": {},
   "outputs": [
    {
     "data": {
      "text/latex": [
       "$\\displaystyle -0.5 + \\frac{\\sqrt{3} i}{2}$"
      ],
      "text/plain": [
       "-0.5 + sqrt(3)*I/2"
      ]
     },
     "execution_count": 73,
     "metadata": {},
     "output_type": "execute_result"
    }
   ],
   "source": [
    "z0 = -1/2 + sym.sqrt(3)/2*sym.I\n",
    "z0"
   ]
  },
  {
   "cell_type": "code",
   "execution_count": 75,
   "id": "949659d6",
   "metadata": {},
   "outputs": [
    {
     "name": "stdout",
     "output_type": "stream",
     "text": [
      "<class 'list'>\n"
     ]
    },
    {
     "ename": "UFuncTypeError",
     "evalue": "Cannot cast ufunc 'inv' input from dtype('O') to dtype('float64') with casting rule 'same_kind'",
     "output_type": "error",
     "traceback": [
      "\u001b[1;31m---------------------------------------------------------------------------\u001b[0m",
      "\u001b[1;31mUFuncTypeError\u001b[0m                            Traceback (most recent call last)",
      "\u001b[1;32m~\\AppData\\Local\\Temp\\ipykernel_6948\\3785602619.py\u001b[0m in \u001b[0;36m<module>\u001b[1;34m\u001b[0m\n\u001b[0;32m     12\u001b[0m     \u001b[1;32mreturn\u001b[0m \u001b[0mzn\u001b[0m\u001b[1;33m\u001b[0m\u001b[1;33m\u001b[0m\u001b[0m\n\u001b[0;32m     13\u001b[0m \u001b[1;33m\u001b[0m\u001b[0m\n\u001b[1;32m---> 14\u001b[1;33m \u001b[0mNewtonRaphson\u001b[0m\u001b[1;33m(\u001b[0m\u001b[0mFn\u001b[0m\u001b[1;33m,\u001b[0m\u001b[0mz0\u001b[0m\u001b[1;33m)\u001b[0m\u001b[1;33m\u001b[0m\u001b[1;33m\u001b[0m\u001b[0m\n\u001b[0m",
      "\u001b[1;32m~\\AppData\\Local\\Temp\\ipykernel_6948\\3785602619.py\u001b[0m in \u001b[0;36mNewtonRaphson\u001b[1;34m(F, z0, itmax, epsilon)\u001b[0m\n\u001b[0;32m      5\u001b[0m         \u001b[0mi\u001b[0m \u001b[1;33m+=\u001b[0m \u001b[1;36m1\u001b[0m\u001b[1;33m\u001b[0m\u001b[1;33m\u001b[0m\u001b[0m\n\u001b[0;32m      6\u001b[0m         \u001b[0mprint\u001b[0m\u001b[1;33m(\u001b[0m\u001b[0mtype\u001b[0m\u001b[1;33m(\u001b[0m\u001b[0mzn_1\u001b[0m\u001b[1;33m)\u001b[0m\u001b[1;33m)\u001b[0m\u001b[1;33m\u001b[0m\u001b[1;33m\u001b[0m\u001b[0m\n\u001b[1;32m----> 7\u001b[1;33m         \u001b[0mprint\u001b[0m\u001b[1;33m(\u001b[0m\u001b[0mnp\u001b[0m\u001b[1;33m.\u001b[0m\u001b[0mlinalg\u001b[0m\u001b[1;33m.\u001b[0m\u001b[0minv\u001b[0m\u001b[1;33m(\u001b[0m\u001b[0mJacobian\u001b[0m\u001b[1;33m(\u001b[0m\u001b[0mF_\u001b[0m\u001b[1;33m,\u001b[0m\u001b[0mX\u001b[0m\u001b[1;33m,\u001b[0m\u001b[0mzn_1\u001b[0m\u001b[1;33m)\u001b[0m\u001b[1;33m)\u001b[0m\u001b[1;33m)\u001b[0m\u001b[1;33m\u001b[0m\u001b[1;33m\u001b[0m\u001b[0m\n\u001b[0m\u001b[0;32m      8\u001b[0m         \u001b[0mzn\u001b[0m \u001b[1;33m=\u001b[0m \u001b[0mzn_1\u001b[0m \u001b[1;33m-\u001b[0m \u001b[0mnp\u001b[0m\u001b[1;33m.\u001b[0m\u001b[0mdot\u001b[0m\u001b[1;33m(\u001b[0m\u001b[0mnp\u001b[0m\u001b[1;33m.\u001b[0m\u001b[0mlinalg\u001b[0m\u001b[1;33m.\u001b[0m\u001b[0minv\u001b[0m\u001b[1;33m(\u001b[0m\u001b[0mJacobian\u001b[0m\u001b[1;33m(\u001b[0m\u001b[0mF_\u001b[0m\u001b[1;33m,\u001b[0m\u001b[0mX\u001b[0m\u001b[1;33m,\u001b[0m\u001b[0mzn_1\u001b[0m\u001b[1;33m)\u001b[0m\u001b[1;33m)\u001b[0m\u001b[1;33m,\u001b[0m\u001b[0mnp\u001b[0m\u001b[1;33m.\u001b[0m\u001b[0marray\u001b[0m\u001b[1;33m(\u001b[0m\u001b[0mFn\u001b[0m\u001b[1;33m(\u001b[0m\u001b[0mzn_1\u001b[0m\u001b[1;33m[\u001b[0m\u001b[1;36m0\u001b[0m\u001b[1;33m]\u001b[0m\u001b[1;33m,\u001b[0m\u001b[0mzn_1\u001b[0m\u001b[1;33m[\u001b[0m\u001b[1;36m1\u001b[0m\u001b[1;33m]\u001b[0m\u001b[1;33m)\u001b[0m\u001b[1;33m)\u001b[0m\u001b[1;33m)\u001b[0m\u001b[1;33m\u001b[0m\u001b[1;33m\u001b[0m\u001b[0m\n\u001b[0;32m      9\u001b[0m         \u001b[0mzn_1\u001b[0m \u001b[1;33m=\u001b[0m \u001b[0mzn\u001b[0m\u001b[1;33m\u001b[0m\u001b[1;33m\u001b[0m\u001b[0m\n",
      "\u001b[1;32m<__array_function__ internals>\u001b[0m in \u001b[0;36minv\u001b[1;34m(*args, **kwargs)\u001b[0m\n",
      "\u001b[1;32m~\\anaconda3\\lib\\site-packages\\numpy\\linalg\\linalg.py\u001b[0m in \u001b[0;36minv\u001b[1;34m(a)\u001b[0m\n\u001b[0;32m    543\u001b[0m     \u001b[0msignature\u001b[0m \u001b[1;33m=\u001b[0m \u001b[1;34m'D->D'\u001b[0m \u001b[1;32mif\u001b[0m \u001b[0misComplexType\u001b[0m\u001b[1;33m(\u001b[0m\u001b[0mt\u001b[0m\u001b[1;33m)\u001b[0m \u001b[1;32melse\u001b[0m \u001b[1;34m'd->d'\u001b[0m\u001b[1;33m\u001b[0m\u001b[1;33m\u001b[0m\u001b[0m\n\u001b[0;32m    544\u001b[0m     \u001b[0mextobj\u001b[0m \u001b[1;33m=\u001b[0m \u001b[0mget_linalg_error_extobj\u001b[0m\u001b[1;33m(\u001b[0m\u001b[0m_raise_linalgerror_singular\u001b[0m\u001b[1;33m)\u001b[0m\u001b[1;33m\u001b[0m\u001b[1;33m\u001b[0m\u001b[0m\n\u001b[1;32m--> 545\u001b[1;33m     \u001b[0mainv\u001b[0m \u001b[1;33m=\u001b[0m \u001b[0m_umath_linalg\u001b[0m\u001b[1;33m.\u001b[0m\u001b[0minv\u001b[0m\u001b[1;33m(\u001b[0m\u001b[0ma\u001b[0m\u001b[1;33m,\u001b[0m \u001b[0msignature\u001b[0m\u001b[1;33m=\u001b[0m\u001b[0msignature\u001b[0m\u001b[1;33m,\u001b[0m \u001b[0mextobj\u001b[0m\u001b[1;33m=\u001b[0m\u001b[0mextobj\u001b[0m\u001b[1;33m)\u001b[0m\u001b[1;33m\u001b[0m\u001b[1;33m\u001b[0m\u001b[0m\n\u001b[0m\u001b[0;32m    546\u001b[0m     \u001b[1;32mreturn\u001b[0m \u001b[0mwrap\u001b[0m\u001b[1;33m(\u001b[0m\u001b[0mainv\u001b[0m\u001b[1;33m.\u001b[0m\u001b[0mastype\u001b[0m\u001b[1;33m(\u001b[0m\u001b[0mresult_t\u001b[0m\u001b[1;33m,\u001b[0m \u001b[0mcopy\u001b[0m\u001b[1;33m=\u001b[0m\u001b[1;32mFalse\u001b[0m\u001b[1;33m)\u001b[0m\u001b[1;33m)\u001b[0m\u001b[1;33m\u001b[0m\u001b[1;33m\u001b[0m\u001b[0m\n\u001b[0;32m    547\u001b[0m \u001b[1;33m\u001b[0m\u001b[0m\n",
      "\u001b[1;31mUFuncTypeError\u001b[0m: Cannot cast ufunc 'inv' input from dtype('O') to dtype('float64') with casting rule 'same_kind'"
     ]
    }
   ],
   "source": [
    "def NewtonRaphson(F,z0,itmax = 1000,epsilon = 1e-7):\n",
    "    zn_1 = [sym.re(z0).evalf(),sym.im(z0).evalf()]\n",
    "    i = 0\n",
    "    while True:\n",
    "        i += 1\n",
    "        print(type(zn_1))\n",
    "        print(np.linalg.inv(Jacobian(F_,X,zn_1)))\n",
    "        zn = zn_1 - np.dot(np.linalg.inv(Jacobian(F_,X,zn_1)),np.array(Fn(zn_1[0],zn_1[1])))\n",
    "        zn_1 = zn\n",
    "        if np.linalg.norm(zn - zn_1) < epsilon or i == itmax:\n",
    "            break\n",
    "    return zn\n",
    "\n",
    "NewtonRaphson(Fn,z0)"
   ]
  },
  {
   "cell_type": "code",
   "execution_count": null,
   "id": "a56f47ad",
   "metadata": {},
   "outputs": [],
   "source": []
  }
 ],
 "metadata": {
  "kernelspec": {
   "display_name": "Python 3 (ipykernel)",
   "language": "python",
   "name": "python3"
  },
  "language_info": {
   "codemirror_mode": {
    "name": "ipython",
    "version": 3
   },
   "file_extension": ".py",
   "mimetype": "text/x-python",
   "name": "python",
   "nbconvert_exporter": "python",
   "pygments_lexer": "ipython3",
   "version": "3.9.13"
  }
 },
 "nbformat": 4,
 "nbformat_minor": 5
}
