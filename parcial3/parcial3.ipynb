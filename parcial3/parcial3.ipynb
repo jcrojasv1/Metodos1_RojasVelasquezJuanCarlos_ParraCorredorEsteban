{
 "cells": [
  {
   "cell_type": "code",
   "execution_count": 4,
   "id": "f3ba9c92",
   "metadata": {},
   "outputs": [],
   "source": [
    "x,y = sym.symbols(\"x y\",real=True)"
   ]
  },
  {
   "cell_type": "code",
   "execution_count": 5,
   "id": "5633fd8e",
   "metadata": {},
   "outputs": [],
   "source": [
    "z = x + sym.I*y"
   ]
  },
  {
   "cell_type": "code",
   "execution_count": 6,
   "id": "5202fab1",
   "metadata": {},
   "outputs": [],
   "source": [
    "def function(z):\n",
    "    return z**3 - 1"
   ]
  },
  {
   "cell_type": "code",
   "execution_count": 33,
   "id": "30daaf83",
   "metadata": {},
   "outputs": [],
   "source": [
    "F_ = [sym.re(function(z)),sym.im(function(z))]\n"
   ]
  },
  {
   "cell_type": "code",
   "execution_count": 93,
   "id": "155a6315",
   "metadata": {},
   "outputs": [
    {
     "name": "stdout",
     "output_type": "stream",
     "text": [
      "<function _lambdifygenerated at 0x000002CAA655A9D0>\n"
     ]
    }
   ],
   "source": [
    "X = [x,y]\n",
    "\n",
    "def Jacobian(F,X):\n",
    "    J = [[None,None],[None,None]]\n",
    "    for i in range(len(F)):\n",
    "        for j in range(len(X)):\n",
    "            J[i][j] = sym.diff(F[i],X[j])\n",
    "    return sym.Matrix(J)\n",
    "\n",
    "J = sym.lambdify([x,y],Jacobian(F,X),\"numpy\")\n",
    "Fn = sym.lambdify([x,y],F,'numpy')"
   ]
  },
  {
   "cell_type": "code",
   "execution_count": 83,
   "id": "0e7c329f",
   "metadata": {},
   "outputs": [
    {
     "data": {
      "text/latex": [
       "$\\displaystyle -0.5 + \\frac{\\sqrt{3} i}{2}$"
      ],
      "text/plain": [
       "-0.5 + sqrt(3)*I/2"
      ]
     },
     "execution_count": 83,
     "metadata": {},
     "output_type": "execute_result"
    }
   ],
   "source": [
    "z0 = -1/2 + sym.sqrt(3)/2*sym.I\n",
    "z0"
   ]
  },
  {
   "cell_type": "code",
   "execution_count": 103,
   "id": "44392c0b",
   "metadata": {},
   "outputs": [
    {
     "name": "stdout",
     "output_type": "stream",
     "text": [
      "[-0.49999997  0.86602543]\n"
     ]
    }
   ],
   "source": [
    "def NewtonRaphson(F,J,z0,itmax = 1000,e= 1e-7):\n",
    "    i = 0\n",
    "    zn_1 = z0\n",
    "    while i < itmax:\n",
    "        i+=1\n",
    "        zn = zn_1 - np.linalg.inv(J(zn_1[0],zn_1[1]))@Fn(zn_1[0],zn_1[1])\n",
    "        if np.linalg.norm(zn - zn_1) <= e:\n",
    "            break\n",
    "        zn_1 = zn\n",
    "    return zn_1\n",
    "    \n",
    "z = NewtonRaphson(Fn,J,[0.5,0.5])\n",
    "print(z)"
   ]
  },
  {
   "cell_type": "code",
   "execution_count": null,
   "id": "c312aef8",
   "metadata": {},
   "outputs": [],
   "source": []
  }
 ],
 "metadata": {
  "kernelspec": {
   "display_name": "Python 3 (ipykernel)",
   "language": "python",
   "name": "python3"
  },
  "language_info": {
   "codemirror_mode": {
    "name": "ipython",
    "version": 3
   },
   "file_extension": ".py",
   "mimetype": "text/x-python",
   "name": "python",
   "nbconvert_exporter": "python",
   "pygments_lexer": "ipython3",
   "version": "3.9.13"
  }
 },
 "nbformat": 4,
 "nbformat_minor": 5
}
