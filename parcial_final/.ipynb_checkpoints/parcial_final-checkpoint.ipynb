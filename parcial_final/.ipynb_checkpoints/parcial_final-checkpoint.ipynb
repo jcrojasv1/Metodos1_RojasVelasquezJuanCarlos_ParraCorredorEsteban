{
 "cells": [
  {
   "cell_type": "code",
   "execution_count": 28,
   "id": "101fb41d",
   "metadata": {},
   "outputs": [],
   "source": [
    "import numpy as np\n",
    "import matplotlib.pyplot as plt\n",
    "import pandas as pd\n",
    "\n",
    "import sympy as sym\n",
    "from scipy.stats import chi2\n",
    "import scipy.optimize as spo\n",
    "\n",
    "import os\n",
    "import os.path as path\n",
    "import wget"
   ]
  },
  {
   "cell_type": "code",
   "execution_count": 16,
   "id": "aaccfefa",
   "metadata": {},
   "outputs": [],
   "source": [
    "if not path.exists('Data'):\n",
    "    os.mkdir('Data')\n",
    "\n",
    "file = 'Data/DataRotacion.csv'\n",
    "\n",
    "url = 'https://raw.githubusercontent.com/asegura4488/Database/main/MetodosComputacionalesReforma/DataRotacion.csv'\n",
    "\n",
    "if not path.exists(file):\n",
    "    Path_ = wget.download(url,file)\n",
    "    print('File loaded')\n",
    "else:\n",
    "    Path_ = file"
   ]
  },
  {
   "cell_type": "code",
   "execution_count": 25,
   "id": "ba381efc",
   "metadata": {
    "scrolled": true
   },
   "outputs": [
    {
     "data": {
      "text/html": [
       "<div>\n",
       "<style scoped>\n",
       "    .dataframe tbody tr th:only-of-type {\n",
       "        vertical-align: middle;\n",
       "    }\n",
       "\n",
       "    .dataframe tbody tr th {\n",
       "        vertical-align: top;\n",
       "    }\n",
       "\n",
       "    .dataframe thead th {\n",
       "        text-align: right;\n",
       "    }\n",
       "</style>\n",
       "<table border=\"1\" class=\"dataframe\">\n",
       "  <thead>\n",
       "    <tr style=\"text-align: right;\">\n",
       "      <th></th>\n",
       "      <th>h</th>\n",
       "      <th>angle</th>\n",
       "      <th>y</th>\n",
       "      <th>sigmay</th>\n",
       "    </tr>\n",
       "  </thead>\n",
       "  <tbody>\n",
       "    <tr>\n",
       "      <th>20</th>\n",
       "      <td>10.0</td>\n",
       "      <td>30.0</td>\n",
       "      <td>0.0013</td>\n",
       "      <td>0.0015</td>\n",
       "    </tr>\n",
       "    <tr>\n",
       "      <th>21</th>\n",
       "      <td>20.0</td>\n",
       "      <td>30.0</td>\n",
       "      <td>0.0017</td>\n",
       "      <td>0.0015</td>\n",
       "    </tr>\n",
       "    <tr>\n",
       "      <th>22</th>\n",
       "      <td>30.0</td>\n",
       "      <td>30.0</td>\n",
       "      <td>0.0038</td>\n",
       "      <td>0.0015</td>\n",
       "    </tr>\n",
       "    <tr>\n",
       "      <th>23</th>\n",
       "      <td>40.0</td>\n",
       "      <td>30.0</td>\n",
       "      <td>0.0059</td>\n",
       "      <td>0.0015</td>\n",
       "    </tr>\n",
       "    <tr>\n",
       "      <th>24</th>\n",
       "      <td>50.0</td>\n",
       "      <td>30.0</td>\n",
       "      <td>0.0067</td>\n",
       "      <td>0.0015</td>\n",
       "    </tr>\n",
       "    <tr>\n",
       "      <th>25</th>\n",
       "      <td>60.0</td>\n",
       "      <td>30.0</td>\n",
       "      <td>0.0094</td>\n",
       "      <td>0.0015</td>\n",
       "    </tr>\n",
       "    <tr>\n",
       "      <th>26</th>\n",
       "      <td>70.0</td>\n",
       "      <td>30.0</td>\n",
       "      <td>0.0122</td>\n",
       "      <td>0.0015</td>\n",
       "    </tr>\n",
       "    <tr>\n",
       "      <th>27</th>\n",
       "      <td>80.0</td>\n",
       "      <td>30.0</td>\n",
       "      <td>0.0132</td>\n",
       "      <td>0.0015</td>\n",
       "    </tr>\n",
       "    <tr>\n",
       "      <th>28</th>\n",
       "      <td>90.0</td>\n",
       "      <td>30.0</td>\n",
       "      <td>0.0151</td>\n",
       "      <td>0.0015</td>\n",
       "    </tr>\n",
       "    <tr>\n",
       "      <th>29</th>\n",
       "      <td>100.0</td>\n",
       "      <td>30.0</td>\n",
       "      <td>0.0186</td>\n",
       "      <td>0.0015</td>\n",
       "    </tr>\n",
       "  </tbody>\n",
       "</table>\n",
       "</div>"
      ],
      "text/plain": [
       "        h  angle       y  sigmay\n",
       "20   10.0   30.0  0.0013  0.0015\n",
       "21   20.0   30.0  0.0017  0.0015\n",
       "22   30.0   30.0  0.0038  0.0015\n",
       "23   40.0   30.0  0.0059  0.0015\n",
       "24   50.0   30.0  0.0067  0.0015\n",
       "25   60.0   30.0  0.0094  0.0015\n",
       "26   70.0   30.0  0.0122  0.0015\n",
       "27   80.0   30.0  0.0132  0.0015\n",
       "28   90.0   30.0  0.0151  0.0015\n",
       "29  100.0   30.0  0.0186  0.0015"
      ]
     },
     "execution_count": 25,
     "metadata": {},
     "output_type": "execute_result"
    }
   ],
   "source": [
    "Data = pd.read_csv(Path_)\n",
    "filtro = Data[\"angle\"] == 30\n",
    "resultado = Data[filtro]\n",
    "resultado"
   ]
  },
  {
   "cell_type": "code",
   "execution_count": 49,
   "id": "eeaa846a",
   "metadata": {
    "scrolled": false
   },
   "outputs": [
    {
     "name": "stdout",
     "output_type": "stream",
     "text": [
      "Optimization terminated successfully.\n",
      "         Current function value: 1.145718\n",
      "         Iterations: 3\n",
      "         Function evaluations: 8\n",
      "         Gradient evaluations: 4\n"
     ]
    },
    {
     "data": {
      "image/png": "[encoded data removed]",
      "text/plain": [
       "<Figure size 640x480 with 1 Axes>"
      ]
     },
     "metadata": {},
     "output_type": "display_data"
    }
   ],
   "source": [
    "y_ = resultado[\"y\"]\n",
    "h_ =  resultado[\"h\"]\n",
    "sigmay_ = resultado[\"sigmay\"]\n",
    "\n",
    "plt.errorbar(h_,y_,sigmay_,fmt=\"*\")\n",
    "\n",
    "def GetModel(h,lamb,p,g=9.81):\n",
    "    y = 2*np.sqrt(2)*(1/3)*p*np.cos(np.deg2rad(lamb))*np.sqrt(h**3/g)\n",
    "    return y\n",
    "\n",
    "def Chi2(p,h,y,sigmay,angle=30,g=9.81):\n",
    "    return np.sum((y - GetModel(h,angle,p))**2/(2*sigmay**2))\n",
    "\n",
    "p = np.ones(1)\n",
    "\n",
    "nll = lambda *p: Chi2(*p)\n",
    "result = spo.minimize(nll,p, args=(h_,y_,sigmay_),options={'disp':True})"
   ]
  },
  {
   "cell_type": "code",
   "execution_count": 51,
   "id": "ce93093d",
   "metadata": {},
   "outputs": [
    {
     "data": {
      "text/plain": [
       "array([7.24399804e-05])"
      ]
     },
     "execution_count": 51,
     "metadata": {},
     "output_type": "execute_result"
    }
   ],
   "source": [
    "#Obtención de omega\n",
    "omega = result.x\n",
    "omega"
   ]
  },
  {
   "cell_type": "code",
   "execution_count": 52,
   "id": "c643089a",
   "metadata": {},
   "outputs": [
    {
     "data": {
      "text/plain": [
       "[<matplotlib.lines.Line2D at 0x1ca56f7c220>]"
      ]
     },
     "execution_count": 52,
     "metadata": {},
     "output_type": "execute_result"
    },
    {
     "data": {
      "image/png": "[encoded data removed]",
      "text/plain": [
       "<Figure size 640x480 with 1 Axes>"
      ]
     },
     "metadata": {},
     "output_type": "display_data"
    }
   ],
   "source": [
    "def GetModel(h,lamb,p,g=9.81):\n",
    "    y = 2*np.sqrt(2)*(1/3)*p*np.cos(np.deg2rad(lamb))*np.sqrt(h**3/g)\n",
    "    return y\n",
    "\n",
    "Model = GetModel(h_,30,omega)\n",
    "\n",
    "plt.errorbar(h_,y_,sigmay_,fmt=\"*\")\n",
    "plt.plot(h_,Model)"
   ]
  },
  {
   "cell_type": "code",
   "execution_count": null,
   "id": "e8e1151b",
   "metadata": {},
   "outputs": [],
   "source": []
  }
 ],
 "metadata": {
  "kernelspec": {
   "display_name": "Python 3 (ipykernel)",
   "language": "python",
   "name": "python3"
  },
  "language_info": {
   "codemirror_mode": {
    "name": "ipython",
    "version": 3
   },
   "file_extension": ".py",
   "mimetype": "text/x-python",
   "name": "python",
   "nbconvert_exporter": "python",
   "pygments_lexer": "ipython3",
   "version": "3.9.13"
  }
 },
 "nbformat": 4,
 "nbformat_minor": 5
}
