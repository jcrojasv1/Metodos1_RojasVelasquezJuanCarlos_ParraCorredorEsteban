{
 "cells": [
  {
   "cell_type": "code",
   "execution_count": 111,
   "id": "101fb41d",
   "metadata": {},
   "outputs": [],
   "source": [
    "import numpy as np\n",
    "import matplotlib.pyplot as plt\n",
    "import pandas as pd\n",
    "\n",
    "import sympy as sym\n",
    "from scipy.stats import chi2\n",
    "import scipy.optimize as spo\n",
    "\n",
    "import os\n",
    "import os.path as path\n",
    "import wget"
   ]
  },
  {
   "cell_type": "markdown",
   "id": "f93f9231",
   "metadata": {},
   "source": [
    "**(a)** Descargar los datos expermientales de cada canal de observación."
   ]
  },
  {
   "cell_type": "code",
   "execution_count": 112,
   "id": "aaccfefa",
   "metadata": {},
   "outputs": [],
   "source": [
    "if not path.exists('Data'):\n",
    "    os.mkdir('Data')\n",
    "\n",
    "file = 'Data/DataRotacion.csv'\n",
    "\n",
    "url = 'https://raw.githubusercontent.com/asegura4488/Database/main/MetodosComputacionalesReforma/DataRotacion.csv'\n",
    "\n",
    "if not path.exists(file):\n",
    "    Path_ = wget.download(url,file)\n",
    "    print('File loaded')\n",
    "else:\n",
    "    Path_ = file"
   ]
  },
  {
   "cell_type": "markdown",
   "id": "c6c53e24",
   "metadata": {},
   "source": [
    "**(b)** Cargue los datos usando Pandas y haga un filtrado para obtener los datos correspondientes a $\\lambda = 30$."
   ]
  },
  {
   "cell_type": "code",
   "execution_count": 113,
   "id": "ba381efc",
   "metadata": {
    "scrolled": false
   },
   "outputs": [
    {
     "data": {
      "text/html": [
       "<div>\n",
       "<style scoped>\n",
       "    .dataframe tbody tr th:only-of-type {\n",
       "        vertical-align: middle;\n",
       "    }\n",
       "\n",
       "    .dataframe tbody tr th {\n",
       "        vertical-align: top;\n",
       "    }\n",
       "\n",
       "    .dataframe thead th {\n",
       "        text-align: right;\n",
       "    }\n",
       "</style>\n",
       "<table border=\"1\" class=\"dataframe\">\n",
       "  <thead>\n",
       "    <tr style=\"text-align: right;\">\n",
       "      <th></th>\n",
       "      <th>h</th>\n",
       "      <th>angle</th>\n",
       "      <th>y</th>\n",
       "      <th>sigmay</th>\n",
       "    </tr>\n",
       "  </thead>\n",
       "  <tbody>\n",
       "    <tr>\n",
       "      <th>20</th>\n",
       "      <td>10.0</td>\n",
       "      <td>30.0</td>\n",
       "      <td>0.0013</td>\n",
       "      <td>0.0015</td>\n",
       "    </tr>\n",
       "    <tr>\n",
       "      <th>21</th>\n",
       "      <td>20.0</td>\n",
       "      <td>30.0</td>\n",
       "      <td>0.0017</td>\n",
       "      <td>0.0015</td>\n",
       "    </tr>\n",
       "    <tr>\n",
       "      <th>22</th>\n",
       "      <td>30.0</td>\n",
       "      <td>30.0</td>\n",
       "      <td>0.0038</td>\n",
       "      <td>0.0015</td>\n",
       "    </tr>\n",
       "    <tr>\n",
       "      <th>23</th>\n",
       "      <td>40.0</td>\n",
       "      <td>30.0</td>\n",
       "      <td>0.0059</td>\n",
       "      <td>0.0015</td>\n",
       "    </tr>\n",
       "    <tr>\n",
       "      <th>24</th>\n",
       "      <td>50.0</td>\n",
       "      <td>30.0</td>\n",
       "      <td>0.0067</td>\n",
       "      <td>0.0015</td>\n",
       "    </tr>\n",
       "    <tr>\n",
       "      <th>25</th>\n",
       "      <td>60.0</td>\n",
       "      <td>30.0</td>\n",
       "      <td>0.0094</td>\n",
       "      <td>0.0015</td>\n",
       "    </tr>\n",
       "    <tr>\n",
       "      <th>26</th>\n",
       "      <td>70.0</td>\n",
       "      <td>30.0</td>\n",
       "      <td>0.0122</td>\n",
       "      <td>0.0015</td>\n",
       "    </tr>\n",
       "    <tr>\n",
       "      <th>27</th>\n",
       "      <td>80.0</td>\n",
       "      <td>30.0</td>\n",
       "      <td>0.0132</td>\n",
       "      <td>0.0015</td>\n",
       "    </tr>\n",
       "    <tr>\n",
       "      <th>28</th>\n",
       "      <td>90.0</td>\n",
       "      <td>30.0</td>\n",
       "      <td>0.0151</td>\n",
       "      <td>0.0015</td>\n",
       "    </tr>\n",
       "    <tr>\n",
       "      <th>29</th>\n",
       "      <td>100.0</td>\n",
       "      <td>30.0</td>\n",
       "      <td>0.0186</td>\n",
       "      <td>0.0015</td>\n",
       "    </tr>\n",
       "  </tbody>\n",
       "</table>\n",
       "</div>"
      ],
      "text/plain": [
       "        h  angle       y  sigmay\n",
       "20   10.0   30.0  0.0013  0.0015\n",
       "21   20.0   30.0  0.0017  0.0015\n",
       "22   30.0   30.0  0.0038  0.0015\n",
       "23   40.0   30.0  0.0059  0.0015\n",
       "24   50.0   30.0  0.0067  0.0015\n",
       "25   60.0   30.0  0.0094  0.0015\n",
       "26   70.0   30.0  0.0122  0.0015\n",
       "27   80.0   30.0  0.0132  0.0015\n",
       "28   90.0   30.0  0.0151  0.0015\n",
       "29  100.0   30.0  0.0186  0.0015"
      ]
     },
     "execution_count": 113,
     "metadata": {},
     "output_type": "execute_result"
    }
   ],
   "source": [
    "Data = pd.read_csv(Path_)\n",
    "filtro = Data[\"angle\"] == 30\n",
    "resultado = Data[filtro]\n",
    "resultado"
   ]
  },
  {
   "cell_type": "markdown",
   "id": "366081c4",
   "metadata": {},
   "source": [
    "**(c)** Defina el modelo físico presentado para la desviación por efecto coriolis. El modelo debe tener como entrada la altura inicial de caída $h$, el parámetro de ajuste $p=\\omega$, la latitud $\\lambda$ y la aceleración de la gravedad $g$.\n",
    "\n",
    "**(d)** Defina $\\chi^2$, donde los argumentos son $(h,y,\\text{sigmay},\\text{angle},g)$.\n",
    "\n",
    "**(e)** Minimice usando optimize. Para $\\lambda = 30$, debería obtener $\\omega = 7.24\\times 10^{-5}$."
   ]
  },
  {
   "cell_type": "code",
   "execution_count": 114,
   "id": "c2ee2694",
   "metadata": {
    "scrolled": false
   },
   "outputs": [
    {
     "name": "stdout",
     "output_type": "stream",
     "text": [
      "Optimization terminated successfully.\n",
      "         Current function value: 1.145718\n",
      "         Iterations: 3\n",
      "         Function evaluations: 8\n",
      "         Gradient evaluations: 4\n"
     ]
    }
   ],
   "source": [
    "y_ = np.array(resultado[\"y\"])\n",
    "h_ =  np.array(resultado[\"h\"])\n",
    "sigmay_ = np.array(resultado[\"sigmay\"])\n",
    "\n",
    "def GetModel(h,lamb,p,g=9.81):\n",
    "    y = 2*np.sqrt(2)*(1/3)*p*np.cos(np.deg2rad(lamb))*np.sqrt(h**3/g)\n",
    "    return y\n",
    "\n",
    "def Chi2(p,h,y,sigmay,g=9.81,angle=30):\n",
    "    return np.sum((y - GetModel(h,angle,p,g))**2/(2*sigmay**2))\n",
    "\n",
    "p = np.ones(1)\n",
    "\n",
    "nll = lambda *p: Chi2(*p)\n",
    "result = spo.minimize(nll,p, args=(h_,y_,sigmay_),options={'disp':True})"
   ]
  },
  {
   "cell_type": "markdown",
   "id": "4af4294d",
   "metadata": {},
   "source": [
    "**(f)** Dibuje los datos y el modelo para esa latitud."
   ]
  },
  {
   "cell_type": "code",
   "execution_count": 115,
   "id": "32c5e86e",
   "metadata": {},
   "outputs": [
    {
     "data": {
      "text/plain": [
       "array([7.24399804e-05])"
      ]
     },
     "execution_count": 115,
     "metadata": {},
     "output_type": "execute_result"
    }
   ],
   "source": [
    "#Obtención de omega\n",
    "omega = result.x\n",
    "omega"
   ]
  },
  {
   "cell_type": "code",
   "execution_count": 116,
   "id": "15a98bbf",
   "metadata": {},
   "outputs": [
    {
     "data": {
      "text/plain": [
       "[<matplotlib.lines.Line2D at 0x1d55c680880>]"
      ]
     },
     "execution_count": 116,
     "metadata": {},
     "output_type": "execute_result"
    },
    {
     "data": {
      "image/png": "[encoded data removed]",
      "text/plain": [
       "<Figure size 640x480 with 1 Axes>"
      ]
     },
     "metadata": {},
     "output_type": "display_data"
    }
   ],
   "source": [
    "\n",
    "\n",
    "Model = GetModel(h_,30,omega)\n",
    "\n",
    "plt.errorbar(h_,y_,sigmay_,fmt=\"*\")\n",
    "plt.plot(h_,Model)"
   ]
  },
  {
   "cell_type": "markdown",
   "id": "ebfd6396",
   "metadata": {},
   "source": [
    "**Propagación de la incertidumbre de la aceleración de la gravedad**"
   ]
  },
  {
   "cell_type": "markdown",
   "id": "0e2ebeec",
   "metadata": {},
   "source": [
    "**(a)** Hacer un for loop $N = 300$ para realizar el remuestreo del valor de la gravedad de los puntos experimentales.\n",
    "\n",
    "**(b)** Genere un valor de gravedad siguiendo la distribución normal $g \\sim \\mathcal{N}(9.81,1)$.\n",
    "\n",
    "**(c)** Guarde ese valor en un array llamado Gravedad."
   ]
  },
  {
   "cell_type": "code",
   "execution_count": 117,
   "id": "c990ec70",
   "metadata": {},
   "outputs": [],
   "source": [
    "Gravedad = np.zeros(300)\n",
    "for i in range(300): \n",
    "    Gravedad[i] = 9.81 + np.random.normal(loc=0,scale=1)\n"
   ]
  },
  {
   "cell_type": "markdown",
   "id": "2701858d",
   "metadata": {},
   "source": [
    "**(d)** Cambie el valor de los puntos experimentales siguiendo la distribución normal $y \\sim \\mathcal{N}(y, \\sigma(y))$ (modificación de bootstrapping):"
   ]
  },
  {
   "cell_type": "code",
   "execution_count": 118,
   "id": "f916896e",
   "metadata": {},
   "outputs": [
    {
     "data": {
      "text/plain": [
       "array([-0.00022982,  0.00303243,  0.00545358,  0.00819084,  0.00638162,\n",
       "        0.00830727,  0.01273607,  0.01539347,  0.01572618,  0.018746  ])"
      ]
     },
     "execution_count": 118,
     "metadata": {},
     "output_type": "execute_result"
    }
   ],
   "source": [
    "y_modified = y_ + np.random.normal(loc=0,scale=sigmay_[0],size=len(y_))\n",
    "\n",
    "y_modified"
   ]
  },
  {
   "cell_type": "markdown",
   "id": "2d9b29ab",
   "metadata": {},
   "source": [
    "**(e)** Realice la optimización y guarde el valor de la estimación de la rapidez $\\omega$ en otro array, Omega"
   ]
  },
  {
   "cell_type": "code",
   "execution_count": 182,
   "id": "3bf21e5e",
   "metadata": {},
   "outputs": [
    {
     "data": {
      "text/plain": [
       "array([6.84154595e-05, 7.50227682e-05, 6.89797516e-05, 7.22730521e-05,\n",
       "       7.63252931e-05, 7.55851767e-05, 6.77022708e-05, 7.35028683e-05,\n",
       "       7.22067121e-05, 7.41366068e-05, 6.08726149e-05, 7.13383385e-05,\n",
       "       6.94785997e-05, 7.40845783e-05, 6.71208771e-05, 7.50384874e-05,\n",
       "       7.59684299e-05, 7.03188130e-05, 6.96342732e-05, 7.40100534e-05,\n",
       "       7.04663506e-05, 7.19401244e-05, 7.65654528e-05, 8.03060205e-05,\n",
       "       7.07898801e-05, 6.81452480e-05, 7.46484510e-05, 7.49213566e-05,\n",
       "       7.76352370e-05, 7.78498144e-05, 7.30377191e-05, 7.58470555e-05,\n",
       "       7.21790463e-05, 7.49241905e-05, 8.14527854e-05, 8.05258071e-05,\n",
       "       7.42452646e-05, 7.54025258e-05, 7.52661566e-05, 7.28144147e-05,\n",
       "       7.58223879e-05, 7.77940441e-05, 6.87470001e-05, 7.61255404e-05,\n",
       "       6.98207138e-05, 7.51575413e-05, 7.95729205e-05, 7.60908222e-05,\n",
       "       7.16954187e-05, 7.30136131e-05, 6.75150958e-05, 7.34552066e-05,\n",
       "       6.95796484e-05, 6.71677376e-05, 7.22645603e-05, 6.99850258e-05,\n",
       "       7.67761129e-05, 7.49042511e-05, 7.34521443e-05, 7.13195447e-05,\n",
       "       7.22156160e-05, 7.32006541e-05, 7.49734230e-05, 6.90682080e-05,\n",
       "       7.79291950e-05, 7.83951724e-05, 7.81518382e-05, 7.74638909e-05,\n",
       "       7.63275898e-05, 7.27847896e-05, 6.58739226e-05, 8.01488799e-05,\n",
       "       7.45316898e-05, 6.90394598e-05, 6.70218400e-05, 6.18824838e-05,\n",
       "       7.38127615e-05, 8.07615238e-05, 7.52804856e-05, 6.75493967e-05,\n",
       "       7.17128459e-05, 7.39458724e-05, 7.27797639e-05, 7.37228653e-05,\n",
       "       7.34156496e-05, 7.52349218e-05, 7.36430003e-05, 7.33232648e-05,\n",
       "       7.32097131e-05, 7.27876328e-05, 7.33547362e-05, 7.60974085e-05,\n",
       "       7.34335760e-05, 7.80898705e-05, 7.50365126e-05, 7.25132064e-05,\n",
       "       7.46620223e-05, 7.19120289e-05, 7.28304144e-05, 7.71265323e-05,\n",
       "       7.49660515e-05, 7.33287107e-05, 7.59010438e-05, 7.59320648e-05,\n",
       "       7.07741616e-05, 7.82774029e-05, 7.94697457e-05, 6.69724062e-05,\n",
       "       7.01004635e-05, 7.32498128e-05, 7.38358427e-05, 7.22271124e-05,\n",
       "       7.10912224e-05, 7.54968219e-05, 7.23626477e-05, 7.16809247e-05,\n",
       "       7.20876441e-05, 6.87394559e-05, 7.57426048e-05, 7.54486906e-05,\n",
       "       7.23718239e-05, 7.38324407e-05, 7.18663168e-05, 7.48068275e-05,\n",
       "       6.98759916e-05, 7.71269837e-05, 7.85806317e-05, 6.84394795e-05,\n",
       "       7.48850568e-05, 7.69150835e-05, 7.20831864e-05, 7.15667873e-05,\n",
       "       7.91708232e-05, 6.85996127e-05, 7.01061074e-05, 6.89132534e-05,\n",
       "       7.18452090e-05, 7.64149944e-05, 6.86312724e-05, 7.18746038e-05,\n",
       "       7.95549680e-05, 7.24696502e-05, 7.48121728e-05, 7.60721850e-05,\n",
       "       7.02018469e-05, 7.35257380e-05, 7.69719643e-05, 7.38577104e-05,\n",
       "       7.60626081e-05, 6.59186960e-05, 7.37967741e-05, 7.24612341e-05,\n",
       "       7.34132039e-05, 7.69304553e-05, 7.15706531e-05, 7.20958302e-05,\n",
       "       7.62533514e-05, 7.89821874e-05, 7.05447011e-05, 7.68006246e-05,\n",
       "       7.32701370e-05, 7.30114925e-05, 7.41508942e-05, 7.18564352e-05,\n",
       "       7.66096784e-05, 8.31421630e-05, 7.64031221e-05, 7.59743807e-05,\n",
       "       8.01383978e-05, 7.07258377e-05, 7.34594641e-05, 7.94730402e-05,\n",
       "       7.68470014e-05, 6.52121828e-05, 7.68612927e-05, 7.74341051e-05,\n",
       "       6.94306393e-05, 7.24924412e-05, 7.38681811e-05, 8.15162664e-05,\n",
       "       7.82960412e-05, 7.41698502e-05, 7.51148254e-05, 7.39710008e-05,\n",
       "       7.39079964e-05, 7.86617569e-05, 7.31348263e-05, 7.96785639e-05,\n",
       "       7.11474092e-05, 7.71514162e-05, 7.46526224e-05, 7.25520049e-05,\n",
       "       7.73311486e-05, 7.52669659e-05, 7.84576352e-05, 7.36916794e-05,\n",
       "       6.16581872e-05, 7.26152604e-05, 7.37918092e-05, 7.59801506e-05,\n",
       "       7.30777838e-05, 7.29940286e-05, 7.99616304e-05, 7.60320208e-05,\n",
       "       7.18549459e-05, 7.80153561e-05, 7.64658158e-05, 7.91686599e-05,\n",
       "       7.79988480e-05, 6.99153874e-05, 7.73751202e-05, 6.80014071e-05,\n",
       "       6.80898572e-05, 7.41516847e-05, 8.41009575e-05, 6.50774107e-05,\n",
       "       7.81622560e-05, 7.08763708e-05, 6.40527649e-05, 6.97813456e-05,\n",
       "       7.41354952e-05, 7.85795070e-05, 7.43926952e-05, 7.44236284e-05,\n",
       "       7.27487127e-05, 7.74204150e-05, 7.33905954e-05, 7.75932275e-05,\n",
       "       6.77210555e-05, 7.41489749e-05, 7.75646399e-05, 7.12613525e-05,\n",
       "       6.97098830e-05, 7.39422980e-05, 7.50950843e-05, 7.42694329e-05,\n",
       "       7.70181684e-05, 7.34082654e-05, 7.36984407e-05, 6.61291176e-05,\n",
       "       6.69843253e-05, 7.35150062e-05, 6.62751215e-05, 6.49472044e-05,\n",
       "       7.61910212e-05, 7.60817561e-05, 7.01533713e-05, 7.85752698e-05,\n",
       "       7.50143235e-05, 7.41788709e-05, 7.47662241e-05, 7.32891070e-05,\n",
       "       7.05598490e-05, 7.53341504e-05, 6.78956177e-05, 7.03117026e-05,\n",
       "       7.01968346e-05, 8.17397998e-05, 7.27973656e-05, 6.90786999e-05,\n",
       "       7.06974140e-05, 6.71851389e-05, 7.01732802e-05, 7.05083297e-05,\n",
       "       7.28648474e-05, 7.77721448e-05, 6.99127092e-05, 6.27813185e-05,\n",
       "       7.62249431e-05, 7.85246806e-05, 7.82831300e-05, 6.86225769e-05,\n",
       "       7.21005395e-05, 7.23301562e-05, 7.78353434e-05, 7.34154964e-05,\n",
       "       7.81695203e-05, 7.40865870e-05, 7.20889414e-05, 7.25800629e-05,\n",
       "       6.74281489e-05, 7.32601652e-05, 7.69594081e-05, 6.94016426e-05,\n",
       "       7.48888031e-05, 6.67180925e-05, 7.70472707e-05, 7.02617186e-05,\n",
       "       8.11142607e-05, 6.97589309e-05, 7.38471020e-05, 7.03461097e-05,\n",
       "       7.47278659e-05, 6.85699269e-05, 7.59197700e-05, 7.44130897e-05,\n",
       "       7.57080944e-05, 7.55251896e-05, 6.76082214e-05, 7.26332910e-05])"
      ]
     },
     "execution_count": 182,
     "metadata": {},
     "output_type": "execute_result"
    }
   ],
   "source": [
    "p_ = np.ones(1)\n",
    "nll_ = lambda *p_: Chi2(*p_)\n",
    "Omega = np.zeros(300)\n",
    "\n",
    "for i in range(len(Gravedad)):\n",
    "    result_ = spo.minimize(nll_,p_, args=(h_,y_modified,sigmay_,Gravedad[i]),options={'disp':False})\n",
    "    Omega[i] = result_.x\n",
    "    \n",
    "Omega"
   ]
  },
  {
   "cell_type": "code",
   "execution_count": 153,
   "id": "b41cb64d",
   "metadata": {
    "scrolled": true
   },
   "outputs": [
    {
     "data": {
      "text/plain": [
       "<matplotlib.image.AxesImage at 0x1d562250a30>"
      ]
     },
     "execution_count": 153,
     "metadata": {},
     "output_type": "execute_result"
    },
    {
     "data": {
      "image/png": "[encoded data removed]",
      "text/plain": [
       "<Figure size 640x480 with 1 Axes>"
      ]
     },
     "metadata": {},
     "output_type": "display_data"
    }
   ],
   "source": [
    "gridy = np.linspace(min(Gravedad),max(Gravedad),30)\n",
    "gridx = np.linspace(min(Omega),max(Omega),30)\n",
    "\n",
    "H2, binsx, binsy = np.histogram2d(Omega,Gravedad,bins=(gridx,gridy))\n",
    "plt.imshow(H2, interpolation='nearest', origin='lower',\n",
    "        extent=[binsx[0]*10**5,binsx[-1]*10**5 , binsy[0], binsy[-1]])"
   ]
  },
  {
   "cell_type": "code",
   "execution_count": null,
   "id": "0107055a",
   "metadata": {},
   "outputs": [],
   "source": []
  }
 ],
 "metadata": {
  "kernelspec": {
   "display_name": "Python 3 (ipykernel)",
   "language": "python",
   "name": "python3"
  },
  "language_info": {
   "codemirror_mode": {
    "name": "ipython",
    "version": 3
   },
   "file_extension": ".py",
   "mimetype": "text/x-python",
   "name": "python",
   "nbconvert_exporter": "python",
   "pygments_lexer": "ipython3",
   "version": "3.9.13"
  }
 },
 "nbformat": 4,
 "nbformat_minor": 5
}
