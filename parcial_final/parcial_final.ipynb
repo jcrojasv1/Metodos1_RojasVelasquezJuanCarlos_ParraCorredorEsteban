{
 "cells": [
  {
   "cell_type": "code",
   "execution_count": 1,
   "id": "101fb41d",
   "metadata": {},
   "outputs": [],
   "source": [
    "import numpy as np\n",
    "import matplotlib.pyplot as plt\n",
    "import pandas as pd\n",
    "\n",
    "import sympy as sym\n",
    "from scipy.stats import chi2\n",
    "import scipy.optimize as spo\n",
    "\n",
    "import os\n",
    "import os.path as path\n",
    "import wget"
   ]
  },
  {
   "cell_type": "markdown",
   "id": "f93f9231",
   "metadata": {},
   "source": [
    "**(a)** Descargar los datos expermientales de cada canal de observación."
   ]
  },
  {
   "cell_type": "code",
   "execution_count": 2,
   "id": "aaccfefa",
   "metadata": {},
   "outputs": [],
   "source": [
    "if not path.exists('Data'):\n",
    "    os.mkdir('Data')\n",
    "\n",
    "file = 'Data/DataRotacion.csv'\n",
    "\n",
    "url = 'https://raw.githubusercontent.com/asegura4488/Database/main/MetodosComputacionalesReforma/DataRotacion.csv'\n",
    "\n",
    "if not path.exists(file):\n",
    "    Path_ = wget.download(url,file)\n",
    "    print('File loaded')\n",
    "else:\n",
    "    Path_ = file"
   ]
  },
  {
   "cell_type": "markdown",
   "id": "c6c53e24",
   "metadata": {},
   "source": [
    "**(b)** Cargue los datos usando Pandas y haga un filtrado para obtener los datos correspondientes a $\\lambda = 30$."
   ]
  },
  {
   "cell_type": "code",
   "execution_count": 3,
   "id": "ba381efc",
   "metadata": {
    "scrolled": false
   },
   "outputs": [
    {
     "data": {
      "text/html": [
       "<div>\n",
       "<style scoped>\n",
       "    .dataframe tbody tr th:only-of-type {\n",
       "        vertical-align: middle;\n",
       "    }\n",
       "\n",
       "    .dataframe tbody tr th {\n",
       "        vertical-align: top;\n",
       "    }\n",
       "\n",
       "    .dataframe thead th {\n",
       "        text-align: right;\n",
       "    }\n",
       "</style>\n",
       "<table border=\"1\" class=\"dataframe\">\n",
       "  <thead>\n",
       "    <tr style=\"text-align: right;\">\n",
       "      <th></th>\n",
       "      <th>h</th>\n",
       "      <th>angle</th>\n",
       "      <th>y</th>\n",
       "      <th>sigmay</th>\n",
       "    </tr>\n",
       "  </thead>\n",
       "  <tbody>\n",
       "    <tr>\n",
       "      <th>20</th>\n",
       "      <td>10.0</td>\n",
       "      <td>30.0</td>\n",
       "      <td>0.0013</td>\n",
       "      <td>0.0015</td>\n",
       "    </tr>\n",
       "    <tr>\n",
       "      <th>21</th>\n",
       "      <td>20.0</td>\n",
       "      <td>30.0</td>\n",
       "      <td>0.0017</td>\n",
       "      <td>0.0015</td>\n",
       "    </tr>\n",
       "    <tr>\n",
       "      <th>22</th>\n",
       "      <td>30.0</td>\n",
       "      <td>30.0</td>\n",
       "      <td>0.0038</td>\n",
       "      <td>0.0015</td>\n",
       "    </tr>\n",
       "    <tr>\n",
       "      <th>23</th>\n",
       "      <td>40.0</td>\n",
       "      <td>30.0</td>\n",
       "      <td>0.0059</td>\n",
       "      <td>0.0015</td>\n",
       "    </tr>\n",
       "    <tr>\n",
       "      <th>24</th>\n",
       "      <td>50.0</td>\n",
       "      <td>30.0</td>\n",
       "      <td>0.0067</td>\n",
       "      <td>0.0015</td>\n",
       "    </tr>\n",
       "    <tr>\n",
       "      <th>25</th>\n",
       "      <td>60.0</td>\n",
       "      <td>30.0</td>\n",
       "      <td>0.0094</td>\n",
       "      <td>0.0015</td>\n",
       "    </tr>\n",
       "    <tr>\n",
       "      <th>26</th>\n",
       "      <td>70.0</td>\n",
       "      <td>30.0</td>\n",
       "      <td>0.0122</td>\n",
       "      <td>0.0015</td>\n",
       "    </tr>\n",
       "    <tr>\n",
       "      <th>27</th>\n",
       "      <td>80.0</td>\n",
       "      <td>30.0</td>\n",
       "      <td>0.0132</td>\n",
       "      <td>0.0015</td>\n",
       "    </tr>\n",
       "    <tr>\n",
       "      <th>28</th>\n",
       "      <td>90.0</td>\n",
       "      <td>30.0</td>\n",
       "      <td>0.0151</td>\n",
       "      <td>0.0015</td>\n",
       "    </tr>\n",
       "    <tr>\n",
       "      <th>29</th>\n",
       "      <td>100.0</td>\n",
       "      <td>30.0</td>\n",
       "      <td>0.0186</td>\n",
       "      <td>0.0015</td>\n",
       "    </tr>\n",
       "  </tbody>\n",
       "</table>\n",
       "</div>"
      ],
      "text/plain": [
       "        h  angle       y  sigmay\n",
       "20   10.0   30.0  0.0013  0.0015\n",
       "21   20.0   30.0  0.0017  0.0015\n",
       "22   30.0   30.0  0.0038  0.0015\n",
       "23   40.0   30.0  0.0059  0.0015\n",
       "24   50.0   30.0  0.0067  0.0015\n",
       "25   60.0   30.0  0.0094  0.0015\n",
       "26   70.0   30.0  0.0122  0.0015\n",
       "27   80.0   30.0  0.0132  0.0015\n",
       "28   90.0   30.0  0.0151  0.0015\n",
       "29  100.0   30.0  0.0186  0.0015"
      ]
     },
     "execution_count": 3,
     "metadata": {},
     "output_type": "execute_result"
    }
   ],
   "source": [
    "Data = pd.read_csv(Path_)\n",
    "filtro = Data[\"angle\"] == 30\n",
    "resultado = Data[filtro]\n",
    "resultado"
   ]
  },
  {
   "cell_type": "markdown",
   "id": "366081c4",
   "metadata": {},
   "source": [
    "**(c)** Defina el modelo físico presentado para la desviación por efecto coriolis. El modelo debe tener como entrada la altura inicial de caída $h$, el parámetro de ajuste $p=\\omega$, la latitud $\\lambda$ y la aceleración de la gravedad $g$.\n",
    "\n",
    "**(d)** Defina $\\chi^2$, donde los argumentos son $(h,y,\\text{sigmay},\\text{angle},g)$.\n",
    "\n",
    "**(e)** Minimice usando optimize. Para $\\lambda = 30$, debería obtener $\\omega = 7.24\\times 10^{-5}$."
   ]
  },
  {
   "cell_type": "code",
   "execution_count": 4,
   "id": "c2ee2694",
   "metadata": {
    "scrolled": false
   },
   "outputs": [
    {
     "name": "stdout",
     "output_type": "stream",
     "text": [
      "Optimization terminated successfully.\n",
      "         Current function value: 1.145718\n",
      "         Iterations: 3\n",
      "         Function evaluations: 8\n",
      "         Gradient evaluations: 4\n"
     ]
    }
   ],
   "source": [
    "y_ = np.array(resultado[\"y\"])\n",
    "h_ =  np.array(resultado[\"h\"])\n",
    "sigmay_ = np.array(resultado[\"sigmay\"])\n",
    "\n",
    "def GetModel(h,lamb,p,g=9.81):\n",
    "    y = 2*np.sqrt(2)*(1/3)*p*np.cos(np.deg2rad(lamb))*np.sqrt(h**3/g)\n",
    "    return y\n",
    "\n",
    "def Chi2(p,h,y,sigmay,g=9.81,angle=30):\n",
    "    return np.sum((y - GetModel(h,angle,p,g))**2/(2*sigmay**2))\n",
    "\n",
    "p = np.ones(1)\n",
    "\n",
    "nll = lambda *p: Chi2(*p)\n",
    "result = spo.minimize(nll,p, args=(h_,y_,sigmay_),options={'disp':True})"
   ]
  },
  {
   "cell_type": "markdown",
   "id": "4af4294d",
   "metadata": {},
   "source": [
    "**(f)** Dibuje los datos y el modelo para esa latitud."
   ]
  },
  {
   "cell_type": "code",
   "execution_count": 5,
   "id": "32c5e86e",
   "metadata": {},
   "outputs": [
    {
     "data": {
      "text/plain": [
       "array([7.24399804e-05])"
      ]
     },
     "execution_count": 5,
     "metadata": {},
     "output_type": "execute_result"
    }
   ],
   "source": [
    "#Obtención de omega\n",
    "omega = result.x\n",
    "omega"
   ]
  },
  {
   "cell_type": "code",
   "execution_count": 6,
   "id": "15a98bbf",
   "metadata": {},
   "outputs": [
    {
     "data": {
      "text/plain": [
       "[<matplotlib.lines.Line2D at 0x1e54bc796d0>]"
      ]
     },
     "execution_count": 6,
     "metadata": {},
     "output_type": "execute_result"
    },
    {
     "data": {
      "image/png": "[encoded data removed]",
      "text/plain": [
       "<Figure size 640x480 with 1 Axes>"
      ]
     },
     "metadata": {},
     "output_type": "display_data"
    }
   ],
   "source": [
    "Model = GetModel(h_,30,omega)\n",
    "plt.errorbar(h_,y_,sigmay_,fmt=\"*\")\n",
    "plt.plot(h_,Model)"
   ]
  },
  {
   "cell_type": "markdown",
   "id": "ebfd6396",
   "metadata": {},
   "source": [
    "**Propagación de la incertidumbre de la aceleración de la gravedad**"
   ]
  },
  {
   "cell_type": "markdown",
   "id": "0e2ebeec",
   "metadata": {},
   "source": [
    "**(a)** Hacer un for loop $N = 300$ para realizar el remuestreo del valor de la gravedad de los puntos experimentales.\n",
    "\n",
    "**(b)** Genere un valor de gravedad siguiendo la distribución normal $g \\sim \\mathcal{N}(9.81,1)$.\n",
    "\n",
    "**(c)** Guarde ese valor en un array llamado Gravedad.\n",
    "\n",
    "**(d)** Cambie el valor de los puntos experimentales siguiendo la distribución normal $y \\sim \\mathcal{N}(y, \\sigma(y))$ (modificación de bootstrapping):\n",
    "\n",
    "**(e)** Realice la optimización y guarde el valor de la estimación de la rapidez $\\omega$ en otro array, Omega"
   ]
  },
  {
   "cell_type": "code",
   "execution_count": 7,
   "id": "c990ec70",
   "metadata": {},
   "outputs": [
    {
     "data": {
      "text/plain": [
       "(array([6.47993353e-05, 6.87519464e-05, 7.48607973e-05, 7.17436645e-05,\n",
       "        7.88486089e-05, 7.95964573e-05, 6.41301909e-05, 6.17663571e-05,\n",
       "        7.57034482e-05, 7.34875882e-05, 8.47570670e-05, 7.64326906e-05,\n",
       "        6.70815041e-05, 7.34625718e-05, 7.48443550e-05, 7.14202242e-05,\n",
       "        6.27497875e-05, 8.27434492e-05, 7.89120220e-05, 7.21701988e-05,\n",
       "        7.09324389e-05, 7.24734178e-05, 6.42153029e-05, 7.59505109e-05,\n",
       "        7.09413702e-05, 7.77204681e-05, 7.09414845e-05, 7.29178331e-05,\n",
       "        7.35129685e-05, 6.71404766e-05, 6.31256443e-05, 6.78575106e-05,\n",
       "        7.60703361e-05, 7.09201862e-05, 6.25273800e-05, 7.69726842e-05,\n",
       "        7.00119853e-05, 6.88783800e-05, 7.59604910e-05, 7.05041808e-05,\n",
       "        7.80592491e-05, 6.86834068e-05, 7.33972440e-05, 7.00805741e-05,\n",
       "        7.15994440e-05, 6.92241173e-05, 6.42630864e-05, 7.37728207e-05,\n",
       "        7.83105352e-05, 7.58408319e-05, 7.51946592e-05, 7.72603852e-05,\n",
       "        6.81633024e-05, 7.83733083e-05, 7.31106097e-05, 7.46047419e-05,\n",
       "        6.95125512e-05, 6.96814908e-05, 7.65768377e-05, 8.83916450e-05,\n",
       "        7.18066684e-05, 7.48811165e-05, 6.86208859e-05, 7.33108087e-05,\n",
       "        7.66931693e-05, 7.20705442e-05, 6.63559812e-05, 6.59748478e-05,\n",
       "        6.45831584e-05, 7.31706333e-05, 7.98016858e-05, 7.75469509e-05,\n",
       "        6.97361170e-05, 7.29143683e-05, 6.31242941e-05, 7.11465739e-05,\n",
       "        7.26710272e-05, 6.84671688e-05, 7.82660431e-05, 6.78448997e-05,\n",
       "        7.56083953e-05, 6.82728243e-05, 6.52478553e-05, 7.18470611e-05,\n",
       "        7.02810426e-05, 5.30565481e-05, 6.72789442e-05, 6.49962067e-05,\n",
       "        7.08019805e-05, 6.80779238e-05, 8.08983519e-05, 7.29905398e-05,\n",
       "        6.82853285e-05, 7.11550051e-05, 6.60382011e-05, 8.22523932e-05,\n",
       "        7.22576266e-05, 8.32447686e-05, 7.95602650e-05, 7.29284081e-05,\n",
       "        6.42395222e-05, 7.50065106e-05, 8.06975136e-05, 8.82384721e-05,\n",
       "        7.33572076e-05, 6.47848605e-05, 6.78944011e-05, 7.59013073e-05,\n",
       "        7.46298325e-05, 7.36988037e-05, 8.61951342e-05, 6.76544526e-05,\n",
       "        7.01060582e-05, 7.65429592e-05, 6.51442607e-05, 6.77930868e-05,\n",
       "        7.03402877e-05, 6.79444133e-05, 6.90905015e-05, 7.85944505e-05,\n",
       "        6.71307578e-05, 6.76104323e-05, 7.96735954e-05, 6.79683750e-05,\n",
       "        7.01534302e-05, 6.79387928e-05, 6.88308707e-05, 6.54531417e-05,\n",
       "        7.47351269e-05, 7.23323822e-05, 7.69854257e-05, 7.01831591e-05,\n",
       "        7.22153136e-05, 7.90980064e-05, 7.12385019e-05, 7.30801121e-05,\n",
       "        7.04691681e-05, 7.69756556e-05, 7.25308672e-05, 7.83278728e-05,\n",
       "        6.21208695e-05, 6.81729066e-05, 6.86464851e-05, 7.63891836e-05,\n",
       "        7.46409285e-05, 7.37135675e-05, 7.01971906e-05, 7.59579170e-05,\n",
       "        7.11396725e-05, 6.95507779e-05, 7.29660125e-05, 8.07565981e-05,\n",
       "        7.63957260e-05, 6.76246235e-05, 7.78913020e-05, 8.05842776e-05,\n",
       "        8.07215146e-05, 6.58630783e-05, 7.28719413e-05, 7.63332104e-05,\n",
       "        7.39277794e-05, 6.90417008e-05, 7.74918288e-05, 7.21545239e-05,\n",
       "        6.55018759e-05, 7.08680327e-05, 7.14133132e-05, 6.72676454e-05,\n",
       "        7.25733891e-05, 6.84844874e-05, 8.03222378e-05, 7.93452436e-05,\n",
       "        6.81622792e-05, 7.74088163e-05, 7.11968232e-05, 6.77500095e-05,\n",
       "        7.34706458e-05, 7.11005431e-05, 7.14830405e-05, 7.68290075e-05,\n",
       "        7.08112054e-05, 7.53479375e-05, 7.69054432e-05, 7.10001643e-05,\n",
       "        7.02239914e-05, 6.85612813e-05, 6.95266344e-05, 7.26259630e-05,\n",
       "        7.37515933e-05, 6.75432254e-05, 7.17802889e-05, 6.99283779e-05,\n",
       "        6.68783949e-05, 7.45198906e-05, 7.40852804e-05, 7.02886962e-05,\n",
       "        7.27120441e-05, 6.98583319e-05, 7.33515390e-05, 7.44817979e-05,\n",
       "        6.85686908e-05, 7.70603761e-05, 7.47598251e-05, 6.96195892e-05,\n",
       "        7.41040988e-05, 7.05330246e-05, 7.05011100e-05, 6.98059313e-05,\n",
       "        7.14556554e-05, 6.76083741e-05, 7.39128187e-05, 6.75120643e-05,\n",
       "        7.71447796e-05, 7.91338119e-05, 6.67865644e-05, 7.27609050e-05,\n",
       "        7.07908101e-05, 6.51408220e-05, 7.26179640e-05, 7.68488837e-05,\n",
       "        7.63080783e-05, 7.01353137e-05, 7.91511249e-05, 7.66197260e-05,\n",
       "        7.16536154e-05, 6.93414920e-05, 7.17821112e-05, 6.89251170e-05,\n",
       "        7.18628051e-05, 8.27412386e-05, 7.23538473e-05, 6.78386889e-05,\n",
       "        7.18779550e-05, 7.46352702e-05, 6.91715300e-05, 6.85151299e-05,\n",
       "        6.97328994e-05, 7.34997411e-05, 7.80544537e-05, 7.16905779e-05,\n",
       "        7.77355638e-05, 7.11609008e-05, 6.58430300e-05, 6.97624417e-05,\n",
       "        7.29368324e-05, 6.67241119e-05, 6.99092982e-05, 7.26796426e-05,\n",
       "        7.18998484e-05, 7.46867024e-05, 7.72159375e-05, 6.67947963e-05,\n",
       "        7.14223144e-05, 6.72980461e-05, 7.01916757e-05, 6.81589824e-05,\n",
       "        6.66943696e-05, 7.54564979e-05, 6.92913763e-05, 7.52068270e-05,\n",
       "        7.40474682e-05, 6.24092682e-05, 7.32622015e-05, 7.23998467e-05,\n",
       "        6.37926050e-05, 7.13174617e-05, 7.36167674e-05, 7.71817294e-05,\n",
       "        7.42760121e-05, 6.87555081e-05, 7.13092609e-05, 6.96284878e-05,\n",
       "        6.92202904e-05, 8.00953948e-05, 7.73761044e-05, 7.57110561e-05,\n",
       "        6.91154765e-05, 7.89640194e-05, 7.83721704e-05, 7.54971899e-05,\n",
       "        7.11928985e-05, 7.27085068e-05, 6.77456518e-05, 6.61047752e-05,\n",
       "        7.93988422e-05, 7.15809841e-05, 8.46809313e-05, 7.42485884e-05,\n",
       "        7.63868432e-05, 7.84797379e-05, 7.13850390e-05, 6.87203303e-05,\n",
       "        6.55182217e-05, 7.83121910e-05, 7.17176278e-05, 6.69739541e-05,\n",
       "        7.13840338e-05, 7.18308204e-05, 7.52298348e-05, 7.71386206e-05]),\n",
       " array([ 9.51807767,  9.46663323, 10.58387484,  9.63597734, 10.64006549,\n",
       "        10.54108095,  8.37719872,  8.30996305,  9.65972775, 10.78352343,\n",
       "        11.9551702 , 10.77363847,  9.33871879, 10.18298963, 12.14569367,\n",
       "        10.73974458,  8.14921128, 11.43431996, 11.16728925,  9.99249581,\n",
       "        10.90611735,  9.55749195,  7.70637648, 10.34248362,  9.34342361,\n",
       "        10.5626502 ,  9.59890908,  9.38623372,  9.28067745,  9.45916458,\n",
       "         8.57750414,  9.1509346 , 10.4851768 ,  8.8132694 ,  8.26059024,\n",
       "        10.42694115,  9.17939474,  8.40372274, 10.8873835 ,  9.22126557,\n",
       "        10.43772502,  9.3992799 ,  9.83658371,  8.95130755, 10.86894093,\n",
       "         8.72027253,  9.44058503,  9.51043834, 10.94835529, 10.22918623,\n",
       "         9.51177306, 10.59588243,  8.97842146,  9.80076497, 11.55482276,\n",
       "        11.03205609,  8.24080474,  9.53500873, 10.71177677, 11.86508059,\n",
       "         8.06524238,  9.85421868,  8.79105861, 10.49759461,  9.50583753,\n",
       "         8.93719113,  9.40566229,  6.72359587,  8.8502997 , 10.7394979 ,\n",
       "         9.87488443, 11.02553222,  9.90640275,  9.50694767,  8.06117455,\n",
       "        10.57964427, 10.09432829,  8.54213657,  9.34365343,  8.90223362,\n",
       "         9.58961397, 10.12239924,  9.06752763, 10.79847474,  9.03050605,\n",
       "         6.65802485,  8.82348348,  8.37572615,  8.92642204,  9.11467025,\n",
       "        11.09571369,  8.85550857, 10.07130636, 10.03857987,  8.75252376,\n",
       "        11.65284383,  9.94730554, 11.76877053, 10.00635682, 10.48884747,\n",
       "         8.68622889, 10.01575018, 11.83456699, 11.72604888, 10.83248224,\n",
       "         9.33542072,  9.36782851, 10.19901553, 10.55107956,  9.95113417,\n",
       "        11.72657372,  9.10967341,  9.32236471, 10.84924521, 10.26631093,\n",
       "         9.32544382, 10.41423499,  9.9052563 ,  8.85315835, 10.06059396,\n",
       "         8.14837821,  8.83443738, 10.86168361,  9.31873723, 10.39002902,\n",
       "         9.05722813,  8.95235771, 10.29293482, 10.4595995 , 10.42202078,\n",
       "        11.56333219, 11.73095791,  9.08213856, 10.73105824,  9.35514813,\n",
       "         9.95630638,  8.76243971, 11.01899708,  9.52199946, 10.65627253,\n",
       "         9.07522663,  8.94790294,  8.50896738, 10.47003267,  9.90649418,\n",
       "         9.09342632, 10.34229917,  9.53092723, 11.57575627,  9.02208492,\n",
       "        10.38888361, 11.38591579,  9.92668746,  9.43707021,  9.81163158,\n",
       "        10.59751581, 11.7100323 ,  7.90094603,  9.49653921,  9.33722781,\n",
       "         8.78824844,  9.95619448, 10.35202392,  9.82242955,  7.86352877,\n",
       "        10.79645659,  9.02554519,  9.42381588, 10.90347991,  8.15546462,\n",
       "        10.5940564 , 10.05681847,  8.41713435, 11.0016757 ,  9.83753144,\n",
       "         9.02305364, 10.14637798,  9.55840411, 10.86213578, 10.77499312,\n",
       "        10.46999181, 10.46509001,  9.96077416, 10.15532265, 10.08550771,\n",
       "         8.51617483,  9.23445129,  9.10110807, 10.16738518,  7.94256882,\n",
       "         8.96760367,  9.51557896,  9.91149792, 10.64278294, 11.11522306,\n",
       "         9.46815991, 10.79265756,  9.6065332 , 10.49028389, 10.85257239,\n",
       "        10.16661146, 10.95656014, 10.5673743 ,  8.49736626, 10.52616417,\n",
       "         8.87968665,  9.1173143 ,  9.31723261,  9.64957077,  8.77748851,\n",
       "        10.23135023,  8.08056135,  9.58875697,  9.84881416,  9.25888043,\n",
       "         9.53174202,  9.36117342,  9.44951932,  9.66559596, 12.06077931,\n",
       "        10.5287414 ,  8.07260493, 10.68038478,  9.89389074,  9.14357591,\n",
       "         9.70930753,  9.71579007,  9.0552567 ,  9.6814325 , 11.77405546,\n",
       "        10.52569324,  9.44170498,  9.73335466, 10.1772703 ,  9.14537986,\n",
       "         9.21810785,  9.05889973, 10.61158523, 11.89576338,  9.76413239,\n",
       "        10.77756353,  9.74767516,  8.69953198,  9.14078546,  9.74302962,\n",
       "         9.99660499,  9.36344346, 10.46863695,  8.79440061, 12.16387188,\n",
       "         9.99328034,  9.87696346,  9.65093972,  8.17113975,  9.32446321,\n",
       "         9.23521536,  8.76048137,  9.14722907,  9.71751355, 10.81875893,\n",
       "        10.51666589,  8.47105224, 10.71515574, 10.31867353,  8.45527072,\n",
       "        11.18699909,  9.74330365, 10.93286136, 10.40003495,  8.26093211,\n",
       "         9.2912048 ,  9.46279269,  9.27399906, 10.27373564, 12.07086622,\n",
       "        10.69828881,  9.23959239,  9.82419567, 12.15282214, 11.00867001,\n",
       "         9.15429076, 10.07765677,  9.06499564,  8.53006149, 10.36117276,\n",
       "         8.25835059, 10.26425008, 10.69130358, 10.71600372, 11.41521892,\n",
       "        10.87015487,  8.97886532,  8.24010161, 11.07846791, 10.22491345,\n",
       "         8.48233741, 10.70627182,  9.42787162, 10.45159559, 11.2253924 ]))"
      ]
     },
     "execution_count": 7,
     "metadata": {},
     "output_type": "execute_result"
    }
   ],
   "source": [
    "Gravedad = np.zeros(300)\n",
    "p_ = np.ones(1)\n",
    "nll_ = lambda *p_: Chi2(*p_)\n",
    "Omega = np.zeros(300)\n",
    "\n",
    "for i in range(300): \n",
    "    Gravedad[i] = 9.81 + np.random.normal(loc=0,scale=1)\n",
    "    y_modified = y_ + np.random.normal( loc=0, scale=sigmay_[0], size=len(y_) )\n",
    "    result_ = spo.minimize(nll_,p_, args=(h_,y_modified,sigmay_,Gravedad[i]))\n",
    "    Omega[i] = result_.x\n",
    "Omega, Gravedad"
   ]
  },
  {
   "cell_type": "markdown",
   "id": "34038a85",
   "metadata": {},
   "source": [
    "**(f)** Genere la distribución conjunta $f(\\omega, g)$. Elija bien el tamaño de caja (cuente los\n",
    "cuadros en la figura por ejemplo)."
   ]
  },
  {
   "cell_type": "code",
   "execution_count": 8,
   "id": "b41cb64d",
   "metadata": {
    "scrolled": true
   },
   "outputs": [
    {
     "data": {
      "image/png": "[encoded data removed]",
      "text/plain": [
       "<Figure size 640x480 with 1 Axes>"
      ]
     },
     "metadata": {},
     "output_type": "display_data"
    }
   ],
   "source": [
    "gridy = np.linspace(min(Gravedad),max(Gravedad),30)\n",
    "gridx = np.linspace(min(Omega),max(Omega),30)\n",
    "\n",
    "H2, binsx, binsy = np.histogram2d(Omega,Gravedad,bins=(gridx,gridy))\n",
    "plt.imshow(H2,interpolation='nearest', origin='lower',\n",
    "        extent=[binsx[0],binsx[-1] , binsy[0], binsy[-1]],aspect=\"auto\")\n",
    "plt.show()"
   ]
  },
  {
   "cell_type": "markdown",
   "id": "187b93f7",
   "metadata": {},
   "source": [
    "**(g)** ¿Están las variables relacionadas?"
   ]
  },
  {
   "cell_type": "code",
   "execution_count": 9,
   "id": "e34d8dc7",
   "metadata": {},
   "outputs": [
    {
     "data": {
      "text/plain": [
       "0.7258691920143234"
      ]
     },
     "execution_count": 9,
     "metadata": {},
     "output_type": "execute_result"
    }
   ],
   "source": [
    "Mean_g = np.sum(Gravedad)/300\n",
    "Mean_omega = np.sum(Omega)/300\n",
    "\n",
    "Var_g = ((Gravedad - Mean_g)**2).sum()/300\n",
    "Var_omega = ((Omega - Mean_omega)**2).sum()/300\n",
    "\n",
    "Covar_gw = ((Gravedad - Mean_g)*(Omega - Mean_omega)).sum()/300\n",
    "\n",
    "r = Covar_gw/((np.sqrt(Var_g))*(np.sqrt(Var_omega)))\n",
    "r"
   ]
  },
  {
   "cell_type": "markdown",
   "id": "7ee5a72c",
   "metadata": {},
   "source": [
    "Teniendo el cuenta el coeficiente de correlación $r$ que obtenido anteriormente, se puede observar que éste es bastante próximo a 1, indicando que las variables presentan una relación significativamente fuerte."
   ]
  },
  {
   "cell_type": "markdown",
   "id": "9e7fd197",
   "metadata": {},
   "source": [
    "**(h)** Marginalice $f(\\omega,g)$ para encontrar la distribución $h(\\omega)$."
   ]
  },
  {
   "cell_type": "code",
   "execution_count": 10,
   "id": "e3c1fc7c",
   "metadata": {},
   "outputs": [
    {
     "data": {
      "text/plain": [
       "array([ 1.,  0.,  0.,  0.,  0.,  0.,  0.,  5.,  3., 10., 10., 18., 30.,\n",
       "       25., 32., 31., 32., 20., 16., 24., 15., 12.,  7.,  1.,  3.,  1.,\n",
       "        1.,  1.,  2.])"
      ]
     },
     "execution_count": 10,
     "metadata": {},
     "output_type": "execute_result"
    }
   ],
   "source": [
    "H1 = np.sum(H2,axis=1)\n",
    "H1"
   ]
  },
  {
   "cell_type": "markdown",
   "id": "577c2625",
   "metadata": {},
   "source": [
    "**(i)** Usando $h(\\omega)$ obtenga el mejor estimador $\\omega$ y el intervalo de confianza a un sigma de desviación. En este caso, use los percentiles para histogramas."
   ]
  },
  {
   "cell_type": "code",
   "execution_count": 11,
   "id": "b8f06f08",
   "metadata": {},
   "outputs": [
    {
     "name": "stdout",
     "output_type": "stream",
     "text": [
      "El estimador para lambda = 30 es  7.011487075426985e-05  y los intervalos son  5.305654812090783e-05 y 8.229938692095699e-05\n"
     ]
    }
   ],
   "source": [
    "def mejor_estimador_datos(H, yeah):\n",
    "    cs = np.cumsum(np.sum(H,axis=1))\n",
    "    ij = np.searchsorted(cs, np.percentile(cs, 16))\n",
    "    ii = np.searchsorted(cs, np.percentile(cs, 50))\n",
    "    ji = np.searchsorted(cs, np.percentile(cs, 84))\n",
    "\n",
    "    return yeah[ij], yeah[ji], yeah[ii]\n",
    "\n",
    "pequeña, grande, mejor = mejor_estimador_datos(H2, binsx)\n",
    "print(\"El estimador para lambda = 30 es \", mejor, \" y los intervalos son \", pequeña, \"y\", grande)\n"
   ]
  },
  {
   "cell_type": "markdown",
   "id": "868ad0e4",
   "metadata": {},
   "source": [
    "**(j)** Para la latitud $ \\lambda = 30$, El mejor estimador es aproximadamente $\\omega = 7.30 \\times 10^{−5}$ y el intervalo de confianza a $1\\sigma$ es:"
   ]
  },
  {
   "cell_type": "code",
   "execution_count": 12,
   "id": "afc39cfa",
   "metadata": {},
   "outputs": [
    {
     "name": "stdout",
     "output_type": "stream",
     "text": [
      "[10, 20, 30, 40, 50, 60, 70]\n",
      "[7.887568442594354e-05, 7.89495725335287e-05, 7.175298544644119e-05, 6.64016867947133e-05, 4.926400431423092e-05, 4.177613515931252e-05]\n"
     ]
    }
   ],
   "source": [
    "x__ = [10,20,30,40,50,60,70]\n",
    "y__ = []\n",
    "error__ = []\n",
    "\n",
    "\n",
    "for every in range(1, 7):\n",
    "    filtro = Data[\"angle\"] == x__[every-1]\n",
    "    resultado = Data[filtro]\n",
    "    y_ = np.array(resultado[\"y\"])\n",
    "    h_ =  np.array(resultado[\"h\"])\n",
    "    sigmay_ = np.array(resultado[\"sigmay\"])\n",
    "    Gravedad = np.zeros(300)\n",
    "    p_ = np.ones(1)\n",
    "    nll_ = lambda *p_: Chi2(*p_)\n",
    "    Omega = np.zeros(300)\n",
    "\n",
    "    for i in range(300): \n",
    "        Gravedad[i] = 9.81 + np.random.normal(loc=0,scale=1)\n",
    "        y_modified = y_ + np.random.normal( loc=0, scale=sigmay_[0], size=len(y_) )\n",
    "        result_ = spo.minimize(nll_,p_, args=(h_,y_modified,sigmay_,Gravedad[i]))\n",
    "        Omega[i] = result_.x\n",
    "    Omega, Gravedad\n",
    "    gridy = np.linspace(min(Gravedad),max(Gravedad),30)\n",
    "    gridx = np.linspace(min(Omega),max(Omega),30)\n",
    "\n",
    "    H2, binsx, binsy = np.histogram2d(Omega,Gravedad,bins=(gridx,gridy))\n",
    "    pequeña, grande, mejor = mejor_estimador_datos(H2, binsx)\n",
    "    y__.append(mejor)\n",
    "    vamos = np.abs((grande - pequeña)/2)\n",
    "    error__.append(vamos)\n",
    "print(x__)\n",
    "print(y__)\n",
    "\n",
    "y__.append(np.sum(y__)/len(y__))\n",
    "error__.append(np.sum(error__)/len(error__))\n",
    "    "
   ]
  },
  {
   "cell_type": "code",
   "execution_count": 13,
   "id": "e3f904a4",
   "metadata": {},
   "outputs": [
    {
     "data": {
      "image/png": "[encoded data removed]",
      "text/plain": [
       "<Figure size 640x480 with 1 Axes>"
      ]
     },
     "metadata": {},
     "output_type": "display_data"
    }
   ],
   "source": [
    "plt.scatter(x__, y__)\n",
    "mean = np.sum(y__)/len(y__)\n",
    "\n",
    "plt.axhline(mean, linestyle = 'dashed', color = 'r', label=\"Día Solar\")\n",
    "for i in range(len(x__)):\n",
    "    if i < len(x__)-1:\n",
    "        t = plt.errorbar(x__[i], y__[i], yerr = error__[i],ecolor=\"k\",  capsize=2,fmt=\"ob\")\n",
    "    else:\n",
    "        t = plt.errorbar(x__[i], y__[i], yerr = error__[i],ecolor=\"k\",  capsize=2,fmt=\"ob\", label = \"Estimación\")\n",
    "plt.xticks(x__ ,[\" λ=10\", \" λ=20\", \" λ=30\", \" λ=40\", \" λ=50\", \" λ=60\", \"Combined\"])\n",
    "plt.legend()\n",
    "plt.show()\n",
    "       \n"
   ]
  },
  {
   "cell_type": "code",
   "execution_count": null,
   "id": "852e90a9",
   "metadata": {},
   "outputs": [],
   "source": []
  }
 ],
 "metadata": {
  "kernelspec": {
   "display_name": "Python 3 (ipykernel)",
   "language": "python",
   "name": "python3"
  },
  "language_info": {
   "codemirror_mode": {
    "name": "ipython",
    "version": 3
   },
   "file_extension": ".py",
   "mimetype": "text/x-python",
   "name": "python",
   "nbconvert_exporter": "python",
   "pygments_lexer": "ipython3",
   "version": "3.9.13"
  }
 },
 "nbformat": 4,
 "nbformat_minor": 5
}
