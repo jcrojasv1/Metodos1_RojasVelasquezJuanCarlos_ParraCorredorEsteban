{
 "cells": [
  {
   "cell_type": "code",
   "execution_count": 185,
   "id": "101fb41d",
   "metadata": {},
   "outputs": [],
   "source": [
    "import numpy as np\n",
    "import matplotlib.pyplot as plt\n",
    "import pandas as pd\n",
    "\n",
    "import sympy as sym\n",
    "from scipy.stats import chi2\n",
    "import scipy.optimize as spo\n",
    "\n",
    "import os\n",
    "import os.path as path\n",
    "import wget"
   ]
  },
  {
   "cell_type": "markdown",
   "id": "f93f9231",
   "metadata": {},
   "source": [
    "**(a)** Descargar los datos expermientales de cada canal de observación."
   ]
  },
  {
   "cell_type": "code",
   "execution_count": 186,
   "id": "aaccfefa",
   "metadata": {},
   "outputs": [],
   "source": [
    "if not path.exists('Data'):\n",
    "    os.mkdir('Data')\n",
    "\n",
    "file = 'Data/DataRotacion.csv'\n",
    "\n",
    "url = 'https://raw.githubusercontent.com/asegura4488/Database/main/MetodosComputacionalesReforma/DataRotacion.csv'\n",
    "\n",
    "if not path.exists(file):\n",
    "    Path_ = wget.download(url,file)\n",
    "    print('File loaded')\n",
    "else:\n",
    "    Path_ = file"
   ]
  },
  {
   "cell_type": "markdown",
   "id": "c6c53e24",
   "metadata": {},
   "source": [
    "**(b)** Cargue los datos usando Pandas y haga un filtrado para obtener los datos correspondientes a $\\lambda = 30$."
   ]
  },
  {
   "cell_type": "code",
   "execution_count": 187,
   "id": "ba381efc",
   "metadata": {
    "scrolled": false
   },
   "outputs": [
    {
     "data": {
      "text/html": [
       "<div>\n",
       "<style scoped>\n",
       "    .dataframe tbody tr th:only-of-type {\n",
       "        vertical-align: middle;\n",
       "    }\n",
       "\n",
       "    .dataframe tbody tr th {\n",
       "        vertical-align: top;\n",
       "    }\n",
       "\n",
       "    .dataframe thead th {\n",
       "        text-align: right;\n",
       "    }\n",
       "</style>\n",
       "<table border=\"1\" class=\"dataframe\">\n",
       "  <thead>\n",
       "    <tr style=\"text-align: right;\">\n",
       "      <th></th>\n",
       "      <th>h</th>\n",
       "      <th>angle</th>\n",
       "      <th>y</th>\n",
       "      <th>sigmay</th>\n",
       "    </tr>\n",
       "  </thead>\n",
       "  <tbody>\n",
       "    <tr>\n",
       "      <th>20</th>\n",
       "      <td>10.0</td>\n",
       "      <td>30.0</td>\n",
       "      <td>0.0013</td>\n",
       "      <td>0.0015</td>\n",
       "    </tr>\n",
       "    <tr>\n",
       "      <th>21</th>\n",
       "      <td>20.0</td>\n",
       "      <td>30.0</td>\n",
       "      <td>0.0017</td>\n",
       "      <td>0.0015</td>\n",
       "    </tr>\n",
       "    <tr>\n",
       "      <th>22</th>\n",
       "      <td>30.0</td>\n",
       "      <td>30.0</td>\n",
       "      <td>0.0038</td>\n",
       "      <td>0.0015</td>\n",
       "    </tr>\n",
       "    <tr>\n",
       "      <th>23</th>\n",
       "      <td>40.0</td>\n",
       "      <td>30.0</td>\n",
       "      <td>0.0059</td>\n",
       "      <td>0.0015</td>\n",
       "    </tr>\n",
       "    <tr>\n",
       "      <th>24</th>\n",
       "      <td>50.0</td>\n",
       "      <td>30.0</td>\n",
       "      <td>0.0067</td>\n",
       "      <td>0.0015</td>\n",
       "    </tr>\n",
       "    <tr>\n",
       "      <th>25</th>\n",
       "      <td>60.0</td>\n",
       "      <td>30.0</td>\n",
       "      <td>0.0094</td>\n",
       "      <td>0.0015</td>\n",
       "    </tr>\n",
       "    <tr>\n",
       "      <th>26</th>\n",
       "      <td>70.0</td>\n",
       "      <td>30.0</td>\n",
       "      <td>0.0122</td>\n",
       "      <td>0.0015</td>\n",
       "    </tr>\n",
       "    <tr>\n",
       "      <th>27</th>\n",
       "      <td>80.0</td>\n",
       "      <td>30.0</td>\n",
       "      <td>0.0132</td>\n",
       "      <td>0.0015</td>\n",
       "    </tr>\n",
       "    <tr>\n",
       "      <th>28</th>\n",
       "      <td>90.0</td>\n",
       "      <td>30.0</td>\n",
       "      <td>0.0151</td>\n",
       "      <td>0.0015</td>\n",
       "    </tr>\n",
       "    <tr>\n",
       "      <th>29</th>\n",
       "      <td>100.0</td>\n",
       "      <td>30.0</td>\n",
       "      <td>0.0186</td>\n",
       "      <td>0.0015</td>\n",
       "    </tr>\n",
       "  </tbody>\n",
       "</table>\n",
       "</div>"
      ],
      "text/plain": [
       "        h  angle       y  sigmay\n",
       "20   10.0   30.0  0.0013  0.0015\n",
       "21   20.0   30.0  0.0017  0.0015\n",
       "22   30.0   30.0  0.0038  0.0015\n",
       "23   40.0   30.0  0.0059  0.0015\n",
       "24   50.0   30.0  0.0067  0.0015\n",
       "25   60.0   30.0  0.0094  0.0015\n",
       "26   70.0   30.0  0.0122  0.0015\n",
       "27   80.0   30.0  0.0132  0.0015\n",
       "28   90.0   30.0  0.0151  0.0015\n",
       "29  100.0   30.0  0.0186  0.0015"
      ]
     },
     "execution_count": 187,
     "metadata": {},
     "output_type": "execute_result"
    }
   ],
   "source": [
    "Data = pd.read_csv(Path_)\n",
    "filtro = Data[\"angle\"] == 30\n",
    "resultado = Data[filtro]\n",
    "resultado"
   ]
  },
  {
   "cell_type": "markdown",
   "id": "366081c4",
   "metadata": {},
   "source": [
    "**(c)** Defina el modelo físico presentado para la desviación por efecto coriolis. El modelo debe tener como entrada la altura inicial de caída $h$, el parámetro de ajuste $p=\\omega$, la latitud $\\lambda$ y la aceleración de la gravedad $g$.\n",
    "\n",
    "**(d)** Defina $\\chi^2$, donde los argumentos son $(h,y,\\text{sigmay},\\text{angle},g)$.\n",
    "\n",
    "**(e)** Minimice usando optimize. Para $\\lambda = 30$, debería obtener $\\omega = 7.24\\times 10^{-5}$."
   ]
  },
  {
   "cell_type": "code",
   "execution_count": 188,
   "id": "c2ee2694",
   "metadata": {
    "scrolled": false
   },
   "outputs": [
    {
     "name": "stdout",
     "output_type": "stream",
     "text": [
      "Optimization terminated successfully.\n",
      "         Current function value: 1.145718\n",
      "         Iterations: 3\n",
      "         Function evaluations: 8\n",
      "         Gradient evaluations: 4\n"
     ]
    }
   ],
   "source": [
    "y_ = np.array(resultado[\"y\"])\n",
    "h_ =  np.array(resultado[\"h\"])\n",
    "sigmay_ = np.array(resultado[\"sigmay\"])\n",
    "\n",
    "def GetModel(h,lamb,p,g=9.81):\n",
    "    y = 2*np.sqrt(2)*(1/3)*p*np.cos(np.deg2rad(lamb))*np.sqrt(h**3/g)\n",
    "    return y\n",
    "\n",
    "def Chi2(p,h,y,sigmay,g=9.81,angle=30):\n",
    "    return np.sum((y - GetModel(h,angle,p,g))**2/(2*sigmay**2))\n",
    "\n",
    "p = np.ones(1)\n",
    "\n",
    "nll = lambda *p: Chi2(*p)\n",
    "result = spo.minimize(nll,p, args=(h_,y_,sigmay_),options={'disp':True})"
   ]
  },
  {
   "cell_type": "markdown",
   "id": "4af4294d",
   "metadata": {},
   "source": [
    "**(f)** Dibuje los datos y el modelo para esa latitud."
   ]
  },
  {
   "cell_type": "code",
   "execution_count": 189,
   "id": "32c5e86e",
   "metadata": {},
   "outputs": [
    {
     "data": {
      "text/plain": [
       "array([7.24399804e-05])"
      ]
     },
     "execution_count": 189,
     "metadata": {},
     "output_type": "execute_result"
    }
   ],
   "source": [
    "#Obtención de omega\n",
    "omega = result.x\n",
    "omega"
   ]
  },
  {
   "cell_type": "code",
   "execution_count": 190,
   "id": "15a98bbf",
   "metadata": {},
   "outputs": [
    {
     "data": {
      "text/plain": [
       "[<matplotlib.lines.Line2D at 0x1d56095feb0>]"
      ]
     },
     "execution_count": 190,
     "metadata": {},
     "output_type": "execute_result"
    },
    {
     "data": {
      "image/png": "[encoded data removed]",
      "text/plain": [
       "<Figure size 640x480 with 1 Axes>"
      ]
     },
     "metadata": {},
     "output_type": "display_data"
    }
   ],
   "source": [
    "Model = GetModel(h_,30,omega)\n",
    "plt.errorbar(h_,y_,sigmay_,fmt=\"*\")\n",
    "plt.plot(h_,Model)"
   ]
  },
  {
   "cell_type": "markdown",
   "id": "ebfd6396",
   "metadata": {},
   "source": [
    "**Propagación de la incertidumbre de la aceleración de la gravedad**"
   ]
  },
  {
   "cell_type": "markdown",
   "id": "0e2ebeec",
   "metadata": {},
   "source": [
    "**(a)** Hacer un for loop $N = 300$ para realizar el remuestreo del valor de la gravedad de los puntos experimentales.\n",
    "\n",
    "**(b)** Genere un valor de gravedad siguiendo la distribución normal $g \\sim \\mathcal{N}(9.81,1)$.\n",
    "\n",
    "**(c)** Guarde ese valor en un array llamado Gravedad.\n",
    "\n",
    "**(d)** Cambie el valor de los puntos experimentales siguiendo la distribución normal $y \\sim \\mathcal{N}(y, \\sigma(y))$ (modificación de bootstrapping):\n",
    "\n",
    "**(e)** Realice la optimización y guarde el valor de la estimación de la rapidez $\\omega$ en otro array, Omega"
   ]
  },
  {
   "cell_type": "code",
   "execution_count": 223,
   "id": "c990ec70",
   "metadata": {},
   "outputs": [
    {
     "data": {
      "text/plain": [
       "(array([7.05354315e-05, 8.09498417e-05, 7.38639122e-05, 7.68373396e-05,\n",
       "        7.07734315e-05, 6.88237942e-05, 7.53100933e-05, 6.94722212e-05,\n",
       "        7.01971597e-05, 7.69601144e-05, 7.16733441e-05, 7.44503068e-05,\n",
       "        7.19017377e-05, 7.27280255e-05, 8.13486563e-05, 7.70504403e-05,\n",
       "        7.44236069e-05, 7.19838032e-05, 7.55629298e-05, 7.35957374e-05,\n",
       "        6.92158924e-05, 7.24088455e-05, 6.32553306e-05, 7.03440963e-05,\n",
       "        6.72722935e-05, 7.52730217e-05, 6.69256013e-05, 8.25649641e-05,\n",
       "        6.35335811e-05, 6.69648316e-05, 6.86370001e-05, 7.88037705e-05,\n",
       "        7.32426258e-05, 6.61506266e-05, 6.78614283e-05, 7.41759500e-05,\n",
       "        7.78884409e-05, 6.66333182e-05, 7.08650901e-05, 7.20851886e-05,\n",
       "        7.38426253e-05, 6.90570665e-05, 7.87225520e-05, 6.82741416e-05,\n",
       "        7.39469781e-05, 6.69083175e-05, 7.19919706e-05, 7.52014498e-05,\n",
       "        6.90184289e-05, 7.58557385e-05, 7.61561789e-05, 7.48211973e-05,\n",
       "        7.50923286e-05, 8.24974322e-05, 7.00335532e-05, 7.58279524e-05,\n",
       "        7.75388654e-05, 7.27247824e-05, 6.96357291e-05, 6.92189066e-05,\n",
       "        6.65075834e-05, 7.21940878e-05, 7.45963612e-05, 6.91341462e-05,\n",
       "        7.35937066e-05, 7.22837699e-05, 6.89708986e-05, 7.41776107e-05,\n",
       "        6.95382007e-05, 7.09683818e-05, 7.64876030e-05, 6.61861179e-05,\n",
       "        6.74711243e-05, 6.86155796e-05, 8.64984849e-05, 6.87153466e-05,\n",
       "        6.35465144e-05, 7.05777106e-05, 7.52528179e-05, 7.67640665e-05,\n",
       "        7.65056961e-05, 6.98917508e-05, 7.48001762e-05, 6.40491800e-05,\n",
       "        6.14656944e-05, 7.48964676e-05, 7.62869379e-05, 7.33631396e-05,\n",
       "        6.98845296e-05, 7.10951800e-05, 7.23458805e-05, 6.69244004e-05,\n",
       "        6.76608080e-05, 7.46825986e-05, 7.50841130e-05, 7.60575910e-05,\n",
       "        7.35415093e-05, 7.69420309e-05, 7.19930812e-05, 7.49711995e-05,\n",
       "        6.73289412e-05, 7.37901694e-05, 7.73500767e-05, 6.76210999e-05,\n",
       "        6.33428846e-05, 7.83334026e-05, 7.11944963e-05, 6.18269769e-05,\n",
       "        7.13783720e-05, 6.94538638e-05, 8.55887260e-05, 6.90600514e-05,\n",
       "        6.91132359e-05, 7.53639251e-05, 8.10953386e-05, 7.26131579e-05,\n",
       "        6.49982312e-05, 7.02693094e-05, 7.84015589e-05, 7.04671590e-05,\n",
       "        6.75265479e-05, 6.48662478e-05, 6.78700283e-05, 7.92752971e-05,\n",
       "        7.77629861e-05, 6.53368900e-05, 7.91915885e-05, 7.50161390e-05,\n",
       "        6.75184323e-05, 7.60261095e-05, 6.98301662e-05, 7.74679659e-05,\n",
       "        7.87772098e-05, 6.91762626e-05, 7.44976085e-05, 7.39221340e-05,\n",
       "        7.93998823e-05, 7.03646925e-05, 7.06955796e-05, 8.39631627e-05,\n",
       "        6.69800013e-05, 7.59992868e-05, 6.81249261e-05, 7.00785036e-05,\n",
       "        6.52913955e-05, 7.68241770e-05, 7.33207806e-05, 6.91000378e-05,\n",
       "        7.71878825e-05, 7.48924139e-05, 7.55994131e-05, 7.04240858e-05,\n",
       "        6.06361319e-05, 6.98170667e-05, 7.85590437e-05, 6.31645179e-05,\n",
       "        7.07927639e-05, 6.18684615e-05, 6.95548299e-05, 6.78577691e-05,\n",
       "        7.80479447e-05, 7.11256636e-05, 6.71328462e-05, 7.27029092e-05,\n",
       "        7.39210107e-05, 7.26906136e-05, 6.65609834e-05, 7.37165062e-05,\n",
       "        7.26525909e-05, 7.50127423e-05, 6.89594452e-05, 7.14330639e-05,\n",
       "        7.12184293e-05, 6.72722831e-05, 7.04856897e-05, 8.11452325e-05,\n",
       "        6.99567115e-05, 6.48509202e-05, 6.61160372e-05, 7.54043976e-05,\n",
       "        7.08559311e-05, 7.03799667e-05, 6.82309429e-05, 7.86461883e-05,\n",
       "        6.44894776e-05, 7.19162895e-05, 6.42722656e-05, 7.40131917e-05,\n",
       "        7.40662392e-05, 6.23981097e-05, 6.65368908e-05, 7.44637397e-05,\n",
       "        7.43210243e-05, 6.63371044e-05, 6.94172574e-05, 8.00135124e-05,\n",
       "        7.41551031e-05, 7.95153717e-05, 6.58121837e-05, 7.44221992e-05,\n",
       "        6.28272096e-05, 6.67827496e-05, 7.73692148e-05, 7.55629650e-05,\n",
       "        7.49623107e-05, 7.62903842e-05, 7.99808801e-05, 7.63461621e-05,\n",
       "        7.37247599e-05, 6.56577252e-05, 7.30722628e-05, 7.03144141e-05,\n",
       "        7.52813410e-05, 6.81475071e-05, 7.36129273e-05, 6.76083765e-05,\n",
       "        6.94891701e-05, 7.57014071e-05, 7.05283944e-05, 7.60855535e-05,\n",
       "        6.89136361e-05, 6.20390241e-05, 6.80286447e-05, 7.83475280e-05,\n",
       "        8.19798449e-05, 7.96700046e-05, 7.70136549e-05, 7.39379615e-05,\n",
       "        7.85318073e-05, 6.07298380e-05, 6.93666812e-05, 7.02237554e-05,\n",
       "        6.29376956e-05, 7.56285297e-05, 7.25463455e-05, 7.22245319e-05,\n",
       "        7.06366480e-05, 8.03142168e-05, 7.06671064e-05, 6.80285160e-05,\n",
       "        6.42179913e-05, 7.44453280e-05, 7.51931879e-05, 6.88860429e-05,\n",
       "        7.77073136e-05, 6.49135010e-05, 7.10518159e-05, 7.50003666e-05,\n",
       "        7.04345874e-05, 7.21316687e-05, 8.37035103e-05, 6.89633147e-05,\n",
       "        6.98768200e-05, 7.61614787e-05, 6.22277918e-05, 6.59156234e-05,\n",
       "        6.72196515e-05, 7.36480835e-05, 6.54581630e-05, 7.00547992e-05,\n",
       "        7.07612918e-05, 8.11241573e-05, 6.95087858e-05, 7.24214000e-05,\n",
       "        8.22286468e-05, 6.49873865e-05, 6.74769686e-05, 7.11497474e-05,\n",
       "        7.16871396e-05, 6.52859084e-05, 6.36766083e-05, 7.29926151e-05,\n",
       "        7.71723819e-05, 8.09155166e-05, 7.63880703e-05, 6.64264114e-05,\n",
       "        7.37764434e-05, 7.15007637e-05, 7.70505012e-05, 7.61258085e-05,\n",
       "        7.46510429e-05, 6.97218728e-05, 7.34722252e-05, 7.66587031e-05,\n",
       "        7.54050213e-05, 7.04434037e-05, 6.92268076e-05, 7.46399977e-05,\n",
       "        6.65309631e-05, 6.67133854e-05, 7.34811177e-05, 8.54401098e-05,\n",
       "        7.01262756e-05, 6.95336755e-05, 6.58638444e-05, 7.40027634e-05,\n",
       "        7.55278663e-05, 7.85308057e-05, 6.79370527e-05, 6.78613852e-05]),\n",
       " array([ 9.41987753, 11.07821385,  8.98471004, 10.35306673, 10.6653371 ,\n",
       "         9.21163529, 11.10653999,  8.56016544,  9.37789765, 10.92368478,\n",
       "         9.13452854, 10.40763397,  9.52959521, 10.18922996, 10.95218814,\n",
       "        11.12656873,  9.23484783, 10.36770302, 10.82744791,  9.8178094 ,\n",
       "         9.06034105,  8.5639939 ,  8.47631633,  8.67277298,  8.51694021,\n",
       "         9.99992092,  9.19866438, 11.44276661,  8.02429472,  8.22274524,\n",
       "         9.61011611,  9.98504026,  9.51291579,  9.27072197,  9.28084126,\n",
       "         9.13909906,  9.98937238,  7.76162604, 10.25752688,  9.89728943,\n",
       "         9.65986415, 10.11803151, 10.78304578,  8.98158661, 10.19782159,\n",
       "         8.35504468,  9.08348774, 11.1779261 , 10.16392755, 10.71068512,\n",
       "        10.43229213, 10.24929625, 10.94961953, 11.56017189, 10.33489344,\n",
       "         9.99137468,  9.69082739,  8.7680408 , 10.60401921,  8.83526549,\n",
       "         8.63020844,  9.83218184,  8.97837339,  9.05660347, 10.10106502,\n",
       "         9.87375441,  8.33134475, 10.50395239,  9.76467866,  9.19618654,\n",
       "        11.15105134,  9.15205981,  8.61036873, 10.4703827 , 12.09837801,\n",
       "         9.38653739,  9.34918217,  9.59035437, 10.78497834, 10.20642772,\n",
       "         9.17012315,  9.22008219, 10.55162461,  8.3922811 ,  8.27344048,\n",
       "         9.82542167, 10.35984804,  9.68870341,  9.84350931,  9.3274981 ,\n",
       "         8.60246704,  7.82437933, 10.28282993,  9.52275781, 10.78370223,\n",
       "        11.64146022, 10.12326603,  9.71010368,  9.53413016,  9.96514789,\n",
       "         9.61296101,  9.97413181, 10.89271522,  9.7644652 ,  8.56772049,\n",
       "        10.65077141,  8.91736072,  7.43158317,  9.62607632,  8.45230482,\n",
       "        10.59587758,  7.73474067,  9.45272711, 10.31958312, 10.89104085,\n",
       "        10.34733291,  8.95082685,  9.35402743,  9.8731853 ,  8.84853818,\n",
       "         9.15202298,  8.12242651,  9.02766013, 10.79171975,  9.72530699,\n",
       "         8.66527644,  9.67496832, 11.07386192,  8.67823788, 10.0085229 ,\n",
       "        10.80395192, 11.57379049, 10.28408865, 10.69275356, 10.28003228,\n",
       "        10.06507878, 10.37292788, 10.21463635,  9.35069156, 11.68821077,\n",
       "        10.92326453,  9.78136595,  9.86656451,  9.21649142,  8.98844479,\n",
       "        10.07430631,  9.50509121,  8.80527299, 11.1575176 ,  9.38618487,\n",
       "        10.08799664, 10.19418341,  7.01993427,  9.66506351, 10.25953608,\n",
       "         8.52113842,  8.98889061,  7.84721759,  8.85873364,  8.80537806,\n",
       "         9.71689435,  8.75161014,  8.46209038, 10.89350824, 10.50521262,\n",
       "         9.67335973,  9.53605743, 10.42850514,  8.77113223, 10.13556337,\n",
       "         9.30753543, 10.1806161 ,  9.97128237,  8.09881954,  8.80421892,\n",
       "        11.43635301,  8.65965105,  7.52625029,  9.25753519, 10.57036746,\n",
       "         9.19021008,  8.90835176,  9.08736395, 10.86275704,  8.35008295,\n",
       "         8.61338963,  8.1882741 ,  9.8571011 , 11.17669453,  8.50461448,\n",
       "         9.39941621,  9.47354446,  9.95323799,  8.81857395,  9.35083293,\n",
       "        11.42130948, 11.27538773, 11.26416692,  7.86274107, 10.83159443,\n",
       "         9.26384826,  9.58133153, 10.55610049, 11.61810849, 10.32992252,\n",
       "        10.44551441, 10.54307258,  9.97432093,  8.9437687 ,  8.84633995,\n",
       "         9.71877791,  8.67683819, 10.24624779,  9.85043078,  9.97032372,\n",
       "         8.55235911,  8.49955677, 10.30452458,  9.45272609, 10.95077156,\n",
       "         9.69315555,  7.98670886,  8.98774958, 11.76519373, 10.98469662,\n",
       "        10.77914082, 11.42749263,  9.59330715, 10.13151213,  9.07292634,\n",
       "         9.24021697, 10.05994046,  7.07236056, 10.4089529 , 10.87658821,\n",
       "         9.75104068,  9.20901374, 10.89890548,  9.25906621, 10.45864794,\n",
       "         7.850463  , 10.62623974, 11.25907219, 10.26318079, 11.31209257,\n",
       "         8.38950452,  8.87588096,  9.6224451 ,  8.8605399 , 10.01768573,\n",
       "        10.95169113,  9.04637255,  9.87253661, 10.5970605 ,  8.54176576,\n",
       "         9.10583858, 10.49591   , 11.38358363,  9.1805213 ,  8.8818595 ,\n",
       "         9.07526322,  9.17316209,  8.6231285 , 10.17450325, 11.59572875,\n",
       "         7.30374808,  8.12173302,  9.36209115,  9.17751603, 10.40256348,\n",
       "         7.36380777,  9.62413749,  9.38392558, 11.95020494, 10.45320645,\n",
       "         9.41292463,  9.91692045,  9.04030913, 10.79281552,  9.38083691,\n",
       "         9.92518357,  9.00430023,  9.52226211,  9.93375837, 10.31751321,\n",
       "        10.48865138,  8.33989851, 10.22938749,  9.34917789,  9.80229537,\n",
       "         9.51868662, 11.03922358,  9.76931422,  8.97531829,  8.66477452,\n",
       "         9.60155368, 10.11238339, 11.00496311,  9.17576442,  9.55546123]))"
      ]
     },
     "execution_count": 223,
     "metadata": {},
     "output_type": "execute_result"
    }
   ],
   "source": [
    "Gravedad = np.zeros(300)\n",
    "p_ = np.ones(1)\n",
    "nll_ = lambda *p_: Chi2(*p_)\n",
    "Omega = np.zeros(300)\n",
    "\n",
    "for i in range(300): \n",
    "    Gravedad[i] = 9.81 + np.random.normal(loc=0,scale=1)\n",
    "    y_modified = y_ + np.random.normal( loc=0, scale=sigmay_[0], size=len(y_) )\n",
    "    result_ = spo.minimize(nll_,p_, args=(h_,y_modified,sigmay_,Gravedad[i]))\n",
    "    Omega[i] = result_.x\n",
    "Omega, Gravedad"
   ]
  },
  {
   "cell_type": "markdown",
   "id": "34038a85",
   "metadata": {},
   "source": [
    "**(f)** Genere la distribución conjunta $f(\\omega, g)$. Elija bien el tamaño de caja (cuente los\n",
    "cuadros en la figura por ejemplo)."
   ]
  },
  {
   "cell_type": "code",
   "execution_count": 224,
   "id": "b41cb64d",
   "metadata": {
    "scrolled": true
   },
   "outputs": [
    {
     "data": {
      "image/png": "[encoded data removed]",
      "text/plain": [
       "<Figure size 640x480 with 1 Axes>"
      ]
     },
     "metadata": {},
     "output_type": "display_data"
    }
   ],
   "source": [
    "gridy = np.linspace(min(Gravedad),max(Gravedad),30)\n",
    "gridx = np.linspace(min(Omega),max(Omega),30)\n",
    "\n",
    "H2, binsx, binsy = np.histogram2d(Omega,Gravedad,bins=(gridx,gridy))\n",
    "plt.imshow(H2,interpolation='nearest', origin='lower',\n",
    "        extent=[binsx[0],binsx[-1] , binsy[0], binsy[-1]],aspect=\"auto\")\n",
    "plt.show()"
   ]
  },
  {
   "cell_type": "markdown",
   "id": "187b93f7",
   "metadata": {},
   "source": [
    "**(g)** ¿Están las variables relacionadas?"
   ]
  },
  {
   "cell_type": "code",
   "execution_count": 232,
   "id": "e34d8dc7",
   "metadata": {},
   "outputs": [
    {
     "data": {
      "text/plain": [
       "0.7442929160400197"
      ]
     },
     "execution_count": 232,
     "metadata": {},
     "output_type": "execute_result"
    }
   ],
   "source": [
    "Mean_g = np.sum(Gravedad)/300\n",
    "Mean_omega = np.sum(Omega)/300\n",
    "\n",
    "Var_g = ((Gravedad - Mean_g)**2).sum()/300\n",
    "Var_omega = ((Omega - Mean_omega)**2).sum()/300\n",
    "\n",
    "Covar_gw = ((Gravedad - Mean_g)*(Omega - Mean_omega)).sum()/300\n",
    "\n",
    "r = Covar_gw/((np.sqrt(Var_g))*(np.sqrt(Var_omega)))\n",
    "r"
   ]
  },
  {
   "cell_type": "markdown",
   "id": "7ee5a72c",
   "metadata": {},
   "source": [
    "Teniendo el cuenta el coeficiente de correlación $r$ que obtenido anteriormente, se puede observar que éste es bastante próximo a 1, indicando que las variables presentan una relación significativamente fuerte."
   ]
  },
  {
   "cell_type": "markdown",
   "id": "9e7fd197",
   "metadata": {},
   "source": [
    "**(h)** Marginalice $f(\\omega,g)$ para encontrar la distribución $h(\\omega)$."
   ]
  },
  {
   "cell_type": "code",
   "execution_count": 234,
   "id": "e3c1fc7c",
   "metadata": {},
   "outputs": [
    {
     "data": {
      "text/plain": [
       "array([ 3.,  5.,  4.,  5.,  8.,  8., 12., 17., 13., 25., 23., 20., 14.,\n",
       "       13., 22., 19., 22., 16., 14.,  7.,  9.,  5.,  6.,  2.,  3.,  1.,\n",
       "        1.,  2.,  1.])"
      ]
     },
     "execution_count": 234,
     "metadata": {},
     "output_type": "execute_result"
    }
   ],
   "source": [
    "H1 = np.sum(H2,axis=1)\n",
    "H1"
   ]
  },
  {
   "cell_type": "markdown",
   "id": "577c2625",
   "metadata": {},
   "source": [
    "**(i)** Usando $h(\\omega)$ obtenga el mejor estimador $\\omega$ y el intervalo de confianza a un sigma de desviación. En este caso, use los percentiles para histogramas."
   ]
  },
  {
   "cell_type": "code",
   "execution_count": 237,
   "id": "b8f06f08",
   "metadata": {},
   "outputs": [
    {
     "data": {
      "text/plain": [
       "array([  3.,   8.,  12.,  17.,  25.,  33.,  45.,  62.,  75., 100., 123.,\n",
       "       143., 157., 170., 192., 211., 233., 249., 263., 270., 279., 284.,\n",
       "       290., 292., 295., 296., 297., 299., 300.])"
      ]
     },
     "execution_count": 237,
     "metadata": {},
     "output_type": "execute_result"
    }
   ],
   "source": [
    "cs = np.cumsum(H1)\n",
    "ij = np.searchsorted(cs,np.percentile(cs,16))\n",
    "ii = np.searchsorted(cs,np.percentile(cs,50))\n",
    "ji = np.searchsorted(cs,np.percentile(cs,84))"
   ]
  },
  {
   "cell_type": "code",
   "execution_count": null,
   "id": "d6962906",
   "metadata": {},
   "outputs": [],
   "source": []
  }
 ],
 "metadata": {
  "kernelspec": {
   "display_name": "Python 3 (ipykernel)",
   "language": "python",
   "name": "python3"
  },
  "language_info": {
   "codemirror_mode": {
    "name": "ipython",
    "version": 3
   },
   "file_extension": ".py",
   "mimetype": "text/x-python",
   "name": "python",
   "nbconvert_exporter": "python",
   "pygments_lexer": "ipython3",
   "version": "3.9.13"
  }
 },
 "nbformat": 4,
 "nbformat_minor": 5
}
