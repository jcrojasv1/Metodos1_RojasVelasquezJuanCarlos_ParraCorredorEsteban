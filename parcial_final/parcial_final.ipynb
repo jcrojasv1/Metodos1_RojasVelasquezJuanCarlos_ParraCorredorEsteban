{
 "cells": [
  {
   "cell_type": "code",
   "execution_count": 238,
   "id": "101fb41d",
   "metadata": {},
   "outputs": [],
   "source": [
    "import numpy as np\n",
    "import matplotlib.pyplot as plt\n",
    "import pandas as pd\n",
    "\n",
    "import sympy as sym\n",
    "from scipy.stats import chi2\n",
    "import scipy.optimize as spo\n",
    "\n",
    "import os\n",
    "import os.path as path\n",
    "import wget"
   ]
  },
  {
   "cell_type": "markdown",
   "id": "f93f9231",
   "metadata": {},
   "source": [
    "**(a)** Descargar los datos expermientales de cada canal de observación."
   ]
  },
  {
   "cell_type": "code",
   "execution_count": 239,
   "id": "aaccfefa",
   "metadata": {},
   "outputs": [],
   "source": [
    "if not path.exists('Data'):\n",
    "    os.mkdir('Data')\n",
    "\n",
    "file = 'Data/DataRotacion.csv'\n",
    "\n",
    "url = 'https://raw.githubusercontent.com/asegura4488/Database/main/MetodosComputacionalesReforma/DataRotacion.csv'\n",
    "\n",
    "if not path.exists(file):\n",
    "    Path_ = wget.download(url,file)\n",
    "    print('File loaded')\n",
    "else:\n",
    "    Path_ = file"
   ]
  },
  {
   "cell_type": "markdown",
   "id": "c6c53e24",
   "metadata": {},
   "source": [
    "**(b)** Cargue los datos usando Pandas y haga un filtrado para obtener los datos correspondientes a $\\lambda = 30$."
   ]
  },
  {
   "cell_type": "code",
   "execution_count": 240,
   "id": "ba381efc",
   "metadata": {
    "scrolled": false
   },
   "outputs": [
    {
     "data": {
      "text/html": [
       "<div>\n",
       "<style scoped>\n",
       "    .dataframe tbody tr th:only-of-type {\n",
       "        vertical-align: middle;\n",
       "    }\n",
       "\n",
       "    .dataframe tbody tr th {\n",
       "        vertical-align: top;\n",
       "    }\n",
       "\n",
       "    .dataframe thead th {\n",
       "        text-align: right;\n",
       "    }\n",
       "</style>\n",
       "<table border=\"1\" class=\"dataframe\">\n",
       "  <thead>\n",
       "    <tr style=\"text-align: right;\">\n",
       "      <th></th>\n",
       "      <th>h</th>\n",
       "      <th>angle</th>\n",
       "      <th>y</th>\n",
       "      <th>sigmay</th>\n",
       "    </tr>\n",
       "  </thead>\n",
       "  <tbody>\n",
       "    <tr>\n",
       "      <th>20</th>\n",
       "      <td>10.0</td>\n",
       "      <td>30.0</td>\n",
       "      <td>0.0013</td>\n",
       "      <td>0.0015</td>\n",
       "    </tr>\n",
       "    <tr>\n",
       "      <th>21</th>\n",
       "      <td>20.0</td>\n",
       "      <td>30.0</td>\n",
       "      <td>0.0017</td>\n",
       "      <td>0.0015</td>\n",
       "    </tr>\n",
       "    <tr>\n",
       "      <th>22</th>\n",
       "      <td>30.0</td>\n",
       "      <td>30.0</td>\n",
       "      <td>0.0038</td>\n",
       "      <td>0.0015</td>\n",
       "    </tr>\n",
       "    <tr>\n",
       "      <th>23</th>\n",
       "      <td>40.0</td>\n",
       "      <td>30.0</td>\n",
       "      <td>0.0059</td>\n",
       "      <td>0.0015</td>\n",
       "    </tr>\n",
       "    <tr>\n",
       "      <th>24</th>\n",
       "      <td>50.0</td>\n",
       "      <td>30.0</td>\n",
       "      <td>0.0067</td>\n",
       "      <td>0.0015</td>\n",
       "    </tr>\n",
       "    <tr>\n",
       "      <th>25</th>\n",
       "      <td>60.0</td>\n",
       "      <td>30.0</td>\n",
       "      <td>0.0094</td>\n",
       "      <td>0.0015</td>\n",
       "    </tr>\n",
       "    <tr>\n",
       "      <th>26</th>\n",
       "      <td>70.0</td>\n",
       "      <td>30.0</td>\n",
       "      <td>0.0122</td>\n",
       "      <td>0.0015</td>\n",
       "    </tr>\n",
       "    <tr>\n",
       "      <th>27</th>\n",
       "      <td>80.0</td>\n",
       "      <td>30.0</td>\n",
       "      <td>0.0132</td>\n",
       "      <td>0.0015</td>\n",
       "    </tr>\n",
       "    <tr>\n",
       "      <th>28</th>\n",
       "      <td>90.0</td>\n",
       "      <td>30.0</td>\n",
       "      <td>0.0151</td>\n",
       "      <td>0.0015</td>\n",
       "    </tr>\n",
       "    <tr>\n",
       "      <th>29</th>\n",
       "      <td>100.0</td>\n",
       "      <td>30.0</td>\n",
       "      <td>0.0186</td>\n",
       "      <td>0.0015</td>\n",
       "    </tr>\n",
       "  </tbody>\n",
       "</table>\n",
       "</div>"
      ],
      "text/plain": [
       "        h  angle       y  sigmay\n",
       "20   10.0   30.0  0.0013  0.0015\n",
       "21   20.0   30.0  0.0017  0.0015\n",
       "22   30.0   30.0  0.0038  0.0015\n",
       "23   40.0   30.0  0.0059  0.0015\n",
       "24   50.0   30.0  0.0067  0.0015\n",
       "25   60.0   30.0  0.0094  0.0015\n",
       "26   70.0   30.0  0.0122  0.0015\n",
       "27   80.0   30.0  0.0132  0.0015\n",
       "28   90.0   30.0  0.0151  0.0015\n",
       "29  100.0   30.0  0.0186  0.0015"
      ]
     },
     "execution_count": 240,
     "metadata": {},
     "output_type": "execute_result"
    }
   ],
   "source": [
    "Data = pd.read_csv(Path_)\n",
    "filtro = Data[\"angle\"] == 30\n",
    "resultado = Data[filtro]\n",
    "resultado"
   ]
  },
  {
   "cell_type": "markdown",
   "id": "366081c4",
   "metadata": {},
   "source": [
    "**(c)** Defina el modelo físico presentado para la desviación por efecto coriolis. El modelo debe tener como entrada la altura inicial de caída $h$, el parámetro de ajuste $p=\\omega$, la latitud $\\lambda$ y la aceleración de la gravedad $g$.\n",
    "\n",
    "**(d)** Defina $\\chi^2$, donde los argumentos son $(h,y,\\text{sigmay},\\text{angle},g)$.\n",
    "\n",
    "**(e)** Minimice usando optimize. Para $\\lambda = 30$, debería obtener $\\omega = 7.24\\times 10^{-5}$."
   ]
  },
  {
   "cell_type": "code",
   "execution_count": 241,
   "id": "c2ee2694",
   "metadata": {
    "scrolled": false
   },
   "outputs": [
    {
     "name": "stdout",
     "output_type": "stream",
     "text": [
      "Optimization terminated successfully.\n",
      "         Current function value: 1.145718\n",
      "         Iterations: 3\n",
      "         Function evaluations: 8\n",
      "         Gradient evaluations: 4\n"
     ]
    }
   ],
   "source": [
    "y_ = np.array(resultado[\"y\"])\n",
    "h_ =  np.array(resultado[\"h\"])\n",
    "sigmay_ = np.array(resultado[\"sigmay\"])\n",
    "\n",
    "def GetModel(h,lamb,p,g=9.81):\n",
    "    y = 2*np.sqrt(2)*(1/3)*p*np.cos(np.deg2rad(lamb))*np.sqrt(h**3/g)\n",
    "    return y\n",
    "\n",
    "def Chi2(p,h,y,sigmay,g=9.81,angle=30):\n",
    "    return np.sum((y - GetModel(h,angle,p,g))**2/(2*sigmay**2))\n",
    "\n",
    "p = np.ones(1)\n",
    "\n",
    "nll = lambda *p: Chi2(*p)\n",
    "result = spo.minimize(nll,p, args=(h_,y_,sigmay_),options={'disp':True})"
   ]
  },
  {
   "cell_type": "markdown",
   "id": "4af4294d",
   "metadata": {},
   "source": [
    "**(f)** Dibuje los datos y el modelo para esa latitud."
   ]
  },
  {
   "cell_type": "code",
   "execution_count": 242,
   "id": "32c5e86e",
   "metadata": {},
   "outputs": [
    {
     "data": {
      "text/plain": [
       "array([7.24399804e-05])"
      ]
     },
     "execution_count": 242,
     "metadata": {},
     "output_type": "execute_result"
    }
   ],
   "source": [
    "#Obtención de omega\n",
    "omega = result.x\n",
    "omega"
   ]
  },
  {
   "cell_type": "code",
   "execution_count": 243,
   "id": "15a98bbf",
   "metadata": {},
   "outputs": [
    {
     "data": {
      "text/plain": [
       "[<matplotlib.lines.Line2D at 0x1d562be1730>]"
      ]
     },
     "execution_count": 243,
     "metadata": {},
     "output_type": "execute_result"
    },
    {
     "data": {
      "image/png": "[encoded data removed]",
      "text/plain": [
       "<Figure size 640x480 with 1 Axes>"
      ]
     },
     "metadata": {},
     "output_type": "display_data"
    }
   ],
   "source": [
    "Model = GetModel(h_,30,omega)\n",
    "plt.errorbar(h_,y_,sigmay_,fmt=\"*\")\n",
    "plt.plot(h_,Model)"
   ]
  },
  {
   "cell_type": "markdown",
   "id": "ebfd6396",
   "metadata": {},
   "source": [
    "**Propagación de la incertidumbre de la aceleración de la gravedad**"
   ]
  },
  {
   "cell_type": "markdown",
   "id": "0e2ebeec",
   "metadata": {},
   "source": [
    "**(a)** Hacer un for loop $N = 300$ para realizar el remuestreo del valor de la gravedad de los puntos experimentales.\n",
    "\n",
    "**(b)** Genere un valor de gravedad siguiendo la distribución normal $g \\sim \\mathcal{N}(9.81,1)$.\n",
    "\n",
    "**(c)** Guarde ese valor en un array llamado Gravedad.\n",
    "\n",
    "**(d)** Cambie el valor de los puntos experimentales siguiendo la distribución normal $y \\sim \\mathcal{N}(y, \\sigma(y))$ (modificación de bootstrapping):\n",
    "\n",
    "**(e)** Realice la optimización y guarde el valor de la estimación de la rapidez $\\omega$ en otro array, Omega"
   ]
  },
  {
   "cell_type": "code",
   "execution_count": 244,
   "id": "c990ec70",
   "metadata": {},
   "outputs": [
    {
     "data": {
      "text/plain": [
       "(array([8.04143671e-05, 8.05063022e-05, 6.67563580e-05, 6.98395984e-05,\n",
       "        6.95400217e-05, 7.09126703e-05, 7.49307677e-05, 7.17722051e-05,\n",
       "        6.96907705e-05, 7.52017989e-05, 7.85396347e-05, 7.50202401e-05,\n",
       "        7.39030107e-05, 7.70373363e-05, 7.07905684e-05, 7.59859981e-05,\n",
       "        6.49554579e-05, 7.53496876e-05, 6.83754066e-05, 7.81692910e-05,\n",
       "        7.52425481e-05, 8.06888348e-05, 6.68741925e-05, 6.99146823e-05,\n",
       "        8.45117476e-05, 6.30209855e-05, 7.73556451e-05, 7.74546220e-05,\n",
       "        7.02669957e-05, 6.24741936e-05, 7.30685552e-05, 7.97832828e-05,\n",
       "        6.91631346e-05, 7.16691675e-05, 7.46448008e-05, 7.36101148e-05,\n",
       "        7.29477746e-05, 7.03046702e-05, 7.60451467e-05, 6.87572169e-05,\n",
       "        6.65633800e-05, 6.82031334e-05, 6.81228093e-05, 7.70105318e-05,\n",
       "        7.10887406e-05, 7.73320051e-05, 6.54083849e-05, 6.77216067e-05,\n",
       "        7.18065952e-05, 7.46611429e-05, 8.06341914e-05, 6.95018634e-05,\n",
       "        7.79196992e-05, 7.46699163e-05, 6.83657963e-05, 7.00602095e-05,\n",
       "        7.32827756e-05, 7.20857929e-05, 6.75911394e-05, 7.25450088e-05,\n",
       "        6.59778667e-05, 6.61020354e-05, 7.30167348e-05, 6.68248138e-05,\n",
       "        6.50181084e-05, 6.63253449e-05, 7.31532316e-05, 7.41095570e-05,\n",
       "        7.58184820e-05, 7.53614673e-05, 6.97560234e-05, 6.49935670e-05,\n",
       "        7.60132074e-05, 7.26127179e-05, 7.01774629e-05, 8.44835988e-05,\n",
       "        6.87172792e-05, 6.71664872e-05, 6.68698839e-05, 7.40411563e-05,\n",
       "        7.11601617e-05, 7.90580789e-05, 6.36947593e-05, 6.90110351e-05,\n",
       "        7.19783418e-05, 7.22408565e-05, 6.50100342e-05, 8.24211654e-05,\n",
       "        7.84261073e-05, 7.15060425e-05, 8.24604416e-05, 7.73761513e-05,\n",
       "        7.52124334e-05, 8.46842863e-05, 6.82396965e-05, 6.22283041e-05,\n",
       "        7.49569516e-05, 8.03484213e-05, 7.42057329e-05, 7.03290336e-05,\n",
       "        7.41585919e-05, 7.86242859e-05, 7.08775080e-05, 7.67204448e-05,\n",
       "        7.19953521e-05, 7.44529595e-05, 7.31811874e-05, 7.22908301e-05,\n",
       "        7.82374725e-05, 7.21539275e-05, 6.87872564e-05, 7.19333000e-05,\n",
       "        7.12191052e-05, 7.19792060e-05, 7.85077950e-05, 7.78614439e-05,\n",
       "        7.06151455e-05, 7.58219106e-05, 7.12455241e-05, 7.22774833e-05,\n",
       "        7.53689399e-05, 5.83989726e-05, 7.31414073e-05, 6.47835151e-05,\n",
       "        7.11938983e-05, 6.03966553e-05, 7.10251167e-05, 7.57912960e-05,\n",
       "        8.05426334e-05, 6.80082252e-05, 7.18305492e-05, 7.43781375e-05,\n",
       "        6.62092501e-05, 7.88532597e-05, 7.31000055e-05, 7.48004026e-05,\n",
       "        7.08918854e-05, 6.92153428e-05, 6.83774581e-05, 7.16989063e-05,\n",
       "        6.59742528e-05, 7.71801186e-05, 8.34592848e-05, 7.24705313e-05,\n",
       "        7.81462814e-05, 8.62982112e-05, 7.82532413e-05, 7.00930132e-05,\n",
       "        7.68427241e-05, 6.88911500e-05, 6.18339225e-05, 7.04915996e-05,\n",
       "        7.52431923e-05, 7.24884915e-05, 6.71062307e-05, 6.95605359e-05,\n",
       "        6.64226357e-05, 7.23775155e-05, 7.60621405e-05, 7.53865870e-05,\n",
       "        7.21137923e-05, 7.78065566e-05, 7.10969414e-05, 7.77505344e-05,\n",
       "        7.17048112e-05, 7.05920070e-05, 8.14766396e-05, 7.91266563e-05,\n",
       "        7.13600728e-05, 6.75197103e-05, 7.52868423e-05, 7.31569542e-05,\n",
       "        7.19385378e-05, 7.21347119e-05, 6.90405866e-05, 6.99159656e-05,\n",
       "        7.46030921e-05, 6.51599194e-05, 8.43021328e-05, 7.65192808e-05,\n",
       "        7.10915826e-05, 7.83610761e-05, 7.37350384e-05, 6.89558373e-05,\n",
       "        7.02533382e-05, 8.78058616e-05, 6.56322978e-05, 7.05752806e-05,\n",
       "        6.91803014e-05, 7.92120353e-05, 6.38335200e-05, 7.55747726e-05,\n",
       "        6.98387399e-05, 7.32974910e-05, 7.54201061e-05, 5.41015230e-05,\n",
       "        6.89314538e-05, 7.25833928e-05, 6.10741222e-05, 7.48769528e-05,\n",
       "        7.86213608e-05, 6.52365876e-05, 6.91562751e-05, 6.90151213e-05,\n",
       "        6.91645270e-05, 6.58519519e-05, 7.17995435e-05, 7.48956849e-05,\n",
       "        7.92765770e-05, 7.49758429e-05, 7.90433574e-05, 7.83391511e-05,\n",
       "        8.28592205e-05, 7.57579953e-05, 7.95524436e-05, 7.10289720e-05,\n",
       "        6.94172322e-05, 6.97931099e-05, 7.84277010e-05, 6.54451797e-05,\n",
       "        6.44666572e-05, 7.27786951e-05, 6.88039444e-05, 7.04390397e-05,\n",
       "        7.94215846e-05, 7.36998563e-05, 7.35665427e-05, 7.44489793e-05,\n",
       "        7.72754858e-05, 6.10344412e-05, 7.05108636e-05, 7.56820809e-05,\n",
       "        7.61417241e-05, 7.73468219e-05, 6.94236821e-05, 7.24771505e-05,\n",
       "        7.52325211e-05, 7.33664851e-05, 7.02058386e-05, 7.23948844e-05,\n",
       "        7.97781806e-05, 7.90853664e-05, 7.35858968e-05, 7.53631941e-05,\n",
       "        8.40697438e-05, 6.07717964e-05, 6.85315954e-05, 7.70424452e-05,\n",
       "        6.70549804e-05, 6.57880540e-05, 6.40630157e-05, 6.64466774e-05,\n",
       "        6.84670783e-05, 6.94094149e-05, 7.11577208e-05, 7.08589279e-05,\n",
       "        7.72144938e-05, 8.03400300e-05, 7.73795548e-05, 8.00399059e-05,\n",
       "        6.48327535e-05, 8.83673663e-05, 7.29234408e-05, 7.69677225e-05,\n",
       "        7.04742918e-05, 6.76420225e-05, 7.79084435e-05, 7.44779909e-05,\n",
       "        6.99398992e-05, 6.62983030e-05, 6.95723622e-05, 6.46415893e-05,\n",
       "        6.49440439e-05, 7.24145129e-05, 6.13325138e-05, 6.82243012e-05,\n",
       "        7.22681884e-05, 8.10332869e-05, 7.55724681e-05, 7.30090551e-05,\n",
       "        6.93240287e-05, 7.11317327e-05, 8.19036855e-05, 7.25724358e-05,\n",
       "        6.91641201e-05, 7.05524439e-05, 7.26073294e-05, 8.42279339e-05,\n",
       "        7.20355263e-05, 7.40328690e-05, 6.65952664e-05, 7.51502344e-05,\n",
       "        6.81799979e-05, 7.09812363e-05, 6.59799091e-05, 6.87229918e-05,\n",
       "        6.79141678e-05, 6.78077220e-05, 7.89331583e-05, 7.57747198e-05]),\n",
       " array([11.9049377 , 10.99596954,  8.61517257,  7.9825561 ,  9.38974129,\n",
       "         9.2736985 , 10.13370904,  9.45972325,  9.63331794, 10.34931125,\n",
       "        11.30608956, 10.75971438,  9.85362221, 10.78701764, 10.22073056,\n",
       "        10.84163712,  8.94718252, 10.11108642,  9.38476099, 10.76742984,\n",
       "         9.91054864, 10.63893828,  9.11441585,  9.2721994 , 11.88198842,\n",
       "         9.30701424, 10.14110026, 10.87629169, 10.31394215,  9.26892252,\n",
       "        10.53068254, 11.39577417,  8.78004106,  9.24972372, 10.15826608,\n",
       "         9.03513898, 10.30279382,  9.10701578, 10.74383077,  9.85714243,\n",
       "         8.54552586, 10.5836833 ,  8.91114638,  9.46291928,  9.12855776,\n",
       "        10.42310353,  8.89964099,  8.36407681,  9.92130574, 11.78229354,\n",
       "        11.05251938,  8.7126119 ,  9.98119922, 11.20809363, 10.0309037 ,\n",
       "         9.91048177,  9.67310848,  9.29324832,  9.4828016 , 10.62055108,\n",
       "         9.69825042,  8.9106973 ,  9.95695929,  8.71703037,  8.3102364 ,\n",
       "         7.87023864,  9.83334413,  9.73681671, 10.49167198,  9.52564776,\n",
       "         8.95495202,  8.97806544, 10.3205936 ,  9.35430214, 10.26754611,\n",
       "        11.8126114 ,  8.45468313,  8.06760752,  8.61270304, 10.77444492,\n",
       "         9.47451086, 10.51652862,  8.87814874,  9.17910463, 10.56596744,\n",
       "         9.06764392,  9.63626415, 11.67105376, 10.11076631,  9.48556396,\n",
       "        12.04861199, 10.91231557,  9.70467847, 10.55020182,  8.97674821,\n",
       "         8.20212264,  9.81454617, 11.37882903,  9.50766395,  8.87647441,\n",
       "         9.41715268, 11.29208647,  8.91908664, 11.59545208,  8.92031999,\n",
       "        11.52162949,  9.34924533,  8.16226282, 11.85870166, 10.28116843,\n",
       "         9.70696138,  9.6810335 ,  9.320878  ,  9.90406136, 10.91490572,\n",
       "         9.98155631,  9.41788304, 11.02986239,  8.6888473 , 10.76816327,\n",
       "         9.53431763,  6.59812636, 10.19860979,  7.80534094,  9.57708978,\n",
       "         8.49020254, 10.34737711, 10.26581128, 11.05930217,  8.72617708,\n",
       "         9.9042687 , 10.54960541,  9.26881033, 11.61611517, 10.41587974,\n",
       "         9.13751812,  8.96750984,  9.63968868,  9.75950164,  8.78716341,\n",
       "         8.48615825, 10.52043145, 10.96759251,  9.65157072, 11.45371359,\n",
       "        11.98634337, 11.08245511,  8.6628856 ,  9.59305957,  9.98200284,\n",
       "         6.56116151,  9.48876714, 10.88342401, 10.54092721,  8.75166453,\n",
       "         9.14594827,  9.01856794,  9.39454785, 10.43528086,  9.5200724 ,\n",
       "         9.83064965, 11.66274791, 10.77008789, 11.98140957,  8.63004405,\n",
       "         9.57240851, 11.4710856 , 10.44213544, 10.1924105 ,  8.20983004,\n",
       "         9.4372088 ,  9.5428291 , 10.25892241,  9.7031453 , 10.38753916,\n",
       "         9.14592214, 10.26037526,  9.01242335, 11.94724122, 10.01201102,\n",
       "        10.12713575, 11.13394185, 10.15779295,  8.56091614, 10.15394251,\n",
       "        11.51742269,  8.25656516,  9.93236152,  8.94815967, 11.03999516,\n",
       "         9.15568545, 10.47698796, 10.19182824, 10.21588121,  9.66723401,\n",
       "         7.67579444,  8.92351192,  9.44434565,  8.1671059 , 10.6337803 ,\n",
       "        11.26469295,  8.60158012,  9.03644748,  9.36785455,  9.09186182,\n",
       "         8.06806899,  9.63257484,  9.7274424 , 10.65413827,  9.8433715 ,\n",
       "        10.13519419, 11.00510151, 11.30113816, 10.90764506,  9.82255425,\n",
       "         9.17568735, 10.34687136, 10.37863667, 11.8673654 ,  9.08570899,\n",
       "         8.91116443, 10.82776152,  9.4757982 , 10.04536815, 10.58620708,\n",
       "        10.6773674 , 10.31738862, 10.2314776 , 10.3538283 ,  8.46890485,\n",
       "         9.166009  , 10.29068214, 10.04284664, 11.20024593, 10.30987527,\n",
       "         9.68753619,  9.79308501,  9.54501641, 10.04383057,  9.86067303,\n",
       "        12.1559921 , 11.07591793,  9.20335538, 10.13434397, 11.50869296,\n",
       "         7.91243045,  9.22606752,  9.57548845,  9.04778224,  7.80218271,\n",
       "         9.55535166,  9.42705495,  9.32318837,  9.33908091, 10.31823983,\n",
       "         8.9349311 ,  9.98341716, 10.75915482, 10.75043978, 11.54567592,\n",
       "         7.62836526, 10.74600846,  9.8417003 , 11.8455049 ,  9.28839301,\n",
       "         8.51696567,  9.2772988 ,  9.47940379,  9.78242314,  9.66043245,\n",
       "         9.39321022,  7.99887881,  9.43698338, 10.45054071,  7.94772471,\n",
       "         9.019591  ,  9.11601437, 11.44086338, 11.39010112, 10.67201234,\n",
       "        10.1616199 ,  9.7150519 , 10.07713661,  9.36605951,  9.98873946,\n",
       "         9.73210566, 10.15013312, 11.18374604,  9.78836184, 10.23751088,\n",
       "        10.2684672 ,  9.9238415 ,  9.20924482, 10.21640347,  9.23586045,\n",
       "        10.15552909,  9.13458729,  8.68070577, 10.61376712, 12.55961325]))"
      ]
     },
     "execution_count": 244,
     "metadata": {},
     "output_type": "execute_result"
    }
   ],
   "source": [
    "Gravedad = np.zeros(300)\n",
    "p_ = np.ones(1)\n",
    "nll_ = lambda *p_: Chi2(*p_)\n",
    "Omega = np.zeros(300)\n",
    "\n",
    "for i in range(300): \n",
    "    Gravedad[i] = 9.81 + np.random.normal(loc=0,scale=1)\n",
    "    y_modified = y_ + np.random.normal( loc=0, scale=sigmay_[0], size=len(y_) )\n",
    "    result_ = spo.minimize(nll_,p_, args=(h_,y_modified,sigmay_,Gravedad[i]))\n",
    "    Omega[i] = result_.x\n",
    "Omega, Gravedad"
   ]
  },
  {
   "cell_type": "markdown",
   "id": "34038a85",
   "metadata": {},
   "source": [
    "**(f)** Genere la distribución conjunta $f(\\omega, g)$. Elija bien el tamaño de caja (cuente los\n",
    "cuadros en la figura por ejemplo)."
   ]
  },
  {
   "cell_type": "code",
   "execution_count": 245,
   "id": "b41cb64d",
   "metadata": {
    "scrolled": true
   },
   "outputs": [
    {
     "data": {
      "image/png": "[encoded data removed]",
      "text/plain": [
       "<Figure size 640x480 with 1 Axes>"
      ]
     },
     "metadata": {},
     "output_type": "display_data"
    }
   ],
   "source": [
    "gridy = np.linspace(min(Gravedad),max(Gravedad),30)\n",
    "gridx = np.linspace(min(Omega),max(Omega),30)\n",
    "\n",
    "H2, binsx, binsy = np.histogram2d(Omega,Gravedad,bins=(gridx,gridy))\n",
    "plt.imshow(H2,interpolation='nearest', origin='lower',\n",
    "        extent=[binsx[0],binsx[-1] , binsy[0], binsy[-1]],aspect=\"auto\")\n",
    "plt.show()"
   ]
  },
  {
   "cell_type": "markdown",
   "id": "187b93f7",
   "metadata": {},
   "source": [
    "**(g)** ¿Están las variables relacionadas?"
   ]
  },
  {
   "cell_type": "code",
   "execution_count": 246,
   "id": "e34d8dc7",
   "metadata": {},
   "outputs": [
    {
     "data": {
      "text/plain": [
       "0.7864975418714758"
      ]
     },
     "execution_count": 246,
     "metadata": {},
     "output_type": "execute_result"
    }
   ],
   "source": [
    "Mean_g = np.sum(Gravedad)/300\n",
    "Mean_omega = np.sum(Omega)/300\n",
    "\n",
    "Var_g = ((Gravedad - Mean_g)**2).sum()/300\n",
    "Var_omega = ((Omega - Mean_omega)**2).sum()/300\n",
    "\n",
    "Covar_gw = ((Gravedad - Mean_g)*(Omega - Mean_omega)).sum()/300\n",
    "\n",
    "r = Covar_gw/((np.sqrt(Var_g))*(np.sqrt(Var_omega)))\n",
    "r"
   ]
  },
  {
   "cell_type": "markdown",
   "id": "7ee5a72c",
   "metadata": {},
   "source": [
    "Teniendo el cuenta el coeficiente de correlación $r$ que obtenido anteriormente, se puede observar que éste es bastante próximo a 1, indicando que las variables presentan una relación significativamente fuerte."
   ]
  },
  {
   "cell_type": "markdown",
   "id": "9e7fd197",
   "metadata": {},
   "source": [
    "**(h)** Marginalice $f(\\omega,g)$ para encontrar la distribución $h(\\omega)$."
   ]
  },
  {
   "cell_type": "code",
   "execution_count": 247,
   "id": "e3c1fc7c",
   "metadata": {},
   "outputs": [
    {
     "data": {
      "text/plain": [
       "array([ 1.,  0.,  0.,  1.,  0.,  4.,  3.,  2.,  5., 14., 16., 14., 26.,\n",
       "       28., 25., 29., 21., 27., 16., 15., 18., 12.,  8.,  3.,  3.,  6.,\n",
       "        0.,  1.,  2.])"
      ]
     },
     "execution_count": 247,
     "metadata": {},
     "output_type": "execute_result"
    }
   ],
   "source": [
    "H1 = np.sum(H2,axis=1)\n",
    "H1"
   ]
  },
  {
   "cell_type": "markdown",
   "id": "577c2625",
   "metadata": {},
   "source": [
    "**(i)** Usando $h(\\omega)$ obtenga el mejor estimador $\\omega$ y el intervalo de confianza a un sigma de desviación. En este caso, use los percentiles para histogramas."
   ]
  },
  {
   "cell_type": "code",
   "execution_count": 248,
   "id": "b8f06f08",
   "metadata": {},
   "outputs": [
    {
     "name": "stdout",
     "output_type": "stream",
     "text": [
      "El estimador para λ = 30 es  7.064365424496193e-05  y los intervalos son  6.000942699185847e-05 y 8.245946230396577e-05\n"
     ]
    }
   ],
   "source": [
    "def mejor_estimador_datos(H, yeah):\n",
    "    cs = np.cumsum(np.sum(H,axis=1))\n",
    "    ij = np.searchsorted(cs, np.percentile(cs, 16))\n",
    "    ii = np.searchsorted(cs, np.percentile(cs, 50))\n",
    "    ji = np.searchsorted(cs, np.percentile(cs, 84))\n",
    "\n",
    "    return yeah[ij], yeah[ji], yeah[ii]\n",
    "\n",
    "pequeña, grande, mejor = mejor_estimador_datos(H2, binsx)\n",
    "print(\"El estimador para λ = 30 es \", mejor, \" y los intervalos son \", pequeña, \"y\", grande)\n"
   ]
  },
  {
   "cell_type": "markdown",
   "id": "868ad0e4",
   "metadata": {},
   "source": [
    "**(j)** Para la latitud λ = 30, El mejor estimador es aproximadamente ωˆ = 7.30 × 10−5 y el intervalo de confianza a 1σ es:"
   ]
  },
  {
   "cell_type": "code",
   "execution_count": 255,
   "id": "afc39cfa",
   "metadata": {},
   "outputs": [
    {
     "name": "stdout",
     "output_type": "stream",
     "text": [
      "[10, 20, 30, 40, 50, 60, 70]\n",
      "[7.98032968852487e-05, 8.068720507484995e-05, 7.184373650400748e-05, 6.550838005646495e-05, 4.9851384320834794e-05, 4.096815427748644e-05]\n"
     ]
    }
   ],
   "source": [
    "x__ = [10,20,30,40,50,60,70]\n",
    "y__ = []\n",
    "error__ = []\n",
    "\n",
    "\n",
    "for every in range(1, 7):\n",
    "    filtro = Data[\"angle\"] == x__[every-1]\n",
    "    resultado = Data[filtro]\n",
    "    y_ = np.array(resultado[\"y\"])\n",
    "    h_ =  np.array(resultado[\"h\"])\n",
    "    sigmay_ = np.array(resultado[\"sigmay\"])\n",
    "    Gravedad = np.zeros(300)\n",
    "    p_ = np.ones(1)\n",
    "    nll_ = lambda *p_: Chi2(*p_)\n",
    "    Omega = np.zeros(300)\n",
    "\n",
    "    for i in range(300): \n",
    "        Gravedad[i] = 9.81 + np.random.normal(loc=0,scale=1)\n",
    "        y_modified = y_ + np.random.normal( loc=0, scale=sigmay_[0], size=len(y_) )\n",
    "        result_ = spo.minimize(nll_,p_, args=(h_,y_modified,sigmay_,Gravedad[i]))\n",
    "        Omega[i] = result_.x\n",
    "    Omega, Gravedad\n",
    "    gridy = np.linspace(min(Gravedad),max(Gravedad),30)\n",
    "    gridx = np.linspace(min(Omega),max(Omega),30)\n",
    "\n",
    "    H2, binsx, binsy = np.histogram2d(Omega,Gravedad,bins=(gridx,gridy))\n",
    "    pequeña, grande, mejor = mejor_estimador_datos(H2, binsx)\n",
    "    y__.append(mejor)\n",
    "    vamos = np.abs((grande - pequeña)/2)\n",
    "    error__.append(vamos)\n",
    "print(x__)\n",
    "print(y__)\n",
    "\n",
    "y__.append(np.sum(y__)/len(y__))\n",
    "error__.append(np.sum(y__)/len(y__))\n",
    "\n",
    "    "
   ]
  },
  {
   "cell_type": "code",
   "execution_count": 256,
   "id": "e3f904a4",
   "metadata": {},
   "outputs": [
    {
     "data": {
      "image/png": "[encoded data removed]",
      "text/plain": [
       "<Figure size 640x480 with 1 Axes>"
      ]
     },
     "metadata": {},
     "output_type": "display_data"
    }
   ],
   "source": [
    "plt.scatter(x__, y__)\n",
    "mean = np.sum(y__)/len(y__)\n",
    "\n",
    "plt.axhline(mean, linestyle = 'dashed', color = 'r', label=\"Día Solar\")\n",
    "for i in range(len(x__)):\n",
    "    if i < len(x__)-1:\n",
    "        t = plt.errorbar(x__[i], y__[i], yerr = error__[i],ecolor=\"k\",  capsize=2,fmt=\"ob\")\n",
    "    else:\n",
    "        t = plt.errorbar(x__[i], y__[i], yerr = error__[i],ecolor=\"k\",  capsize=2,fmt=\"ob\", label = \"Estimación\")\n",
    "plt.xticks(x__ ,[\" λ=10\", \" λ=20\", \" λ=30\", \" λ=40\", \" λ=50\", \" λ=60\", \"Combined\"])\n",
    "plt.legend()\n",
    "plt.show()\n",
    "       \n"
   ]
  },
  {
   "cell_type": "code",
   "execution_count": null,
   "id": "852e90a9",
   "metadata": {},
   "outputs": [],
   "source": []
  }
 ],
 "metadata": {
  "kernelspec": {
   "display_name": "Python 3 (ipykernel)",
   "language": "python",
   "name": "python3"
  },
  "language_info": {
   "codemirror_mode": {
    "name": "ipython",
    "version": 3
   },
   "file_extension": ".py",
   "mimetype": "text/x-python",
   "name": "python",
   "nbconvert_exporter": "python",
   "pygments_lexer": "ipython3",
   "version": "3.9.13"
  }
 },
 "nbformat": 4,
 "nbformat_minor": 5
}
