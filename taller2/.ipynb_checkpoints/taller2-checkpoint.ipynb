{
 "cells": [
  {
   "cell_type": "markdown",
   "id": "0e864bf3",
   "metadata": {},
   "source": [
    "# Chapter 3:\n",
    "## Derivación:\n",
    "**Problema: 8.**"
   ]
  },
  {
   "cell_type": "code",
   "execution_count": 24,
   "id": "80dcd613",
   "metadata": {},
   "outputs": [
    {
     "ename": "TypeError",
     "evalue": "'int' object is not callable",
     "output_type": "error",
     "traceback": [
      "\u001b[1;31m---------------------------------------------------------------------------\u001b[0m",
      "\u001b[1;31mTypeError\u001b[0m                                 Traceback (most recent call last)",
      "\u001b[1;32m~\\AppData\\Local\\Temp\\ipykernel_10400\\1265913204.py\u001b[0m in \u001b[0;36m<module>\u001b[1;34m\u001b[0m\n\u001b[0;32m     24\u001b[0m \u001b[0mY\u001b[0m\u001b[1;33m,\u001b[0m\u001b[0mW2\u001b[0m \u001b[1;33m=\u001b[0m \u001b[0mnp\u001b[0m\u001b[1;33m.\u001b[0m\u001b[0mpolynomial\u001b[0m\u001b[1;33m.\u001b[0m\u001b[0mlaguerre\u001b[0m\u001b[1;33m.\u001b[0m\u001b[0mlaggauss\u001b[0m\u001b[1;33m(\u001b[0m\u001b[0mdeg\u001b[0m\u001b[1;33m)\u001b[0m\u001b[1;33m\u001b[0m\u001b[1;33m\u001b[0m\u001b[0m\n\u001b[0;32m     25\u001b[0m \u001b[1;33m\u001b[0m\u001b[0m\n\u001b[1;32m---> 26\u001b[1;33m \u001b[0mIntegral\u001b[0m \u001b[1;33m=\u001b[0m \u001b[0mDouble_Quad\u001b[0m\u001b[1;33m(\u001b[0m\u001b[0mf\u001b[0m\u001b[1;33m,\u001b[0m\u001b[0mX\u001b[0m\u001b[1;33m,\u001b[0m\u001b[0mY\u001b[0m\u001b[1;33m,\u001b[0m\u001b[0mW1\u001b[0m\u001b[1;33m,\u001b[0m\u001b[0mW2\u001b[0m\u001b[1;33m,\u001b[0m\u001b[1;36m0\u001b[0m\u001b[1;33m,\u001b[0m\u001b[1;36m1\u001b[0m\u001b[1;33m,\u001b[0m\u001b[1;36m0\u001b[0m\u001b[1;33m,\u001b[0m\u001b[0mcota_sup\u001b[0m\u001b[1;33m)\u001b[0m\u001b[1;33m\u001b[0m\u001b[1;33m\u001b[0m\u001b[0m\n\u001b[0m\u001b[0;32m     27\u001b[0m \u001b[1;33m\u001b[0m\u001b[0m\n\u001b[0;32m     28\u001b[0m \u001b[1;33m\u001b[0m\u001b[0m\n",
      "\u001b[1;32m~\\AppData\\Local\\Temp\\ipykernel_10400\\1265913204.py\u001b[0m in \u001b[0;36mDouble_Quad\u001b[1;34m(f, X, Y, W1, W2, a, b, c, d)\u001b[0m\n\u001b[0;32m     16\u001b[0m     \u001b[1;32mfor\u001b[0m \u001b[0mj\u001b[0m \u001b[1;32min\u001b[0m \u001b[0mrange\u001b[0m\u001b[1;33m(\u001b[0m\u001b[0mlen\u001b[0m\u001b[1;33m(\u001b[0m\u001b[0mW2\u001b[0m\u001b[1;33m)\u001b[0m\u001b[1;33m)\u001b[0m\u001b[1;33m:\u001b[0m\u001b[1;33m\u001b[0m\u001b[1;33m\u001b[0m\u001b[0m\n\u001b[0;32m     17\u001b[0m         \u001b[1;32mfor\u001b[0m \u001b[0mi\u001b[0m \u001b[1;32min\u001b[0m \u001b[0mrange\u001b[0m\u001b[1;33m(\u001b[0m\u001b[0mlen\u001b[0m\u001b[1;33m(\u001b[0m\u001b[0mW1\u001b[0m\u001b[1;33m)\u001b[0m\u001b[1;33m)\u001b[0m\u001b[1;33m:\u001b[0m\u001b[1;33m\u001b[0m\u001b[1;33m\u001b[0m\u001b[0m\n\u001b[1;32m---> 18\u001b[1;33m             \u001b[0mz\u001b[0m\u001b[1;33m[\u001b[0m\u001b[0mi\u001b[0m\u001b[1;33m,\u001b[0m\u001b[0mj\u001b[0m\u001b[1;33m]\u001b[0m \u001b[1;33m=\u001b[0m \u001b[0mW1\u001b[0m\u001b[1;33m[\u001b[0m\u001b[0mi\u001b[0m\u001b[1;33m]\u001b[0m\u001b[1;33m*\u001b[0m\u001b[1;33m(\u001b[0m\u001b[0mb\u001b[0m\u001b[1;33m(\u001b[0m\u001b[0mX\u001b[0m\u001b[1;33m[\u001b[0m\u001b[0mi\u001b[0m\u001b[1;33m]\u001b[0m\u001b[1;33m)\u001b[0m\u001b[1;33m-\u001b[0m\u001b[0ma\u001b[0m\u001b[1;33m)\u001b[0m\u001b[1;33m*\u001b[0m\u001b[0mW2\u001b[0m\u001b[1;33m[\u001b[0m\u001b[0mj\u001b[0m\u001b[1;33m]\u001b[0m\u001b[1;33m*\u001b[0m\u001b[0mf\u001b[0m\u001b[1;33m(\u001b[0m\u001b[1;36m0.5\u001b[0m\u001b[1;33m*\u001b[0m\u001b[1;33m(\u001b[0m\u001b[0mX\u001b[0m\u001b[1;33m[\u001b[0m\u001b[0mi\u001b[0m\u001b[1;33m]\u001b[0m\u001b[1;33m*\u001b[0m\u001b[1;33m(\u001b[0m\u001b[0mb\u001b[0m\u001b[1;33m(\u001b[0m\u001b[0mX\u001b[0m\u001b[1;33m[\u001b[0m\u001b[0mi\u001b[0m\u001b[1;33m]\u001b[0m\u001b[1;33m)\u001b[0m\u001b[1;33m-\u001b[0m\u001b[0ma\u001b[0m\u001b[1;33m)\u001b[0m\u001b[1;33m+\u001b[0m\u001b[0ma\u001b[0m\u001b[1;33m+\u001b[0m\u001b[0mb\u001b[0m\u001b[1;33m(\u001b[0m\u001b[0mX\u001b[0m\u001b[1;33m[\u001b[0m\u001b[0mi\u001b[0m\u001b[1;33m]\u001b[0m\u001b[1;33m)\u001b[0m\u001b[1;33m)\u001b[0m\u001b[1;33m,\u001b[0m\u001b[1;36m0.5\u001b[0m\u001b[1;33m*\u001b[0m\u001b[1;33m(\u001b[0m\u001b[0mY\u001b[0m\u001b[1;33m[\u001b[0m\u001b[0mj\u001b[0m\u001b[1;33m]\u001b[0m\u001b[1;33m*\u001b[0m\u001b[1;33m(\u001b[0m\u001b[0md\u001b[0m\u001b[1;33m-\u001b[0m\u001b[0mc\u001b[0m\u001b[1;33m)\u001b[0m\u001b[1;33m+\u001b[0m\u001b[0mc\u001b[0m\u001b[1;33m+\u001b[0m\u001b[0md\u001b[0m\u001b[1;33m)\u001b[0m\u001b[1;33m)\u001b[0m\u001b[1;33m\u001b[0m\u001b[1;33m\u001b[0m\u001b[0m\n\u001b[0m\u001b[0;32m     19\u001b[0m     \u001b[0mI\u001b[0m \u001b[1;33m=\u001b[0m \u001b[1;36m0.25\u001b[0m\u001b[1;33m*\u001b[0m\u001b[1;33m(\u001b[0m\u001b[0md\u001b[0m\u001b[1;33m-\u001b[0m\u001b[0mc\u001b[0m\u001b[1;33m)\u001b[0m\u001b[1;33m*\u001b[0m\u001b[0mnp\u001b[0m\u001b[1;33m.\u001b[0m\u001b[0msum\u001b[0m\u001b[1;33m(\u001b[0m\u001b[0mz\u001b[0m\u001b[1;33m)\u001b[0m\u001b[1;33m\u001b[0m\u001b[1;33m\u001b[0m\u001b[0m\n\u001b[0;32m     20\u001b[0m     \u001b[1;32mreturn\u001b[0m \u001b[0mI\u001b[0m\u001b[1;33m\u001b[0m\u001b[1;33m\u001b[0m\u001b[0m\n",
      "\u001b[1;31mTypeError\u001b[0m: 'int' object is not callable"
     ]
    }
   ],
   "source": [
    "import numpy as np\n",
    "\n",
    "# Función para el cascarón esférico\n",
    "def f(x,y):\n",
    "    return 2*np.pi*x\n",
    "\n",
    "#Implementación de límites variables \n",
    "def cota_sup(x):\n",
    "    return np.sqrt(1.**2 -x**2)\n",
    "\n",
    "\n",
    "\n",
    "# Implementación de la doble cuadratura\n",
    "def Double_Quad(f,X,Y,W1,W2,a,b,c,d):\n",
    "    z = np.zeros((len(W1),len(W2)))\n",
    "    for j in range(len(W2)):\n",
    "        for i in range(len(W1)):\n",
    "            z[i,j] = W1[i]*(b(X[i])-a)*W2[j]*f(0.5*(X[i]*(b(X[i])-a)+a+b(X[i])),0.5*(Y[j]*(d-c)+c+d))\n",
    "    I = 0.25*(d-c)*np.sum(z)\n",
    "    return I\n",
    "\n",
    "deg = 10\n",
    "X,W1 = np.polynomial.laguerre.laggauss(deg)\n",
    "Y,W2 = np.polynomial.laguerre.laggauss(deg)\n",
    "\n",
    "Integral = Double_Quad(f,X,Y,W1,W2,0,1,0,cota_sup)\n",
    "\n",
    "    "
   ]
  },
  {
   "cell_type": "markdown",
   "id": "aa3b6fde",
   "metadata": {},
   "source": [
    "## Interpolación de Lagrange:\n",
    "\n",
    "**Problema: 1.**"
   ]
  },
  {
   "cell_type": "markdown",
   "id": "75d34a7e",
   "metadata": {},
   "source": [
    "Sean $p$ y $q$ $\\in$ $P_n(\\mathbb{R})$, donde $P_n(\\mathbb{R})$ es espacio vectorial de polinomios de grado $n$. \n",
    "Supóngase, con ánimos de mostrar una contradicción, que estos dos polinomios son distintos, pero que pasan por los mismos puntos que del conjunto soporte, esto es $p(x) = q(x)$ para $x \\in \\Omega$. Ahora, al crear un nuevo polimonio, resultante de la resta de estos dos, $t(x) = p(x) - q(x)$ se tiene que es cero cuando $x \\in \\Omega$. Nótese que, por clausura del espacio vectorial de polinomios, $t$ debe tener como máximo grado $n$. Dado que que las $x$ del conjunto soporte deben ser distintos, se tiene que $t$ debe tener $n+1$ raíces, sin embargo, por **Terorema Fundamental del Álgebra** el polinomio debe tener como máximo $n$ raíces (reales en este caso, pues las $x$ del conjunto soporte son reales). Por tanto, la única forma en que esto pueda pasar, es que $t(x)$ sea el elemento nulo, significando que $p(x) = q(x)$, llegando a una contradicción. $\\blacksquare$"
   ]
  },
  {
   "cell_type": "markdown",
   "id": "5685ef0b",
   "metadata": {},
   "source": [
    "\n",
    "**Problema: 4.**"
   ]
  },
  {
   "cell_type": "code",
   "execution_count": 25,
   "id": "aef61369",
   "metadata": {},
   "outputs": [
    {
     "data": {
      "text/plain": [
       "[<matplotlib.lines.Line2D at 0x15423d99af0>]"
      ]
     },
     "execution_count": 25,
     "metadata": {},
     "output_type": "execute_result"
    },
    {
     "data": {
      "image/png": "[encoded data removed]",
      "text/plain": [
       "<Figure size 640x480 with 1 Axes>"
      ]
     },
     "metadata": {},
     "output_type": "display_data"
    }
   ],
   "source": [
    "import numpy as np\n",
    "import matplotlib.pyplot as plt\n",
    "from matplotlib import rc\n",
    "import pandas as pd\n",
    "import sympy as sym\n",
    "import os.path as path\n",
    "import os\n",
    "import urllib\n",
    "\n",
    "\n",
    "if not path.exists('Data'):\n",
    "    os.mkdir('Data')\n",
    "    \n",
    "file = 'Data/Parabolico.csv'\n",
    "url = 'https://raw.githubusercontent.com/asegura4488/Database/main/MetodosComputacionalesReforma/Parabolico.csv'\n",
    "if not path.exists(file):\n",
    "    Path_ =urllib.request.urlretrieve(url, filename)\n",
    "    \n",
    "else:\n",
    "    Path_ = file\n",
    "    \n",
    "Data = pd.read_csv(Path_)\n",
    "X = np.float64(Data.X)\n",
    "Y = np.float64(Data.Y)\n",
    "\n",
    "\n",
    "def Lagrange(x,xi,j):\n",
    "    \n",
    "    prod = 1.0\n",
    "    n = len(xi)\n",
    "    \n",
    "    for i in range(n):\n",
    "        if i != j:\n",
    "            prod *= (x - xi[i])/(xi[j]-xi[i])\n",
    "            \n",
    "    return prod\n",
    "\n",
    "def Interpolate(x,xi,yi):\n",
    "    \n",
    "    Sum = 0.\n",
    "    n = len(xi)\n",
    "    \n",
    "    for j in range(n):\n",
    "        Sum += yi[j]*Lagrange(x,xi,j)\n",
    "        \n",
    "    return Sum\n",
    "\n",
    "x = np.linspace(X[0],X[-1],100)\n",
    "y = Interpolate(x,X,Y)\n",
    "plt.scatter(X,Y)\n",
    "plt.plot(x,y)\n"
   ]
  },
  {
   "cell_type": "code",
   "execution_count": 26,
   "id": "c5e26f2b",
   "metadata": {},
   "outputs": [
    {
     "data": {
      "text/latex": [
       "$\\displaystyle x \\left(0.363970234266202 - 0.0554912422401579 x\\right)$"
      ],
      "text/plain": [
       "x*(0.363970234266202 - 0.0554912422401579*x)"
      ]
     },
     "execution_count": 26,
     "metadata": {},
     "output_type": "execute_result"
    }
   ],
   "source": [
    "x = sym.Symbol('x',real=True)\n",
    "r = Interpolate(x,X,Y)\n",
    "r = sym.simplify(r)\n",
    "r"
   ]
  },
  {
   "cell_type": "markdown",
   "id": "c0808014",
   "metadata": {},
   "source": [
    "Por otro lado, se tiene que la función de la trayectoria de un proyectil va a estar dada por $$(x,y) = \\left( x, x\\tan \\theta  - \\frac{g}{2v_o^2\\cos^2 \\theta}x^2\\right)$$\n",
    "Por lo solo se tendrían que manipular los coeficientes para obtener lo que se necesita."
   ]
  },
  {
   "cell_type": "code",
   "execution_count": 27,
   "id": "fa7650aa",
   "metadata": {},
   "outputs": [],
   "source": [
    "r = sym.Poly(r)\n",
    "coeff = np.array(r.all_coeffs())"
   ]
  },
  {
   "cell_type": "code",
   "execution_count": 28,
   "id": "fbfffe79",
   "metadata": {},
   "outputs": [
    {
     "data": {
      "text/plain": [
       "(19.999999999999993, 10.000000000000002)"
      ]
     },
     "execution_count": 28,
     "metadata": {},
     "output_type": "execute_result"
    }
   ],
   "source": [
    "theta = np.arctan(float(coeff[1]))\n",
    "g = -9.8\n",
    "v_0 = np.sqrt(g/(2*float(coeff[0])*np.cos(theta)**2))\n",
    "np.degrees(theta),v_0"
   ]
  },
  {
   "cell_type": "markdown",
   "id": "ec86a627",
   "metadata": {},
   "source": [
    "**Problema: 5.**"
   ]
  },
  {
   "cell_type": "code",
   "execution_count": 35,
   "id": "b472ab57",
   "metadata": {},
   "outputs": [
    {
     "data": {
      "text/plain": [
       "(array([0. , 1.5, 2. , 3.8, 4.2, 5.9]),\n",
       " array([-18., -13.,   0.,   5.,   3.,  10.]))"
      ]
     },
     "execution_count": 35,
     "metadata": {},
     "output_type": "execute_result"
    }
   ],
   "source": [
    "if not path.exists('Data'):\n",
    "    os.mkdir('Data')\n",
    "    \n",
    "filename = 'Data/InterpolacionNewtonNoequi.csv'\n",
    "url = 'https://raw.githubusercontent.com/asegura4488/Database/main/MetodosComputacionalesReforma/InterpolacionNewtonNoequi.csv'\n",
    "if not path.exists(file):\n",
    "    Path_ =urllib.request.urlretrieve(url, filename)\n",
    "    \n",
    "else:\n",
    "    Path_ = filename\n",
    "    \n",
    "Data = pd.read_csv(Path_)\n",
    "X = np.float64(Data.X)\n",
    "Y = np.float64(Data.Y)\n",
    "xt = np.linspace(X[0],X[-1],100)\n",
    "X,Y"
   ]
  },
  {
   "cell_type": "code",
   "execution_count": 37,
   "id": "8f0a33c0",
   "metadata": {},
   "outputs": [
    {
     "data": {
      "text/plain": [
       "[<matplotlib.lines.Line2D at 0x15424000100>]"
      ]
     },
     "execution_count": 37,
     "metadata": {},
     "output_type": "execute_result"
    },
    {
     "data": {
      "image/png": "[encoded data removed]",
      "text/plain": [
       "<Figure size 640x480 with 1 Axes>"
      ]
     },
     "metadata": {},
     "output_type": "display_data"
    }
   ],
   "source": [
    "def newton_gregory(x, y, x_new):\n",
    "    n = len(x)\n",
    "    # Initialize the divided difference table with y values\n",
    "    div_diff_table = np.zeros((n, n))\n",
    "    div_diff_table[:, 0] = y\n",
    "\n",
    "    # Calculate the divided differences recursively\n",
    "    for j in range(1, n):\n",
    "        for i in range(n-j):\n",
    "            div_diff_table[i][j] = (div_diff_table[i+1][j-1] - div_diff_table[i][j-1]) / (x[i+j] - x[i])\n",
    "\n",
    "    # Use the divided difference table to interpolate the polynomial\n",
    "    y_new = np.zeros_like(x_new)\n",
    "    for i, x_val in enumerate(x_new):\n",
    "        y_val = div_diff_table[0][0]\n",
    "        for j in range(1, n):\n",
    "            term = div_diff_table[0][j]\n",
    "            for k in range(j):\n",
    "                term *= (x_val - x[k])\n",
    "            y_val += term\n",
    "        y_new[i] = y_val\n",
    "\n",
    "    return y_new\n",
    "\n",
    "\n",
    "yt = newton_gregory(X,Y,xt)\n",
    "\n",
    "plt.scatter(X,Y,color='r',marker='o')\n",
    "plt.plot(xt,yt)"
   ]
  },
  {
   "cell_type": "markdown",
   "id": "38313a37",
   "metadata": {},
   "source": [
    "## Integración\n",
    "**Problema: 1.**\n",
    "\n",
    "Se tiene en primera instancia que $$f(x) \\approx p_1(x) = \\frac{x-b}{a-b}f(a) + \\frac{x-a}{b-a}f(b) $$\n",
    "Tomando la integral de $f$ se tiene \n",
    "\\begin{align*}\n",
    "I = \\int_{a}^{b} f(x) \\ dx &\\cong \\int_{a}^{b} p_1(x)\\ dx \\\\\n",
    "&= \\int_{a}^{b} \\frac{x-b}{a-b}f(a) + \\frac{x-a}{b-a}f(b) \\ dx \\\\\n",
    "&= \\frac{1}{b-a} \\int_{a}^{b} (x-a)f(b) - (x-b)f(a)\\ dx \\\\\n",
    "&= \\frac{1}{b-a} \\int_{a}^{b} (f(b)-f(a))x + bf(a) - af(b) \\ dx \\\\\n",
    "&= \\frac{1}{b-a}\\bigg[(f(b)-f(a))\\frac{x^2}{2} + (bf(a) - af(b))x\\bigg]_{x = a}^{x=b}\\\\\n",
    "&= \\frac{1}{b-a}\\bigg[\\frac{f(b)-f(a)}{2}(b^2-a^2) + (bf(a) - af(b))(b-a)\\bigg]\\\\\n",
    "&= \\frac{f(b)-f(a)}{2}(a+b) + bf(a) - af(b)\\\\\n",
    "&= \\frac{(f(b)-f(a))(a+b)+2bf(a)-2af(b)}{2}\\\\\n",
    "&= \\frac{bf(b)+af(b)-bf(a)-af(a) + 2bf(a)-2af(b)}{2}\\\\\n",
    "&= \\frac{bf(a) - af(b) + bf(b)-af(a)}{2}\\\\\n",
    "&= \\frac{(b-a)f(a)+(b-a)f(b)}{2}\\\\\n",
    "&= \\frac{f(a)+f(b)}{2}(b-a)\n",
    "\\end{align*}"
   ]
  },
  {
   "cell_type": "markdown",
   "id": "7ef74b49",
   "metadata": {},
   "source": [
    "**Problema: 3.**\n",
    "\n",
    "Se tiene $$f(x) \\cong \\frac{(x-b)(x-x_m)}{(a-b)(a-x_m)}f(a) + \\frac{(x-a)(x-b)}{(x_m-a)(x_m-b)}f(x_m)+\\frac{(x-a)(x-x_m)}{(b-a)(b-x_m)}f(b)$$\n",
    "Por lo que $$\\int_{a}^{b} f(x)\\ dx = \\int_{a}^{b} \\frac{(x-b)(x-x_m)}{(a-b)(a-x_m)}f(a) + \\frac{(x-a)(x-b)}{(x_m-a)(x_m-b)}f(x_m)+\\frac{(x-a)(x-x_m)}{(b-a)(b-x_m)}f(b)\\ dx = I_1 + I_2 + I_3$$\n",
    "\n",
    "Se tiene primero, para $I_1$:\n",
    "\\begin{align*}\n",
    "    \\int_{a}^{b} \\frac{(x-b)(x-x_m)}{(a-b)(a-x_m)}f(a)\\ dx &= \\frac{f(a)}{(a-b)(a-x_m)}\\int_{a}^{b} (x-b)(x-x_m)\\ dx\\\\\n",
    "    &= \\frac{f(a)}{(a-b)(a-x_m)} \\int_{a}^{b} x^2 - (b+x_m)x + bx_m \\ dx \\\\\n",
    "    &=\\frac{f(a)}{(a-b)(a-x_m)} \\bigg[ \\frac{b^3-a^3}{3} - \\frac{(b-x_m)}{2}(b^2-a^2)  + x_mb(b-a)\\bigg]\\\\\n",
    "    &= \\frac{-f(a)}{(a-x_m)}\\bigg[ \\frac{b^2 + ab +a^2}{3} - \\frac{(b-x_m)}{2}(b+a)  + x_mb\\bigg]\n",
    "\\end{align*}"
   ]
  },
  {
   "cell_type": "markdown",
   "id": "c9be2e66",
   "metadata": {},
   "source": [
    "**Problema: 7.**"
   ]
  }
 ],
 "metadata": {
  "kernelspec": {
   "display_name": "Python 3 (ipykernel)",
   "language": "python",
   "name": "python3"
  },
  "language_info": {
   "codemirror_mode": {
    "name": "ipython",
    "version": 3
   },
   "file_extension": ".py",
   "mimetype": "text/x-python",
   "name": "python",
   "nbconvert_exporter": "python",
   "pygments_lexer": "ipython3",
   "version": "3.9.13"
  }
 },
 "nbformat": 4,
 "nbformat_minor": 5
}
