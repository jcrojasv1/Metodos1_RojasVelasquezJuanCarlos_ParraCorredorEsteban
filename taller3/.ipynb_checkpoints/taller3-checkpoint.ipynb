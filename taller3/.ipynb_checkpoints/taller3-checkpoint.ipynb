{
 "cells": [
  {
   "cell_type": "code",
   "execution_count": 165,
   "id": "b08b9c83",
   "metadata": {},
   "outputs": [],
   "source": [
    "%matplotlib notebook\n",
    "import numpy as np\n",
    "import matplotlib.pyplot as plt"
   ]
  },
  {
   "cell_type": "markdown",
   "id": "ce5f3842",
   "metadata": {},
   "source": [
    "# Álgebra lineal"
   ]
  },
  {
   "cell_type": "markdown",
   "id": "71724397",
   "metadata": {},
   "source": [
    "**3.** Implemente un algoritmo que realice la multiplicación de dos matrices. Use el algoritmo para calcular:\n",
    "$$AB = \\begin{bmatrix} 1 & 0& 0 \\\\ 5 &1 &0 \\\\ -2 &3 &1  \\end{bmatrix}\\begin{bmatrix} 4 & -2& 1 \\\\ 0 &3 &7 \\\\ 0 &0 &2  \\end{bmatrix}$$"
   ]
  },
  {
   "cell_type": "code",
   "execution_count": 3,
   "id": "5f34214b",
   "metadata": {},
   "outputs": [
    {
     "name": "stdout",
     "output_type": "stream",
     "text": [
      "[[ 4. -2.  1.]\n",
      " [20. -7. 12.]\n",
      " [-8. 13. 21.]]\n"
     ]
    }
   ],
   "source": [
    "AB = np.zeros((3,3))\n",
    "A = np.array([[1,0,0],[5,1,0],[-2,3,1]])\n",
    "B = np.array([[4,-2,1],[0,3,7],[0,0,2]])\n",
    "\n",
    "for i in range(len(A)):\n",
    "    for j in range(len(B[:,0])):\n",
    "        AB[i][j] = np.dot(A[i],B[:,j])\n",
    "        \n",
    "print(AB)\n",
    "        "
   ]
  },
  {
   "cell_type": "markdown",
   "id": "9cd202ad",
   "metadata": {},
   "source": [
    "**4.** Muestre con detalle que la sustitución hacia adelante se expresa como: $$ x_i = b_i - \\sum_{j=0}^{i-1}A_{ij}x_j$$"
   ]
  },
  {
   "cell_type": "markdown",
   "id": "d547ce8e",
   "metadata": {},
   "source": [
    "**Solución:** Teniendo en cuenta el sistema $$A\\vec{x} = \\vec{b}$$ se puede hacer la sustitución $L(U\\vec{x}) = \\vec{b}$ y la sustitución hacia adelante $L\\vec{y} = \\vec{b}$. Dado que la matriz $L$ tiene forma triangular inferior, se tiene que \n",
    "$$\n",
    "\\begin{bmatrix} 1 & 0 & \\dots & 0 \\\\ \\ell_{21} & 1 & \\dots & 0 \\\\ \\vdots & \\vdots & \\ddots & \\vdots \\\\ \\ell_{n1} & \\ell_{n2} & \\dots & 1 \\end{bmatrix}\n",
    "\\begin{bmatrix}\n",
    "y_1 \\\\ y_2 \\\\ \\vdots \\\\ y_n\n",
    "\\end{bmatrix} =\n",
    "\\begin{bmatrix}\n",
    "b_1 \\\\ b_2 \\\\ \\vdots \\\\ b_n\n",
    "\\end{bmatrix}\n",
    "$$\n",
    "Es decir,\n",
    "$$\n",
    "\\begin{align*}\n",
    "y_1 &= b_1 \\\\\n",
    "\\ell_{21}y_1 + y_{2} &= b_2 \\\\\n",
    "\\ell_{31}y_1 + \\ell_{32}y_{2} + y_3 &= b_3\\\\\n",
    "\\vdots \\\\\n",
    "\\sum_{j = 1}^{i-1}\\ell_{ij}y_{j} + y_i &= b_i \n",
    "\\end{align*}\n",
    "$$\n",
    "Esto es, entonces\n",
    "$$y_i = b_i - \\sum_{j=1}^{i-1}\\ell_{ij}y_j$$\n",
    "Como se quería. $\\blacksquare$"
   ]
  },
  {
   "cell_type": "markdown",
   "id": "b837abf6",
   "metadata": {},
   "source": [
    "**5.** Muestre con detaller que la sustitución hacia atrás se expresa como:\n",
    "\n",
    "$$x_i = \\frac{b_i - \\displaystyle\\sum_{j = i+1}^{n}A_{ij}x_j}{A_{ii}}$$"
   ]
  },
  {
   "cell_type": "markdown",
   "id": "6d49cb2e",
   "metadata": {},
   "source": [
    "**Solución:** Teniendo en cuenta la sustitución $U\\vec{x} = \\vec{y}$. Dado que la matriz $U$ tiene forma triangular superior, se tiene que \n",
    "$$\n",
    "\\begin{bmatrix} u_{11} & u_{12} & \\dots & u_{1n} \\\\ 0 & u_{22} & \\dots & u_{2n} \\\\ \\vdots & \\vdots & \\ddots & \\vdots \\\\ 0 & 0 & \\dots &u_{nn}\\end{bmatrix}\n",
    "\\begin{bmatrix} x_1 \\\\ x_2 \\\\ \\vdots \\\\ x_n \\end{bmatrix}\n",
    "= \\begin{bmatrix} y_1 \\\\ y_2 \\\\ \\vdots \\\\ y_n \\end{bmatrix}\n",
    "$$\n",
    "Lo cual se puede expresar como un conjunto de ecuacioens lineales\n",
    "$$\n",
    "\\begin{align*}\n",
    "u_{11}x_1 + u_{12}x_2 + u_{13}x_3 + u_{14}x_4 + \\dots + u_{1n}x_n &= y_1 \\\\\n",
    "u_{22}x_2 + u_{23}x_3 + u_{24}x_4 + \\dots + u_{2n}x_n &= y_2 \\\\\n",
    " u_{33}x_3 + u_{34}x_4 + \\dots + u_{3n}x_n &= y_3\\\\\n",
    " \\vdots \\\\\n",
    " u_{ii}x_i + \\sum_{j = i +1}^{n}u_{ij}x_j &= y_i\n",
    "\\end{align*}\n",
    "$$\n",
    "Despejando $x_i$, se tiene que \n",
    "$$x_i = \\frac{y_i - \\displaystyle\\sum_{j=i+1}^{n}u_{ij}x_j}{u_{ii}}.$$\n",
    "\n",
    "Como se quería. $\\blacksquare$"
   ]
  },
  {
   "cell_type": "markdown",
   "id": "50294292",
   "metadata": {},
   "source": [
    "**6.** Use el método de sobrerelajación sucesiva para solucionar el sistema:\n",
    "$$\n",
    "\\left\\{\n",
    "\\begin{align*}\n",
    "3x_1 - x_2- x_3 = 1 \\\\\n",
    "-x_1 + 3x_2 + x_3 = 3\\\\\n",
    "2x_1 + x_2 +4x_3 = 7\n",
    "\\end{align*}\n",
    "\\right.\n",
    "$$"
   ]
  },
  {
   "cell_type": "code",
   "execution_count": 4,
   "id": "a58df961",
   "metadata": {},
   "outputs": [
    {
     "name": "stdout",
     "output_type": "stream",
     "text": [
      "x_1: 1.0000000017524404, x_2: 0.9999999997215512, x_3: 0.9999999983063279\n"
     ]
    }
   ],
   "source": [
    "def sor_solver(A, b, omega, initial_guess, convergence_criteria):\n",
    "\n",
    "    phi = initial_guess[:]\n",
    "    residual = np.linalg.norm(A @ phi - b)  # Initial residual\n",
    "    while residual > convergence_criteria:\n",
    "        for i in range(A.shape[0]):\n",
    "            sigma = 0\n",
    "            for j in range(A.shape[1]):\n",
    "                if j != i:\n",
    "                    sigma += A[i, j] * phi[j]\n",
    "            phi[i] = (1 - omega) * phi[i] + (omega / A[i, i]) * (b[i] - sigma)\n",
    "        residual = np.linalg.norm(A @ phi - b)\n",
    "    return phi\n",
    "\n",
    "residual_convergence = 1e-8\n",
    "omega = 1.3\n",
    "\n",
    "A = np.array([[3,-1,-1],\n",
    "              [-1,3,1],\n",
    "              [2,1,4]])\n",
    "\n",
    "b = np.array([1, 3, 7])\n",
    "\n",
    "initial_guess = np.zeros(3)\n",
    "\n",
    "phi = sor_solver(A, b, omega, initial_guess, residual_convergence)\n",
    "print(\"x_1: %s, x_2: %s, x_3: %s\"%(phi[0],phi[1],phi[2]))"
   ]
  },
  {
   "cell_type": "markdown",
   "id": "8bfc3710",
   "metadata": {},
   "source": [
    "**7.** Implemente la descomposición LU para factorizar la siguiente matriz $A = LU$.\n",
    "$$A = \\begin{bmatrix} 4 & -2 & 1 \\\\ 20 & -7 & 12 \\\\ -8 & 13 & 17 \\end{bmatrix} = \\begin{bmatrix} 1 & 0 & 0 \\\\ 5 & 1 & 0 \\\\ -2 & 3 & 1 \\end{bmatrix} \\begin{bmatrix} 4 & -2 & 1 \\\\ 0 & 3 & 7 \\\\ 0 & 0 & -2 \\end{bmatrix}$$"
   ]
  },
  {
   "cell_type": "code",
   "execution_count": 5,
   "id": "678b7ce6",
   "metadata": {},
   "outputs": [
    {
     "name": "stdout",
     "output_type": "stream",
     "text": [
      "Lower matrix: \n",
      " [[ 1.  0.  0.]\n",
      " [ 5.  1.  0.]\n",
      " [-2.  3.  1.]] \n",
      " Upper matrix: \n",
      " [[ 4. -2.  1.]\n",
      " [ 0.  3.  7.]\n",
      " [ 0.  0. -2.]]  \n"
     ]
    }
   ],
   "source": [
    "def LU_fact(A):\n",
    "    n = A[0].size\n",
    "    L = np.identity(n)\n",
    "    for i in range(0,n):\n",
    "        for j in range(i+1,A[0].size):\n",
    "            I = np.identity(n)\n",
    "            I[j][i] = -A[j][i]/A[i][i]\n",
    "            L[j][i] = A[j][i]/A[i][i]\n",
    "            A = I@A\n",
    "    return L,A\n",
    "\n",
    "A = np.array([[4,-2,1],[20,-7,12],[-8,13,17]])\n",
    "\n",
    "print(\"Lower matrix: \\n %s \\n Upper matrix: \\n %s  \"%LU_fact(A))"
   ]
  },
  {
   "cell_type": "markdown",
   "id": "b98b073f",
   "metadata": {},
   "source": [
    " **9.** Método de Jacobi: diagonalización de matrices simétricas.\n",
    " \n",
    " **(a)** Implemente el método de Jacobi para encontrar los valores y vectores propios de:\n",
    " $$A = \\begin{bmatrix} 4 & 1 & 1 \\\\ 1 & 3 & 2 \\\\ 1 & 2 & 5 \\end{bmatrix}$$"
   ]
  },
  {
   "cell_type": "code",
   "execution_count": 6,
   "id": "5348af26",
   "metadata": {},
   "outputs": [
    {
     "name": "stdout",
     "output_type": "stream",
     "text": [
      "[[ 3.397e+00 -1.000e-03 -0.000e+00]\n",
      " [-1.000e-03  1.708e+00 -0.000e+00]\n",
      " [-0.000e+00 -0.000e+00  6.895e+00]]\n"
     ]
    }
   ],
   "source": [
    "import numpy as np\n",
    "import matplotlib.pyplot as plt\n",
    "\n",
    "\n",
    "\n",
    "def R(A):\n",
    "    I = np.identity(A[0].size)\n",
    "    index = look4the_greatest(A)\n",
    "    if index == None:\n",
    "        return None\n",
    "    if index == (1,0):\n",
    "        theta = 0.5*np.arctan(2*A[0,1]/(A[1,1]-A[0,0]))\n",
    "        I[1][0] = -np.sin(theta)\n",
    "        I[0][1] = np.sin(theta)\n",
    "        I[0][0] = np.cos(theta)\n",
    "        I[1][1] = np.cos(theta)\n",
    "    elif index == (2,0):\n",
    "        theta = 0.5*np.arctan(2*A[0,2]/(A[2,2]-A[0,0]))\n",
    "        I[2][0] = -np.sin(theta)\n",
    "        I[0][2] = np.sin(theta)\n",
    "        I[0][0] = np.cos(theta)\n",
    "        I[2][2] = np.cos(theta)\n",
    "    elif index == (2,1):\n",
    "        theta = 0.5*np.arctan(2*A[1,2]/(A[2,2]-A[1,1]))\n",
    "        I[2][1] = -np.sin(theta)\n",
    "        I[1][2] = np.sin(theta)\n",
    "        I[1][1] = np.cos(theta)\n",
    "        I[2][2] = np.cos(theta)\n",
    "    return (I,I.T)\n",
    "\n",
    "def look4the_greatest(A):\n",
    "    n = A[0].size\n",
    "    fila = 1\n",
    "    columna = 0\n",
    "    for i in range(1,n):\n",
    "        for j in range(0,i):\n",
    "            if abs(A[i,j]) >= abs(A[fila,columna]):\n",
    "                fila = i\n",
    "                columna = j\n",
    "    return (fila, columna)\n",
    "\n",
    "def diag(A):\n",
    "    while A[look4the_greatest(A)[0],look4the_greatest(A)[1]] >= 1e-20:\n",
    "        r,rt = R(A)\n",
    "        A = rt@A@r\n",
    "    return A\n",
    "    \n",
    "    \n",
    "    \n",
    "\n",
    "\n",
    "\n",
    "A = np.matrix([[4,1,1],[1,3,2],[1,2,5]])\n",
    "print(diag(A).round(3))\n",
    "\n"
   ]
  },
  {
   "cell_type": "markdown",
   "id": "35ac0d65",
   "metadata": {},
   "source": [
    "**(b)**  Compare con el resultado dado por Numpy"
   ]
  },
  {
   "cell_type": "code",
   "execution_count": 7,
   "id": "f695d129",
   "metadata": {},
   "outputs": [
    {
     "data": {
      "text/plain": [
       "array([6.895, 3.397, 1.708])"
      ]
     },
     "execution_count": 7,
     "metadata": {},
     "output_type": "execute_result"
    }
   ],
   "source": [
    "eigen_val, deli = np.linalg.eig(A)\n",
    "eigen_val.round(3)"
   ]
  },
  {
   "cell_type": "markdown",
   "id": "09eea715",
   "metadata": {},
   "source": [
    "**10.**  **Quantum system - ground state:** Un sistema cuántico de tres niveles está descrito\n",
    "por el siguiente Hamiltoniano: $$\\hat{H} = \\begin{bmatrix} 1 & 2 & -1 \\\\ 1 & 0 & 1 \\\\ 4 & -4 & 5 \\end{bmatrix}$$\n",
    "Implemente el algoritmo de la potencia inversa para encontrar el valor del estado base $| \\psi_0 \\rangle$  y su valor propio asociado $E_0$."
   ]
  },
  {
   "cell_type": "code",
   "execution_count": 8,
   "id": "af21c7a8",
   "metadata": {},
   "outputs": [
    {
     "name": "stdout",
     "output_type": "stream",
     "text": [
      "Valor del estado base: [[ 0.40824832 -0.40824834 -0.81649665]]\n",
      "Valor del valor propios asociado al estado base: 1.0000000874178\n"
     ]
    }
   ],
   "source": [
    "H = np.linalg.inv(np.matrix([[1,2,-1],[1,0,1],[4,-4,5]]))\n",
    "psi_before = np.matrix([[-1,-1,1]]).T\n",
    "psi_actual = psi_before\n",
    "\n",
    "\n",
    "while True:\n",
    "    psi_before = psi_actual\n",
    "    psi_actual = H@(psi_before/np.linalg.norm(psi_before))\n",
    "    if np.linalg.norm(psi_before - psi_actual) <= 1e-7:\n",
    "        break\n",
    "print(\"Valor del estado base:\", psi_actual.T)\n",
    "print(\"Valor del valor propios asociado al estado base:\", np.linalg.norm(psi_actual))\n"
   ]
  },
  {
   "cell_type": "markdown",
   "id": "b96db1bf",
   "metadata": {},
   "source": [
    "**12. Jacobiano de cuarto orden:** Usando el operador derivada central de orden $\\mathcal{O}(h^4)$ es posible mejorar la estimación del jacobiano para funciones vectoriales."
   ]
  },
  {
   "cell_type": "markdown",
   "id": "41c8b79c",
   "metadata": {},
   "source": [
    "**(a)** Escriba una función que estime el jacobiano con el operador derivada de orden $\\mathcal{O}(h^4)$."
   ]
  },
  {
   "cell_type": "code",
   "execution_count": 95,
   "id": "e1ef5cae",
   "metadata": {},
   "outputs": [],
   "source": [
    "def function1(x):\n",
    "    return 6*x[0] -2*np.cos(x[1]*x[2])\n",
    "\n",
    "def function2(x):\n",
    "    return 9*x[1] + np.sqrt(x[0]**2 + np.sin(x[2]) + 1.06) +0.9\n",
    "\n",
    "def function3(x):\n",
    "    return 60*x[2] + 3*np.exp(-x[0]*x[1]) + 10*np.pi - 3\n",
    "\n",
    "functs = [function1,function2,function3]\n",
    "\n",
    "def derivadah4(f,x,h,i):\n",
    "    index = np.zeros(x.size)\n",
    "    index[i] = h\n",
    "    return (f(x - 2*index) - 8*f(x - index) + 8*f(x + index) - f(x +2*index))/(12*h)\n",
    "\n",
    "def derivadah2(f,x,h,i):\n",
    "    index = np.zeros(x.size)\n",
    "    index[i] = h\n",
    "    return (f(x + index)  - f(x -index))/(2*h)\n",
    "\n",
    "def Jacobian(derivada,functs,x,h):\n",
    "    n = x.size\n",
    "    J = np.zeros((len(functs),n))\n",
    "    print(J)\n",
    "    index = np.zeros(n)\n",
    "    for i in range(len(functs)):\n",
    "        for j in range(n):\n",
    "            J[i,j] = derivada(functs[i],x,h,j)\n",
    "    return J\n"
   ]
  },
  {
   "cell_type": "markdown",
   "id": "8de35d4c",
   "metadata": {},
   "source": [
    "**(b)** Estime el Jacobiano de la función del problema anterior (5.70) en el punto x = (0.5, 0.5, 0.5) con h = 0.01."
   ]
  },
  {
   "cell_type": "code",
   "execution_count": 96,
   "id": "c8149a38",
   "metadata": {},
   "outputs": [
    {
     "name": "stdout",
     "output_type": "stream",
     "text": [
      "[[0. 0. 0.]\n",
      " [0. 0. 0.]\n",
      " [0. 0. 0.]]\n"
     ]
    },
    {
     "data": {
      "text/plain": [
       "array([[ 6.        ,  0.24740396,  0.24740396],\n",
       "       [ 0.37377753,  9.        ,  0.32802064],\n",
       "       [-1.16820117, -1.16820117, 60.        ]])"
      ]
     },
     "execution_count": 96,
     "metadata": {},
     "output_type": "execute_result"
    }
   ],
   "source": [
    "Jacobian(derivadah4,functs,np.array([0.5,0.5,0.5]),0.01)"
   ]
  },
  {
   "cell_type": "markdown",
   "id": "d4a6736c",
   "metadata": {},
   "source": [
    "**(c)** Estime el Jacobiano usando la aproximación de orden $\\mathcal{O}(h^2)$ con h = 0.01. ¿Para qué valor de h, el operador de segundo orden igualaría en precisión al operador de cuarto orden; verifique su intuición en el código."
   ]
  },
  {
   "cell_type": "code",
   "execution_count": 98,
   "id": "e353eb11",
   "metadata": {},
   "outputs": [
    {
     "name": "stdout",
     "output_type": "stream",
     "text": [
      "[[0. 0. 0.]\n",
      " [0. 0. 0.]\n",
      " [0. 0. 0.]]\n"
     ]
    },
    {
     "data": {
      "text/plain": [
       "array([[ 6.        ,  0.24740293,  0.24740293],\n",
       "       [ 0.37376854,  9.        ,  0.32801836],\n",
       "       [-1.16820604, -1.16820604, 60.        ]])"
      ]
     },
     "execution_count": 98,
     "metadata": {},
     "output_type": "execute_result"
    }
   ],
   "source": [
    "Jacobian(derivadah2,functs,np.array([0.5,0.5,0.5]),0.01)"
   ]
  },
  {
   "cell_type": "markdown",
   "id": "2c76d96c",
   "metadata": {},
   "source": [
    "**13.** El grupo de rotaciones $SO(3)$ describe las rotaciones en el espacio. Este grupo tiene el siguiente grupo de generadores:\n",
    "$$J_x = \\begin{bmatrix} 0 & 0 & 0 \\\\ 0 & 0 & -1 \\\\ 0 & 1 & 0 \\end{bmatrix},\\ J_y = \\begin{bmatrix} 0 & 0 & 1 \\\\ 0 & 0 & 0 \\\\ -1 & 0 & 0 \\end{bmatrix},\\ J_z = \\begin{bmatrix} 0 & -1 & 0 \\\\ 1 & 0 & 0 \\\\ 0 & 0 & 0 \\end{bmatrix}$$ "
   ]
  },
  {
   "cell_type": "code",
   "execution_count": 36,
   "id": "80e37810",
   "metadata": {
    "scrolled": true
   },
   "outputs": [
    {
     "name": "stdout",
     "output_type": "stream",
     "text": [
      "True\n",
      "Conmutación con (1,1)\n",
      "[[0 0 0]\n",
      " [0 0 0]\n",
      " [0 0 0]]\n",
      "Conmutación con (1,2)\n",
      "[[ 0 -1  0]\n",
      " [ 1  0  0]\n",
      " [ 0  0  0]]\n",
      "Conmutación con (1,3)\n",
      "[[ 0  0 -1]\n",
      " [ 0  0  0]\n",
      " [ 1  0  0]]\n",
      "Conmutación con (2,1)\n",
      "[[ 0  1  0]\n",
      " [-1  0  0]\n",
      " [ 0  0  0]]\n",
      "Conmutación con (2,2)\n",
      "[[0 0 0]\n",
      " [0 0 0]\n",
      " [0 0 0]]\n",
      "Conmutación con (2,3)\n",
      "[[ 0  0  0]\n",
      " [ 0  0 -1]\n",
      " [ 0  1  0]]\n",
      "Conmutación con (3,1)\n",
      "[[ 0  0  1]\n",
      " [ 0  0  0]\n",
      " [-1  0  0]]\n",
      "Conmutación con (3,2)\n",
      "[[ 0  0  0]\n",
      " [ 0  0  1]\n",
      " [ 0 -1  0]]\n",
      "Conmutación con (3,3)\n",
      "[[0 0 0]\n",
      " [0 0 0]\n",
      " [0 0 0]]\n",
      "**************************************************\n",
      "Conmutación con (1,1)\n",
      "[[0. 0. 0.]\n",
      " [0. 0. 0.]\n",
      " [0. 0. 0.]]\n",
      "Conmutación con (1,2)\n",
      "[[ 0. -1.  0.]\n",
      " [ 1.  0.  0.]\n",
      " [ 0.  0.  0.]]\n",
      "Conmutación con (1,3)\n",
      "[[ 0.  0. -1.]\n",
      " [ 0.  0.  0.]\n",
      " [ 1.  0.  0.]]\n",
      "Conmutación con (2,1)\n",
      "[[ 0.  1.  0.]\n",
      " [-1.  0.  0.]\n",
      " [ 0.  0.  0.]]\n",
      "Conmutación con (2,2)\n",
      "[[0. 0. 0.]\n",
      " [0. 0. 0.]\n",
      " [0. 0. 0.]]\n",
      "Conmutación con (2,3)\n",
      "[[ 0.  0.  0.]\n",
      " [ 0.  0. -1.]\n",
      " [ 0.  1.  0.]]\n",
      "Conmutación con (3,1)\n",
      "[[ 0.  0.  1.]\n",
      " [ 0.  0.  0.]\n",
      " [-1.  0.  0.]]\n",
      "Conmutación con (3,2)\n",
      "[[ 0.  0.  0.]\n",
      " [ 0.  0.  1.]\n",
      " [ 0. -1.  0.]]\n",
      "Conmutación con (3,3)\n",
      "[[0. 0. 0.]\n",
      " [0. 0. 0.]\n",
      " [0. 0. 0.]]\n"
     ]
    }
   ],
   "source": [
    "J_x = np.matrix([[0,0,0],\n",
    "                 [0,0,-1],\n",
    "                 [0,1,0]])\n",
    "\n",
    "J_y = np.matrix([[0,0,1],\n",
    "                 [0,0,0],\n",
    "                 [-1,0,0]])\n",
    "\n",
    "J_z = np.matrix([[0,-1,0],\n",
    "                 [1,0,0],\n",
    "                 [0,0,0]])\n",
    "\n",
    "J = [J_x,J_y,J_z]\n",
    "\n",
    "a = [1,2,3]\n",
    "\n",
    "b = [1,2,3]\n",
    "\n",
    "\n",
    "def conmutador(A,B):\n",
    "    return A@B - B@A\n",
    "\n",
    "def levi_civita(ijk):\n",
    "\n",
    "    if ijk == [0,1,2] or ijk == [1,2,0] or ijk == [2,0,1]:\n",
    "        return 1\n",
    "    elif ijk == [2,1,0] or ijk == [0,2,1] or ijk == [1,0,2]:\n",
    "        return -1\n",
    "    else:\n",
    "        return 0\n",
    "    \n",
    "for i in range(3):\n",
    "    for j in range(3):\n",
    "        print(\"Conmutación con (%s,%s)\"%(i+1,j+1))\n",
    "        print(conmutador(J[i],J[j]))\n",
    "print(\"*\"*50)   \n",
    "A = np.zeros((3,3))\n",
    "for i in range(3):\n",
    "    for j in range(3):\n",
    "        for k in range(3):\n",
    "            A += levi_civita([i,j,k])*J[k]\n",
    "        print(\"Conmutación con (%s,%s)\"%(i+1,j+1))\n",
    "        print(A)\n",
    "        A = np.zeros((3,3))"
   ]
  },
  {
   "cell_type": "markdown",
   "id": "0ff2d89e",
   "metadata": {},
   "source": [
    "**14.** El grupo de rotación $SU(2)$ (special unitary dim 2) describe\n",
    "el operador de espín para una partícula fundamental con s =$\\frac{1}{2}$. Este grupo tiene el\n",
    "siguiente conjunto de generadores:\n",
    "$$\\sigma_x = \\begin{bmatrix} 0 & 1 \\\\ 1 & 0 \\end{bmatrix}, \\sigma_y = \\begin{bmatrix} 0 & -i \\\\ i & 0 \\end{bmatrix}, \\sigma_z = \\begin{bmatrix} 1 & 0 \\\\ 0 & -1 \\end{bmatrix}$$\n",
    "\n",
    "Verifique que el álgebra de Lie del grupo está dada por:\n",
    "$$[\\sigma_i,\\sigma_j] = 2i\\epsilon_{ijk}\\sigma_k$$"
   ]
  },
  {
   "cell_type": "code",
   "execution_count": 38,
   "id": "163d9206",
   "metadata": {
    "scrolled": true
   },
   "outputs": [
    {
     "name": "stdout",
     "output_type": "stream",
     "text": [
      "Conmutación con (1,1)\n",
      "[[0 0]\n",
      " [0 0]]\n",
      "Conmutación con (1,2)\n",
      "[[0.+2.j 0.+0.j]\n",
      " [0.+0.j 0.-2.j]]\n",
      "Conmutación con (1,3)\n",
      "[[ 0 -2]\n",
      " [ 2  0]]\n",
      "Conmutación con (2,1)\n",
      "[[0.-2.j 0.+0.j]\n",
      " [0.+0.j 0.+2.j]]\n",
      "Conmutación con (2,2)\n",
      "[[0.+0.j 0.+0.j]\n",
      " [0.+0.j 0.+0.j]]\n",
      "Conmutación con (2,3)\n",
      "[[0.+0.j 0.+2.j]\n",
      " [0.+2.j 0.+0.j]]\n",
      "Conmutación con (3,1)\n",
      "[[ 0  2]\n",
      " [-2  0]]\n",
      "Conmutación con (3,2)\n",
      "[[0.+0.j 0.-2.j]\n",
      " [0.-2.j 0.+0.j]]\n",
      "Conmutación con (3,3)\n",
      "[[0 0]\n",
      " [0 0]]\n",
      "**************************************************\n",
      "Conmutación con (1,1)\n",
      "[[0.+0.j 0.+0.j]\n",
      " [0.+0.j 0.+0.j]]\n",
      "Conmutación con (1,2)\n",
      "[[0.+2.j 0.+0.j]\n",
      " [0.+0.j 0.-2.j]]\n",
      "Conmutación con (1,3)\n",
      "[[ 0.+0.j -2.+0.j]\n",
      " [ 2.+0.j  0.+0.j]]\n",
      "Conmutación con (2,1)\n",
      "[[0.-2.j 0.+0.j]\n",
      " [0.+0.j 0.+2.j]]\n",
      "Conmutación con (2,2)\n",
      "[[0.+0.j 0.+0.j]\n",
      " [0.+0.j 0.+0.j]]\n",
      "Conmutación con (2,3)\n",
      "[[0.+0.j 0.+2.j]\n",
      " [0.+2.j 0.+0.j]]\n",
      "Conmutación con (3,1)\n",
      "[[ 0.+0.j  2.+0.j]\n",
      " [-2.+0.j  0.+0.j]]\n",
      "Conmutación con (3,2)\n",
      "[[0.+0.j 0.-2.j]\n",
      " [0.-2.j 0.+0.j]]\n",
      "Conmutación con (3,3)\n",
      "[[0.+0.j 0.+0.j]\n",
      " [0.+0.j 0.+0.j]]\n"
     ]
    }
   ],
   "source": [
    "sigma_x = np.matrix([[0,1],\n",
    "                    [1,0],])\n",
    "\n",
    "sigma_y = np.matrix([[0,-1J],\n",
    "                    [1J,0],])\n",
    "\n",
    "sigma_z = np.matrix([[1,0],\n",
    "                    [0,-1],])\n",
    "\n",
    "sigma = [sigma_x,sigma_y,sigma_z]\n",
    "\n",
    "for i in range(3):\n",
    "    for j in range(3):\n",
    "        print(\"Conmutación con (%s,%s)\"%(i+1,j+1))\n",
    "        print(conmutador(sigma[i],sigma[j]))\n",
    "        \n",
    "print(\"*\"*50)   \n",
    "A = np.zeros((2,2)).astype(np.complex128)\n",
    "for i in range(3):\n",
    "    for j in range(3):\n",
    "        for k in range(3):\n",
    "            A += 2J*levi_civita([i,j,k])*sigma[k]\n",
    "        print(\"Conmutación con (%s,%s)\"%(i+1,j+1))\n",
    "        print(A)\n",
    "        A = np.zeros((2,2)).astype(np.complex128)\n",
    "    "
   ]
  },
  {
   "cell_type": "markdown",
   "id": "8bda4665",
   "metadata": {},
   "source": [
    "**15.**  La matrices de Dirac $\\{ \\gamma^0, \\gamma^1, \\gamma^2, \\gamma^3\\}$ son una representación\n",
    "del álgebra de Clifford $CL_{1,3}(\\mathbb{R})$, que transforman correctamente el espacio de espinores\n",
    "de la teoría cuántica de campos:\n",
    "$$ \\gamma^0 = \\begin{bmatrix} 1 & 0 & 0 & 0 \\\\ 0 & 1 & 0 & 0 \\\\ 0 & 0 & -1 & 0 \\\\ 0 & 0 & 0 & -1 \\end{bmatrix},\\  \\gamma^1 = \\begin{bmatrix} 0 & 0 & 0 & 1 \\\\ 0 & 0 & 1 & 0 \\\\ 0 & -1 & 0 & 0 \\\\ -1 & 0 & 0 & 0\\end{bmatrix},\\\\ \\gamma^2 = \\begin{bmatrix} 0 & 0 & 0 & -i \\\\ 0 & 0 & i & 0 \\\\ 0 & i & 0 & 0 \\\\ -i & 0 & 0 & 0 \\end{bmatrix},\\ \\gamma^3 = \\begin{bmatrix} 0 & 0 & 1 & 0 \\\\ 0 & 0 & 0 & -1 \\\\ -1 & 0 & 0 & 0 \\\\ 0 & 1 & 0 & 0 \\end{bmatrix}$$\n",
    "\n",
    "Verifique que el álgebra de Clifford está dada por una realción de anticonmutación. Esto es: $$\\{ \\gamma^\\mu, \\gamma^\\nu\\} =\\gamma^\\mu \\gamma^\\nu + \\gamma^\\nu\\gamma^\\mu = 2g^{\\mu\\nu}I_{4\\times4} $$\n",
    "\n",
    "con $$g^{\\mu\\nu} = \\begin{bmatrix} -1 & 0 & 0 & 0 \\\\ 0 & 1 & 0 & 0 \\\\ 0 & 0 & 1 & 0 \\\\ 0 & 0 & 0 & 1 \\end{bmatrix}$$"
   ]
  },
  {
   "cell_type": "code",
   "execution_count": 45,
   "id": "7afd5896",
   "metadata": {},
   "outputs": [
    {
     "name": "stdout",
     "output_type": "stream",
     "text": [
      "Conmutación con (0,0)\n",
      "[[2 0 0 0]\n",
      " [0 2 0 0]\n",
      " [0 0 2 0]\n",
      " [0 0 0 2]]\n",
      "Conmutación con (0,1)\n",
      "[[0 0 0 0]\n",
      " [0 0 0 0]\n",
      " [0 0 0 0]\n",
      " [0 0 0 0]]\n",
      "Conmutación con (0,2)\n",
      "[[0.+0.j 0.+0.j 0.+0.j 0.+0.j]\n",
      " [0.+0.j 0.+0.j 0.+0.j 0.+0.j]\n",
      " [0.+0.j 0.+0.j 0.+0.j 0.+0.j]\n",
      " [0.+0.j 0.+0.j 0.+0.j 0.+0.j]]\n",
      "Conmutación con (0,3)\n",
      "[[0 0 0 0]\n",
      " [0 0 0 0]\n",
      " [0 0 0 0]\n",
      " [0 0 0 0]]\n",
      "Conmutación con (1,0)\n",
      "[[0 0 0 0]\n",
      " [0 0 0 0]\n",
      " [0 0 0 0]\n",
      " [0 0 0 0]]\n",
      "Conmutación con (1,1)\n",
      "[[-2  0  0  0]\n",
      " [ 0 -2  0  0]\n",
      " [ 0  0 -2  0]\n",
      " [ 0  0  0 -2]]\n",
      "Conmutación con (1,2)\n",
      "[[0.+0.j 0.+0.j 0.+0.j 0.+0.j]\n",
      " [0.+0.j 0.+0.j 0.+0.j 0.+0.j]\n",
      " [0.+0.j 0.+0.j 0.+0.j 0.+0.j]\n",
      " [0.+0.j 0.+0.j 0.+0.j 0.+0.j]]\n",
      "Conmutación con (1,3)\n",
      "[[0 0 0 0]\n",
      " [0 0 0 0]\n",
      " [0 0 0 0]\n",
      " [0 0 0 0]]\n",
      "Conmutación con (2,0)\n",
      "[[0.+0.j 0.+0.j 0.+0.j 0.+0.j]\n",
      " [0.+0.j 0.+0.j 0.+0.j 0.+0.j]\n",
      " [0.+0.j 0.+0.j 0.+0.j 0.+0.j]\n",
      " [0.+0.j 0.+0.j 0.+0.j 0.+0.j]]\n",
      "Conmutación con (2,1)\n",
      "[[0.+0.j 0.+0.j 0.+0.j 0.+0.j]\n",
      " [0.+0.j 0.+0.j 0.+0.j 0.+0.j]\n",
      " [0.+0.j 0.+0.j 0.+0.j 0.+0.j]\n",
      " [0.+0.j 0.+0.j 0.+0.j 0.+0.j]]\n",
      "Conmutación con (2,2)\n",
      "[[-2.+0.j  0.+0.j  0.+0.j  0.+0.j]\n",
      " [ 0.+0.j -2.+0.j  0.+0.j  0.+0.j]\n",
      " [ 0.+0.j  0.+0.j -2.+0.j  0.+0.j]\n",
      " [ 0.+0.j  0.+0.j  0.+0.j -2.+0.j]]\n",
      "Conmutación con (2,3)\n",
      "[[0.+0.j 0.+0.j 0.+0.j 0.+0.j]\n",
      " [0.+0.j 0.+0.j 0.+0.j 0.+0.j]\n",
      " [0.+0.j 0.+0.j 0.+0.j 0.+0.j]\n",
      " [0.+0.j 0.+0.j 0.+0.j 0.+0.j]]\n",
      "Conmutación con (3,0)\n",
      "[[0 0 0 0]\n",
      " [0 0 0 0]\n",
      " [0 0 0 0]\n",
      " [0 0 0 0]]\n",
      "Conmutación con (3,1)\n",
      "[[0 0 0 0]\n",
      " [0 0 0 0]\n",
      " [0 0 0 0]\n",
      " [0 0 0 0]]\n",
      "Conmutación con (3,2)\n",
      "[[0.+0.j 0.+0.j 0.+0.j 0.+0.j]\n",
      " [0.+0.j 0.+0.j 0.+0.j 0.+0.j]\n",
      " [0.+0.j 0.+0.j 0.+0.j 0.+0.j]\n",
      " [0.+0.j 0.+0.j 0.+0.j 0.+0.j]]\n",
      "Conmutación con (3,3)\n",
      "[[-2  0  0  0]\n",
      " [ 0 -2  0  0]\n",
      " [ 0  0 -2  0]\n",
      " [ 0  0  0 -2]]\n",
      "********************\n",
      "Conmutación con (0,0)\n",
      "[[-2. -0. -0. -0.]\n",
      " [-0. -2. -0. -0.]\n",
      " [-0. -0. -2. -0.]\n",
      " [-0. -0. -0. -2.]]\n",
      "Conmutación con (0,1)\n",
      "[[0. 0. 0. 0.]\n",
      " [0. 0. 0. 0.]\n",
      " [0. 0. 0. 0.]\n",
      " [0. 0. 0. 0.]]\n",
      "Conmutación con (0,2)\n",
      "[[0. 0. 0. 0.]\n",
      " [0. 0. 0. 0.]\n",
      " [0. 0. 0. 0.]\n",
      " [0. 0. 0. 0.]]\n",
      "Conmutación con (0,3)\n",
      "[[0. 0. 0. 0.]\n",
      " [0. 0. 0. 0.]\n",
      " [0. 0. 0. 0.]\n",
      " [0. 0. 0. 0.]]\n",
      "Conmutación con (1,0)\n",
      "[[0. 0. 0. 0.]\n",
      " [0. 0. 0. 0.]\n",
      " [0. 0. 0. 0.]\n",
      " [0. 0. 0. 0.]]\n",
      "Conmutación con (1,1)\n",
      "[[2. 0. 0. 0.]\n",
      " [0. 2. 0. 0.]\n",
      " [0. 0. 2. 0.]\n",
      " [0. 0. 0. 2.]]\n",
      "Conmutación con (1,2)\n",
      "[[0. 0. 0. 0.]\n",
      " [0. 0. 0. 0.]\n",
      " [0. 0. 0. 0.]\n",
      " [0. 0. 0. 0.]]\n",
      "Conmutación con (1,3)\n",
      "[[0. 0. 0. 0.]\n",
      " [0. 0. 0. 0.]\n",
      " [0. 0. 0. 0.]\n",
      " [0. 0. 0. 0.]]\n",
      "Conmutación con (2,0)\n",
      "[[0. 0. 0. 0.]\n",
      " [0. 0. 0. 0.]\n",
      " [0. 0. 0. 0.]\n",
      " [0. 0. 0. 0.]]\n",
      "Conmutación con (2,1)\n",
      "[[0. 0. 0. 0.]\n",
      " [0. 0. 0. 0.]\n",
      " [0. 0. 0. 0.]\n",
      " [0. 0. 0. 0.]]\n",
      "Conmutación con (2,2)\n",
      "[[2. 0. 0. 0.]\n",
      " [0. 2. 0. 0.]\n",
      " [0. 0. 2. 0.]\n",
      " [0. 0. 0. 2.]]\n",
      "Conmutación con (2,3)\n",
      "[[0. 0. 0. 0.]\n",
      " [0. 0. 0. 0.]\n",
      " [0. 0. 0. 0.]\n",
      " [0. 0. 0. 0.]]\n",
      "Conmutación con (3,0)\n",
      "[[0. 0. 0. 0.]\n",
      " [0. 0. 0. 0.]\n",
      " [0. 0. 0. 0.]\n",
      " [0. 0. 0. 0.]]\n",
      "Conmutación con (3,1)\n",
      "[[0. 0. 0. 0.]\n",
      " [0. 0. 0. 0.]\n",
      " [0. 0. 0. 0.]\n",
      " [0. 0. 0. 0.]]\n",
      "Conmutación con (3,2)\n",
      "[[0. 0. 0. 0.]\n",
      " [0. 0. 0. 0.]\n",
      " [0. 0. 0. 0.]\n",
      " [0. 0. 0. 0.]]\n",
      "Conmutación con (3,3)\n",
      "[[2. 0. 0. 0.]\n",
      " [0. 2. 0. 0.]\n",
      " [0. 0. 2. 0.]\n",
      " [0. 0. 0. 2.]]\n"
     ]
    }
   ],
   "source": [
    "gamma_0 = np.matrix([[1,0,0,0],\n",
    "                    [0,1,0,0],\n",
    "                    [0,0,-1,0],\n",
    "                    [0,0,0,-1]])\n",
    "\n",
    "gamma_1 = np.matrix([[0,0,0,1],\n",
    "                    [0,0,1,0],\n",
    "                    [0,-1,0,0],\n",
    "                    [-1,0,0,0]])\n",
    "\n",
    "gamma_2 = np.matrix([[0,0,0,-1J],\n",
    "                    [0,0,1J,0],\n",
    "                    [0,1J,0,0],\n",
    "                    [-1J,0,0,0]])\n",
    "\n",
    "gamma_3 = np.matrix([[0,0,1,0],\n",
    "                    [0,0,0,-1],\n",
    "                    [-1,0,0,0],\n",
    "                    [0,1,0,0]])\n",
    "\n",
    "g = np.matrix([[-1,0,0,0],\n",
    "                    [0,1,0,0],\n",
    "                    [0,0,1,0],\n",
    "                    [0,0,0,1]])\n",
    "\n",
    "gamma = [gamma_0,gamma_1,gamma_2,gamma_3]\n",
    "\n",
    "for i in range(4):\n",
    "    for j in range(4):\n",
    "        print(\"Conmutación con (%s,%s)\"%(i,j))\n",
    "        print(gamma[i]@gamma[j] + gamma[j]@gamma[i])\n",
    "\n",
    "print(\"*\"*20)\n",
    "\n",
    "for i in range(4):\n",
    "    for j in range(4):\n",
    "        print(\"Conmutación con (%s,%s)\"%(i,j))\n",
    "        print(2*g[i,j]*np.identity(4))"
   ]
  },
  {
   "cell_type": "markdown",
   "id": "22787477",
   "metadata": {},
   "source": [
    "# Mínimos cuadrados"
   ]
  },
  {
   "cell_type": "markdown",
   "id": "e75f97ed",
   "metadata": {},
   "source": [
    "**1.** Se tienen tres líneas en $\\mathbb{R}^2$:\n",
    "$$2x - y = 2 \\\\ x + 2y = 1 \\\\ x+y = 4$$"
   ]
  },
  {
   "cell_type": "markdown",
   "id": "4028f3d9",
   "metadata": {},
   "source": [
    "**(a)** Con el método de mínimos cuadrados encuentre el punto común a las tres líneas.\n",
    "Grafique las tres líneas y el punto solución, ¿qué interpretación puede dar?\n"
   ]
  },
  {
   "cell_type": "code",
   "execution_count": 143,
   "id": "7d3469b2",
   "metadata": {},
   "outputs": [
    {
     "data": {
      "text/plain": [
       "<matplotlib.collections.PathCollection at 0x250e7d6bfd0>"
      ]
     },
     "execution_count": 143,
     "metadata": {},
     "output_type": "execute_result"
    },
    {
     "data": {
      "image/png": "[encoded data removed]",
      "text/plain": [
       "<Figure size 640x480 with 1 Axes>"
      ]
     },
     "metadata": {},
     "output_type": "display_data"
    }
   ],
   "source": [
    "A = np.array([[2.,-1.],\n",
    "              [1.,2.],\n",
    "              [1.,1.]])\n",
    "\n",
    "b = np.array([2.,1.,4.])\n",
    "\n",
    "x0 = np.array([1.,2.])\n",
    "\n",
    "B = A.T@A\n",
    "b1 = A.T@b\n",
    "\n",
    "\n",
    "def Shaco(A,b,x0, itmax=1000, tolerancia= 1e-9):\n",
    "    \n",
    "    x = x0.copy()\n",
    "    \n",
    "    for it in range(itmax):\n",
    "        \n",
    "        xn = np.zeros_like(x0)\n",
    "        \n",
    "        for i in range(A.shape[0]):\n",
    "            sum_ = 0.\n",
    "            \n",
    "            for j in range(A.shape[1]):\n",
    "                \n",
    "                if j!=i:\n",
    "                    sum_ += A[i,j]*x[j]\n",
    "                    \n",
    "            xn[i] = (b[i] - sum_)/A[i,i]\n",
    "                    \n",
    "        residuo = np.linalg.norm( np.dot(A,xn) - b )\n",
    "        x = xn.copy()\n",
    "        \n",
    "        if np.allclose(residuo,tolerancia,atol=tolerancia):\n",
    "            break\n",
    "        \n",
    "    return x\n",
    "\n",
    "x = np.linspace(-5,5,1000)\n",
    "f1 = 2*x -2\n",
    "f2 = 0.5 -0.5*x\n",
    "f3 = 4 - x\n",
    "r = Shaco(B,b1,x0)\n",
    "plt.plot(x,f1,\"cyan\")\n",
    "plt.plot(x,f2,\"salmon\")\n",
    "plt.plot(x,f3,\"green\")\n",
    "plt.scatter(r[0],r[1])\n"
   ]
  },
  {
   "cell_type": "markdown",
   "id": "6cd1253f",
   "metadata": {},
   "source": [
    "**(b)**  Realice una búsqueda iterativa entre $−5 \\leq x \\leq 5$ y $−5 \\leq y \\leq 5$ con un paso de\n",
    "$h = 0.01$ para encontrar la menor distancia del problema. Grafique la distancia y\n",
    "compare con el resultado obtenido con mínimos cuadrados."
   ]
  },
  {
   "cell_type": "code",
   "execution_count": null,
   "id": "729bbfe0",
   "metadata": {},
   "outputs": [],
   "source": [
    "x = np.arange(-5,5,0.01)\n",
    "y = np.arange(-5,5,0.01)\n",
    "z = np.zeros((len(x), len(x)))\n",
    "\n",
    "for i in range(x.size):\n",
    "    for j in range(y.size):\n",
    "        v = np.array([x[i],y[j]])\n",
    "        print(A@v.T)\n",
    "        d = np.linalg.norm(b)\n",
    "        z[i][j] = d\n",
    "        \n",
    "        \n",
    "        \n",
    "        \n",
    "        \n",
    "        \n",
    "x, y = np.meshgrid(X, Y)\n",
    "\n",
    "fig, ax = plt.subplots(subplot_kw={\"projection\": \"3d\"})\n",
    "surf = ax.plot_surface(x, y, z, cmap=cm.coolwarm,\n",
    "                       linewidth=0, antialiased=False)\n",
    "\n",
    "plt.show()"
   ]
  },
  {
   "cell_type": "markdown",
   "id": "f8116061",
   "metadata": {},
   "source": [
    "**6.** Este punto se puede encontrar en la carpeta: 'adicionales/punto6'"
   ]
  },
  {
   "cell_type": "markdown",
   "id": "8332d1f9",
   "metadata": {},
   "source": [
    "**7.** "
   ]
  },
  {
   "cell_type": "code",
   "execution_count": 3,
   "id": "0b8d4164",
   "metadata": {},
   "outputs": [],
   "source": [
    "import numpy as np\n",
    "import pandas as pd\n",
    "import sympy as sym\n",
    "\n",
    "\n",
    "import urllib.request\n",
    "import numpy as np\n",
    "import matplotlib.pyplot as plt\n",
    "import matplotlib.animation as anim\n",
    "from mpl_toolkits.mplot3d import axes3d\n",
    "from matplotlib import rc\n",
    "\n",
    "import pandas as pd\n",
    "from tqdm import tqdm\n",
    "from time import sleep\n",
    "import os.path as path\n",
    "import os\n"
   ]
  },
  {
   "cell_type": "markdown",
   "id": "70b6ab83",
   "metadata": {},
   "source": [
    "Punto 7"
   ]
  },
  {
   "cell_type": "markdown",
   "id": "5fd01595",
   "metadata": {},
   "source": [
    "Descargar el archivo "
   ]
  },
  {
   "cell_type": "code",
   "execution_count": 4,
   "id": "36f50290",
   "metadata": {},
   "outputs": [],
   "source": [
    "url = 'https://raw.githubusercontent.com/asegura4488/Database/main/MetodosComputacionalesReforma/Sigmoid.csv'\n",
    "descargar = pd.read_csv(url)\n",
    "\n",
    "x_data = descargar[\"x\"]\n",
    "y_data = descargar[\"y\"]\n"
   ]
  },
  {
   "cell_type": "markdown",
   "id": "abfabe33",
   "metadata": {},
   "source": [
    "a) Defina el modelo de ajuste"
   ]
  },
  {
   "cell_type": "code",
   "execution_count": 105,
   "id": "a6a0c56c",
   "metadata": {},
   "outputs": [],
   "source": [
    "t_0 = sym.symbols(\"t_0\", real=True)\n",
    "t_1 = sym.symbols(\"t_1\", real=True)\n",
    "t_2 = sym.symbols(\"t_2\", real=True)\n",
    "x = sym.symbols(\"x\", real=True)\n",
    "\n",
    "\n",
    "\n",
    "def modelo_ajuste():\n",
    "    funcion =  t_0 / (t_1 + (sym.exp(-t_2*x)))\n",
    "    return funcion"
   ]
  },
  {
   "cell_type": "markdown",
   "id": "b785324f",
   "metadata": {},
   "source": [
    "b) Definir función costo"
   ]
  },
  {
   "cell_type": "code",
   "execution_count": 106,
   "id": "0701f5a3",
   "metadata": {},
   "outputs": [],
   "source": [
    "def funcion_costo(x,y,angulo):\n",
    "    valor = np.sum((y - funcion_costo(x,angulo)**2))\n",
    "    return valor"
   ]
  },
  {
   "cell_type": "markdown",
   "id": "48ce5899",
   "metadata": {},
   "source": [
    "Demostraciones de los puntos c y d se encuentran en la carpeta 'adicionales/punto7'"
   ]
  },
  {
   "cell_type": "markdown",
   "id": "a797a5f6",
   "metadata": {},
   "source": [
    "e) Resuelva con ciertos parametros"
   ]
  },
  {
   "cell_type": "code",
   "execution_count": 110,
   "id": "4fee7d83",
   "metadata": {},
   "outputs": [],
   "source": [
    "\n",
    "#Crear ecuaciones\n",
    "\n",
    "def gradiente ():\n",
    "    d_t_0 = sym.lambdify([x,t_0,t_1,t_2],sym.diff(modelo_ajuste(), t_0))\n",
    "    d_t_1 = sym.lambdify([x,t_0,t_1,t_2],sym.diff(modelo_ajuste(), t_1))\n",
    "    d_t_2 = sym.lambdify([x,t_0,t_1,t_2],sym.diff(modelo_ajuste(), t_2))\n",
    "    \n",
    "\n",
    "    return d_t_0, d_t_1, d_t_2\n",
    "\n",
    "def gradiente_decendiente(funcion,x,y,angulo,interaciones,parada,aprendizaje):\n",
    "    error=parada+1\n",
    "    n=0\n",
    "    grad0, grad1,grad2=gradiente()\n",
    "\n",
    "    while error>parada and n<interaciones:\n",
    "        suma=0\n",
    "        for i in range(len(y)):\n",
    "            dgrad0=grad0(x[i],angulo[0],angulo[1],angulo[2])\n",
    "            dgrad1=grad1(x[i],angulo[0],angulo[1],angulo[2])\n",
    "            dgrad2=grad2(x[i],angulo[0],angulo[1],angulo[2])\n",
    "            suma+=(y[i]-funcion(x[i],angulo[0],angulo[1],angulo[2]))*np.array([dgrad0,dgrad1,dgrad2])\n",
    "        angulonuevo=angulo-(-2*aprendizaje*suma)\n",
    "        angulo=angulonuevo\n",
    "        error=np.linalg.norm(-2*aprendizaje*suma)\n",
    "        n+=1\n",
    "    return angulonuevo\n",
    "\n",
    "\n",
    "def descenso_gradiente(eq,x,y,vector,n,epsilon, phi):\n",
    "    i = 0\n",
    "    checker = epsilon +1\n",
    "    d_g_0, d_g_1 , d_g_2 = gradiente()\n",
    "    while checker>epsilon and i<n:\n",
    "   \n",
    "        result = 0\n",
    "        for every in range(len(y)):\n",
    "            \n",
    "        \n",
    "            theta_0 = d_g_0(x[every], vector[0], vector[1], vector[2])\n",
    "            theta_1 = d_g_1(x[every], vector[0], vector[1], vector[2])\n",
    "            theta_2 = d_g_2(x[every], vector[0], vector[1], vector[2])\n",
    "            \n",
    "            \n",
    "            result += (y[every]-eq(x[every],vector[0], vector[1], vector[2]))*np.array([theta_0, theta_1, theta_2])\n",
    "        \n",
    "        vector_nuevo = vector - ( -phi* 2*prev_result)\n",
    "        vector= vector_nuevo\n",
    "        checker = np.linalg.norm(phi * (-2*prev_result))\n",
    "        i += 1\n",
    "        \n",
    "    \n",
    "    return vector_nuevo"
   ]
  },
  {
   "cell_type": "markdown",
   "id": "fe258885",
   "metadata": {},
   "source": [
    "f) Gráfica"
   ]
  },
  {
   "cell_type": "code",
   "execution_count": 112,
   "id": "f549edee",
   "metadata": {},
   "outputs": [
    {
     "data": {
      "text/plain": [
       "<matplotlib.legend.Legend at 0x7fde09e836a0>"
      ]
     },
     "execution_count": 112,
     "metadata": {},
     "output_type": "execute_result"
    },
    {
     "data": {
      "image/png": "[encoded data removed]",
      "text/plain": [
       "<Figure size 640x480 with 1 Axes>"
      ]
     },
     "metadata": {},
     "output_type": "display_data"
    }
   ],
   "source": [
    "#parametros \n",
    "n = 1000\n",
    "phi = 0.001\n",
    "epsilon =0.01\n",
    "theta = [1,1,1]\n",
    "equation = sym.lambdify([x,t_0,t_1,t_2],modelo_ajuste())\n",
    "\n",
    "\n",
    "lista_theta = descenso_gradiente(equation,x_data,y_data,theta,n, epsilon,phi)\n",
    "X_Graph = np.linspace(np.min(x_data), np.max(x_data) ,100)\n",
    "Y_Graph = []\n",
    "for every in X_Graph:\n",
    "    Y_Graph.append(lista_theta[0] / (lista_theta[1] + sym.exp(-lista_theta[2]*every)))\n",
    "\n",
    "\n",
    "\n",
    "plt.xlabel('x')\n",
    "plt.ylabel('y')\n",
    "plt.plot(X_Graph,Y_Graph,color='red', label='Modelo de ajuste')\n",
    "plt.scatter(x_data,y_data,color='black', label='Puntos')\n",
    "plt.legend()\n"
   ]
  }
 ],
 "metadata": {
  "kernelspec": {
   "display_name": "Python 3 (ipykernel)",
   "language": "python",
   "name": "python3"
  },
  "language_info": {
   "codemirror_mode": {
    "name": "ipython",
    "version": 3
   },
   "file_extension": ".py",
   "mimetype": "text/x-python",
   "name": "python",
   "nbconvert_exporter": "python",
   "pygments_lexer": "ipython3",
   "version": "3.9.13"
  }
 },
 "nbformat": 4,
 "nbformat_minor": 5
}
