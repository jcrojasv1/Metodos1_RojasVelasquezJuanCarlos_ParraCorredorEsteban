{
 "cells": [
  {
   "cell_type": "code",
   "execution_count": 3,
   "id": "b08b9c83",
   "metadata": {},
   "outputs": [],
   "source": [
    "import numpy as np\n",
    "import matplotlib.pyplot as plt"
   ]
  },
  {
   "cell_type": "markdown",
   "id": "ce5f3842",
   "metadata": {},
   "source": [
    "# Álgebra lineal"
   ]
  },
  {
   "cell_type": "markdown",
   "id": "71724397",
   "metadata": {},
   "source": [
    "**3.** Implemente un algoritmo que realice la multiplicación de dos matrices. Use el algoritmo para calcular:\n",
    "$$AB = \\begin{bmatrix} 1 & 0& 0 \\\\ 5 &1 &0 \\\\ -2 &3 &1  \\end{bmatrix}\\begin{bmatrix} 4 & -2& 1 \\\\ 0 &3 &7 \\\\ 0 &0 &2  \\end{bmatrix}$$"
   ]
  },
  {
   "cell_type": "code",
   "execution_count": 4,
   "id": "5f34214b",
   "metadata": {},
   "outputs": [
    {
     "name": "stdout",
     "output_type": "stream",
     "text": [
      "[[ 4. -2.  1.]\n",
      " [20. -7. 12.]\n",
      " [-8. 13. 21.]]\n"
     ]
    }
   ],
   "source": [
    "AB = np.zeros((3,3))\n",
    "A = np.array([[1,0,0],[5,1,0],[-2,3,1]])\n",
    "B = np.array([[4,-2,1],[0,3,7],[0,0,2]])\n",
    "\n",
    "for i in range(len(A)):\n",
    "    for j in range(len(B[:,0])):\n",
    "        AB[i][j] = np.dot(A[i],B[:,j])\n",
    "        \n",
    "print(AB)\n",
    "        "
   ]
  },
  {
   "cell_type": "markdown",
   "id": "9cd202ad",
   "metadata": {},
   "source": [
    "**4.** Muestre con detalle que la sustitución hacia adelante se expresa como: $$ x_i = b_i - \\sum_{j=0}^{i-1}A_{ij}x_j$$"
   ]
  },
  {
   "cell_type": "markdown",
   "id": "d547ce8e",
   "metadata": {},
   "source": [
    "**Solución:** Teniendo en cuenta el sistema $$A\\vec{x} = \\vec{b}$$ se puede hacer la sustitución $L(U\\vec{x}) = \\vec{b}$ y la sustitución hacia adelante $L\\vec{y} = \\vec{b}$. Dado que la matriz $L$ tiene forma triangular inferior, se tiene que \n",
    "$$\n",
    "\\begin{bmatrix} 1 & 0 & \\dots & 0 \\\\ \\ell_{21} & 1 & \\dots & 0 \\\\ \\vdots & \\vdots & \\ddots & \\vdots \\\\ \\ell_{n1} & \\ell_{n2} & \\dots & 1 \\end{bmatrix}\n",
    "\\begin{bmatrix}\n",
    "y_1 \\\\ y_2 \\\\ \\vdots \\\\ y_n\n",
    "\\end{bmatrix} =\n",
    "\\begin{bmatrix}\n",
    "b_1 \\\\ b_2 \\\\ \\vdots \\\\ b_n\n",
    "\\end{bmatrix}\n",
    "$$\n",
    "Es decir,\n",
    "$$\n",
    "\\begin{align*}\n",
    "y_1 &= b_1 \\\\\n",
    "\\ell_{21}y_1 + y_{2} &= b_2 \\\\\n",
    "\\ell_{31}y_1 + \\ell_{32}y_{2} + y_3 &= b_3\\\\\n",
    "\\vdots \\\\\n",
    "\\sum_{j = 1}^{i-1}\\ell_{ij}y_{j} + y_i &= b_i \n",
    "\\end{align*}\n",
    "$$\n",
    "Esto es, entonces\n",
    "$$y_i = b_i - \\sum_{j=1}^{i-1}\\ell_{ij}y_j$$\n",
    "Como se quería. $\\blacksquare$"
   ]
  },
  {
   "cell_type": "markdown",
   "id": "b837abf6",
   "metadata": {},
   "source": [
    "**5.** Muestre con detaller que la sustitución hacia atrás se expresa como:\n",
    "\n",
    "$$x_i = \\frac{b_i - \\displaystyle\\sum_{j = i+1}^{n}A_{ij}x_j}{A_{ii}}$$"
   ]
  },
  {
   "cell_type": "markdown",
   "id": "6d49cb2e",
   "metadata": {},
   "source": [
    "**Solución:** Teniendo en cuenta la sustitución $U\\vec{x} = \\vec{y}$. Dado que la matriz $U$ tiene forma triangular superior, se tiene que \n",
    "$$\n",
    "\\begin{bmatrix} u_{11} & u_{12} & \\dots & u_{1n} \\\\ 0 & u_{22} & \\dots & u_{2n} \\\\ \\vdots & \\vdots & \\ddots & \\vdots \\\\ 0 & 0 & \\dots &u_{nn}\\end{bmatrix}\n",
    "\\begin{bmatrix} x_1 \\\\ x_2 \\\\ \\vdots \\\\ x_n \\end{bmatrix}\n",
    "= \\begin{bmatrix} y_1 \\\\ y_2 \\\\ \\vdots \\\\ y_n \\end{bmatrix}\n",
    "$$\n",
    "Lo cual se puede expresar como un conjunto de ecuacioens lineales\n",
    "$$\n",
    "\\begin{align*}\n",
    "u_{11}x_1 + u_{12}x_2 + u_{13}x_3 + u_{14}x_4 + \\dots + u_{1n}x_n &= y_1 \\\\\n",
    "u_{22}x_2 + u_{23}x_3 + u_{24}x_4 + \\dots + u_{2n}x_n &= y_2 \\\\\n",
    " u_{33}x_3 + u_{34}x_4 + \\dots + u_{3n}x_n &= y_3\\\\\n",
    " \\vdots \\\\\n",
    " u_{ii}x_i + \\sum_{j = i +1}^{n}u_{ij}x_j &= y_i\n",
    "\\end{align*}\n",
    "$$\n",
    "Despejando $x_i$, se tiene que \n",
    "$$x_i = \\frac{y_i - \\displaystyle\\sum_{j=i+1}^{n}u_{ij}x_j}{u_{ii}}.$$\n",
    "\n",
    "Como se quería. $\\blacksquare$"
   ]
  },
  {
   "cell_type": "markdown",
   "id": "50294292",
   "metadata": {},
   "source": [
    "**6.** Use el método de sobrerelajación sucesiva para solucionar el sistema:\n",
    "$$\n",
    "\\left\\{\n",
    "\\begin{align*}\n",
    "3x_1 - x_2- x_3 = 1 \\\\\n",
    "-x_1 + 3x_2 + x_3 = 3\\\\\n",
    "2x_1 + x_2 +4x_3 = 7\n",
    "\\end{align*}\n",
    "\\right.\n",
    "$$"
   ]
  },
  {
   "cell_type": "code",
   "execution_count": 5,
   "id": "a58df961",
   "metadata": {},
   "outputs": [
    {
     "name": "stdout",
     "output_type": "stream",
     "text": [
      "x_1: 1.0000000017524404, x_2: 0.9999999997215512, x_3: 0.9999999983063279\n"
     ]
    }
   ],
   "source": [
    "def sor_solver(A, b, omega, initial_guess, convergence_criteria):\n",
    "\n",
    "    phi = initial_guess[:]\n",
    "    residual = np.linalg.norm(A @ phi - b)  # Initial residual\n",
    "    while residual > convergence_criteria:\n",
    "        for i in range(A.shape[0]):\n",
    "            sigma = 0\n",
    "            for j in range(A.shape[1]):\n",
    "                if j != i:\n",
    "                    sigma += A[i, j] * phi[j]\n",
    "            phi[i] = (1 - omega) * phi[i] + (omega / A[i, i]) * (b[i] - sigma)\n",
    "        residual = np.linalg.norm(A @ phi - b)\n",
    "    return phi\n",
    "\n",
    "residual_convergence = 1e-8\n",
    "omega = 1.3\n",
    "\n",
    "A = np.array([[3,-1,-1],\n",
    "              [-1,3,1],\n",
    "              [2,1,4]])\n",
    "\n",
    "b = np.array([1, 3, 7])\n",
    "\n",
    "initial_guess = np.zeros(3)\n",
    "\n",
    "phi = sor_solver(A, b, omega, initial_guess, residual_convergence)\n",
    "print(\"x_1: %s, x_2: %s, x_3: %s\"%(phi[0],phi[1],phi[2]))"
   ]
  },
  {
   "cell_type": "markdown",
   "id": "8bfc3710",
   "metadata": {},
   "source": [
    "**7.** Implemente la descomposición LU para factorizar la siguiente matriz $A = LU$.\n",
    "$$A = \\begin{bmatrix} 4 & -2 & 1 \\\\ 20 & -7 & 12 \\\\ -8 & 13 & 17 \\end{bmatrix} = \\begin{bmatrix} 1 & 0 & 0 \\\\ 5 & 1 & 0 \\\\ -2 & 3 & 1 \\end{bmatrix} \\begin{bmatrix} 4 & -2 & 1 \\\\ 0 & 3 & 7 \\\\ 0 & 0 & -2 \\end{bmatrix}$$"
   ]
  },
  {
   "cell_type": "code",
   "execution_count": 6,
   "id": "678b7ce6",
   "metadata": {},
   "outputs": [
    {
     "name": "stdout",
     "output_type": "stream",
     "text": [
      "Lower matrix: \n",
      " [[ 1.  0.  0.]\n",
      " [ 5.  1.  0.]\n",
      " [-2.  3.  1.]] \n",
      " Upper matrix: \n",
      " [[ 4. -2.  1.]\n",
      " [ 0.  3.  7.]\n",
      " [ 0.  0. -2.]]  \n"
     ]
    }
   ],
   "source": [
    "def LU_fact(A):\n",
    "    n = A[0].size\n",
    "    L = np.identity(n)\n",
    "    for i in range(0,n):\n",
    "        for j in range(i+1,A[0].size):\n",
    "            I = np.identity(n)\n",
    "            I[j][i] = -A[j][i]/A[i][i]\n",
    "            L[j][i] = A[j][i]/A[i][i]\n",
    "            A = I@A\n",
    "    return L,A\n",
    "\n",
    "A = np.array([[4,-2,1],[20,-7,12],[-8,13,17]])\n",
    "\n",
    "print(\"Lower matrix: \\n %s \\n Upper matrix: \\n %s  \"%LU_fact(A))"
   ]
  },
  {
   "cell_type": "markdown",
   "id": "b98b073f",
   "metadata": {},
   "source": [
    " **9.** Método de Jacobi: diagonalización de matrices simétricas.\n",
    " \n",
    " **(a)** Implemente el método de Jacobi para encontrar los valores y vectores propios de:\n",
    " $$A = \\begin{bmatrix} 4 & 1 & 1 \\\\ 1 & 3 & 2 \\\\ 1 & 2 & 5 \\end{bmatrix}$$"
   ]
  },
  {
   "cell_type": "code",
   "execution_count": 10,
   "id": "5348af26",
   "metadata": {},
   "outputs": [
    {
     "ename": "IndexError",
     "evalue": "index 1 is out of bounds for axis 0 with size 1",
     "output_type": "error",
     "traceback": [
      "\u001b[1;31m---------------------------------------------------------------------------\u001b[0m",
      "\u001b[1;31mIndexError\u001b[0m                                Traceback (most recent call last)",
      "\u001b[1;32m~\\AppData\\Local\\Temp\\ipykernel_13944\\3315026120.py\u001b[0m in \u001b[0;36m<module>\u001b[1;34m\u001b[0m\n\u001b[0;32m     33\u001b[0m \u001b[0mA\u001b[0m \u001b[1;33m=\u001b[0m \u001b[0mnp\u001b[0m\u001b[1;33m.\u001b[0m\u001b[0mmatrix\u001b[0m\u001b[1;33m(\u001b[0m\u001b[1;33m[\u001b[0m\u001b[1;33m[\u001b[0m\u001b[1;36m4\u001b[0m\u001b[1;33m,\u001b[0m\u001b[1;36m1\u001b[0m\u001b[1;33m,\u001b[0m\u001b[1;36m1\u001b[0m\u001b[1;33m]\u001b[0m\u001b[1;33m,\u001b[0m\u001b[1;33m[\u001b[0m\u001b[1;36m1\u001b[0m\u001b[1;33m,\u001b[0m\u001b[1;36m3\u001b[0m\u001b[1;33m,\u001b[0m\u001b[1;36m2\u001b[0m\u001b[1;33m]\u001b[0m\u001b[1;33m,\u001b[0m\u001b[1;33m[\u001b[0m\u001b[1;36m1\u001b[0m\u001b[1;33m,\u001b[0m\u001b[1;36m2\u001b[0m\u001b[1;33m,\u001b[0m\u001b[1;36m5\u001b[0m\u001b[1;33m]\u001b[0m\u001b[1;33m]\u001b[0m\u001b[1;33m)\u001b[0m\u001b[1;33m\u001b[0m\u001b[1;33m\u001b[0m\u001b[0m\n\u001b[0;32m     34\u001b[0m \u001b[1;33m\u001b[0m\u001b[0m\n\u001b[1;32m---> 35\u001b[1;33m \u001b[0mR\u001b[0m\u001b[1;33m(\u001b[0m\u001b[0mA\u001b[0m\u001b[1;33m)\u001b[0m\u001b[1;33m\u001b[0m\u001b[1;33m\u001b[0m\u001b[0m\n\u001b[0m\u001b[0;32m     36\u001b[0m \u001b[1;33m\u001b[0m\u001b[0m\n",
      "\u001b[1;32m~\\AppData\\Local\\Temp\\ipykernel_13944\\3315026120.py\u001b[0m in \u001b[0;36mR\u001b[1;34m(A)\u001b[0m\n\u001b[0;32m      1\u001b[0m \u001b[1;32mdef\u001b[0m \u001b[0mR\u001b[0m\u001b[1;33m(\u001b[0m\u001b[0mA\u001b[0m\u001b[1;33m)\u001b[0m\u001b[1;33m:\u001b[0m\u001b[1;33m\u001b[0m\u001b[1;33m\u001b[0m\u001b[0m\n\u001b[0;32m      2\u001b[0m     \u001b[0mI\u001b[0m \u001b[1;33m=\u001b[0m \u001b[0mnp\u001b[0m\u001b[1;33m.\u001b[0m\u001b[0midentity\u001b[0m\u001b[1;33m(\u001b[0m\u001b[0mA\u001b[0m\u001b[1;33m.\u001b[0m\u001b[0msize\u001b[0m\u001b[1;33m)\u001b[0m\u001b[1;33m\u001b[0m\u001b[1;33m\u001b[0m\u001b[0m\n\u001b[1;32m----> 3\u001b[1;33m     \u001b[0mindex\u001b[0m \u001b[1;33m=\u001b[0m \u001b[0mlook4the_greatest\u001b[0m\u001b[1;33m(\u001b[0m\u001b[0mA\u001b[0m\u001b[1;33m)\u001b[0m\u001b[1;33m\u001b[0m\u001b[1;33m\u001b[0m\u001b[0m\n\u001b[0m\u001b[0;32m      4\u001b[0m     \u001b[1;32mif\u001b[0m \u001b[0mindex\u001b[0m \u001b[1;33m==\u001b[0m \u001b[1;33m(\u001b[0m\u001b[1;36m1\u001b[0m\u001b[1;33m,\u001b[0m\u001b[1;36m0\u001b[0m\u001b[1;33m)\u001b[0m\u001b[1;33m:\u001b[0m\u001b[1;33m\u001b[0m\u001b[1;33m\u001b[0m\u001b[0m\n\u001b[0;32m      5\u001b[0m         \u001b[0mtheta\u001b[0m \u001b[1;33m=\u001b[0m \u001b[1;36m0.5\u001b[0m\u001b[1;33m*\u001b[0m\u001b[0mnp\u001b[0m\u001b[1;33m.\u001b[0m\u001b[0marctan\u001b[0m\u001b[1;33m(\u001b[0m\u001b[1;36m2\u001b[0m\u001b[1;33m*\u001b[0m\u001b[0mA\u001b[0m\u001b[1;33m[\u001b[0m\u001b[1;36m0\u001b[0m\u001b[1;33m]\u001b[0m\u001b[1;33m[\u001b[0m\u001b[1;36m1\u001b[0m\u001b[1;33m]\u001b[0m\u001b[1;33m/\u001b[0m\u001b[1;33m(\u001b[0m\u001b[0mA\u001b[0m\u001b[1;33m[\u001b[0m\u001b[1;36m1\u001b[0m\u001b[1;33m]\u001b[0m\u001b[1;33m[\u001b[0m\u001b[1;36m1\u001b[0m\u001b[1;33m]\u001b[0m\u001b[1;33m-\u001b[0m\u001b[0mA\u001b[0m\u001b[1;33m[\u001b[0m\u001b[1;36m0\u001b[0m\u001b[1;33m]\u001b[0m\u001b[1;33m[\u001b[0m\u001b[1;36m0\u001b[0m\u001b[1;33m]\u001b[0m\u001b[1;33m)\u001b[0m\u001b[1;33m)\u001b[0m\u001b[1;33m\u001b[0m\u001b[1;33m\u001b[0m\u001b[0m\n",
      "\u001b[1;32m~\\AppData\\Local\\Temp\\ipykernel_13944\\3315026120.py\u001b[0m in \u001b[0;36mlook4the_greatest\u001b[1;34m(A)\u001b[0m\n\u001b[0;32m     27\u001b[0m     \u001b[1;32mfor\u001b[0m \u001b[0mi\u001b[0m \u001b[1;32min\u001b[0m \u001b[0mrange\u001b[0m\u001b[1;33m(\u001b[0m\u001b[1;36m1\u001b[0m\u001b[1;33m,\u001b[0m\u001b[0mn\u001b[0m\u001b[1;33m)\u001b[0m\u001b[1;33m:\u001b[0m\u001b[1;33m\u001b[0m\u001b[1;33m\u001b[0m\u001b[0m\n\u001b[0;32m     28\u001b[0m         \u001b[1;32mfor\u001b[0m \u001b[0mj\u001b[0m \u001b[1;32min\u001b[0m \u001b[0mrange\u001b[0m\u001b[1;33m(\u001b[0m\u001b[0mi\u001b[0m\u001b[1;33m,\u001b[0m\u001b[0mn\u001b[0m\u001b[1;33m)\u001b[0m\u001b[1;33m:\u001b[0m\u001b[1;33m\u001b[0m\u001b[1;33m\u001b[0m\u001b[0m\n\u001b[1;32m---> 29\u001b[1;33m             \u001b[1;32mif\u001b[0m \u001b[0mabs\u001b[0m\u001b[1;33m(\u001b[0m\u001b[0mA\u001b[0m\u001b[1;33m[\u001b[0m\u001b[0mi\u001b[0m\u001b[1;33m]\u001b[0m\u001b[1;33m[\u001b[0m\u001b[0mj\u001b[0m\u001b[1;33m]\u001b[0m\u001b[1;33m)\u001b[0m \u001b[1;33m>=\u001b[0m \u001b[0mabs\u001b[0m\u001b[1;33m(\u001b[0m\u001b[0mA\u001b[0m\u001b[1;33m[\u001b[0m\u001b[0mindex\u001b[0m\u001b[1;33m[\u001b[0m\u001b[1;36m0\u001b[0m\u001b[1;33m]\u001b[0m\u001b[1;33m]\u001b[0m\u001b[1;33m[\u001b[0m\u001b[0mindex\u001b[0m\u001b[1;33m[\u001b[0m\u001b[1;36m1\u001b[0m\u001b[1;33m]\u001b[0m\u001b[1;33m]\u001b[0m\u001b[1;33m)\u001b[0m\u001b[1;33m:\u001b[0m\u001b[1;33m\u001b[0m\u001b[1;33m\u001b[0m\u001b[0m\n\u001b[0m\u001b[0;32m     30\u001b[0m                 \u001b[0mindex\u001b[0m \u001b[1;33m=\u001b[0m \u001b[1;33m(\u001b[0m\u001b[0mj\u001b[0m\u001b[1;33m,\u001b[0m\u001b[0mi\u001b[0m\u001b[1;33m)\u001b[0m\u001b[1;33m\u001b[0m\u001b[1;33m\u001b[0m\u001b[0m\n\u001b[0;32m     31\u001b[0m     \u001b[1;32mreturn\u001b[0m \u001b[0mindex\u001b[0m\u001b[1;33m\u001b[0m\u001b[1;33m\u001b[0m\u001b[0m\n",
      "\u001b[1;32m~\\anaconda3\\lib\\site-packages\\numpy\\matrixlib\\defmatrix.py\u001b[0m in \u001b[0;36m__getitem__\u001b[1;34m(self, index)\u001b[0m\n\u001b[0;32m    191\u001b[0m \u001b[1;33m\u001b[0m\u001b[0m\n\u001b[0;32m    192\u001b[0m         \u001b[1;32mtry\u001b[0m\u001b[1;33m:\u001b[0m\u001b[1;33m\u001b[0m\u001b[1;33m\u001b[0m\u001b[0m\n\u001b[1;32m--> 193\u001b[1;33m             \u001b[0mout\u001b[0m \u001b[1;33m=\u001b[0m \u001b[0mN\u001b[0m\u001b[1;33m.\u001b[0m\u001b[0mndarray\u001b[0m\u001b[1;33m.\u001b[0m\u001b[0m__getitem__\u001b[0m\u001b[1;33m(\u001b[0m\u001b[0mself\u001b[0m\u001b[1;33m,\u001b[0m \u001b[0mindex\u001b[0m\u001b[1;33m)\u001b[0m\u001b[1;33m\u001b[0m\u001b[1;33m\u001b[0m\u001b[0m\n\u001b[0m\u001b[0;32m    194\u001b[0m         \u001b[1;32mfinally\u001b[0m\u001b[1;33m:\u001b[0m\u001b[1;33m\u001b[0m\u001b[1;33m\u001b[0m\u001b[0m\n\u001b[0;32m    195\u001b[0m             \u001b[0mself\u001b[0m\u001b[1;33m.\u001b[0m\u001b[0m_getitem\u001b[0m \u001b[1;33m=\u001b[0m \u001b[1;32mFalse\u001b[0m\u001b[1;33m\u001b[0m\u001b[1;33m\u001b[0m\u001b[0m\n",
      "\u001b[1;31mIndexError\u001b[0m: index 1 is out of bounds for axis 0 with size 1"
     ]
    }
   ],
   "source": [
    "def R(A):\n",
    "    I = np.identity(A.size)\n",
    "    index = look4the_greatest(A)\n",
    "    if index == (1,0):\n",
    "        theta = 0.5*np.arctan(2*A[0][1]/(A[1][1]-A[0][0]))\n",
    "        I[1][0] = -np.sin(theta)\n",
    "        I[0][1] = np.sin(theta)\n",
    "        I[0][0] = np.cos(theta)\n",
    "        I[1][1] = np.cos(theta)\n",
    "    elif index == (2,0):\n",
    "        theta = 0.5*np.arctan(2*A[0][2]/(A[2][2]-A[0][0]))\n",
    "        I[2][0] = -np.sin(theta)\n",
    "        I[0][2] = np.sin(theta)\n",
    "        I[0][0] = np.cos(theta)\n",
    "        I[2][2] = np.cos(theta)\n",
    "    elif index == (2,1):\n",
    "        theta = 0.5*np.arctan(2*A[1][2]/(A[2][2]-A[1][1]))\n",
    "        I[2][1] = -np.sin(theta)\n",
    "        I[1][2] = np.sin(theta)\n",
    "        I[1][1] = np.cos(theta)\n",
    "        I[2][2] = np.cos(theta)\n",
    "    return (I,I.t)\n",
    "\n",
    "def look4the_greatest(A):\n",
    "    n = A.size\n",
    "    index = (1,0)\n",
    "    for i in range(1,n):\n",
    "        for j in range(i,n):\n",
    "            if abs(A[i][j]) >= abs(A[index[0]][index[1]]):\n",
    "                index = (j,i)\n",
    "    return index \n",
    "\n",
    "A = np.matrix([[4,1,1],[1,3,2],[1,2,5]])\n",
    "\n",
    "R(A)\n",
    "    "
   ]
  }
 ],
 "metadata": {
  "kernelspec": {
   "display_name": "Python 3 (ipykernel)",
   "language": "python",
   "name": "python3"
  },
  "language_info": {
   "codemirror_mode": {
    "name": "ipython",
    "version": 3
   },
   "file_extension": ".py",
   "mimetype": "text/x-python",
   "name": "python",
   "nbconvert_exporter": "python",
   "pygments_lexer": "ipython3",
   "version": "3.9.13"
  }
 },
 "nbformat": 4,
 "nbformat_minor": 5
}
