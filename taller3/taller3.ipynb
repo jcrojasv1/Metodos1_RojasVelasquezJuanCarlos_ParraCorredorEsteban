{
 "cells": [
  {
   "cell_type": "code",
   "execution_count": 1,
   "id": "a09801e7",
   "metadata": {},
   "outputs": [],
   "source": [
    "import numpy as np\n",
    "import matplotlib.pyplot as plt"
   ]
  },
  {
   "cell_type": "markdown",
   "id": "8b89f4a1",
   "metadata": {},
   "source": [
    "# Álgebra lineal"
   ]
  },
  {
   "cell_type": "markdown",
   "id": "ad89c582",
   "metadata": {},
   "source": [
    "**3.** Implemente un algoritmo que realice la multiplicación de dos matrices. Use el algoritmo para calcular:\n",
    "$$AB = \\begin{bmatrix} 1 & 0& 0 \\\\ 5 &1 &0 \\\\ -2 &3 &1  \\end{bmatrix}\\begin{bmatrix} 4 & -2& 1 \\\\ 0 &3 &7 \\\\ 0 &0 &2  \\end{bmatrix}$$"
   ]
  },
  {
   "cell_type": "code",
   "execution_count": 11,
   "id": "7e4113ae",
   "metadata": {},
   "outputs": [
    {
     "name": "stdout",
     "output_type": "stream",
     "text": [
      "[[ 4. -2.  1.]\n",
      " [20. -7. 12.]\n",
      " [-8. 13. 21.]]\n"
     ]
    }
   ],
   "source": [
    "AB = np.zeros((3,3))\n",
    "A = np.array([[1,0,0],[5,1,0],[-2,3,1]])\n",
    "B = np.array([[4,-2,1],[0,3,7],[0,0,2]])\n",
    "\n",
    "for i in range(len(A)):\n",
    "    for j in range(len(B[:,0])):\n",
    "        AB[i][j] = np.dot(A[i],B[:,j])\n",
    "        \n",
    "print(AB)\n",
    "        "
   ]
  },
  {
   "cell_type": "markdown",
   "id": "f15692e9",
   "metadata": {},
   "source": [
    "**4.** Muestre con detalle que la sustitución hacia adelante se expresa como: $$ x_i = b_i - \\sum_{j=0}^{i-1}A_{ij}x_j$$"
   ]
  },
  {
   "cell_type": "markdown",
   "id": "33734c83",
   "metadata": {},
   "source": [
    "**Solución:** Teniendo en cuenta el sistema $$A\\vec{x} = \\vec{b}$$ se puede hacer la sustitución $L(U\\vec{x}) = \\vec{b}$ y la sustitución hacia adelante $L\\vec{y} = \\vec{b}$. Dado que la matriz $L$ tiene forma triangular inferior, se tiene que \n",
    "$$\n",
    "\\begin{bmatrix} 1 & 0 & \\dots & 0 \\\\ \\ell_{21} & 1 & \\dots & 0 \\\\ \\vdots & \\vdots & \\ddots & \\vdots \\\\ \\ell_{n1} & \\ell_{n2} & \\dots & 1 \\end{bmatrix}\n",
    "\\begin{bmatrix}\n",
    "y_1 \\\\ y_2 \\\\ \\vdots \\\\ y_n\n",
    "\\end{bmatrix} =\n",
    "\\begin{bmatrix}\n",
    "b_1 \\\\ b_2 \\\\ \\vdots \\\\ b_n\n",
    "\\end{bmatrix}\n",
    "$$\n",
    "Es decir,\n",
    "$$\n",
    "\\begin{align*}\n",
    "y_1 &= b_1 \\\\\n",
    "\\ell_{21}y_1 + y_{2} &= b_2 \\\\\n",
    "\\ell_{31}y_1 + \\ell_{32}y_{2} + y_3 &= b_3\\\\\n",
    "\\vdots \\\\\n",
    "\\sum_{j = 1}^{i-1}\\ell_{ij}y_{j} + y_i &= b_i \n",
    "\\end{align*}\n",
    "$$\n",
    "Esto es, entonces\n",
    "$$y_i = b_i - \\sum_{j=1}^{i-1}\\ell_{ij}y_j$$\n",
    "Como se quería. $\\blacksquare$"
   ]
  },
  {
   "cell_type": "markdown",
   "id": "86f14573",
   "metadata": {},
   "source": [
    "**5.** Muestre con detaller que la sustitución hacia atrás se expresa como:\n",
    "\n",
    "$$x_i = \\frac{b_i - \\displaystyle\\sum_{j = i+1}^{n}A_{ij}x_j}{A_{ii}}$$"
   ]
  },
  {
   "cell_type": "markdown",
   "id": "62550b36",
   "metadata": {},
   "source": [
    "**Solución:** Teniendo en cuenta la sustitución $U\\vec{x} = \\vec{y}$. Dado que la matriz $U$ tiene forma triangular superior, se tiene que \n",
    "$$\n",
    "\\begin{bmatrix} u_{11} & u_{12} & \\dots & u_{1n} \\\\ 0 & u_{22} & \\dots & u_{2n} \\\\ \\vdots & \\vdots & \\ddots & \\vdots \\\\ 0 & 0 & \\dots &u_{nn}\\end{bmatrix}\n",
    "\\begin{bmatrix} x_1 \\\\ x_2 \\\\ \\vdots \\\\ x_n \\end{bmatrix}\n",
    "= \\begin{bmatrix} y_1 \\\\ y_2 \\\\ \\vdots \\\\ y_n \\end{bmatrix}\n",
    "$$\n",
    "Lo cual se puede expresar como un conjunto de ecuacioens lineales\n",
    "$$\n",
    "\\begin{align*}\n",
    "u_{11}x_1 + u_{12}x_2 + u_{13}x_3 + u_{14}x_4 + \\dots + u_{1n}x_n &= y_1 \\\\\n",
    "u_{22}x_2 + u_{23}x_3 + u_{24}x_4 + \\dots + u_{2n}x_n &= y_2 \\\\\n",
    " u_{33}x_3 + u_{34}x_4 + \\dots + u_{3n}x_n &= y_3\\\\\n",
    " \\vdots \\\\\n",
    " u_{ii}x_i + \\sum_{j = i +1}^{n}u_{ij}x_j &= y_i\n",
    "\\end{align*}\n",
    "$$\n",
    "Despejando $x_i$, se tiene que \n",
    "$$x_i = \\frac{y_i - \\displaystyle\\sum_{j=i+1}^{n}u_{ij}x_j}{u_{ii}}.$$\n",
    "\n",
    "Como se quería. $\\blacksquare$"
   ]
  },
  {
   "cell_type": "markdown",
   "id": "4e0829a1",
   "metadata": {},
   "source": [
    "**6.** Use el método de sobrerelajación sucesiva para solucionar el sistema:\n",
    "$$\n",
    "\\left\\{\n",
    "\\begin{align*}\n",
    "3x_1 - x_2- x_3 = 1 \\\\\n",
    "-x_1 + 3x_2 + x_3 = 3\\\\\n",
    "2x_1 + x_2 +4x_3 = 7\n",
    "\\end{align*}\n",
    "\\right.\n",
    "$$"
   ]
  },
  {
   "cell_type": "code",
   "execution_count": 22,
   "id": "2f0b955e",
   "metadata": {},
   "outputs": [
    {
     "name": "stdout",
     "output_type": "stream",
     "text": [
      "x_1: 1.0000000017524404, x_2: 0.9999999997215512, x_3: 0.9999999983063279\n"
     ]
    }
   ],
   "source": [
    "def sor_solver(A, b, omega, initial_guess, convergence_criteria):\n",
    "\n",
    "    phi = initial_guess[:]\n",
    "    residual = np.linalg.norm(A @ phi - b)  # Initial residual\n",
    "    while residual > convergence_criteria:\n",
    "        for i in range(A.shape[0]):\n",
    "            sigma = 0\n",
    "            for j in range(A.shape[1]):\n",
    "                if j != i:\n",
    "                    sigma += A[i, j] * phi[j]\n",
    "            phi[i] = (1 - omega) * phi[i] + (omega / A[i, i]) * (b[i] - sigma)\n",
    "        residual = np.linalg.norm(A @ phi - b)\n",
    "    return phi\n",
    "\n",
    "residual_convergence = 1e-8\n",
    "omega = 1.3\n",
    "\n",
    "A = np.array([[3,-1,-1],\n",
    "              [-1,3,1],\n",
    "              [2,1,4]])\n",
    "\n",
    "b = np.array([1, 3, 7])\n",
    "\n",
    "initial_guess = np.zeros(3)\n",
    "\n",
    "phi = sor_solver(A, b, omega, initial_guess, residual_convergence)\n",
    "print(\"x_1: %s, x_2: %s, x_3: %s\"%(phi[0],phi[1],phi[2]))"
   ]
  },
  {
   "cell_type": "markdown",
   "id": "afe1bb9f",
   "metadata": {},
   "source": [
    "**7.** Implemente la descomposición LU para factorizar la siguiente matriz $A = LU$.\n",
    "$$A = \\begin{bmatrix} 4 & -2 & 1 \\\\ 20 & -7 & 12 \\\\ -8 & 13 & 17 \\end{bmatrix} = \\begin{bmatrix} 1 & 0 & 0 \\\\ 5 & 1 & 0 \\\\ -2 & 3 & 1 \\end{bmatrix} \\begin{bmatrix} 4 & -2 & 1 \\\\ 0 & 3 & 7 \\\\ 0 & 0 & -2 \\end{bmatrix}$$"
   ]
  },
  {
   "cell_type": "code",
   "execution_count": 71,
   "id": "1fdcd557",
   "metadata": {},
   "outputs": [
    {
     "name": "stdout",
     "output_type": "stream",
     "text": [
      "Lower matrix: \n",
      " [[ 1.  0.  0.]\n",
      " [ 5.  1.  0.]\n",
      " [-2.  3.  1.]] \n",
      " Upper matrix: \n",
      " [[ 4. -2.  1.]\n",
      " [ 0.  3.  7.]\n",
      " [ 0.  0. -2.]]  \n"
     ]
    }
   ],
   "source": [
    "def LU_fact(A):\n",
    "    n = A[0].size\n",
    "    L = np.identity(n)\n",
    "    for i in range(0,n):\n",
    "        for j in range(i+1,A[0].size):\n",
    "            I = np.identity(n)\n",
    "            I[j][i] = -A[j][i]/A[i][i]\n",
    "            L[j][i] = A[j][i]/A[i][i]\n",
    "            A = I@A\n",
    "    return L,A\n",
    "\n",
    "A = np.array([[4,-2,1],[20,-7,12],[-8,13,17]])\n",
    "\n",
    "print(\"Lower matrix: \\n %s \\n Upper matrix: \\n %s  \"%LU_fact(A))"
   ]
  },
  {
   "cell_type": "markdown",
   "id": "cc2227fc",
   "metadata": {},
   "source": [
    " **9.** Método de Jacobi: diagonalización de matrices simétricas.\n",
    " \n",
    " **(a)** Implemente el método de Jacobi para encontrar los valores y vectores propios de:\n",
    " $$A = \\begin{bmatrix} 4 & 1 & 1 \\\\ 1 & 3 & 2 \\\\ 1 & 2 & 5 \\end{bmatrix}$$"
   ]
  },
  {
   "cell_type": "code",
   "execution_count": null,
   "id": "eb8e45a9",
   "metadata": {},
   "outputs": [],
   "source": []
  }
 ],
 "metadata": {
  "kernelspec": {
   "display_name": "Python 3 (ipykernel)",
   "language": "python",
   "name": "python3"
  },
  "language_info": {
   "codemirror_mode": {
    "name": "ipython",
    "version": 3
   },
   "file_extension": ".py",
   "mimetype": "text/x-python",
   "name": "python",
   "nbconvert_exporter": "python",
   "pygments_lexer": "ipython3",
   "version": "3.9.13"
  }
 },
 "nbformat": 4,
 "nbformat_minor": 5
}
