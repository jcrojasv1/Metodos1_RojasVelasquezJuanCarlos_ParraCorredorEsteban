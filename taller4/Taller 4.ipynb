{
 "cells": [
  {
   "cell_type": "code",
   "execution_count": 61,
   "id": "81f93e7a",
   "metadata": {},
   "outputs": [],
   "source": [
    "import sympy as sym\n",
    "import numpy as np\n",
    "from math import e\n",
    "import pandas as pd"
   ]
  },
  {
   "cell_type": "markdown",
   "id": "d0ffe040",
   "metadata": {},
   "source": [
    "# Distribuciones continuas de probabilidades"
   ]
  },
  {
   "cell_type": "markdown",
   "id": "70187b56",
   "metadata": {},
   "source": [
    "1.\n",
    "\n",
    "a) Verifique que sea una función de densidad conjunta válida."
   ]
  },
  {
   "cell_type": "code",
   "execution_count": 7,
   "id": "00ec007e",
   "metadata": {},
   "outputs": [
    {
     "name": "stdout",
     "output_type": "stream",
     "text": [
      "Dado que la doble integral de la funcion es igual a 1 entre los limites 0 < x < 1 y 0< y < 1; entonces se sabe que la función de densidad conjunta es válida. \n"
     ]
    }
   ],
   "source": [
    "x= sym.Symbol(\"x\", real = True)\n",
    "y= sym.Symbol(\"y\", real = True)\n",
    "f = (2/3)*(x+2*y)\n",
    "\n",
    "integral = sym.integrate(sym.integrate(f, (x, 0, 1)), (y, 0, 1))\n",
    "print(\"Dado que la doble integral de la funcion es igual a\", round(integral),  \"entre los limites 0 < x < 1 y 0< y < 1; entonces se sabe que la función de densidad conjunta es válida. \")"
   ]
  },
  {
   "cell_type": "markdown",
   "id": "fb678f1b",
   "metadata": {},
   "source": [
    "b) Hallar las distribuciones marginales g(x) y h(y)."
   ]
  },
  {
   "cell_type": "code",
   "execution_count": 15,
   "id": "7a6f9470",
   "metadata": {},
   "outputs": [
    {
     "name": "stdout",
     "output_type": "stream",
     "text": [
      "Distribución marginal g(x) dada con respecto a la integral con los límites de integración en y es : \n",
      "g(x): 0.666666666666667*x + 0.666666666666667\n",
      "\n",
      "Distribución marginal h(y) dada con respecto a la integral con los límites de integración en x es : \n",
      "h(y): 1.33333333333333*y + 0.333333333333333\n"
     ]
    }
   ],
   "source": [
    "g=sym.integrate(f,(y,0,1))\n",
    "h=sym.integrate(f,(x,0,1))\n",
    "print(\"Distribución marginal g(x) dada con respecto a la integral con los límites de integración en y es : \")\n",
    "print(\"g(x):\",  g)\n",
    "print()\n",
    "print(\"Distribución marginal h(y) dada con respecto a la integral con los límites de integración en x es : \")\n",
    "print(\"h(y):\", h)"
   ]
  },
  {
   "cell_type": "markdown",
   "id": "ac9398fd",
   "metadata": {},
   "source": [
    "c) E(x) = 10/18"
   ]
  },
  {
   "cell_type": "code",
   "execution_count": 21,
   "id": "0d1925b4",
   "metadata": {},
   "outputs": [
    {
     "name": "stdout",
     "output_type": "stream",
     "text": [
      "El valor esperado para x es: 0.555555555555556\n"
     ]
    }
   ],
   "source": [
    "E_x = sym.integrate(x*g,(x,0,1))\n",
    "print(\"El valor esperado para x es:\", E_x)"
   ]
  },
  {
   "cell_type": "markdown",
   "id": "656389ff",
   "metadata": {},
   "source": [
    "d) E(y)=11/18"
   ]
  },
  {
   "cell_type": "code",
   "execution_count": 22,
   "id": "713b64f5",
   "metadata": {},
   "outputs": [
    {
     "name": "stdout",
     "output_type": "stream",
     "text": [
      "El valor esperado para y es: 0.611111111111111\n"
     ]
    }
   ],
   "source": [
    "E_y = sym.integrate(y*h,(y,0,1))\n",
    "print(\"El valor esperado para y es:\", E_y)"
   ]
  },
  {
   "cell_type": "markdown",
   "id": "d5ec2e67",
   "metadata": {},
   "source": [
    "e) Calcular la covarianza usando: σxy = E(xy) − E(x)E(y) = −0.00617"
   ]
  },
  {
   "cell_type": "code",
   "execution_count": 27,
   "id": "ae25517e",
   "metadata": {},
   "outputs": [
    {
     "name": "stdout",
     "output_type": "stream",
     "text": [
      "La covarianza para el ejercico es de: -0.00617283950617281\n"
     ]
    }
   ],
   "source": [
    "E_xy = sym.integrate(sym.integrate(f*x*y, (x, 0, 1)), (y, 0, 1))\n",
    "covarianza =  - E_x*E_y + E_xy\n",
    "\n",
    "print(\"La covarianza para el ejercico es de:\", covarianza )"
   ]
  },
  {
   "cell_type": "markdown",
   "id": "ec13eb36",
   "metadata": {},
   "source": [
    " f) Calcular la covarianza usando: σxy = E((x − μˆx)(y − μˆy)) = −0.00617"
   ]
  },
  {
   "cell_type": "code",
   "execution_count": 30,
   "id": "9e7fdd2f",
   "metadata": {},
   "outputs": [
    {
     "name": "stdout",
     "output_type": "stream",
     "text": [
      "Dado la otra formula de covarianza, obtenemos el mismo resultado para esta:  -0.00617283950617284\n"
     ]
    }
   ],
   "source": [
    "Covarianza = sym.integrate(sym.integrate((x-E_x)*(y-E_y)*f, (x, 0, 1)), (y, 0, 1))\n",
    "print(\"Dado la otra formula de covarianza, obtenemos el mismo resultado para esta: \", Covarianza)"
   ]
  },
  {
   "cell_type": "markdown",
   "id": "80a4f799",
   "metadata": {},
   "source": [
    "g) Son las variables x e y independientes?"
   ]
  },
  {
   "cell_type": "code",
   "execution_count": 34,
   "id": "cb93b395",
   "metadata": {},
   "outputs": [
    {
     "name": "stdout",
     "output_type": "stream",
     "text": [
      "Para saber si las variables son independientes se debe tener la siguiente relación;F_xy= F_x * F_y, para cualquier pareja 𝑥, 𝑦 ∈ 𝑅 𝑥, 𝑦 \n",
      "Enconces nosotros tenemos la siguiente igualdad:\n",
      "0.666666666666667*x + 1.33333333333333*y = (0.666666666666667*x + 0.666666666666667)*(1.33333333333333*y + 0.333333333333333)\n",
      "En el cual, se evidencia que no son igjales en todo el rango de las parejas, por lo cual, no son independientes. \n"
     ]
    }
   ],
   "source": [
    "print(\"Para saber si las variables son independientes se debe tener la siguiente relación;F_xy= F_x * F_y, para cualquier pareja 𝑥, 𝑦 ∈ 𝑅 𝑥, 𝑦 \")\n",
    "print(\"Enconces nosotros tenemos la siguiente igualdad:\")\n",
    "print(f, \"=\", g*h)\n",
    "print(\"En el cual, se evidencia que no son igjales en todo el rango de las parejas, por lo cual, no son independientes. \")"
   ]
  },
  {
   "cell_type": "markdown",
   "id": "eae1f6d6",
   "metadata": {},
   "source": [
    "4. Encontrar el valor esperado dado una función de densidad f y otra función g que se quiere calcular el valor esperado."
   ]
  },
  {
   "cell_type": "code",
   "execution_count": 56,
   "id": "97a75e3d",
   "metadata": {},
   "outputs": [
    {
     "name": "stdout",
     "output_type": "stream",
     "text": [
      "El valor esperado de la variable aleatoria es:  3.00000000000000\n"
     ]
    }
   ],
   "source": [
    "f = e**(-x)\n",
    "g = e**(2*x/3)\n",
    "integral = sym.integrate(g*f,(x,0,np.inf))\n",
    "print(\"El valor esperado de la variable aleatoria es: \", integral)"
   ]
  },
  {
   "cell_type": "markdown",
   "id": "0cb5ebf9",
   "metadata": {},
   "source": [
    "# Metropolis Hasting"
   ]
  },
  {
   "cell_type": "markdown",
   "id": "9336bb55",
   "metadata": {},
   "source": [
    "1.\n",
    "\n"
   ]
  },
  {
   "cell_type": "code",
   "execution_count": null,
   "id": "03077b64",
   "metadata": {},
   "outputs": [],
   "source": []
  },
  {
   "cell_type": "markdown",
   "id": "ab8630b6",
   "metadata": {},
   "source": [
    "3. "
   ]
  },
  {
   "cell_type": "code",
   "execution_count": 59,
   "id": "87c3c30b",
   "metadata": {},
   "outputs": [],
   "source": [
    "n=1000\n",
    "miu = 2\n",
    "desvest = 0.4\n"
   ]
  },
  {
   "cell_type": "markdown",
   "id": "2bcf21f4",
   "metadata": {},
   "source": [
    "4."
   ]
  },
  {
   "cell_type": "code",
   "execution_count": null,
   "id": "fa13fa68",
   "metadata": {},
   "outputs": [],
   "source": []
  },
  {
   "cell_type": "markdown",
   "id": "514accb2",
   "metadata": {},
   "source": [
    "# Parameter Estimation"
   ]
  },
  {
   "cell_type": "markdown",
   "id": "02c37be4",
   "metadata": {},
   "source": [
    "3.\n",
    "\n",
    "a)"
   ]
  },
  {
   "cell_type": "code",
   "execution_count": 63,
   "id": "f09b7278",
   "metadata": {},
   "outputs": [],
   "source": [
    "url = 'https://raw.githubusercontent.com/asegura4488/Database/main/MetodosComputacionalesReforma/Gaussiano.csv'\n",
    "data = pd.read_csv(url)\n",
    "x = data['x'].values"
   ]
  },
  {
   "cell_type": "markdown",
   "id": "864fb520",
   "metadata": {},
   "source": [
    "b) Utilice la siguiente distribución a priori uniforme:"
   ]
  },
  {
   "cell_type": "code",
   "execution_count": 64,
   "id": "a73cc470",
   "metadata": {},
   "outputs": [],
   "source": [
    "def priori_uniforme(miu, desvest):\n",
    "    valor = 0\n",
    "    if (3 <= miu <=5):\n",
    "        if (0.5 <= desvest <= 3.5):\n",
    "            valor = 1\n",
    "    return valor"
   ]
  },
  {
   "cell_type": "markdown",
   "id": "439a942a",
   "metadata": {},
   "source": [
    "c) Escriba la función de Likelihood Gaussiana."
   ]
  },
  {
   "cell_type": "code",
   "execution_count": 69,
   "id": "87cbb570",
   "metadata": {},
   "outputs": [],
   "source": [
    "def likelihood_gaussiana(miu,desvest,x):\n",
    "    valor = 1\n",
    "    for every in range(len(x)):\n",
    "        valor*= (np.sqrt(2 * np.pi * desvest**2))**(-1)*(e**(-(miu-x[every])**2/(2*desvest**2)))\n",
    "    return valor   "
   ]
  },
  {
   "cell_type": "markdown",
   "id": "92aa70c1",
   "metadata": {},
   "source": [
    "d) Calcule el logaritmo de la distribución posterior"
   ]
  },
  {
   "cell_type": "code",
   "execution_count": 83,
   "id": "f3d4a8b5",
   "metadata": {},
   "outputs": [],
   "source": [
    "def log_distrb(miu, desvest, x):\n",
    "    log = np.log(priori_uniforme(miu, desvest)*likelihood_gaussiana(miu,desvest,x))\n",
    "    return log"
   ]
  },
  {
   "cell_type": "markdown",
   "id": "7f5cb02e",
   "metadata": {},
   "source": [
    "e) Use el algoritmo de Metrópolis para realizar el muestreo de ln(P(μ,σ/x)) con N =\n",
    "2×104 eventos."
   ]
  },
  {
   "cell_type": "code",
   "execution_count": 96,
   "id": "5f616166",
   "metadata": {},
   "outputs": [],
   "source": [
    "\n",
    "\n",
    "def algoritmo_metropolis(x):\n",
    "    N = 2*10**4\n",
    "    miu_ = np.random.uniform(3, 5)\n",
    "    desvest_ = np.random.uniform(0.5, 3.5)\n",
    "    log_distrb_ = log_distrb(miu_, desvest_, x)\n",
    "    \n",
    "    miu_valores = [miu_]\n",
    "    desvest_valores = [desvest_]\n",
    "    \n",
    "    for every in range(N):\n",
    "        miu__ = np.random.normal(miu_, 0.1)\n",
    "        desvest__ = np.random.normal(desvest_, 0.1)\n",
    "        log_new = log_distrb( miu__, desvest__,x)\n",
    "        \n",
    "        if log_new > log_distrb_:\n",
    "            miu_ = miu__\n",
    "            desvest_ = desvest__\n",
    "            log_distrb_ = log_new\n",
    "            \n",
    "        else:\n",
    "            aceptado = np.exp(log_new - log_distrb_)\n",
    "            \n",
    "            if np.random.uniform() < aceptado:\n",
    "                miu_ = miu__\n",
    "                desvest_ = desvest__\n",
    "                log_distrb_ = log_new\n",
    "                \n",
    "        miu_valores.append(miu_)\n",
    "        desvest_valores.append(desvest_)\n",
    "    \n",
    "    return miu_valores, desvest_valores"
   ]
  },
  {
   "cell_type": "markdown",
   "id": "267f9db7",
   "metadata": {},
   "source": [
    "f) Estime el mejor valor de los parámetros del modelo (μˆ,σˆ)."
   ]
  },
  {
   "cell_type": "code",
   "execution_count": 115,
   "id": "53c74931",
   "metadata": {},
   "outputs": [
    {
     "name": "stdout",
     "output_type": "stream",
     "text": [
      "La mediana de miu es: 4.010263514104945\n",
      "La mediana de sigma es: 1.8326352862743713\n"
     ]
    }
   ],
   "source": [
    "miu_selected, desvest_selected = algoritmo_metropolis(x)\n",
    "\n",
    "mediana_miu=np.percentile(miu_selected,50)\n",
    "mediana_desvest=np.percentile(desvest_selected,50)\n",
    "\n",
    "print(\"La mediana de miu es:\", mediana_miu )\n",
    "print(\"La mediana de sigma es:\", mediana_desvest )\n"
   ]
  },
  {
   "cell_type": "markdown",
   "id": "53406edc",
   "metadata": {},
   "source": [
    " g) Encuentre los errores σ−+ de los para ́metros en un intervalo de confianza del CL = 68%."
   ]
  },
  {
   "cell_type": "code",
   "execution_count": 125,
   "id": "5dfb54d6",
   "metadata": {},
   "outputs": [
    {
     "name": "stdout",
     "output_type": "stream",
     "text": [
      "Los valores sigma+- de mu en un intervalo de confianza del CL = 68% son:  0.18064464686037907 y 0.18913267171833859\n",
      "Los valores sigma+- de sigma en un intervalo de confianza del CL = 68% son:  0.12214797470081051 y 0.13648988870819778\n"
     ]
    }
   ],
   "source": [
    "miu_low=np.percentile(miu_selected,16)\n",
    "miu_up=np.percentile(miu_selected,84)\n",
    "desvest_low=np.percentile(desvest_selected,16)\n",
    "desvest_up=np.percentile(desvest_selected,84)\n",
    "\n",
    "\n",
    "print(\"Los valores sigma+- de mu en un intervalo de confianza del CL = 68% son: \", mediana_miu - miu_low , \"y\", miu_up - mediana_miu  )\n",
    "print(\"Los valores sigma+- de sigma en un intervalo de confianza del CL = 68% son: \", mediana_desvest - desvest_low , \"y\", -mediana_desvest + desvest_up)\n"
   ]
  }
 ],
 "metadata": {
  "kernelspec": {
   "display_name": "Python 3 (ipykernel)",
   "language": "python",
   "name": "python3"
  },
  "language_info": {
   "codemirror_mode": {
    "name": "ipython",
    "version": 3
   },
   "file_extension": ".py",
   "mimetype": "text/x-python",
   "name": "python",
   "nbconvert_exporter": "python",
   "pygments_lexer": "ipython3",
   "version": "3.9.13"
  }
 },
 "nbformat": 4,
 "nbformat_minor": 5
}
